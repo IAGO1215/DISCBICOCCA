{
 "cells": [
  {
   "cell_type": "markdown",
   "metadata": {},
   "source": [
    "This notebook shows the process to extract the ROI (1.35km x 1.35km squared image centered on the site) from Sentinel-2 raw images. Meanwhile the calculation of NIRV reflectance is calculated and therefore the output image will only contain the values of NIRV reflactance. "
   ]
  },
  {
   "cell_type": "code",
   "execution_count": 1,
   "metadata": {},
   "outputs": [],
   "source": [
    "import os\n",
    "# import math\n",
    "import numpy as np\n",
    "import shapely as shp\n",
    "import pandas as pd\n",
    "import geopandas as gpd\n",
    "import matplotlib.pyplot as plt\n",
    "import rasterio as rio\n",
    "import rasterio.mask"
   ]
  },
  {
   "cell_type": "code",
   "execution_count": 2,
   "metadata": {},
   "outputs": [],
   "source": [
    "cwd = \"c:\\\\Users\\\\m1865\\\\Desktop\\\\DISC\"\n",
    "cwd_Images_Raw = cwd + \"\\\\Sentinel-2 Images Raw (Replication)\"\n",
    "cwd_Images_Processed = cwd + \"\\\\Sentinel-2 Images Processed (Replication)\""
   ]
  },
  {
   "cell_type": "markdown",
   "metadata": {},
   "source": [
    "### 1. Read all the Sentinel-2 raw images"
   ]
  },
  {
   "cell_type": "code",
   "execution_count": 3,
   "metadata": {},
   "outputs": [],
   "source": [
    "# Get the names of the folders in the raw image directory\n",
    "list_Raw_Name = ['Havard Forest']"
   ]
  },
  {
   "cell_type": "code",
   "execution_count": 4,
   "metadata": {},
   "outputs": [
    {
     "data": {
      "text/plain": [
       "['c:\\\\Users\\\\m1865\\\\Desktop\\\\DISC\\\\Sentinel-2 Images Raw (Replication)\\\\Havard Forest\\\\L2A\\\\S2B_MSIL2A_20170806T153909_N0500_R011_T18TYN_20230930T211846.SAFE\\\\GRANULE\\\\L2A_T18TYN_A002182_20170806T153908\\\\IMG_DATA\\\\R10m\\\\T18TYN_20170806T153909_B02_10m.jp2',\n",
       " 'c:\\\\Users\\\\m1865\\\\Desktop\\\\DISC\\\\Sentinel-2 Images Raw (Replication)\\\\Havard Forest\\\\L2A\\\\S2B_MSIL2A_20170806T153909_N0500_R011_T18TYN_20230930T211846.SAFE\\\\GRANULE\\\\L2A_T18TYN_A002182_20170806T153908\\\\IMG_DATA\\\\R10m\\\\T18TYN_20170806T153909_B03_10m.jp2',\n",
       " 'c:\\\\Users\\\\m1865\\\\Desktop\\\\DISC\\\\Sentinel-2 Images Raw (Replication)\\\\Havard Forest\\\\L2A\\\\S2B_MSIL2A_20170806T153909_N0500_R011_T18TYN_20230930T211846.SAFE\\\\GRANULE\\\\L2A_T18TYN_A002182_20170806T153908\\\\IMG_DATA\\\\R10m\\\\T18TYN_20170806T153909_B04_10m.jp2',\n",
       " 'c:\\\\Users\\\\m1865\\\\Desktop\\\\DISC\\\\Sentinel-2 Images Raw (Replication)\\\\Havard Forest\\\\L2A\\\\S2B_MSIL2A_20170806T153909_N0500_R011_T18TYN_20230930T211846.SAFE\\\\GRANULE\\\\L2A_T18TYN_A002182_20170806T153908\\\\IMG_DATA\\\\R10m\\\\T18TYN_20170806T153909_B08_10m.jp2']"
      ]
     },
     "execution_count": 4,
     "metadata": {},
     "output_type": "execute_result"
    }
   ],
   "source": [
    "# Get paths to all the 10m-resolution .jp2 files\n",
    "list_Raw_10m = []\n",
    "for raw_Name in list_Raw_Name:\n",
    "    # Create a temporary list to store the paths to all the 10m-resolution .jp2\n",
    "    temp_List = []\n",
    "    # Find all the files under the directory and filter out those irrelevant\n",
    "    for path, subdirs, files in os.walk(cwd_Images_Raw + \"\\\\\" + raw_Name + \"\\\\L2A\"):\n",
    "        for name in files:\n",
    "            temp = os.path.join(path, name)\n",
    "            if temp[-3:] == 'jp2' and \"B0\" in temp and \"10m\" in temp:\n",
    "                # print(temp)\n",
    "                temp_List.append(temp)\n",
    "    list_Raw_10m.append(temp_List)\n",
    "del raw_Name, temp_List\n",
    "list_Raw_10m[0]"
   ]
  },
  {
   "cell_type": "code",
   "execution_count": 5,
   "metadata": {},
   "outputs": [
    {
     "data": {
      "text/plain": [
       "<open DatasetReader name='c:/Users/m1865/Desktop/DISC/Sentinel-2 Images Raw (Replication)/Havard Forest/L2A/S2B_MSIL2A_20170806T153909_N0500_R011_T18TYN_20230930T211846.SAFE/GRANULE/L2A_T18TYN_A002182_20170806T153908/IMG_DATA/R10m/T18TYN_20170806T153909_B04_10m.jp2' mode='r'>"
      ]
     },
     "execution_count": 5,
     "metadata": {},
     "output_type": "execute_result"
    }
   ],
   "source": [
    "# Read them via rasterio package\n",
    "list_Image_10m = []\n",
    "for item in list_Raw_10m[0]:\n",
    "    temp = rio.open(item)\n",
    "    list_Image_10m.append(temp)\n",
    "list_Image_10m[2]"
   ]
  },
  {
   "cell_type": "code",
   "execution_count": 6,
   "metadata": {},
   "outputs": [
    {
     "data": {
      "text/plain": [
       "array([[1314, 1496, 1682, ..., 1586, 1370, 1188],\n",
       "       [1296, 1361, 1468, ..., 1718, 1476, 1241],\n",
       "       [1278, 1325, 1326, ..., 1758, 1530, 1284],\n",
       "       ...,\n",
       "       [1219, 1210, 1223, ..., 1481, 1319, 1368],\n",
       "       [1234, 1231, 1226, ..., 1666, 1396, 1522],\n",
       "       [1212, 1236, 1222, ..., 1906, 1474, 1668]], dtype=uint16)"
      ]
     },
     "execution_count": 6,
     "metadata": {},
     "output_type": "execute_result"
    }
   ],
   "source": [
    "# Get the 2d array by reading the band\n",
    "list_Band_10m = []\n",
    "for item in list_Image_10m:\n",
    "    temp = item.read(1)\n",
    "    list_Band_10m.append(temp)\n",
    "list_Band_10m[2]"
   ]
  },
  {
   "cell_type": "markdown",
   "metadata": {},
   "source": [
    "### 2. Read sites information"
   ]
  },
  {
   "cell_type": "code",
   "execution_count": 7,
   "metadata": {},
   "outputs": [
    {
     "data": {
      "text/html": [
       "<div>\n",
       "<style scoped>\n",
       "    .dataframe tbody tr th:only-of-type {\n",
       "        vertical-align: middle;\n",
       "    }\n",
       "\n",
       "    .dataframe tbody tr th {\n",
       "        vertical-align: top;\n",
       "    }\n",
       "\n",
       "    .dataframe thead th {\n",
       "        text-align: right;\n",
       "    }\n",
       "</style>\n",
       "<table border=\"1\" class=\"dataframe\">\n",
       "  <thead>\n",
       "    <tr style=\"text-align: right;\">\n",
       "      <th></th>\n",
       "      <th>Site</th>\n",
       "      <th>Latitude</th>\n",
       "      <th>Longitude</th>\n",
       "    </tr>\n",
       "  </thead>\n",
       "  <tbody>\n",
       "    <tr>\n",
       "      <th>0</th>\n",
       "      <td>Havard Forest</td>\n",
       "      <td>42.538</td>\n",
       "      <td>-72.171</td>\n",
       "    </tr>\n",
       "  </tbody>\n",
       "</table>\n",
       "</div>"
      ],
      "text/plain": [
       "            Site  Latitude  Longitude\n",
       "0  Havard Forest    42.538    -72.171"
      ]
     },
     "execution_count": 7,
     "metadata": {},
     "output_type": "execute_result"
    }
   ],
   "source": [
    "df_Sites = pd.DataFrame({\n",
    "    \"Site\": ['Havard Forest'],\n",
    "    \"Latitude\": [42.538],\n",
    "    \"Longitude\": [-72.171]\n",
    "})\n",
    "df_Sites"
   ]
  },
  {
   "cell_type": "markdown",
   "metadata": {},
   "source": [
    "### 3. Create a shapefile of the site Havard"
   ]
  },
  {
   "cell_type": "code",
   "execution_count": 8,
   "metadata": {},
   "outputs": [
    {
     "data": {
      "text/html": [
       "<div>\n",
       "<style scoped>\n",
       "    .dataframe tbody tr th:only-of-type {\n",
       "        vertical-align: middle;\n",
       "    }\n",
       "\n",
       "    .dataframe tbody tr th {\n",
       "        vertical-align: top;\n",
       "    }\n",
       "\n",
       "    .dataframe thead th {\n",
       "        text-align: right;\n",
       "    }\n",
       "</style>\n",
       "<table border=\"1\" class=\"dataframe\">\n",
       "  <thead>\n",
       "    <tr style=\"text-align: right;\">\n",
       "      <th></th>\n",
       "      <th>Site</th>\n",
       "      <th>Latitude</th>\n",
       "      <th>Longitude</th>\n",
       "      <th>geometry</th>\n",
       "    </tr>\n",
       "  </thead>\n",
       "  <tbody>\n",
       "    <tr>\n",
       "      <th>0</th>\n",
       "      <td>Havard Forest</td>\n",
       "      <td>42.538</td>\n",
       "      <td>-72.171</td>\n",
       "      <td>POINT (-72.17100 42.53800)</td>\n",
       "    </tr>\n",
       "  </tbody>\n",
       "</table>\n",
       "</div>"
      ],
      "text/plain": [
       "            Site  Latitude  Longitude                    geometry\n",
       "0  Havard Forest    42.538    -72.171  POINT (-72.17100 42.53800)"
      ]
     },
     "execution_count": 8,
     "metadata": {},
     "output_type": "execute_result"
    }
   ],
   "source": [
    "# Create a point shapefile based on the site, using Lon-Lat\n",
    "gdf_4326 = gpd.GeoDataFrame(\n",
    "    df_Sites,\n",
    "    geometry = gpd.points_from_xy(df_Sites['Longitude'], df_Sites['Latitude']),\n",
    "    crs = \"EPSG:4326\"\n",
    ")\n",
    "gdf_4326"
   ]
  },
  {
   "cell_type": "code",
   "execution_count": 9,
   "metadata": {},
   "outputs": [
    {
     "data": {
      "text/plain": [
       "CRS.from_epsg(32618)"
      ]
     },
     "execution_count": 9,
     "metadata": {},
     "output_type": "execute_result"
    }
   ],
   "source": [
    "# Check the crs of Sentinel-2 images\n",
    "list_Image_10m[2].crs"
   ]
  },
  {
   "cell_type": "code",
   "execution_count": 10,
   "metadata": {},
   "outputs": [],
   "source": [
    "# In case the convertion of CRS of a raster by using rasterio\n",
    "# from rasterio.crs import CRS\n",
    "# raster_new = raster.rio.reproject(CRS.from_string('EPSG:4326'))"
   ]
  },
  {
   "cell_type": "code",
   "execution_count": 11,
   "metadata": {},
   "outputs": [
    {
     "data": {
      "text/html": [
       "<div>\n",
       "<style scoped>\n",
       "    .dataframe tbody tr th:only-of-type {\n",
       "        vertical-align: middle;\n",
       "    }\n",
       "\n",
       "    .dataframe tbody tr th {\n",
       "        vertical-align: top;\n",
       "    }\n",
       "\n",
       "    .dataframe thead th {\n",
       "        text-align: right;\n",
       "    }\n",
       "</style>\n",
       "<table border=\"1\" class=\"dataframe\">\n",
       "  <thead>\n",
       "    <tr style=\"text-align: right;\">\n",
       "      <th></th>\n",
       "      <th>Site</th>\n",
       "      <th>Latitude</th>\n",
       "      <th>Longitude</th>\n",
       "      <th>geometry</th>\n",
       "    </tr>\n",
       "  </thead>\n",
       "  <tbody>\n",
       "    <tr>\n",
       "      <th>0</th>\n",
       "      <td>Havard Forest</td>\n",
       "      <td>42.538</td>\n",
       "      <td>-72.171</td>\n",
       "      <td>POINT (732315.443 4713391.751)</td>\n",
       "    </tr>\n",
       "  </tbody>\n",
       "</table>\n",
       "</div>"
      ],
      "text/plain": [
       "            Site  Latitude  Longitude                        geometry\n",
       "0  Havard Forest    42.538    -72.171  POINT (732315.443 4713391.751)"
      ]
     },
     "execution_count": 11,
     "metadata": {},
     "output_type": "execute_result"
    }
   ],
   "source": [
    "# Converting Lon-Lat to UTM coordinates!\n",
    "# Attention that the CRS in USA for meter unit is 32618!!! Not 32632!!! \n",
    "gdf_32618 = gdf_4326.copy()\n",
    "gdf_32618 = gdf_32618.to_crs('EPSG:32618')\n",
    "gdf_32618"
   ]
  },
  {
   "cell_type": "code",
   "execution_count": 12,
   "metadata": {},
   "outputs": [],
   "source": [
    "gdf_4326.to_file(cwd_Images_Processed + \"\\\\Havard\\\\shp_Havard_4326.shp\")\n",
    "gdf_4326.to_file(cwd_Images_Processed + \"\\\\Havard\\\\shp_Havard_4326.json\", driver = \"GeoJSON\")\n",
    "gdf_32618.to_file(cwd_Images_Processed + \"\\\\Havard\\\\shp_Havard_32618.shp\")\n",
    "gdf_32618.to_file(cwd_Images_Processed + \"\\\\Havard\\\\shp_Havard_32618.json\", driver = \"GeoJSON\")"
   ]
  },
  {
   "cell_type": "markdown",
   "metadata": {},
   "source": [
    "### 4. Assign the site to a pixel, and then create a 1000m2, 1.5km2 and 2000m2 square geodataframe"
   ]
  },
  {
   "cell_type": "code",
   "execution_count": 13,
   "metadata": {},
   "outputs": [
    {
     "data": {
      "text/plain": [
       "BoundingBox(left=699960.0, bottom=4690200.0, right=809760.0, top=4800000.0)"
      ]
     },
     "execution_count": 13,
     "metadata": {},
     "output_type": "execute_result"
    }
   ],
   "source": [
    "# Check the bounds of Sentinel-2 images first\n",
    "list_Image_10m[2].bounds"
   ]
  },
  {
   "cell_type": "code",
   "execution_count": 14,
   "metadata": {},
   "outputs": [
    {
     "name": "stdout",
     "output_type": "stream",
     "text": [
      "Site X, Y: 732315.442750216,4713391.750567996\n"
     ]
    }
   ],
   "source": [
    "# First we retrieve the x, y coordinate of our site\n",
    "site_x = gdf_32618.geometry.x.values[0]\n",
    "site_y = gdf_32618.geometry.y.values[0]\n",
    "print(\"Site X, Y: \" + str(site_x) + \",\" + str(site_y))"
   ]
  },
  {
   "cell_type": "code",
   "execution_count": 15,
   "metadata": {},
   "outputs": [
    {
     "name": "stdout",
     "output_type": "stream",
     "text": [
      "Site falls on the pixel: 8660, 3235\n"
     ]
    }
   ],
   "source": [
    "# Then we get the row, col of our site in the raster, so that we know the pixel the site belongs to\n",
    "site_row, site_col = list_Image_10m[2].index(site_x, site_y)\n",
    "print(\"Site falls on the pixel: \" + str(site_row) + \", \" + str(site_col))"
   ]
  },
  {
   "cell_type": "code",
   "execution_count": 16,
   "metadata": {},
   "outputs": [
    {
     "name": "stdout",
     "output_type": "stream",
     "text": [
      "The spatial coordinates of the (center) pixel which the site falls on is: 732315.0, 4713395.0\n"
     ]
    }
   ],
   "source": [
    "# Now we get the spatial coordinates of that pixel (coordinates of its center)\n",
    "site_pixel_x, site_pixel_y = list_Image_10m[2].xy(site_row, site_col)\n",
    "print(\"The spatial coordinates of the (center) pixel which the site falls on is: \" + str(site_pixel_x) + \", \" + str(site_pixel_y))"
   ]
  },
  {
   "cell_type": "code",
   "execution_count": 29,
   "metadata": {},
   "outputs": [],
   "source": [
    "# Get the coordinates of the four corners\n",
    "site_x_left_1000m = site_pixel_x - 505\n",
    "site_x_right_1000m = site_pixel_x + 505\n",
    "site_y_top_1000m = site_pixel_y + 505\n",
    "site_y_bottom_1000m = site_pixel_y - 505\n",
    "# 1.5km \n",
    "site_x_left_1500m = site_pixel_x - 755\n",
    "site_x_right_1500m = site_pixel_x + 755\n",
    "site_y_top_1500m = site_pixel_y + 755\n",
    "site_y_bottom_1500m = site_pixel_y - 755\n",
    "# 2000m\n",
    "site_x_left_2000m = site_pixel_x - 1005\n",
    "site_x_right_2000m = site_pixel_x + 1005\n",
    "site_y_top_2000m = site_pixel_y + 1005\n",
    "site_y_bottom_2000m = site_pixel_y - 1005\n",
    "# 18000 m\n",
    "site_x_left_18000m = site_pixel_x - 9005\n",
    "site_x_right_18000m = site_pixel_x + 9005\n",
    "site_y_top_18000m = site_pixel_y + 9005\n",
    "site_y_bottom_18000m = site_pixel_y - 9005"
   ]
  },
  {
   "cell_type": "code",
   "execution_count": 30,
   "metadata": {},
   "outputs": [
    {
     "data": {
      "text/plain": [
       "0    1020100.0\n",
       "dtype: float64"
      ]
     },
     "execution_count": 30,
     "metadata": {},
     "output_type": "execute_result"
    }
   ],
   "source": [
    "# Now we need to form a 1-km square shapefile, which will be the internal area of which we will evaluate the spatial representativeness. \n",
    "shp_1000m = shp.box(site_x_left_1000m, site_y_bottom_1000m, site_x_right_1000m, site_y_top_1000m)\n",
    "gdf_1000m = gpd.GeoDataFrame(\n",
    "    [1],\n",
    "    geometry=[shp_1000m],\n",
    "    crs = \"EPSG:32618\"\n",
    ")\n",
    "gdf_1000m.area"
   ]
  },
  {
   "cell_type": "code",
   "execution_count": 31,
   "metadata": {},
   "outputs": [],
   "source": [
    "shp_1500m = shp.box(site_x_left_1500m, site_y_bottom_1500m, site_x_right_1500m, site_y_top_1500m)\n",
    "gdf_1500m = gpd.GeoDataFrame(\n",
    "    [1],\n",
    "    geometry=[shp_1500m],\n",
    "    crs = \"EPSG:32618\"\n",
    ")\n",
    "shp_2000m = shp.box(site_x_left_2000m, site_y_bottom_2000m, site_x_right_2000m, site_y_top_2000m)\n",
    "gdf_2000m = gpd.GeoDataFrame(\n",
    "    pd.DataFrame({\"0\":[\"0\"]}),\n",
    "    geometry=[shp_2000m],\n",
    "    crs = \"EPSG:32618\"\n",
    ")\n",
    "shp_18000m = shp.box(site_x_left_18000m, site_y_bottom_18000m, site_x_right_18000m, site_y_top_18000m)\n",
    "gdf_18000m = gpd.GeoDataFrame(\n",
    "    pd.DataFrame({\"0\":[\"0\"]}),\n",
    "    geometry=[shp_18000m],\n",
    "    crs = \"EPSG:32618\"\n",
    ")"
   ]
  },
  {
   "cell_type": "code",
   "execution_count": 32,
   "metadata": {},
   "outputs": [],
   "source": [
    "gdf_2000m.to_file(cwd_Images_Processed + \"//Havard//2000m.shp\")\n",
    "gdf_18000m.to_file(cwd_Images_Processed + \"//Havard//18000m.shp\")"
   ]
  },
  {
   "cell_type": "code",
   "execution_count": 20,
   "metadata": {},
   "outputs": [
    {
     "data": {
      "text/plain": [
       "Text(0.5, 1.0, '1000m Square (Internal Area)')"
      ]
     },
     "execution_count": 20,
     "metadata": {},
     "output_type": "execute_result"
    },
    {
     "data": {
      "image/png": "[encoded data removed]",
      "text/plain": [
       "<Figure size 1000x1000 with 1 Axes>"
      ]
     },
     "metadata": {},
     "output_type": "display_data"
    }
   ],
   "source": [
    "# Plot to check!\n",
    "fig, ax = plt.subplots(figsize = (10,10))\n",
    "gdf_1000m.plot(ax = ax)\n",
    "gdf_32618.plot(ax = ax, color = 'red', markersize = 5)\n",
    "ax.set_xticks(np.arange(site_x_left_1000m, site_x_right_1000m + 10, 10))\n",
    "ax.set_yticks(np.arange(site_y_bottom_1000m, site_y_top_1000m + 10, 10))\n",
    "ax.set_xticklabels([tick if tick == site_x_left_1000m or tick == site_x_right_1000m else None for tick in ax.get_xticks()])\n",
    "ax.set_yticklabels([tick if tick == site_y_bottom_1000m or tick == site_y_top_1000m else None for tick in ax.get_yticks()])\n",
    "ax.grid()\n",
    "ax.set_title(\"1000m Square (Internal Area)\")"
   ]
  },
  {
   "cell_type": "markdown",
   "metadata": {},
   "source": [
    "### 5. Calculate surface albedo! \n",
    "0.726b3 – 0.322b3^2 – 0.015b8 + 0.581b8^2"
   ]
  },
  {
   "cell_type": "code",
   "execution_count": 21,
   "metadata": {},
   "outputs": [
    {
     "data": {
      "text/plain": [
       "array([[0.17680943, 0.17444409, 0.15252978, ..., 0.13675542, 0.14121723,\n",
       "        0.11814344],\n",
       "       [0.18389629, 0.16540486, 0.14673776, ..., 0.15353067, 0.14974904,\n",
       "        0.12337426],\n",
       "       [0.20036929, 0.1864176 , 0.16643711, ..., 0.16367206, 0.15101153,\n",
       "        0.12229116],\n",
       "       ...,\n",
       "       [0.22659466, 0.20385818, 0.20318496, ..., 0.1493669 , 0.16644052,\n",
       "        0.18072397],\n",
       "       [0.23123207, 0.22412312, 0.22214369, ..., 0.16696932, 0.18519901,\n",
       "        0.17101144],\n",
       "       [0.22851757, 0.23766217, 0.24331514, ..., 0.18829984, 0.19663503,\n",
       "        0.17961577]])"
      ]
     },
     "execution_count": 21,
     "metadata": {},
     "output_type": "execute_result"
    }
   ],
   "source": [
    "Albedo = 0.726 * (list_Band_10m[1].astype(float) / 10000) - 0.322 * (list_Band_10m[1].astype(float) / 10000) ** 2 - 0.015 * (list_Band_10m[3].astype(float) / 10000) + 0.581 * (list_Band_10m[3].astype(float) / 10000) ** 2\n",
    "Albedo"
   ]
  },
  {
   "cell_type": "code",
   "execution_count": 22,
   "metadata": {},
   "outputs": [],
   "source": [
    "src = list_Image_10m[0]\n",
    "out_meta = src.meta\n",
    "out_meta.update({\n",
    "    \"driver\": \"GTiff\",\n",
    "    \"dtype\": 'float64'\n",
    "})\n",
    "with rio.open(cwd_Images_Processed + \"\\\\Havard\\\\Albedo.tif\", 'w', **out_meta) as dest:\n",
    "    dest.write(Albedo, 1)"
   ]
  },
  {
   "cell_type": "markdown",
   "metadata": {},
   "source": [
    "### 6. Clip to the extent of 1000m, 1500m and 2000m"
   ]
  },
  {
   "cell_type": "code",
   "execution_count": 23,
   "metadata": {},
   "outputs": [],
   "source": [
    "src = rio.open(cwd_Images_Processed + \"\\\\Havard\\\\Albedo.tif\")\n",
    "out_image, out_transform = rio.mask.mask(src, gdf_1000m.geometry, crop=True)\n",
    "out_meta = src.meta\n",
    "out_meta.update({\"driver\": \"GTiff\",\n",
    "                 \"height\": out_image.shape[1],\n",
    "                 \"width\": out_image.shape[2],\n",
    "                 \"transform\": out_transform})\n",
    "\n",
    "with rio.open(cwd_Images_Processed + \"\\\\Havard\\\\Albedo 1000m.tif\", \"w\", **out_meta) as dest:\n",
    "    dest.write(out_image)"
   ]
  },
  {
   "cell_type": "code",
   "execution_count": 24,
   "metadata": {},
   "outputs": [],
   "source": [
    "src = rio.open(cwd_Images_Processed + \"\\\\Havard\\\\Albedo.tif\")\n",
    "out_image, out_transform = rio.mask.mask(src, gdf_1500m.geometry, crop=True)\n",
    "out_meta = src.meta\n",
    "out_meta.update({\"driver\": \"GTiff\",\n",
    "                 \"height\": out_image.shape[1],\n",
    "                 \"width\": out_image.shape[2],\n",
    "                 \"transform\": out_transform})\n",
    "\n",
    "with rio.open(cwd_Images_Processed + \"\\\\Havard\\\\Albedo 1500m.tif\", \"w\", **out_meta) as dest:\n",
    "    dest.write(out_image)"
   ]
  },
  {
   "cell_type": "code",
   "execution_count": 25,
   "metadata": {},
   "outputs": [],
   "source": [
    "src = rio.open(cwd_Images_Processed + \"\\\\Havard\\\\Albedo.tif\")\n",
    "out_image, out_transform = rio.mask.mask(src, gdf_2000m.geometry, crop=True)\n",
    "out_meta = src.meta\n",
    "out_meta.update({\"driver\": \"GTiff\",\n",
    "                 \"height\": out_image.shape[1],\n",
    "                 \"width\": out_image.shape[2],\n",
    "                 \"transform\": out_transform})\n",
    "\n",
    "with rio.open(cwd_Images_Processed + \"\\\\Havard\\\\Albedo 2000m.tif\", \"w\", **out_meta) as dest:\n",
    "    dest.write(out_image)"
   ]
  },
  {
   "cell_type": "code",
   "execution_count": 26,
   "metadata": {},
   "outputs": [],
   "source": [
    "### RESAMPLE\n",
    "from rasterio.enums import Resampling\n",
    "\n",
    "# Resample 2000m (10m pixel -> 20m pixel)\n",
    "\n",
    "upscale_factor = 0.5\n",
    "\n",
    "with rasterio.open(cwd_Images_Processed + \"\\\\Havard\\\\Albedo 2000m.tif\") as dataset:\n",
    "\n",
    "    # resample data to target shape\n",
    "    data = dataset.read(\n",
    "        out_shape=(\n",
    "            dataset.count,\n",
    "            int(dataset.height * upscale_factor),\n",
    "            int(dataset.width * upscale_factor)\n",
    "        ),\n",
    "        resampling=Resampling.average\n",
    "    )\n",
    "\n",
    "    # scale image transform\n",
    "    transform = dataset.transform * dataset.transform.scale(\n",
    "        (dataset.width / data.shape[-1]),\n",
    "        (dataset.height / data.shape[-2])\n",
    "    )\n",
    "\n",
    "    out_meta = dataset.meta\n",
    "    out_meta.update({\n",
    "        \"height\": data.shape[-2],\n",
    "        \"width\": data.shape[-1],\n",
    "        \"transform\": transform\n",
    "        })\n",
    "\n",
    "    with rio.open(cwd_Images_Processed + \"\\\\Havard\\\\Albedo 2000m RE.tif\", \"w\", **out_meta) as dest:\n",
    "        dest.write(out_image)"
   ]
  }
 ],
 "metadata": {
  "kernelspec": {
   "display_name": "DISC",
   "language": "python",
   "name": "python3"
  },
  "language_info": {
   "codemirror_mode": {
    "name": "ipython",
    "version": 3
   },
   "file_extension": ".py",
   "mimetype": "text/x-python",
   "name": "python",
   "nbconvert_exporter": "python",
   "pygments_lexer": "ipython3",
   "version": "3.12.3"
  }
 },
 "nbformat": 4,
 "nbformat_minor": 2
}
