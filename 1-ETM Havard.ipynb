{
 "cells": [
  {
   "cell_type": "code",
   "execution_count": 1,
   "metadata": {},
   "outputs": [],
   "source": [
    "import os\n",
    "# import math\n",
    "import numpy as np\n",
    "import shapely as shp\n",
    "import pandas as pd\n",
    "import geopandas as gpd\n",
    "import matplotlib.pyplot as plt\n",
    "import rasterio as rio\n",
    "import rasterio.mask"
   ]
  },
  {
   "cell_type": "code",
   "execution_count": 2,
   "metadata": {},
   "outputs": [],
   "source": [
    "cwd = \"c:\\\\Users\\\\m1865\\\\Desktop\\\\DISC\"\n",
    "cwd_Images_Raw = cwd + \"\\\\ETM Images Raw\\\\Havard\"\n",
    "cwd_Images_Processed = cwd + \"\\\\ETM Images Processed\\\\Havard\""
   ]
  },
  {
   "cell_type": "code",
   "execution_count": 3,
   "metadata": {},
   "outputs": [],
   "source": [
    "b1 = rio.open(cwd_Images_Raw + \"\\\\LE07_L2SP_013030_20020908_20200916_02_T1_SR_B1.TIF\").read(1)\n",
    "b2 = rio.open(cwd_Images_Raw + \"\\\\LE07_L2SP_013030_20020908_20200916_02_T1_SR_B2.TIF\").read(1)\n",
    "b3 = rio.open(cwd_Images_Raw + \"\\\\LE07_L2SP_013030_20020908_20200916_02_T1_SR_B3.TIF\").read(1)\n",
    "b4 = rio.open(cwd_Images_Raw + \"\\\\LE07_L2SP_013030_20020908_20200916_02_T1_SR_B4.TIF\").read(1)\n",
    "b5 = rio.open(cwd_Images_Raw + \"\\\\LE07_L2SP_013030_20020908_20200916_02_T1_SR_B5.TIF\").read(1)\n",
    "b7 = rio.open(cwd_Images_Raw + \"\\\\LE07_L2SP_013030_20020908_20200916_02_T1_SR_B7.TIF\").read(1)"
   ]
  },
  {
   "cell_type": "markdown",
   "metadata": {},
   "source": [
    "0.356a1 + 0.13a3 + 0.373a4 + 0.085a5 + 0.072a7 - 0.0018"
   ]
  },
  {
   "cell_type": "code",
   "execution_count": 4,
   "metadata": {},
   "outputs": [],
   "source": [
    "# albedo = 0.356 * b1 + 0.13 * b3 + 0.373 * b4 + 0.085 * b5 + 0.072 * b7 - 0.0018\n",
    "albedo = 0.526 * b2 + 0.3139 * b4 + 0.112 * b7"
   ]
  },
  {
   "cell_type": "code",
   "execution_count": 5,
   "metadata": {},
   "outputs": [],
   "source": [
    "src = rio.open(cwd_Images_Raw + \"\\\\LE07_L2SP_013030_20020908_20200916_02_T1_SR_B1.TIF\")\n",
    "out_meta = src.meta\n",
    "out_meta.update({\n",
    "    \"driver\": \"GTiff\",\n",
    "    \"dtype\": 'float64'\n",
    "})\n",
    "with rio.open(cwd_Images_Processed + \"\\\\Albedo.tif\", 'w', **out_meta) as dest:\n",
    "    dest.write(albedo, 1)"
   ]
  },
  {
   "cell_type": "code",
   "execution_count": 6,
   "metadata": {},
   "outputs": [
    {
     "data": {
      "text/html": [
       "<div>\n",
       "<style scoped>\n",
       "    .dataframe tbody tr th:only-of-type {\n",
       "        vertical-align: middle;\n",
       "    }\n",
       "\n",
       "    .dataframe tbody tr th {\n",
       "        vertical-align: top;\n",
       "    }\n",
       "\n",
       "    .dataframe thead th {\n",
       "        text-align: right;\n",
       "    }\n",
       "</style>\n",
       "<table border=\"1\" class=\"dataframe\">\n",
       "  <thead>\n",
       "    <tr style=\"text-align: right;\">\n",
       "      <th></th>\n",
       "      <th>Site</th>\n",
       "      <th>geometry</th>\n",
       "    </tr>\n",
       "  </thead>\n",
       "  <tbody>\n",
       "    <tr>\n",
       "      <th>0</th>\n",
       "      <td>Havard Forest</td>\n",
       "      <td>POINT (-72.17100 42.53800)</td>\n",
       "    </tr>\n",
       "  </tbody>\n",
       "</table>\n",
       "</div>"
      ],
      "text/plain": [
       "            Site                    geometry\n",
       "0  Havard Forest  POINT (-72.17100 42.53800)"
      ]
     },
     "execution_count": 6,
     "metadata": {},
     "output_type": "execute_result"
    }
   ],
   "source": [
    "# Create a point shapefile based on the site, using Lon-Lat\n",
    "gdf_4326 = gpd.GeoDataFrame(\n",
    "    pd.DataFrame({\n",
    "        \"Site\": [\"Havard Forest\"]\n",
    "    }),\n",
    "    geometry = gpd.points_from_xy([-72.171], [42.538]),\n",
    "    crs = \"EPSG:4326\"\n",
    ")\n",
    "gdf_4326"
   ]
  },
  {
   "cell_type": "code",
   "execution_count": 7,
   "metadata": {},
   "outputs": [],
   "source": [
    "gdf_32618 = gdf_4326.to_crs(\"EPSG:32618\")"
   ]
  },
  {
   "cell_type": "code",
   "execution_count": 8,
   "metadata": {},
   "outputs": [
    {
     "name": "stdout",
     "output_type": "stream",
     "text": [
      "Site X, Y: 732315.442750216,4713391.750567996\n"
     ]
    }
   ],
   "source": [
    "# First we retrieve the x, y coordinate of our site\n",
    "site_x = gdf_32618.geometry.x.values[0]\n",
    "site_y = gdf_32618.geometry.y.values[0]\n",
    "print(\"Site X, Y: \" + str(site_x) + \",\" + str(site_y))"
   ]
  },
  {
   "cell_type": "code",
   "execution_count": 9,
   "metadata": {},
   "outputs": [
    {
     "name": "stdout",
     "output_type": "stream",
     "text": [
      "Site falls on the pixel: 5907, 4801\n"
     ]
    }
   ],
   "source": [
    "# Then we get the row, col of our site in the raster, so that we know the pixel the site belongs to\n",
    "site_row, site_col = rio.open(cwd_Images_Raw + \"\\\\LE07_L2SP_013030_20020908_20200916_02_T1_SR_B1.TIF\").index(site_x, site_y)\n",
    "print(\"Site falls on the pixel: \" + str(site_row) + \", \" + str(site_col))"
   ]
  },
  {
   "cell_type": "code",
   "execution_count": 10,
   "metadata": {},
   "outputs": [
    {
     "name": "stdout",
     "output_type": "stream",
     "text": [
      "The spatial coordinates of the (center) pixel which the site falls on is: 732330.0, 4713390.0\n"
     ]
    }
   ],
   "source": [
    "# Now we get the spatial coordinates of that pixel (coordinates of its center)\n",
    "site_pixel_x, site_pixel_y = rio.open(cwd_Images_Raw + \"\\\\LE07_L2SP_013030_20020908_20200916_02_T1_SR_B1.TIF\").xy(site_row, site_col)\n",
    "print(\"The spatial coordinates of the (center) pixel which the site falls on is: \" + str(site_pixel_x) + \", \" + str(site_pixel_y))"
   ]
  },
  {
   "cell_type": "code",
   "execution_count": 11,
   "metadata": {},
   "outputs": [],
   "source": [
    "site_x_left_1000m = site_pixel_x - 510\n",
    "site_x_right_1000m = site_pixel_x + 510\n",
    "site_y_top_1000m = site_pixel_y + 510\n",
    "site_y_bottom_1000m = site_pixel_y - 510"
   ]
  },
  {
   "cell_type": "code",
   "execution_count": 12,
   "metadata": {},
   "outputs": [],
   "source": [
    "shp_10m = shp.box(site_x_left_1000m, site_y_bottom_1000m, site_x_right_1000m, site_y_top_1000m)\n",
    "gdf_10m = gpd.GeoDataFrame(\n",
    "    pd.DataFrame({\"0\": [\"0\"]}),\n",
    "    geometry=[shp_10m],\n",
    "    crs = \"EPSG:32618\"\n",
    ")"
   ]
  },
  {
   "cell_type": "code",
   "execution_count": 13,
   "metadata": {},
   "outputs": [],
   "source": [
    "src = rio.open(cwd_Images_Processed + \"\\\\Albedo.tif\")\n",
    "out_image, out_transform = rio.mask.mask(src, gdf_10m.geometry, crop=True)\n",
    "out_meta = src.meta\n",
    "out_meta.update({\"driver\": \"GTiff\",\n",
    "                \"height\": out_image.shape[1],\n",
    "                \"width\": out_image.shape[2],\n",
    "                \"transform\": out_transform})\n",
    "\n",
    "with rio.open(cwd_Images_Processed + \"\\\\Albedo 1000m.tif\", \"w\", **out_meta) as dest:\n",
    "    dest.write(out_image)"
   ]
  },
  {
   "cell_type": "code",
   "execution_count": null,
   "metadata": {},
   "outputs": [],
   "source": []
  }
 ],
 "metadata": {
  "kernelspec": {
   "display_name": "DISC",
   "language": "python",
   "name": "python3"
  },
  "language_info": {
   "codemirror_mode": {
    "name": "ipython",
    "version": 3
   },
   "file_extension": ".py",
   "mimetype": "text/x-python",
   "name": "python",
   "nbconvert_exporter": "python",
   "pygments_lexer": "ipython3",
   "version": "3.12.3"
  }
 },
 "nbformat": 4,
 "nbformat_minor": 2
}
