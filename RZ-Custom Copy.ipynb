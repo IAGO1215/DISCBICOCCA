{
 "cells": [
  {
   "cell_type": "code",
   "execution_count": 1,
   "metadata": {},
   "outputs": [],
   "source": [
    "import os\n",
    "import shutil\n",
    "import pandas as pd"
   ]
  },
  {
   "cell_type": "code",
   "execution_count": 2,
   "metadata": {},
   "outputs": [],
   "source": [
    "cwd = \"c:\\\\Users\\\\m1865\\\\Desktop\\\\DISC\"\n",
    "cwd_Images_Raw = cwd + \"\\\\Sentinel-2 Images Raw\"\n",
    "cwd_Images_Processed = cwd + \"\\\\Sentinel-2 Images Processed\""
   ]
  },
  {
   "cell_type": "code",
   "execution_count": 3,
   "metadata": {},
   "outputs": [],
   "source": [
    "df = pd.read_csv(cwd + \"\\\\Site.csv\")"
   ]
  },
  {
   "cell_type": "code",
   "execution_count": 7,
   "metadata": {},
   "outputs": [
    {
     "ename": "",
     "evalue": "",
     "output_type": "error",
     "traceback": [
      "\u001b[1;31mThe Kernel crashed while executing code in the current cell or a previous cell. \n",
      "\u001b[1;31mPlease review the code in the cell(s) to identify a possible cause of the failure. \n",
      "\u001b[1;31mClick <a href='https://aka.ms/vscodeJupyterKernelCrash'>here</a> for more info. \n",
      "\u001b[1;31mView Jupyter <a href='command:jupyter.viewOutput'>log</a> for further details."
     ]
    }
   ],
   "source": [
    "name_File2Copy = [\"Result.png\",\"Result_New_Roman.csv\",\"Result_New_Variogram.csv\",\"TimeSeries - NDVI.png\",\"TimeSeries - NIR.png\"]\n",
    "path_Export = cwd + \"\\\\Export\"\n",
    "for i in range(df.shape[0]):\n",
    "    name_Site = df.loc[i,\"Site\"]\n",
    "\n",
    "    path_File = []\n",
    "    for temp_Name in name_File2Copy:\n",
    "        temp_Path = cwd_Images_Processed + \"\\\\\" + name_Site + \"\\\\\" + temp_Name\n",
    "        path_File.append(temp_Path)\n",
    "    for temp_File in path_File:\n",
    "        if not os.path.exists(path_Export + \"\\\\\" + name_Site):\n",
    "            os.makedirs(path_Export + \"\\\\\" + name_Site)\n",
    "        shutil.copy(temp_File, path_Export + \"\\\\\" + name_Site)"
   ]
  },
  {
   "cell_type": "code",
   "execution_count": null,
   "metadata": {},
   "outputs": [],
   "source": []
  }
 ],
 "metadata": {
  "kernelspec": {
   "display_name": "DISC",
   "language": "python",
   "name": "python3"
  },
  "language_info": {
   "codemirror_mode": {
    "name": "ipython",
    "version": 3
   },
   "file_extension": ".py",
   "mimetype": "text/x-python",
   "name": "python",
   "nbconvert_exporter": "python",
   "pygments_lexer": "ipython3",
   "version": "3.12.3"
  }
 },
 "nbformat": 4,
 "nbformat_minor": 2
}
