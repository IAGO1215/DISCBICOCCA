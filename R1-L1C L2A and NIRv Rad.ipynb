{
 "cells": [
  {
   "cell_type": "code",
   "execution_count": 1,
   "metadata": {},
   "outputs": [],
   "source": [
    "import os\n",
    "from bs4 import BeautifulSoup\n",
    "import math\n",
    "import numpy as np\n",
    "import shapely as shp\n",
    "import pandas as pd\n",
    "import geopandas as gpd\n",
    "import matplotlib.pyplot as plt\n",
    "import rasterio as rio\n",
    "import rasterio.mask"
   ]
  },
  {
   "cell_type": "markdown",
   "metadata": {},
   "source": [
    "### Set the working directory (absolute)"
   ]
  },
  {
   "cell_type": "code",
   "execution_count": 2,
   "metadata": {},
   "outputs": [],
   "source": [
    "cwd = \"c:\\\\Users\\\\m1865\\\\Desktop\\\\DISC\"\n",
    "cwd_Images_Raw = cwd + \"\\\\Sentinel-2 Images Raw\"\n",
    "cwd_Images_Processed = cwd + \"\\\\Sentinel-2 Images Processed\""
   ]
  },
  {
   "cell_type": "markdown",
   "metadata": {},
   "source": [
    "### Set the site name and its latitude and longitude"
   ]
  },
  {
   "cell_type": "code",
   "execution_count": 3,
   "metadata": {},
   "outputs": [],
   "source": [
    "# Site Name\n",
    "site_Name = \"UK\""
   ]
  },
  {
   "cell_type": "code",
   "execution_count": 4,
   "metadata": {},
   "outputs": [
    {
     "ename": "NameError",
     "evalue": "name 'site_Lat' is not defined",
     "output_type": "error",
     "traceback": [
      "\u001b[1;31m---------------------------------------------------------------------------\u001b[0m",
      "\u001b[1;31mNameError\u001b[0m                                 Traceback (most recent call last)",
      "Cell \u001b[1;32mIn[4], line 7\u001b[0m\n\u001b[0;32m      5\u001b[0m         site_Lat \u001b[38;5;241m=\u001b[39m df_Site\u001b[38;5;241m.\u001b[39mloc[i,\u001b[38;5;124m\"\u001b[39m\u001b[38;5;124mLatitude\u001b[39m\u001b[38;5;124m\"\u001b[39m]\n\u001b[0;32m      6\u001b[0m         site_Lon \u001b[38;5;241m=\u001b[39m df_Site\u001b[38;5;241m.\u001b[39mloc[i,\u001b[38;5;124m\"\u001b[39m\u001b[38;5;124mLongitude\u001b[39m\u001b[38;5;124m\"\u001b[39m]\n\u001b[1;32m----> 7\u001b[0m \u001b[38;5;28mprint\u001b[39m(\u001b[38;5;124mf\u001b[39m\u001b[38;5;124m\"\u001b[39m\u001b[38;5;124mThe latitude of the site is \u001b[39m\u001b[38;5;132;01m{\u001b[39;00m\u001b[43msite_Lat\u001b[49m\u001b[38;5;132;01m:\u001b[39;00m\u001b[38;5;124m.4f\u001b[39m\u001b[38;5;132;01m}\u001b[39;00m\u001b[38;5;124m and the longitude is \u001b[39m\u001b[38;5;132;01m{\u001b[39;00msite_Lon\u001b[38;5;132;01m:\u001b[39;00m\u001b[38;5;124m.4f\u001b[39m\u001b[38;5;132;01m}\u001b[39;00m\u001b[38;5;124m\"\u001b[39m)\n",
      "\u001b[1;31mNameError\u001b[0m: name 'site_Lat' is not defined"
     ]
    }
   ],
   "source": [
    "# Find the coordinate based on the name of the site in our .csv file\n",
    "df_Site = pd.read_csv(cwd + \"//Site.csv\")\n",
    "for i in range(df_Site.shape[0]):\n",
    "    if df_Site.loc[i,\"Site\"] == site_Name:\n",
    "        site_Lat = df_Site.loc[i,\"Latitude\"]\n",
    "        site_Lon = df_Site.loc[i,\"Longitude\"]\n",
    "print(f\"The latitude of the site is {site_Lat:.4f} and the longitude is {site_Lon:.4f}\")"
   ]
  },
  {
   "cell_type": "markdown",
   "metadata": {},
   "source": [
    "### Create a geodataframe of the site"
   ]
  },
  {
   "cell_type": "code",
   "execution_count": null,
   "metadata": {},
   "outputs": [
    {
     "data": {
      "text/html": [
       "<div>\n",
       "<style scoped>\n",
       "    .dataframe tbody tr th:only-of-type {\n",
       "        vertical-align: middle;\n",
       "    }\n",
       "\n",
       "    .dataframe tbody tr th {\n",
       "        vertical-align: top;\n",
       "    }\n",
       "\n",
       "    .dataframe thead th {\n",
       "        text-align: right;\n",
       "    }\n",
       "</style>\n",
       "<table border=\"1\" class=\"dataframe\">\n",
       "  <thead>\n",
       "    <tr style=\"text-align: right;\">\n",
       "      <th></th>\n",
       "      <th>Site</th>\n",
       "      <th>Latitude</th>\n",
       "      <th>Longitude</th>\n",
       "    </tr>\n",
       "  </thead>\n",
       "  <tbody>\n",
       "    <tr>\n",
       "      <th>0</th>\n",
       "      <td>UK</td>\n",
       "      <td>51.153498</td>\n",
       "      <td>-0.85831</td>\n",
       "    </tr>\n",
       "  </tbody>\n",
       "</table>\n",
       "</div>"
      ],
      "text/plain": [
       "  Site   Latitude  Longitude\n",
       "0   UK  51.153498   -0.85831"
      ]
     },
     "execution_count": 161,
     "metadata": {},
     "output_type": "execute_result"
    }
   ],
   "source": [
    "df_4326 = pd.DataFrame({\n",
    "    \"Site\": [site_Name],\n",
    "    \"Latitude\": [site_Lat],\n",
    "    \"Longitude\": [site_Lon]\n",
    "})\n",
    "df_4326"
   ]
  },
  {
   "cell_type": "code",
   "execution_count": null,
   "metadata": {},
   "outputs": [
    {
     "data": {
      "text/html": [
       "<div>\n",
       "<style scoped>\n",
       "    .dataframe tbody tr th:only-of-type {\n",
       "        vertical-align: middle;\n",
       "    }\n",
       "\n",
       "    .dataframe tbody tr th {\n",
       "        vertical-align: top;\n",
       "    }\n",
       "\n",
       "    .dataframe thead th {\n",
       "        text-align: right;\n",
       "    }\n",
       "</style>\n",
       "<table border=\"1\" class=\"dataframe\">\n",
       "  <thead>\n",
       "    <tr style=\"text-align: right;\">\n",
       "      <th></th>\n",
       "      <th>Site</th>\n",
       "      <th>Latitude</th>\n",
       "      <th>Longitude</th>\n",
       "      <th>geometry</th>\n",
       "    </tr>\n",
       "  </thead>\n",
       "  <tbody>\n",
       "    <tr>\n",
       "      <th>0</th>\n",
       "      <td>UK</td>\n",
       "      <td>51.153498</td>\n",
       "      <td>-0.85831</td>\n",
       "      <td>POINT (-0.85831 51.15350)</td>\n",
       "    </tr>\n",
       "  </tbody>\n",
       "</table>\n",
       "</div>"
      ],
      "text/plain": [
       "  Site   Latitude  Longitude                   geometry\n",
       "0   UK  51.153498   -0.85831  POINT (-0.85831 51.15350)"
      ]
     },
     "execution_count": 162,
     "metadata": {},
     "output_type": "execute_result"
    }
   ],
   "source": [
    "# Create a point shapefile based on the site, using Lon-Lat\n",
    "gdf_4326 = gpd.GeoDataFrame(\n",
    "    df_4326,\n",
    "    geometry = gpd.points_from_xy(df_4326['Longitude'], df_4326['Latitude']),\n",
    "    crs = \"EPSG:4326\"\n",
    ")\n",
    "gdf_4326"
   ]
  },
  {
   "cell_type": "markdown",
   "metadata": {},
   "source": [
    "### Get the paths to the raw L1C rasters\n",
    "We only need the B08 (NIR) image file. "
   ]
  },
  {
   "cell_type": "code",
   "execution_count": null,
   "metadata": {},
   "outputs": [
    {
     "data": {
      "text/plain": [
       "'c:\\\\Users\\\\m1865\\\\Desktop\\\\DISC\\\\Sentinel-2 Images Raw\\\\UK\\\\L1C\\\\S2B_MSIL1C_20230625T110619_N0509_R137_T30UXB_20230625T114918.SAFE\\\\GRANULE\\\\L1C_T30UXB_A032910_20230625T110839\\\\IMG_DATA\\\\T30UXB_20230625T110619_B08.jp2'"
      ]
     },
     "execution_count": 163,
     "metadata": {},
     "output_type": "execute_result"
    }
   ],
   "source": [
    "for path, subdirs, files in os.walk(cwd_Images_Raw + \"\\\\\" + site_Name + \"\\\\L1C\"):\n",
    "    for name in files:\n",
    "        temp = os.path.join(path, name)\n",
    "        if \"IMG_DATA\" in temp and temp[-3:] == 'jp2' and \"B08\" in temp:\n",
    "            # print(temp)\n",
    "            path_L1C_B08_raw = temp\n",
    "path_L1C_B08_raw"
   ]
  },
  {
   "cell_type": "markdown",
   "metadata": {},
   "source": [
    "### Get the path to the XML file \"MTD_DS\" of L1C raster, where there are values of \"U\", \"Solar Irradiance\", \"Quantification Value\" and \"Radiometric Offset\""
   ]
  },
  {
   "cell_type": "code",
   "execution_count": null,
   "metadata": {},
   "outputs": [
    {
     "data": {
      "text/plain": [
       "'c:\\\\Users\\\\m1865\\\\Desktop\\\\DISC\\\\Sentinel-2 Images Raw\\\\UK\\\\L1C\\\\S2B_MSIL1C_20230625T110619_N0509_R137_T30UXB_20230625T114918.SAFE\\\\DATASTRIP\\\\DS_2BPS_20230625T114918_S20230625T110839\\\\MTD_DS.xml'"
      ]
     },
     "execution_count": 164,
     "metadata": {},
     "output_type": "execute_result"
    }
   ],
   "source": [
    "for path, subdirs, files in os.walk(cwd_Images_Raw + \"\\\\\" + site_Name + \"\\\\L1C\"):\n",
    "    for name in files:\n",
    "        temp = os.path.join(path, name)\n",
    "        if \"MTD_DS.xml\" in temp:\n",
    "            # print(temp)\n",
    "            path_L1C_xml_DS = temp\n",
    "path_L1C_xml_DS"
   ]
  },
  {
   "cell_type": "markdown",
   "metadata": {},
   "source": [
    "### Get the path to the XML file \"MTD_TL\" of L1C raster, where there are values (matrices) of \"Solar Zenith Angle\". "
   ]
  },
  {
   "cell_type": "code",
   "execution_count": null,
   "metadata": {},
   "outputs": [
    {
     "data": {
      "text/plain": [
       "'c:\\\\Users\\\\m1865\\\\Desktop\\\\DISC\\\\Sentinel-2 Images Raw\\\\UK\\\\L1C\\\\S2B_MSIL1C_20230625T110619_N0509_R137_T30UXB_20230625T114918.SAFE\\\\GRANULE\\\\L1C_T30UXB_A032910_20230625T110839\\\\MTD_TL.xml'"
      ]
     },
     "execution_count": 165,
     "metadata": {},
     "output_type": "execute_result"
    }
   ],
   "source": [
    "for path, subdirs, files in os.walk(cwd_Images_Raw + \"\\\\\" + site_Name + \"\\\\L1C\"):\n",
    "    for name in files:\n",
    "        temp = os.path.join(path, name)\n",
    "        if \"MTD_TL.xml\" in temp:\n",
    "            # print(temp)\n",
    "            path_L1C_xml_TL = temp\n",
    "path_L1C_xml_TL"
   ]
  },
  {
   "cell_type": "markdown",
   "metadata": {},
   "source": [
    "### Get the paths to the raw L2A rasters\n",
    "We get the paths to the B04 (Red) band and B08 (NIR) band. "
   ]
  },
  {
   "cell_type": "code",
   "execution_count": null,
   "metadata": {},
   "outputs": [
    {
     "name": "stdout",
     "output_type": "stream",
     "text": [
      "The path to B04 is c:\\Users\\m1865\\Desktop\\DISC\\Sentinel-2 Images Raw\\UK\\L2A\\S2B_MSIL2A_20230625T110619_N0509_R137_T30UXB_20230625T123508.SAFE\\GRANULE\\L2A_T30UXB_A032910_20230625T110839\\IMG_DATA\\R10m\\T30UXB_20230625T110619_B04_10m.jp2\n",
      "The path to B08 is c:\\Users\\m1865\\Desktop\\DISC\\Sentinel-2 Images Raw\\UK\\L2A\\S2B_MSIL2A_20230625T110619_N0509_R137_T30UXB_20230625T123508.SAFE\\GRANULE\\L2A_T30UXB_A032910_20230625T110839\\IMG_DATA\\R10m\\T30UXB_20230625T110619_B08_10m.jp2\n"
     ]
    }
   ],
   "source": [
    "for path, subdirs, files in os.walk(cwd_Images_Raw + \"\\\\\" + site_Name + \"\\\\L2A\"):\n",
    "    for name in files:\n",
    "        temp = os.path.join(path, name)\n",
    "        if temp[-3:] == 'jp2'in temp and \"10m\" in temp and \"B04\" in temp :\n",
    "            path_L2A_B04_raw = temp\n",
    "        if temp[-3:] == 'jp2'in temp and \"10m\" in temp and \"B08\" in temp :\n",
    "            path_L2A_B08_raw = temp\n",
    "print(\"The path to B04 is \" + path_L2A_B04_raw)\n",
    "print(\"The path to B08 is \" + path_L2A_B08_raw)"
   ]
  },
  {
   "cell_type": "markdown",
   "metadata": {},
   "source": [
    "### Get the path to the XML file \"MTD_DS\" of L1C raster, where there are values of \"Quantification Value\" and \"Radiometric Offset\""
   ]
  },
  {
   "cell_type": "code",
   "execution_count": null,
   "metadata": {},
   "outputs": [
    {
     "data": {
      "text/plain": [
       "'c:\\\\Users\\\\m1865\\\\Desktop\\\\DISC\\\\Sentinel-2 Images Raw\\\\UK\\\\L2A\\\\S2B_MSIL2A_20230625T110619_N0509_R137_T30UXB_20230625T123508.SAFE\\\\DATASTRIP\\\\DS_2BPS_20230625T123508_S20230625T110839\\\\MTD_DS.xml'"
      ]
     },
     "execution_count": 167,
     "metadata": {},
     "output_type": "execute_result"
    }
   ],
   "source": [
    "for path, subdirs, files in os.walk(cwd_Images_Raw + \"\\\\\" + site_Name + \"\\\\L2A\"):\n",
    "    for name in files:\n",
    "        temp = os.path.join(path, name)\n",
    "        if \"MTD_DS.xml\" in temp:\n",
    "            # print(temp)\n",
    "            path_L2A_xml_DS = temp\n",
    "path_L2A_xml_DS"
   ]
  },
  {
   "cell_type": "markdown",
   "metadata": {},
   "source": [
    "### Now read the path into image with rasterio"
   ]
  },
  {
   "cell_type": "code",
   "execution_count": null,
   "metadata": {},
   "outputs": [],
   "source": [
    "image_L1C_B08 = rio.open(path_L1C_B08_raw)\n",
    "image_L2A_B04 = rio.open(path_L2A_B04_raw)\n",
    "image_L2A_B08 = rio.open(path_L2A_B08_raw)"
   ]
  },
  {
   "cell_type": "markdown",
   "metadata": {},
   "source": [
    "### And then read the values of each image"
   ]
  },
  {
   "cell_type": "code",
   "execution_count": null,
   "metadata": {},
   "outputs": [],
   "source": [
    "values_L1C_B08 = image_L1C_B08.read(1)\n",
    "values_L2A_B04 = image_L2A_B04.read(1)\n",
    "values_L2A_B08 = image_L2A_B08.read(1)"
   ]
  },
  {
   "cell_type": "markdown",
   "metadata": {},
   "source": [
    "### Now check the crs of the Sentinel-2 images, and convert our site geodataframe to that crs"
   ]
  },
  {
   "cell_type": "code",
   "execution_count": null,
   "metadata": {},
   "outputs": [
    {
     "name": "stdout",
     "output_type": "stream",
     "text": [
      "The EPSG of L1C is 32630\n",
      "The EPSG of L2A is 32630\n",
      "The final crs is EPSG:32630\n"
     ]
    }
   ],
   "source": [
    "crs_L1C = image_L1C_B08.crs.data[\"init\"].split(\":\")[1]\n",
    "crs_L2A = image_L2A_B04.crs.data[\"init\"].split(\":\")[1]\n",
    "print(\"The EPSG of L1C is \" + crs_L1C)\n",
    "print(\"The EPSG of L2A is \" + crs_L2A)\n",
    "# In the case that L1C and L2A have different crs, give an error. But this shouldn't happen. \n",
    "if crs_L2A != crs_L1C:\n",
    "    raise SystemExit(\"Stop right there!\")\n",
    "crs_Final = 'EPSG:' + crs_L1C\n",
    "print(\"The final crs is \" + crs_Final)"
   ]
  },
  {
   "cell_type": "code",
   "execution_count": null,
   "metadata": {},
   "outputs": [
    {
     "data": {
      "text/html": [
       "<div>\n",
       "<style scoped>\n",
       "    .dataframe tbody tr th:only-of-type {\n",
       "        vertical-align: middle;\n",
       "    }\n",
       "\n",
       "    .dataframe tbody tr th {\n",
       "        vertical-align: top;\n",
       "    }\n",
       "\n",
       "    .dataframe thead th {\n",
       "        text-align: right;\n",
       "    }\n",
       "</style>\n",
       "<table border=\"1\" class=\"dataframe\">\n",
       "  <thead>\n",
       "    <tr style=\"text-align: right;\">\n",
       "      <th></th>\n",
       "      <th>Site</th>\n",
       "      <th>Latitude</th>\n",
       "      <th>Longitude</th>\n",
       "      <th>geometry</th>\n",
       "    </tr>\n",
       "  </thead>\n",
       "  <tbody>\n",
       "    <tr>\n",
       "      <th>0</th>\n",
       "      <td>UK</td>\n",
       "      <td>51.153498</td>\n",
       "      <td>-0.85831</td>\n",
       "      <td>POINT (649777.718 5669075.312)</td>\n",
       "    </tr>\n",
       "  </tbody>\n",
       "</table>\n",
       "</div>"
      ],
      "text/plain": [
       "  Site   Latitude  Longitude                        geometry\n",
       "0   UK  51.153498   -0.85831  POINT (649777.718 5669075.312)"
      ]
     },
     "execution_count": 171,
     "metadata": {},
     "output_type": "execute_result"
    }
   ],
   "source": [
    "# Converting Lon-Lat to UTM coordinates!\n",
    "# Attention that the CRS in USA for meter unit is 32618!!! Not 32632!!! \n",
    "gdf_New = gdf_4326.copy()\n",
    "gdf_New = gdf_New.to_crs(crs_Final)\n",
    "gdf_New"
   ]
  },
  {
   "cell_type": "markdown",
   "metadata": {},
   "source": [
    "### Now we assign the site location to a pixel in the image"
   ]
  },
  {
   "cell_type": "code",
   "execution_count": null,
   "metadata": {},
   "outputs": [
    {
     "name": "stdout",
     "output_type": "stream",
     "text": [
      "Site X, Y: 649777.7178763765,5669075.311861154\n"
     ]
    }
   ],
   "source": [
    "# First we retrieve the x, y coordinate of our site\n",
    "site_x = gdf_New.geometry.x.values[0]\n",
    "site_y = gdf_New.geometry.y.values[0]\n",
    "print(\"Site X, Y: \" + str(site_x) + \",\" + str(site_y))"
   ]
  },
  {
   "cell_type": "code",
   "execution_count": null,
   "metadata": {},
   "outputs": [
    {
     "name": "stdout",
     "output_type": "stream",
     "text": [
      "Site falls on the pixel: 3092, 4977\n"
     ]
    }
   ],
   "source": [
    "# Then we get the row, col of our site in the raster, so that we know the pixel the site belongs to\n",
    "site_row, site_col = image_L2A_B08.index(site_x, site_y)\n",
    "print(\"Site falls on the pixel: \" + str(site_row) + \", \" + str(site_col))"
   ]
  },
  {
   "cell_type": "code",
   "execution_count": null,
   "metadata": {},
   "outputs": [
    {
     "name": "stdout",
     "output_type": "stream",
     "text": [
      "The spatial coordinates of the (center) pixel which the site falls on is: 649775.0, 5669075.0\n"
     ]
    }
   ],
   "source": [
    "# Now we get the spatial coordinates of that pixel (coordinates of its center)\n",
    "site_pixel_x, site_pixel_y = image_L2A_B08.xy(site_row, site_col)\n",
    "print(\"The spatial coordinates of the (center) pixel which the site falls on is: \" + str(site_pixel_x) + \", \" + str(site_pixel_y))"
   ]
  },
  {
   "cell_type": "markdown",
   "metadata": {},
   "source": [
    "### Now we create four squares centered at our site pixel! "
   ]
  },
  {
   "cell_type": "code",
   "execution_count": null,
   "metadata": {},
   "outputs": [],
   "source": [
    "# Get the coordinates of the four corners\n",
    "# 10m\n",
    "site_x_left_10m = site_pixel_x - 5\n",
    "site_x_right_10m = site_pixel_x + 5\n",
    "site_y_top_10m = site_pixel_y + 5\n",
    "site_y_bottom_10m = site_pixel_y - 5\n",
    "# 30m\n",
    "site_x_left_30m = site_pixel_x - 15\n",
    "site_x_right_30m = site_pixel_x + 15\n",
    "site_y_top_30m = site_pixel_y + 15\n",
    "site_y_bottom_30m = site_pixel_y - 15\n",
    "# 100m\n",
    "site_x_left_100m = site_pixel_x - 55\n",
    "site_x_right_100m = site_pixel_x + 55\n",
    "site_y_top_100m = site_pixel_y + 55\n",
    "site_y_bottom_100m = site_pixel_y - 55\n",
    "# 100 * 1.5 = 150m\n",
    "site_x_left_150m = site_pixel_x - 75\n",
    "site_x_right_150m = site_pixel_x + 75\n",
    "site_y_top_150m = site_pixel_y + 75\n",
    "site_y_bottom_150m = site_pixel_y - 75\n",
    "# 300m\n",
    "site_x_left_300m = site_pixel_x - 155\n",
    "site_x_right_300m = site_pixel_x + 155\n",
    "site_y_top_300m = site_pixel_y + 155\n",
    "site_y_bottom_300m = site_pixel_y - 155\n",
    "# 300 * 1.5 = 450m\n",
    "site_x_left_450m = site_pixel_x - 225\n",
    "site_x_right_450m = site_pixel_x + 225\n",
    "site_y_top_450m = site_pixel_y + 225\n",
    "site_y_bottom_450m = site_pixel_y - 225\n",
    "# 600m\n",
    "site_x_left_600m = site_pixel_x - 305\n",
    "site_x_right_600m = site_pixel_x + 305\n",
    "site_y_top_600m = site_pixel_y + 305\n",
    "site_y_bottom_600m = site_pixel_y - 305\n",
    "# 900m\n",
    "site_x_left_900m = site_pixel_x - 455\n",
    "site_x_right_900m = site_pixel_x + 455\n",
    "site_y_top_900m = site_pixel_y + 455\n",
    "site_y_bottom_900m = site_pixel_y - 455\n",
    "# 900 * 1.5 = 1350m\n",
    "site_x_left_1350m = site_pixel_x - 675\n",
    "site_x_right_1350m = site_pixel_x + 675\n",
    "site_y_top_1350m = site_pixel_y + 675\n",
    "site_y_bottom_1350m = site_pixel_y - 675\n",
    "# 1200m\n",
    "site_x_left_1200m = site_pixel_x - 605\n",
    "site_x_right_1200m = site_pixel_x + 605\n",
    "site_y_top_1200m = site_pixel_y + 605\n",
    "site_y_bottom_1200m = site_pixel_y - 605\n",
    "# 1800m\n",
    "site_x_left_1800m = site_pixel_x - 905\n",
    "site_x_right_1800m = site_pixel_x + 905\n",
    "site_y_top_1800m = site_pixel_y + 905\n",
    "site_y_bottom_1800m = site_pixel_y - 905\n",
    "# 2500m\n",
    "site_x_left_2500m = site_pixel_x - 1255\n",
    "site_x_right_2500m = site_pixel_x + 1255\n",
    "site_y_top_2500m = site_pixel_y + 1255\n",
    "site_y_bottom_2500m = site_pixel_y - 1255"
   ]
  },
  {
   "cell_type": "code",
   "execution_count": null,
   "metadata": {},
   "outputs": [],
   "source": [
    "# Now we need to form squares shapefile, which will be the internal area of which we will evaluate the spatial representativeness. \n",
    "shp_10m = shp.box(site_x_left_10m, site_y_bottom_10m, site_x_right_10m, site_y_top_10m)\n",
    "gdf_10m = gpd.GeoDataFrame(\n",
    "    pd.DataFrame({\"0\": [\"0\"]}),\n",
    "    geometry=[shp_10m],\n",
    "    crs = crs_Final\n",
    ")\n",
    "shp_30m = shp.box(site_x_left_30m, site_y_bottom_30m, site_x_right_30m, site_y_top_30m)\n",
    "gdf_30m = gpd.GeoDataFrame(\n",
    "    pd.DataFrame({\"0\": [\"0\"]}),\n",
    "    geometry=[shp_30m],\n",
    "    crs = crs_Final\n",
    ")\n",
    "shp_100m = shp.box(site_x_left_100m, site_y_bottom_100m, site_x_right_100m, site_y_top_100m)\n",
    "gdf_100m = gpd.GeoDataFrame(\n",
    "    pd.DataFrame({\"0\": [\"0\"]}),\n",
    "    geometry=[shp_100m],\n",
    "    crs = crs_Final\n",
    ")\n",
    "shp_150m = shp.box(site_x_left_150m, site_y_bottom_150m, site_x_right_150m, site_y_top_150m)\n",
    "gdf_150m = gpd.GeoDataFrame(\n",
    "    pd.DataFrame({\"0\": [\"0\"]}),\n",
    "    geometry=[shp_150m],\n",
    "    crs = crs_Final\n",
    ")\n",
    "shp_300m = shp.box(site_x_left_300m, site_y_bottom_300m, site_x_right_300m, site_y_top_300m)\n",
    "gdf_300m = gpd.GeoDataFrame(\n",
    "    pd.DataFrame({\"0\": [\"0\"]}),\n",
    "    geometry=[shp_300m],\n",
    "    crs = crs_Final\n",
    ")\n",
    "shp_450m = shp.box(site_x_left_450m, site_y_bottom_450m, site_x_right_450m, site_y_top_450m)\n",
    "gdf_450m = gpd.GeoDataFrame(\n",
    "    pd.DataFrame({\"0\": [\"0\"]}),\n",
    "    geometry=[shp_450m],\n",
    "    crs = crs_Final\n",
    ")\n",
    "shp_600m = shp.box(site_x_left_600m, site_y_bottom_600m, site_x_right_600m, site_y_top_600m)\n",
    "gdf_600m = gpd.GeoDataFrame(\n",
    "    pd.DataFrame({\"0\": [\"0\"]}),\n",
    "    geometry=[shp_600m],\n",
    "    crs = crs_Final\n",
    ")\n",
    "shp_900m = shp.box(site_x_left_900m, site_y_bottom_900m, site_x_right_900m, site_y_top_900m)\n",
    "gdf_900m = gpd.GeoDataFrame(\n",
    "    pd.DataFrame({\"0\": [\"0\"]}),\n",
    "    geometry=[shp_900m],\n",
    "    crs = crs_Final\n",
    ")\n",
    "shp_1350m = shp.box(site_x_left_1350m, site_y_bottom_1350m, site_x_right_1350m, site_y_top_1350m)\n",
    "gdf_1350m = gpd.GeoDataFrame(\n",
    "    pd.DataFrame({\"0\": [\"0\"]}),\n",
    "    geometry=[shp_1350m],\n",
    "    crs = crs_Final\n",
    ")\n",
    "shp_1200m = shp.box(site_x_left_1200m, site_y_bottom_1200m, site_x_right_1200m, site_y_top_1200m)\n",
    "gdf_1200m = gpd.GeoDataFrame(\n",
    "    pd.DataFrame({\"0\": [\"0\"]}),\n",
    "    geometry=[shp_1200m],\n",
    "    crs = crs_Final\n",
    ")\n",
    "shp_1800m = shp.box(site_x_left_1800m, site_y_bottom_1800m, site_x_right_1800m, site_y_top_1800m)\n",
    "gdf_1800m = gpd.GeoDataFrame(\n",
    "    pd.DataFrame({\"0\": [\"0\"]}),\n",
    "    geometry=[shp_1800m],\n",
    "    crs = crs_Final\n",
    ")\n",
    "shp_2500m = shp.box(site_x_left_2500m, site_y_bottom_2500m, site_x_right_2500m, site_y_top_2500m)\n",
    "gdf_2500m = gpd.GeoDataFrame(\n",
    "    pd.DataFrame({\"0\": [\"0\"]}),\n",
    "    geometry=[shp_2500m],\n",
    "    crs = crs_Final\n",
    ")"
   ]
  },
  {
   "cell_type": "markdown",
   "metadata": {},
   "source": [
    "### Calculate NDVI based on the L2A image! This calculation is performed on the entire image, and the image cropping will be performed later. "
   ]
  },
  {
   "cell_type": "code",
   "execution_count": null,
   "metadata": {},
   "outputs": [],
   "source": [
    "# Read the DS xml file of L2A\n",
    "with open(path_L2A_xml_DS, 'r') as f:\n",
    "    data = f.read()\n",
    "BS_L2A_dS = BeautifulSoup(data, \"xml\")"
   ]
  },
  {
   "cell_type": "code",
   "execution_count": null,
   "metadata": {},
   "outputs": [],
   "source": [
    "# Get the quantification value! \n",
    "quantification_L2A = int(BS_L2A_dS.find(\"BOA_QUANTIFICATION_VALUE\").text)\n",
    "# Get the radiometric offset!\n",
    "offset_L2A_B04 = int(BS_L2A_dS.find(\"BOA_ADD_OFFSET\", {\"band_id\": \"3\"}).text)\n",
    "offset_L2A_B08 = int(BS_L2A_dS.find(\"BOA_ADD_OFFSET\", {\"band_id\": \"7\"}).text)"
   ]
  },
  {
   "cell_type": "code",
   "execution_count": null,
   "metadata": {},
   "outputs": [
    {
     "name": "stderr",
     "output_type": "stream",
     "text": [
      "C:\\Users\\m1865\\AppData\\Local\\Temp\\ipykernel_16736\\3502011535.py:2: RuntimeWarning: divide by zero encountered in divide\n",
      "  NDVI = ((values_L2A_B08 + offset_L2A_B08).astype(float) / quantification_L2A - (values_L2A_B04 + offset_L2A_B04).astype(float) / quantification_L2A) / ((values_L2A_B08 + offset_L2A_B08).astype(float) / quantification_L2A + (values_L2A_B04 + offset_L2A_B04).astype(float) / quantification_L2A )\n"
     ]
    },
    {
     "data": {
      "text/plain": [
       "array([[ 0.37312675,  0.51754386,  0.6483352 , ...,  0.30312036,\n",
       "         0.54892966,  0.73610263],\n",
       "       [ 0.45827901,  0.6887841 ,  0.90678503, ...,  0.31873161,\n",
       "         0.54988747,  0.60193392],\n",
       "       [ 0.5473613 ,  0.79496534,  0.88149092, ...,  0.33169877,\n",
       "         0.43442002,  0.46355685],\n",
       "       ...,\n",
       "       [-0.10132159, -0.07597536, -0.05555556, ..., -0.02760736,\n",
       "        -0.01689708, -0.04049844],\n",
       "       [-0.12698413, -0.12273642, -0.03433476, ..., -0.0177706 ,\n",
       "        -0.03140496,  0.00826446],\n",
       "       [-0.10019646, -0.1372549 , -0.13717694, ..., -0.03409091,\n",
       "        -0.04347826, -0.02588997]])"
      ]
     },
     "execution_count": 179,
     "metadata": {},
     "output_type": "execute_result"
    }
   ],
   "source": [
    "# Calculate NDVI of L2A! \n",
    "NDVI = ((values_L2A_B08 + offset_L2A_B08).astype(float) / quantification_L2A - (values_L2A_B04 + offset_L2A_B04).astype(float) / quantification_L2A) / ((values_L2A_B08 + offset_L2A_B08).astype(float) / quantification_L2A + (values_L2A_B04 + offset_L2A_B04).astype(float) / quantification_L2A )\n",
    "NDVI"
   ]
  },
  {
   "cell_type": "code",
   "execution_count": null,
   "metadata": {},
   "outputs": [],
   "source": [
    "src = image_L2A_B04\n",
    "out_meta = src.meta\n",
    "out_meta.update({\n",
    "    \"driver\": \"GTiff\",\n",
    "    \"dtype\": 'float64'\n",
    "})\n",
    "with rio.open(cwd_Images_Processed + \"\\\\\" + site_Name + \"\\\\NDVI.tif\", 'w', **out_meta) as dest:\n",
    "    dest.write(NDVI, 1)"
   ]
  },
  {
   "cell_type": "markdown",
   "metadata": {},
   "source": [
    "### Parse XML file of L1C images! We start with MTD_DS.xml which is easier to parse. "
   ]
  },
  {
   "cell_type": "code",
   "execution_count": null,
   "metadata": {},
   "outputs": [],
   "source": [
    "# Read the DS xml file of L1C\n",
    "with open(path_L1C_xml_DS, 'r') as f:\n",
    "    data = f.read()\n",
    "BS_L1C_dS = BeautifulSoup(data, \"xml\")"
   ]
  },
  {
   "cell_type": "code",
   "execution_count": null,
   "metadata": {},
   "outputs": [],
   "source": [
    "# Get the quantification value! \n",
    "quantification_L1C = int(BS_L1C_dS.find(\"QUANTIFICATION_VALUE\").text)\n",
    "# Get the radiometric offset!\n",
    "offset_L1C = int(BS_L1C_dS.find(\"RADIO_ADD_OFFSET\", {\"band_id\": \"7\"}).text)\n",
    "# Get the U\n",
    "U_L1C = float(BS_L1C_dS.find(\"U\").text)\n",
    "# Get the solar irradiance\n",
    "SolarIrr = float(BS_L1C_dS.find(\"SOLAR_IRRADIANCE\", {\"bandId\": \"7\"}).text)"
   ]
  },
  {
   "cell_type": "markdown",
   "metadata": {},
   "source": [
    "### Now we parse MTD_TL.xml to get the sun zenith angle! "
   ]
  },
  {
   "cell_type": "code",
   "execution_count": null,
   "metadata": {},
   "outputs": [],
   "source": [
    "# Read the TL xml file of L1C\n",
    "with open(path_L1C_xml_TL, 'r') as f:\n",
    "    data = f.read()\n",
    "BS_L1C_dS = BeautifulSoup(data, \"xml\")"
   ]
  },
  {
   "cell_type": "code",
   "execution_count": null,
   "metadata": {},
   "outputs": [
    {
     "data": {
      "text/plain": [
       "(23, 23)"
      ]
     },
     "execution_count": 184,
     "metadata": {},
     "output_type": "execute_result"
    }
   ],
   "source": [
    "# Get the sun zenith angle! There should be a 23 x 23 arrays in the xml. Now we save each row as an array and keep all these arrays into a list\n",
    "list_SunZenith = []\n",
    "for row in BS_L1C_dS.find(\"Sun_Angles_Grid\").find(\"Zenith\").find_all(\"VALUES\"):\n",
    "    temp_List = row.text.split(\" \")\n",
    "    temp_Arr = np.array(temp_List)\n",
    "    temp_Arr = temp_Arr.astype(float)\n",
    "    list_SunZenith.append(temp_Arr)\n",
    "# Now we stack these nested-in-list arrays into a 2d array\n",
    "index = 0\n",
    "for arr in list_SunZenith:\n",
    "    if index == 0:\n",
    "        arr_SunZenith = arr\n",
    "    else:\n",
    "        arr_SunZenith = np.vstack((arr_SunZenith, arr))\n",
    "    index = index + 1\n",
    "arr_SunZenith.shape"
   ]
  },
  {
   "cell_type": "markdown",
   "metadata": {},
   "source": [
    "### Now since that we have retrieved the sun zenith angle, we have to assign that value to each pixel, due to the different spatial resolution. "
   ]
  },
  {
   "cell_type": "code",
   "execution_count": null,
   "metadata": {},
   "outputs": [
    {
     "data": {
      "text/plain": [
       "(10980, 10980)"
      ]
     },
     "execution_count": 185,
     "metadata": {},
     "output_type": "execute_result"
    }
   ],
   "source": [
    "# Get the shape of L1C image, which should be (10980, 10980)\n",
    "shape_L1C = values_L1C_B08.shape\n",
    "shape_L1C"
   ]
  },
  {
   "cell_type": "code",
   "execution_count": null,
   "metadata": {},
   "outputs": [
    {
     "data": {
      "text/plain": [
       "(11500, 11500)"
      ]
     },
     "execution_count": 186,
     "metadata": {},
     "output_type": "execute_result"
    }
   ],
   "source": [
    "# Repeat each element of sun zenith angle array, in both axies. The final array should have a shape of (11500, 11500)\n",
    "arr_SunZenith_Repeat = np.repeat(arr_SunZenith, 500, axis = 1)\n",
    "arr_SunZenith_Repeat = np.repeat(arr_SunZenith_Repeat, 500, axis = 0)\n",
    "arr_SunZenith_Repeat.shape"
   ]
  },
  {
   "cell_type": "code",
   "execution_count": null,
   "metadata": {},
   "outputs": [
    {
     "data": {
      "text/plain": [
       "(10980, 10980)"
      ]
     },
     "execution_count": 187,
     "metadata": {},
     "output_type": "execute_result"
    }
   ],
   "source": [
    "# Index only the first 10980 of each dimension\n",
    "arr_SunZenith_Assigned = arr_SunZenith_Repeat[0:shape_L1C[0], 0:shape_L1C[1]]\n",
    "arr_SunZenith_Assigned.shape"
   ]
  },
  {
   "cell_type": "markdown",
   "metadata": {},
   "source": [
    "### Now, finally we can calculate the radiance of L1C from reflectance"
   ]
  },
  {
   "cell_type": "code",
   "execution_count": null,
   "metadata": {},
   "outputs": [
    {
     "data": {
      "text/plain": [
       "array([[70.4964549 , 63.92309916, 59.27161439, ..., 46.41659717,\n",
       "        52.17672911, 69.54101035],\n",
       "       [59.99579765, 65.73355731, 76.40133377, ..., 51.92507286,\n",
       "        53.01558328, 51.33787495],\n",
       "       [61.05421933, 64.64728242, 75.20364608, ..., 49.49239578,\n",
       "        49.32462495, 46.47252079],\n",
       "       ...,\n",
       "       [ 8.45538504,  8.90484072,  8.82056778, ..., 11.13858645,\n",
       "        11.19498435, 10.94119378],\n",
       "       [ 8.7924768 ,  8.76438582,  8.90484072, ..., 10.85659692,\n",
       "        10.63100529, 10.88479587],\n",
       "       [ 8.98911366,  8.7924768 ,  8.73629484, ..., 11.61796865,\n",
       "        11.39237702, 10.80019901]])"
      ]
     },
     "execution_count": 188,
     "metadata": {},
     "output_type": "execute_result"
    }
   ],
   "source": [
    "# radiance = reflectance * cos(radians(SunZenithAngle)) * solarIrradiance * U / pi\n",
    "radiance = (values_L1C_B08 + offset_L1C).astype(float)  * np.cos(np.radians(arr_SunZenith_Assigned)) * SolarIrr / quantification_L1C / (math.pi * (1 / U_L1C))\n",
    "radiance "
   ]
  },
  {
   "cell_type": "markdown",
   "metadata": {},
   "source": [
    "### Now we finally calculate the NDVI * Rad"
   ]
  },
  {
   "cell_type": "code",
   "execution_count": null,
   "metadata": {},
   "outputs": [
    {
     "data": {
      "text/plain": [
       "array([[26.30411284, 33.08300746, 38.4278742 , ..., 14.06981549,\n",
       "        28.64135436, 51.18932038],\n",
       "       [27.4948147 , 45.27622927, 69.27958611, ..., 16.55016216,\n",
       "        29.15260506, 30.90200853],\n",
       "       [33.41871681, 51.39234892, 66.29133122, ..., 16.41656701,\n",
       "        21.42760432, 21.54265541],\n",
       "       ...,\n",
       "       [-0.85671302, -0.67654847, -0.49003154, ..., -0.30750699,\n",
       "        -0.18916256, -0.44310131],\n",
       "       [-1.11650499, -1.07570933, -0.3057456 , ..., -0.19292822,\n",
       "        -0.33386628,  0.08995699],\n",
       "       [-0.9006774 , -1.20681054, -1.19841818, ..., -0.39606711,\n",
       "        -0.49532074, -0.2796168 ]])"
      ]
     },
     "execution_count": 189,
     "metadata": {},
     "output_type": "execute_result"
    }
   ],
   "source": [
    "NIRv = NDVI * radiance\n",
    "NIRv"
   ]
  },
  {
   "cell_type": "code",
   "execution_count": null,
   "metadata": {},
   "outputs": [],
   "source": [
    "src = image_L1C_B08\n",
    "out_meta = src.meta\n",
    "out_meta.update({\n",
    "    \"driver\": \"GTiff\",\n",
    "    \"dtype\": 'float64'\n",
    "})\n",
    "with rio.open(cwd_Images_Processed + \"\\\\\" + site_Name + \"\\\\NIRv.tif\", 'w', **out_meta) as dest:\n",
    "    dest.write(NIRv, 1)"
   ]
  },
  {
   "cell_type": "markdown",
   "metadata": {},
   "source": [
    "### Cropping! "
   ]
  },
  {
   "cell_type": "code",
   "execution_count": null,
   "metadata": {},
   "outputs": [],
   "source": [
    "list_Distance = ['10m','30m','100m','150m','300m','450m','600m','900m','1350m','1200m','1800m','2500m']\n",
    "list_GDF = [gdf_10m,gdf_30m,gdf_100m,gdf_150m,gdf_300m,gdf_450m,gdf_600m,gdf_900m,gdf_1350m,gdf_1200m,gdf_1800m,gdf_2500m]"
   ]
  },
  {
   "cell_type": "code",
   "execution_count": null,
   "metadata": {},
   "outputs": [],
   "source": [
    "for index in range(len(list_Distance)):\n",
    "    temp_Distance = list_Distance[index]\n",
    "    temp_GDF = list_GDF[index]\n",
    "    src = rio.open(cwd_Images_Processed + \"\\\\\" + site_Name + \"\\\\NIRv.tif\")\n",
    "    out_image, out_transform = rio.mask.mask(src, temp_GDF.geometry, crop=True)\n",
    "    out_meta = src.meta\n",
    "    out_meta.update({\"driver\": \"GTiff\",\n",
    "                    \"height\": out_image.shape[1],\n",
    "                    \"width\": out_image.shape[2],\n",
    "                    \"transform\": out_transform})\n",
    "\n",
    "    with rio.open(cwd_Images_Processed + \"\\\\\" + site_Name + \"\\\\NIRv \" + temp_Distance + \".tif\", \"w\", **out_meta) as dest:\n",
    "        dest.write(out_image)"
   ]
  },
  {
   "cell_type": "code",
   "execution_count": null,
   "metadata": {},
   "outputs": [],
   "source": [
    "### RESAMPLE\n",
    "from rasterio.enums import Resampling\n",
    "\n",
    "# Resample 1800m (10m pixel -> 20m pixel)\n",
    "\n",
    "scale_factor = 0.5\n",
    "\n",
    "with rasterio.open(cwd_Images_Processed + \"\\\\\" + site_Name + \"\\\\Nirv 1800m.tif\") as dataset:\n",
    "\n",
    "    # resample data to target shape\n",
    "    data = dataset.read(\n",
    "        out_shape=(\n",
    "            dataset.count,\n",
    "            int(dataset.height * scale_factor),\n",
    "            int(dataset.width * scale_factor)\n",
    "        ),\n",
    "        resampling=Resampling.lanczos\n",
    "    )\n",
    "\n",
    "    # scale image transform\n",
    "    transform = dataset.transform * dataset.transform.scale(\n",
    "        (dataset.width / data.shape[-1]),\n",
    "        (dataset.height / data.shape[-2])\n",
    "    )\n",
    "\n",
    "    out_meta = dataset.meta\n",
    "    out_meta.update({\n",
    "        \"height\": data.shape[-2],\n",
    "        \"width\": data.shape[-1],\n",
    "        \"transform\": transform\n",
    "        })\n",
    "\n",
    "    with rio.open(cwd_Images_Processed + \"\\\\\" + site_Name + \"\\\\Nirv 1800m RE.tif\", \"w\", **out_meta) as dest:\n",
    "        dest.write(out_image)"
   ]
  },
  {
   "cell_type": "markdown",
   "metadata": {},
   "source": [
    "### Bonus: Export those shapefile to local storage for future visualization"
   ]
  },
  {
   "cell_type": "code",
   "execution_count": null,
   "metadata": {},
   "outputs": [],
   "source": [
    "for i in range(len(list_Distance)):\n",
    "    list_GDF[i].to_file(cwd_Images_Processed + \"\\\\\" + site_Name + \"\\\\\" + list_Distance[i] + \".shp\")"
   ]
  },
  {
   "cell_type": "code",
   "execution_count": null,
   "metadata": {},
   "outputs": [
    {
     "ename": "",
     "evalue": "",
     "output_type": "error",
     "traceback": [
      "\u001b[1;31mThe Kernel crashed while executing code in the current cell or a previous cell. \n",
      "\u001b[1;31mPlease review the code in the cell(s) to identify a possible cause of the failure. \n",
      "\u001b[1;31mClick <a href='https://aka.ms/vscodeJupyterKernelCrash'>here</a> for more info. \n",
      "\u001b[1;31mView Jupyter <a href='command:jupyter.viewOutput'>log</a> for further details."
     ]
    }
   ],
   "source": [
    "gdf_4326.to_file(cwd_Images_Processed + \"\\\\\" + site_Name + \"\\\\\" + \"site.shp\")"
   ]
  },
  {
   "cell_type": "code",
   "execution_count": null,
   "metadata": {},
   "outputs": [],
   "source": []
  }
 ],
 "metadata": {
  "kernelspec": {
   "display_name": "DISC",
   "language": "python",
   "name": "python3"
  },
  "language_info": {
   "codemirror_mode": {
    "name": "ipython",
    "version": 3
   },
   "file_extension": ".py",
   "mimetype": "text/x-python",
   "name": "python",
   "nbconvert_exporter": "python",
   "pygments_lexer": "ipython3",
   "version": "3.12.3"
  }
 },
 "nbformat": 4,
 "nbformat_minor": 2
}
