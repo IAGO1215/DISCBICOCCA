{
 "cells": [
  {
   "cell_type": "code",
   "execution_count": 3,
   "metadata": {},
   "outputs": [],
   "source": [
    "import os\n",
    "import numpy as np\n",
    "import pandas as pd\n",
    "import matplotlib.pyplot as plt\n",
    "import seaborn as sns"
   ]
  },
  {
   "cell_type": "code",
   "execution_count": 2,
   "metadata": {},
   "outputs": [],
   "source": [
    "# \n",
    "cwd = \"..\\\\..\\\\\"\n",
    "cwd_Images_Raw = cwd + \"\\\\Sentinel-2 Images Raw\"\n",
    "cwd_Images_Processed = cwd + \"\\\\Sentinel-2 Images Processed\""
   ]
  },
  {
   "cell_type": "code",
   "execution_count": 50,
   "metadata": {},
   "outputs": [
    {
     "data": {
      "text/html": [
       "<div>\n",
       "<style scoped>\n",
       "    .dataframe tbody tr th:only-of-type {\n",
       "        vertical-align: middle;\n",
       "    }\n",
       "\n",
       "    .dataframe tbody tr th {\n",
       "        vertical-align: top;\n",
       "    }\n",
       "\n",
       "    .dataframe thead th {\n",
       "        text-align: right;\n",
       "    }\n",
       "</style>\n",
       "<table border=\"1\" class=\"dataframe\">\n",
       "  <thead>\n",
       "    <tr style=\"text-align: right;\">\n",
       "      <th></th>\n",
       "      <th>Site</th>\n",
       "      <th>Distance</th>\n",
       "      <th>STD</th>\n",
       "      <th>CV</th>\n",
       "      <th>Range</th>\n",
       "      <th>Sill</th>\n",
       "      <th>Nugget</th>\n",
       "    </tr>\n",
       "  </thead>\n",
       "  <tbody>\n",
       "    <tr>\n",
       "      <th>0</th>\n",
       "      <td>ATGE</td>\n",
       "      <td>30</td>\n",
       "      <td>10.292980</td>\n",
       "      <td>0.256794</td>\n",
       "      <td>20.000000</td>\n",
       "      <td>71.762211</td>\n",
       "      <td>3.570080e+01</td>\n",
       "    </tr>\n",
       "    <tr>\n",
       "      <th>1</th>\n",
       "      <td>ATGE</td>\n",
       "      <td>100</td>\n",
       "      <td>15.866641</td>\n",
       "      <td>0.478179</td>\n",
       "      <td>70.000000</td>\n",
       "      <td>267.887789</td>\n",
       "      <td>5.104219e-14</td>\n",
       "    </tr>\n",
       "    <tr>\n",
       "      <th>2</th>\n",
       "      <td>ATGE</td>\n",
       "      <td>300</td>\n",
       "      <td>20.748732</td>\n",
       "      <td>0.428943</td>\n",
       "      <td>104.664412</td>\n",
       "      <td>449.836840</td>\n",
       "      <td>6.333086e+01</td>\n",
       "    </tr>\n",
       "    <tr>\n",
       "      <th>3</th>\n",
       "      <td>ATGE</td>\n",
       "      <td>600</td>\n",
       "      <td>21.184529</td>\n",
       "      <td>0.505233</td>\n",
       "      <td>227.522937</td>\n",
       "      <td>453.765630</td>\n",
       "      <td>9.937431e+01</td>\n",
       "    </tr>\n",
       "    <tr>\n",
       "      <th>4</th>\n",
       "      <td>ATGE</td>\n",
       "      <td>900</td>\n",
       "      <td>20.035755</td>\n",
       "      <td>0.502820</td>\n",
       "      <td>345.097181</td>\n",
       "      <td>438.814722</td>\n",
       "      <td>1.064037e+02</td>\n",
       "    </tr>\n",
       "  </tbody>\n",
       "</table>\n",
       "</div>"
      ],
      "text/plain": [
       "   Site  Distance        STD        CV       Range        Sill        Nugget\n",
       "0  ATGE        30  10.292980  0.256794   20.000000   71.762211  3.570080e+01\n",
       "1  ATGE       100  15.866641  0.478179   70.000000  267.887789  5.104219e-14\n",
       "2  ATGE       300  20.748732  0.428943  104.664412  449.836840  6.333086e+01\n",
       "3  ATGE       600  21.184529  0.505233  227.522937  453.765630  9.937431e+01\n",
       "4  ATGE       900  20.035755  0.502820  345.097181  438.814722  1.064037e+02"
      ]
     },
     "execution_count": 50,
     "metadata": {},
     "output_type": "execute_result"
    }
   ],
   "source": [
    "df = pd.read_csv(cwd + \"\\\\Results\\\\Variogram.csv\")\n",
    "df.head()"
   ]
  },
  {
   "cell_type": "markdown",
   "metadata": {},
   "source": [
    "## 30m"
   ]
  },
  {
   "cell_type": "code",
   "execution_count": 51,
   "metadata": {},
   "outputs": [
    {
     "data": {
      "text/html": [
       "<div>\n",
       "<style scoped>\n",
       "    .dataframe tbody tr th:only-of-type {\n",
       "        vertical-align: middle;\n",
       "    }\n",
       "\n",
       "    .dataframe tbody tr th {\n",
       "        vertical-align: top;\n",
       "    }\n",
       "\n",
       "    .dataframe thead th {\n",
       "        text-align: right;\n",
       "    }\n",
       "</style>\n",
       "<table border=\"1\" class=\"dataframe\">\n",
       "  <thead>\n",
       "    <tr style=\"text-align: right;\">\n",
       "      <th></th>\n",
       "      <th>Distance</th>\n",
       "      <th>STD</th>\n",
       "      <th>CV</th>\n",
       "      <th>Range</th>\n",
       "      <th>Sill</th>\n",
       "      <th>Nugget</th>\n",
       "    </tr>\n",
       "  </thead>\n",
       "  <tbody>\n",
       "    <tr>\n",
       "      <th>count</th>\n",
       "      <td>101.0</td>\n",
       "      <td>101.000000</td>\n",
       "      <td>101.000000</td>\n",
       "      <td>1.010000e+02</td>\n",
       "      <td>101.000000</td>\n",
       "      <td>101.000000</td>\n",
       "    </tr>\n",
       "    <tr>\n",
       "      <th>mean</th>\n",
       "      <td>30.0</td>\n",
       "      <td>3.768102</td>\n",
       "      <td>0.102031</td>\n",
       "      <td>2.000000e+01</td>\n",
       "      <td>18.643988</td>\n",
       "      <td>9.275150</td>\n",
       "    </tr>\n",
       "    <tr>\n",
       "      <th>std</th>\n",
       "      <td>0.0</td>\n",
       "      <td>2.968823</td>\n",
       "      <td>0.076856</td>\n",
       "      <td>1.785217e-14</td>\n",
       "      <td>29.844945</td>\n",
       "      <td>14.847485</td>\n",
       "    </tr>\n",
       "    <tr>\n",
       "      <th>min</th>\n",
       "      <td>30.0</td>\n",
       "      <td>0.107388</td>\n",
       "      <td>0.008956</td>\n",
       "      <td>2.000000e+01</td>\n",
       "      <td>0.013728</td>\n",
       "      <td>0.006829</td>\n",
       "    </tr>\n",
       "    <tr>\n",
       "      <th>25%</th>\n",
       "      <td>30.0</td>\n",
       "      <td>1.730402</td>\n",
       "      <td>0.048808</td>\n",
       "      <td>2.000000e+01</td>\n",
       "      <td>2.729789</td>\n",
       "      <td>1.358036</td>\n",
       "    </tr>\n",
       "    <tr>\n",
       "      <th>50%</th>\n",
       "      <td>30.0</td>\n",
       "      <td>3.060580</td>\n",
       "      <td>0.082582</td>\n",
       "      <td>2.000000e+01</td>\n",
       "      <td>7.615766</td>\n",
       "      <td>3.788748</td>\n",
       "    </tr>\n",
       "    <tr>\n",
       "      <th>75%</th>\n",
       "      <td>30.0</td>\n",
       "      <td>4.644997</td>\n",
       "      <td>0.129940</td>\n",
       "      <td>2.000000e+01</td>\n",
       "      <td>16.804900</td>\n",
       "      <td>8.360227</td>\n",
       "    </tr>\n",
       "    <tr>\n",
       "      <th>max</th>\n",
       "      <td>30.0</td>\n",
       "      <td>13.180999</td>\n",
       "      <td>0.413030</td>\n",
       "      <td>2.000000e+01</td>\n",
       "      <td>136.224373</td>\n",
       "      <td>67.769914</td>\n",
       "    </tr>\n",
       "  </tbody>\n",
       "</table>\n",
       "</div>"
      ],
      "text/plain": [
       "       Distance         STD          CV         Range        Sill      Nugget\n",
       "count     101.0  101.000000  101.000000  1.010000e+02  101.000000  101.000000\n",
       "mean       30.0    3.768102    0.102031  2.000000e+01   18.643988    9.275150\n",
       "std         0.0    2.968823    0.076856  1.785217e-14   29.844945   14.847485\n",
       "min        30.0    0.107388    0.008956  2.000000e+01    0.013728    0.006829\n",
       "25%        30.0    1.730402    0.048808  2.000000e+01    2.729789    1.358036\n",
       "50%        30.0    3.060580    0.082582  2.000000e+01    7.615766    3.788748\n",
       "75%        30.0    4.644997    0.129940  2.000000e+01   16.804900    8.360227\n",
       "max        30.0   13.180999    0.413030  2.000000e+01  136.224373   67.769914"
      ]
     },
     "execution_count": 51,
     "metadata": {},
     "output_type": "execute_result"
    }
   ],
   "source": [
    "df_30 = df[df['Distance'] == 30].reset_index(drop = True)\n",
    "df_30.describe()"
   ]
  },
  {
   "cell_type": "code",
   "execution_count": 52,
   "metadata": {},
   "outputs": [
    {
     "data": {
      "text/plain": [
       "[0.0, 0.1, 0.2, 0.3, 0.4, 0.5]"
      ]
     },
     "execution_count": 52,
     "metadata": {},
     "output_type": "execute_result"
    }
   ],
   "source": [
    "x_ticks_array = [float(i)/10 for i in range(0,6)]\n",
    "x_ticks_array"
   ]
  },
  {
   "cell_type": "code",
   "execution_count": 53,
   "metadata": {},
   "outputs": [
    {
     "data": {
      "image/png": "[encoded data removed]",
      "text/plain": [
       "<Figure size 1000x500 with 1 Axes>"
      ]
     },
     "metadata": {},
     "output_type": "display_data"
    }
   ],
   "source": [
    "plt.figure(figsize=(10,5))\n",
    "plt.xticks(x_ticks_array)\n",
    "data = df_30['CV']\n",
    "ax = sns.histplot(data, bins=x_ticks_array, kde = False)\n",
    "plt.xlabel('Coefficient of Variation')\n",
    "plt.ylabel('Frequency')\n",
    "plt.grid()\n",
    "plt.show()"
   ]
  },
  {
   "cell_type": "markdown",
   "metadata": {},
   "source": [
    "## Sill"
   ]
  },
  {
   "cell_type": "code",
   "execution_count": 54,
   "metadata": {},
   "outputs": [],
   "source": [
    "x_ticks_array = [i for i in range(0,150,10)]"
   ]
  },
  {
   "cell_type": "code",
   "execution_count": 55,
   "metadata": {},
   "outputs": [
    {
     "data": {
      "image/png": "[encoded data removed]",
      "text/plain": [
       "<Figure size 1000x500 with 1 Axes>"
      ]
     },
     "metadata": {},
     "output_type": "display_data"
    }
   ],
   "source": [
    "plt.figure(figsize=(10,5))\n",
    "plt.xticks(x_ticks_array)\n",
    "data = df_30['Sill']\n",
    "ax = sns.histplot(data, bins=x_ticks_array, kde = False)\n",
    "plt.xlabel('Sill')\n",
    "plt.ylabel('Frequency')\n",
    "plt.grid()\n",
    "plt.show()"
   ]
  },
  {
   "cell_type": "markdown",
   "metadata": {},
   "source": [
    "# 300m"
   ]
  },
  {
   "cell_type": "code",
   "execution_count": 82,
   "metadata": {},
   "outputs": [
    {
     "data": {
      "text/html": [
       "<div>\n",
       "<style scoped>\n",
       "    .dataframe tbody tr th:only-of-type {\n",
       "        vertical-align: middle;\n",
       "    }\n",
       "\n",
       "    .dataframe tbody tr th {\n",
       "        vertical-align: top;\n",
       "    }\n",
       "\n",
       "    .dataframe thead th {\n",
       "        text-align: right;\n",
       "    }\n",
       "</style>\n",
       "<table border=\"1\" class=\"dataframe\">\n",
       "  <thead>\n",
       "    <tr style=\"text-align: right;\">\n",
       "      <th></th>\n",
       "      <th>Distance</th>\n",
       "      <th>STD</th>\n",
       "      <th>CV</th>\n",
       "      <th>Range</th>\n",
       "      <th>Sill</th>\n",
       "      <th>Nugget</th>\n",
       "    </tr>\n",
       "  </thead>\n",
       "  <tbody>\n",
       "    <tr>\n",
       "      <th>count</th>\n",
       "      <td>101.0</td>\n",
       "      <td>101.000000</td>\n",
       "      <td>101.000000</td>\n",
       "      <td>101.000000</td>\n",
       "      <td>101.000000</td>\n",
       "      <td>1.010000e+02</td>\n",
       "    </tr>\n",
       "    <tr>\n",
       "      <th>mean</th>\n",
       "      <td>300.0</td>\n",
       "      <td>9.456780</td>\n",
       "      <td>0.248033</td>\n",
       "      <td>153.302237</td>\n",
       "      <td>161.948758</td>\n",
       "      <td>1.225567e+01</td>\n",
       "    </tr>\n",
       "    <tr>\n",
       "      <th>std</th>\n",
       "      <td>0.0</td>\n",
       "      <td>7.763796</td>\n",
       "      <td>0.228593</td>\n",
       "      <td>58.568874</td>\n",
       "      <td>313.560306</td>\n",
       "      <td>1.930507e+01</td>\n",
       "    </tr>\n",
       "    <tr>\n",
       "      <th>min</th>\n",
       "      <td>300.0</td>\n",
       "      <td>0.300380</td>\n",
       "      <td>0.045821</td>\n",
       "      <td>37.605226</td>\n",
       "      <td>0.090163</td>\n",
       "      <td>6.207858e-23</td>\n",
       "    </tr>\n",
       "    <tr>\n",
       "      <th>25%</th>\n",
       "      <td>300.0</td>\n",
       "      <td>4.609610</td>\n",
       "      <td>0.109265</td>\n",
       "      <td>104.664412</td>\n",
       "      <td>20.670957</td>\n",
       "      <td>1.496460e-12</td>\n",
       "    </tr>\n",
       "    <tr>\n",
       "      <th>50%</th>\n",
       "      <td>300.0</td>\n",
       "      <td>7.192021</td>\n",
       "      <td>0.178331</td>\n",
       "      <td>161.394817</td>\n",
       "      <td>49.942401</td>\n",
       "      <td>3.058690e+00</td>\n",
       "    </tr>\n",
       "    <tr>\n",
       "      <th>75%</th>\n",
       "      <td>300.0</td>\n",
       "      <td>11.553448</td>\n",
       "      <td>0.264249</td>\n",
       "      <td>210.000000</td>\n",
       "      <td>136.034749</td>\n",
       "      <td>1.650852e+01</td>\n",
       "    </tr>\n",
       "    <tr>\n",
       "      <th>max</th>\n",
       "      <td>300.0</td>\n",
       "      <td>40.138760</td>\n",
       "      <td>1.398979</td>\n",
       "      <td>210.000000</td>\n",
       "      <td>2016.824986</td>\n",
       "      <td>9.687454e+01</td>\n",
       "    </tr>\n",
       "  </tbody>\n",
       "</table>\n",
       "</div>"
      ],
      "text/plain": [
       "       Distance         STD          CV       Range         Sill        Nugget\n",
       "count     101.0  101.000000  101.000000  101.000000   101.000000  1.010000e+02\n",
       "mean      300.0    9.456780    0.248033  153.302237   161.948758  1.225567e+01\n",
       "std         0.0    7.763796    0.228593   58.568874   313.560306  1.930507e+01\n",
       "min       300.0    0.300380    0.045821   37.605226     0.090163  6.207858e-23\n",
       "25%       300.0    4.609610    0.109265  104.664412    20.670957  1.496460e-12\n",
       "50%       300.0    7.192021    0.178331  161.394817    49.942401  3.058690e+00\n",
       "75%       300.0   11.553448    0.264249  210.000000   136.034749  1.650852e+01\n",
       "max       300.0   40.138760    1.398979  210.000000  2016.824986  9.687454e+01"
      ]
     },
     "execution_count": 82,
     "metadata": {},
     "output_type": "execute_result"
    }
   ],
   "source": [
    "df_300 = df[df['Distance'] == 300].reset_index(drop = True)\n",
    "df_300.describe()"
   ]
  },
  {
   "cell_type": "code",
   "execution_count": 84,
   "metadata": {},
   "outputs": [
    {
     "data": {
      "text/plain": [
       "[0.0, 0.1, 0.2, 0.3, 0.4, 0.5, 0.6, 0.7, 0.8, 0.9, 1.0, 1.1, 1.2, 1.3, 1.4]"
      ]
     },
     "execution_count": 84,
     "metadata": {},
     "output_type": "execute_result"
    }
   ],
   "source": [
    "x_ticks_array = [float(i)/10 for i in range(0,15)]\n",
    "x_ticks_array"
   ]
  },
  {
   "cell_type": "code",
   "execution_count": 85,
   "metadata": {},
   "outputs": [
    {
     "data": {
      "image/png": "[encoded data removed]",
      "text/plain": [
       "<Figure size 1000x500 with 1 Axes>"
      ]
     },
     "metadata": {},
     "output_type": "display_data"
    }
   ],
   "source": [
    "plt.figure(figsize=(10,5))\n",
    "plt.xticks(x_ticks_array)\n",
    "data = df_300['CV']\n",
    "ax = sns.histplot(data, bins=x_ticks_array, kde = False)\n",
    "plt.xlabel('Coefficient of Variation')\n",
    "plt.ylabel('Frequency')\n",
    "plt.grid()\n",
    "plt.show()"
   ]
  },
  {
   "cell_type": "code",
   "execution_count": 89,
   "metadata": {},
   "outputs": [],
   "source": [
    "x_ticks_array = [i for i in range(0,2200,100)]"
   ]
  },
  {
   "cell_type": "code",
   "execution_count": 90,
   "metadata": {},
   "outputs": [
    {
     "data": {
      "image/png": "[encoded data removed]",
      "text/plain": [
       "<Figure size 1000x500 with 1 Axes>"
      ]
     },
     "metadata": {},
     "output_type": "display_data"
    }
   ],
   "source": [
    "plt.figure(figsize=(10,5))\n",
    "plt.xticks(x_ticks_array)\n",
    "data = df_300['Sill']\n",
    "ax = sns.histplot(data, bins=x_ticks_array, kde = False)\n",
    "plt.xticks(rotation = 45)\n",
    "plt.xlabel('Sill')\n",
    "plt.ylabel('Frequency')\n",
    "plt.grid()\n",
    "plt.show()"
   ]
  },
  {
   "cell_type": "markdown",
   "metadata": {},
   "source": [
    "# 600m"
   ]
  },
  {
   "cell_type": "code",
   "execution_count": 56,
   "metadata": {},
   "outputs": [
    {
     "data": {
      "text/html": [
       "<div>\n",
       "<style scoped>\n",
       "    .dataframe tbody tr th:only-of-type {\n",
       "        vertical-align: middle;\n",
       "    }\n",
       "\n",
       "    .dataframe tbody tr th {\n",
       "        vertical-align: top;\n",
       "    }\n",
       "\n",
       "    .dataframe thead th {\n",
       "        text-align: right;\n",
       "    }\n",
       "</style>\n",
       "<table border=\"1\" class=\"dataframe\">\n",
       "  <thead>\n",
       "    <tr style=\"text-align: right;\">\n",
       "      <th></th>\n",
       "      <th>Distance</th>\n",
       "      <th>STD</th>\n",
       "      <th>CV</th>\n",
       "      <th>Range</th>\n",
       "      <th>Sill</th>\n",
       "      <th>Nugget</th>\n",
       "    </tr>\n",
       "  </thead>\n",
       "  <tbody>\n",
       "    <tr>\n",
       "      <th>count</th>\n",
       "      <td>101.0</td>\n",
       "      <td>101.000000</td>\n",
       "      <td>101.000000</td>\n",
       "      <td>101.000000</td>\n",
       "      <td>101.000000</td>\n",
       "      <td>1.010000e+02</td>\n",
       "    </tr>\n",
       "    <tr>\n",
       "      <th>mean</th>\n",
       "      <td>600.0</td>\n",
       "      <td>12.065062</td>\n",
       "      <td>0.303044</td>\n",
       "      <td>294.002156</td>\n",
       "      <td>247.045509</td>\n",
       "      <td>2.458794e+01</td>\n",
       "    </tr>\n",
       "    <tr>\n",
       "      <th>std</th>\n",
       "      <td>0.0</td>\n",
       "      <td>9.048609</td>\n",
       "      <td>0.253489</td>\n",
       "      <td>134.404678</td>\n",
       "      <td>382.287722</td>\n",
       "      <td>4.313539e+01</td>\n",
       "    </tr>\n",
       "    <tr>\n",
       "      <th>min</th>\n",
       "      <td>600.0</td>\n",
       "      <td>0.339874</td>\n",
       "      <td>0.048321</td>\n",
       "      <td>48.183813</td>\n",
       "      <td>0.114099</td>\n",
       "      <td>3.043080e-18</td>\n",
       "    </tr>\n",
       "    <tr>\n",
       "      <th>25%</th>\n",
       "      <td>600.0</td>\n",
       "      <td>6.132401</td>\n",
       "      <td>0.138381</td>\n",
       "      <td>163.438705</td>\n",
       "      <td>37.038050</td>\n",
       "      <td>8.386841e-02</td>\n",
       "    </tr>\n",
       "    <tr>\n",
       "      <th>50%</th>\n",
       "      <td>600.0</td>\n",
       "      <td>8.816460</td>\n",
       "      <td>0.212261</td>\n",
       "      <td>355.549071</td>\n",
       "      <td>79.575313</td>\n",
       "      <td>1.075211e+01</td>\n",
       "    </tr>\n",
       "    <tr>\n",
       "      <th>75%</th>\n",
       "      <td>600.0</td>\n",
       "      <td>14.685022</td>\n",
       "      <td>0.363629</td>\n",
       "      <td>420.000000</td>\n",
       "      <td>234.870326</td>\n",
       "      <td>2.628870e+01</td>\n",
       "    </tr>\n",
       "    <tr>\n",
       "      <th>max</th>\n",
       "      <td>600.0</td>\n",
       "      <td>39.667584</td>\n",
       "      <td>1.278019</td>\n",
       "      <td>420.000000</td>\n",
       "      <td>1821.772776</td>\n",
       "      <td>2.982263e+02</td>\n",
       "    </tr>\n",
       "  </tbody>\n",
       "</table>\n",
       "</div>"
      ],
      "text/plain": [
       "       Distance         STD          CV       Range         Sill        Nugget\n",
       "count     101.0  101.000000  101.000000  101.000000   101.000000  1.010000e+02\n",
       "mean      600.0   12.065062    0.303044  294.002156   247.045509  2.458794e+01\n",
       "std         0.0    9.048609    0.253489  134.404678   382.287722  4.313539e+01\n",
       "min       600.0    0.339874    0.048321   48.183813     0.114099  3.043080e-18\n",
       "25%       600.0    6.132401    0.138381  163.438705    37.038050  8.386841e-02\n",
       "50%       600.0    8.816460    0.212261  355.549071    79.575313  1.075211e+01\n",
       "75%       600.0   14.685022    0.363629  420.000000   234.870326  2.628870e+01\n",
       "max       600.0   39.667584    1.278019  420.000000  1821.772776  2.982263e+02"
      ]
     },
     "execution_count": 56,
     "metadata": {},
     "output_type": "execute_result"
    }
   ],
   "source": [
    "df_600 = df[df['Distance'] == 600].reset_index(drop = True)\n",
    "df_600.describe()"
   ]
  },
  {
   "cell_type": "code",
   "execution_count": 58,
   "metadata": {},
   "outputs": [
    {
     "data": {
      "text/plain": [
       "[0.0, 0.1, 0.2, 0.3, 0.4, 0.5, 0.6, 0.7, 0.8, 0.9, 1.0, 1.1, 1.2, 1.3]"
      ]
     },
     "execution_count": 58,
     "metadata": {},
     "output_type": "execute_result"
    }
   ],
   "source": [
    "x_ticks_array = [float(i)/10 for i in range(0,14)]\n",
    "x_ticks_array"
   ]
  },
  {
   "cell_type": "code",
   "execution_count": 59,
   "metadata": {},
   "outputs": [
    {
     "data": {
      "image/png": "[encoded data removed]",
      "text/plain": [
       "<Figure size 1000x500 with 1 Axes>"
      ]
     },
     "metadata": {},
     "output_type": "display_data"
    }
   ],
   "source": [
    "plt.figure(figsize=(10,5))\n",
    "plt.xticks(x_ticks_array)\n",
    "data = df_600['CV']\n",
    "ax = sns.histplot(data, bins=x_ticks_array, kde = False)\n",
    "plt.xlabel('Coefficient of Variation')\n",
    "plt.ylabel('Frequency')\n",
    "plt.grid()\n",
    "plt.show()"
   ]
  },
  {
   "cell_type": "code",
   "execution_count": 91,
   "metadata": {},
   "outputs": [],
   "source": [
    "x_ticks_array = [i for i in range(0,2000,100)]"
   ]
  },
  {
   "cell_type": "code",
   "execution_count": 92,
   "metadata": {},
   "outputs": [
    {
     "data": {
      "image/png": "[encoded data removed]",
      "text/plain": [
       "<Figure size 1000x500 with 1 Axes>"
      ]
     },
     "metadata": {},
     "output_type": "display_data"
    }
   ],
   "source": [
    "plt.figure(figsize=(10,5))\n",
    "plt.xticks(x_ticks_array)\n",
    "data = df_600['Sill']\n",
    "ax = sns.histplot(data, bins=x_ticks_array, kde = False)\n",
    "plt.xticks(rotation = 45)\n",
    "plt.xlabel('Sill')\n",
    "plt.ylabel('Frequency')\n",
    "plt.grid()\n",
    "plt.show()"
   ]
  },
  {
   "cell_type": "markdown",
   "metadata": {},
   "source": [
    "# 900m"
   ]
  },
  {
   "cell_type": "code",
   "execution_count": 64,
   "metadata": {},
   "outputs": [
    {
     "data": {
      "text/html": [
       "<div>\n",
       "<style scoped>\n",
       "    .dataframe tbody tr th:only-of-type {\n",
       "        vertical-align: middle;\n",
       "    }\n",
       "\n",
       "    .dataframe tbody tr th {\n",
       "        vertical-align: top;\n",
       "    }\n",
       "\n",
       "    .dataframe thead th {\n",
       "        text-align: right;\n",
       "    }\n",
       "</style>\n",
       "<table border=\"1\" class=\"dataframe\">\n",
       "  <thead>\n",
       "    <tr style=\"text-align: right;\">\n",
       "      <th></th>\n",
       "      <th>Distance</th>\n",
       "      <th>STD</th>\n",
       "      <th>CV</th>\n",
       "      <th>Range</th>\n",
       "      <th>Sill</th>\n",
       "      <th>Nugget</th>\n",
       "    </tr>\n",
       "  </thead>\n",
       "  <tbody>\n",
       "    <tr>\n",
       "      <th>count</th>\n",
       "      <td>101.0</td>\n",
       "      <td>101.000000</td>\n",
       "      <td>101.000000</td>\n",
       "      <td>101.000000</td>\n",
       "      <td>101.000000</td>\n",
       "      <td>1.010000e+02</td>\n",
       "    </tr>\n",
       "    <tr>\n",
       "      <th>mean</th>\n",
       "      <td>900.0</td>\n",
       "      <td>14.069369</td>\n",
       "      <td>0.342499</td>\n",
       "      <td>433.954131</td>\n",
       "      <td>312.642977</td>\n",
       "      <td>4.467628e+01</td>\n",
       "    </tr>\n",
       "    <tr>\n",
       "      <th>std</th>\n",
       "      <td>0.0</td>\n",
       "      <td>9.356161</td>\n",
       "      <td>0.228051</td>\n",
       "      <td>210.010516</td>\n",
       "      <td>436.724504</td>\n",
       "      <td>6.541272e+01</td>\n",
       "    </tr>\n",
       "    <tr>\n",
       "      <th>min</th>\n",
       "      <td>900.0</td>\n",
       "      <td>0.394323</td>\n",
       "      <td>0.065007</td>\n",
       "      <td>48.980640</td>\n",
       "      <td>0.150287</td>\n",
       "      <td>7.059555e-20</td>\n",
       "    </tr>\n",
       "    <tr>\n",
       "      <th>25%</th>\n",
       "      <td>900.0</td>\n",
       "      <td>8.324273</td>\n",
       "      <td>0.189441</td>\n",
       "      <td>228.833886</td>\n",
       "      <td>69.600796</td>\n",
       "      <td>5.815442e+00</td>\n",
       "    </tr>\n",
       "    <tr>\n",
       "      <th>50%</th>\n",
       "      <td>900.0</td>\n",
       "      <td>11.127788</td>\n",
       "      <td>0.261950</td>\n",
       "      <td>515.517822</td>\n",
       "      <td>129.287397</td>\n",
       "      <td>2.399473e+01</td>\n",
       "    </tr>\n",
       "    <tr>\n",
       "      <th>75%</th>\n",
       "      <td>900.0</td>\n",
       "      <td>16.515813</td>\n",
       "      <td>0.437470</td>\n",
       "      <td>630.000000</td>\n",
       "      <td>286.996475</td>\n",
       "      <td>5.675059e+01</td>\n",
       "    </tr>\n",
       "    <tr>\n",
       "      <th>max</th>\n",
       "      <td>900.0</td>\n",
       "      <td>46.309982</td>\n",
       "      <td>1.111468</td>\n",
       "      <td>630.000000</td>\n",
       "      <td>2445.577708</td>\n",
       "      <td>3.961858e+02</td>\n",
       "    </tr>\n",
       "  </tbody>\n",
       "</table>\n",
       "</div>"
      ],
      "text/plain": [
       "       Distance         STD          CV       Range         Sill        Nugget\n",
       "count     101.0  101.000000  101.000000  101.000000   101.000000  1.010000e+02\n",
       "mean      900.0   14.069369    0.342499  433.954131   312.642977  4.467628e+01\n",
       "std         0.0    9.356161    0.228051  210.010516   436.724504  6.541272e+01\n",
       "min       900.0    0.394323    0.065007   48.980640     0.150287  7.059555e-20\n",
       "25%       900.0    8.324273    0.189441  228.833886    69.600796  5.815442e+00\n",
       "50%       900.0   11.127788    0.261950  515.517822   129.287397  2.399473e+01\n",
       "75%       900.0   16.515813    0.437470  630.000000   286.996475  5.675059e+01\n",
       "max       900.0   46.309982    1.111468  630.000000  2445.577708  3.961858e+02"
      ]
     },
     "execution_count": 64,
     "metadata": {},
     "output_type": "execute_result"
    }
   ],
   "source": [
    "df_900 = df[df['Distance'] == 900].reset_index(drop = True)\n",
    "df_900.describe()"
   ]
  },
  {
   "cell_type": "code",
   "execution_count": 71,
   "metadata": {},
   "outputs": [
    {
     "data": {
      "text/plain": [
       "[0.0, 0.1, 0.2, 0.3, 0.4, 0.5, 0.6, 0.7, 0.8, 0.9, 1.0, 1.1, 1.2]"
      ]
     },
     "execution_count": 71,
     "metadata": {},
     "output_type": "execute_result"
    }
   ],
   "source": [
    "x_ticks_array = [float(i)/10 for i in range(0,13)]\n",
    "x_ticks_array"
   ]
  },
  {
   "cell_type": "code",
   "execution_count": 72,
   "metadata": {},
   "outputs": [
    {
     "data": {
      "image/png": "[encoded data removed]",
      "text/plain": [
       "<Figure size 1000x500 with 1 Axes>"
      ]
     },
     "metadata": {},
     "output_type": "display_data"
    }
   ],
   "source": [
    "plt.figure(figsize=(10,5))\n",
    "plt.xticks(x_ticks_array)\n",
    "data = df_900['CV']\n",
    "ax = sns.histplot(data, bins=x_ticks_array, kde = False)\n",
    "plt.xlabel('Coefficient of Variation')\n",
    "plt.ylabel('Frequency')\n",
    "plt.grid()\n",
    "plt.show()"
   ]
  },
  {
   "cell_type": "code",
   "execution_count": 93,
   "metadata": {},
   "outputs": [],
   "source": [
    "x_ticks_array = [i for i in range(0,2600,100)]"
   ]
  },
  {
   "cell_type": "code",
   "execution_count": 94,
   "metadata": {},
   "outputs": [
    {
     "data": {
      "image/png": "[encoded data removed]",
      "text/plain": [
       "<Figure size 1000x500 with 1 Axes>"
      ]
     },
     "metadata": {},
     "output_type": "display_data"
    }
   ],
   "source": [
    "plt.figure(figsize=(10,5))\n",
    "plt.xticks(x_ticks_array)\n",
    "data = df_900['Sill']\n",
    "ax = sns.histplot(data, bins=x_ticks_array, kde = False)\n",
    "plt.xticks(rotation = 45)\n",
    "plt.xlabel('Sill')\n",
    "plt.ylabel('Frequency')\n",
    "plt.grid()\n",
    "plt.show()"
   ]
  },
  {
   "cell_type": "markdown",
   "metadata": {},
   "source": [
    "# Export"
   ]
  },
  {
   "cell_type": "code",
   "execution_count": 76,
   "metadata": {},
   "outputs": [
    {
     "data": {
      "text/html": [
       "<div>\n",
       "<style scoped>\n",
       "    .dataframe tbody tr th:only-of-type {\n",
       "        vertical-align: middle;\n",
       "    }\n",
       "\n",
       "    .dataframe tbody tr th {\n",
       "        vertical-align: top;\n",
       "    }\n",
       "\n",
       "    .dataframe thead th {\n",
       "        text-align: right;\n",
       "    }\n",
       "</style>\n",
       "<table border=\"1\" class=\"dataframe\">\n",
       "  <thead>\n",
       "    <tr style=\"text-align: right;\">\n",
       "      <th></th>\n",
       "      <th>Site</th>\n",
       "      <th>CV</th>\n",
       "    </tr>\n",
       "  </thead>\n",
       "  <tbody>\n",
       "    <tr>\n",
       "      <th>95</th>\n",
       "      <td>US-LIN</td>\n",
       "      <td>0.048321</td>\n",
       "    </tr>\n",
       "    <tr>\n",
       "      <th>47</th>\n",
       "      <td>GHNA</td>\n",
       "      <td>0.057228</td>\n",
       "    </tr>\n",
       "    <tr>\n",
       "      <th>3</th>\n",
       "      <td>AT-Mmg</td>\n",
       "      <td>0.058228</td>\n",
       "    </tr>\n",
       "    <tr>\n",
       "      <th>98</th>\n",
       "      <td>US-SERC New</td>\n",
       "      <td>0.077073</td>\n",
       "    </tr>\n",
       "    <tr>\n",
       "      <th>97</th>\n",
       "      <td>US-SERC</td>\n",
       "      <td>0.094402</td>\n",
       "    </tr>\n",
       "    <tr>\n",
       "      <th>...</th>\n",
       "      <td>...</td>\n",
       "      <td>...</td>\n",
       "    </tr>\n",
       "    <tr>\n",
       "      <th>50</th>\n",
       "      <td>IN-JOD</td>\n",
       "      <td>0.812800</td>\n",
       "    </tr>\n",
       "    <tr>\n",
       "      <th>21</th>\n",
       "      <td>DE-JUL1</td>\n",
       "      <td>1.135569</td>\n",
       "    </tr>\n",
       "    <tr>\n",
       "      <th>65</th>\n",
       "      <td>LOBE</td>\n",
       "      <td>1.250840</td>\n",
       "    </tr>\n",
       "    <tr>\n",
       "      <th>8</th>\n",
       "      <td>BE-WAL</td>\n",
       "      <td>1.266192</td>\n",
       "    </tr>\n",
       "    <tr>\n",
       "      <th>27</th>\n",
       "      <td>DE-SEL</td>\n",
       "      <td>1.278019</td>\n",
       "    </tr>\n",
       "  </tbody>\n",
       "</table>\n",
       "<p>101 rows × 2 columns</p>\n",
       "</div>"
      ],
      "text/plain": [
       "           Site        CV\n",
       "95       US-LIN  0.048321\n",
       "47         GHNA  0.057228\n",
       "3        AT-Mmg  0.058228\n",
       "98  US-SERC New  0.077073\n",
       "97      US-SERC  0.094402\n",
       "..          ...       ...\n",
       "50       IN-JOD  0.812800\n",
       "21      DE-JUL1  1.135569\n",
       "65         LOBE  1.250840\n",
       "8        BE-WAL  1.266192\n",
       "27       DE-SEL  1.278019\n",
       "\n",
       "[101 rows x 2 columns]"
      ]
     },
     "execution_count": 76,
     "metadata": {},
     "output_type": "execute_result"
    }
   ],
   "source": [
    "df_600_CV = df_600[['Site','CV']].sort_values(by = 'CV', ascending=True)\n",
    "df_600_CV"
   ]
  },
  {
   "cell_type": "code",
   "execution_count": 77,
   "metadata": {},
   "outputs": [
    {
     "data": {
      "text/html": [
       "<div>\n",
       "<style scoped>\n",
       "    .dataframe tbody tr th:only-of-type {\n",
       "        vertical-align: middle;\n",
       "    }\n",
       "\n",
       "    .dataframe tbody tr th {\n",
       "        vertical-align: top;\n",
       "    }\n",
       "\n",
       "    .dataframe thead th {\n",
       "        text-align: right;\n",
       "    }\n",
       "</style>\n",
       "<table border=\"1\" class=\"dataframe\">\n",
       "  <thead>\n",
       "    <tr style=\"text-align: right;\">\n",
       "      <th></th>\n",
       "      <th>Site</th>\n",
       "      <th>Sill</th>\n",
       "    </tr>\n",
       "  </thead>\n",
       "  <tbody>\n",
       "    <tr>\n",
       "      <th>47</th>\n",
       "      <td>GHNA</td>\n",
       "      <td>0.114099</td>\n",
       "    </tr>\n",
       "    <tr>\n",
       "      <th>64</th>\n",
       "      <td>KEN-KAP</td>\n",
       "      <td>2.017366</td>\n",
       "    </tr>\n",
       "    <tr>\n",
       "      <th>16</th>\n",
       "      <td>Dahara (Senegal)</td>\n",
       "      <td>2.143269</td>\n",
       "    </tr>\n",
       "    <tr>\n",
       "      <th>3</th>\n",
       "      <td>AT-Mmg</td>\n",
       "      <td>3.904039</td>\n",
       "    </tr>\n",
       "    <tr>\n",
       "      <th>76</th>\n",
       "      <td>SE-Svb</td>\n",
       "      <td>6.435816</td>\n",
       "    </tr>\n",
       "    <tr>\n",
       "      <th>...</th>\n",
       "      <td>...</td>\n",
       "      <td>...</td>\n",
       "    </tr>\n",
       "    <tr>\n",
       "      <th>87</th>\n",
       "      <td>UK-1</td>\n",
       "      <td>1005.389047</td>\n",
       "    </tr>\n",
       "    <tr>\n",
       "      <th>27</th>\n",
       "      <td>DE-SEL</td>\n",
       "      <td>1518.350338</td>\n",
       "    </tr>\n",
       "    <tr>\n",
       "      <th>21</th>\n",
       "      <td>DE-JUL1</td>\n",
       "      <td>1641.114040</td>\n",
       "    </tr>\n",
       "    <tr>\n",
       "      <th>74</th>\n",
       "      <td>S. KOREA-FOR 1</td>\n",
       "      <td>1667.303061</td>\n",
       "    </tr>\n",
       "    <tr>\n",
       "      <th>75</th>\n",
       "      <td>S. KOREA-FOR 2</td>\n",
       "      <td>1821.772776</td>\n",
       "    </tr>\n",
       "  </tbody>\n",
       "</table>\n",
       "<p>101 rows × 2 columns</p>\n",
       "</div>"
      ],
      "text/plain": [
       "                Site         Sill\n",
       "47              GHNA     0.114099\n",
       "64           KEN-KAP     2.017366\n",
       "16  Dahara (Senegal)     2.143269\n",
       "3             AT-Mmg     3.904039\n",
       "76            SE-Svb     6.435816\n",
       "..               ...          ...\n",
       "87              UK-1  1005.389047\n",
       "27            DE-SEL  1518.350338\n",
       "21           DE-JUL1  1641.114040\n",
       "74    S. KOREA-FOR 1  1667.303061\n",
       "75    S. KOREA-FOR 2  1821.772776\n",
       "\n",
       "[101 rows x 2 columns]"
      ]
     },
     "execution_count": 77,
     "metadata": {},
     "output_type": "execute_result"
    }
   ],
   "source": [
    "df_600_Sill = df_600[['Site','Sill']].sort_values(by = 'Sill', ascending=True)\n",
    "df_600_Sill"
   ]
  },
  {
   "cell_type": "code",
   "execution_count": 78,
   "metadata": {},
   "outputs": [
    {
     "data": {
      "text/html": [
       "<div>\n",
       "<style scoped>\n",
       "    .dataframe tbody tr th:only-of-type {\n",
       "        vertical-align: middle;\n",
       "    }\n",
       "\n",
       "    .dataframe tbody tr th {\n",
       "        vertical-align: top;\n",
       "    }\n",
       "\n",
       "    .dataframe thead th {\n",
       "        text-align: right;\n",
       "    }\n",
       "</style>\n",
       "<table border=\"1\" class=\"dataframe\">\n",
       "  <thead>\n",
       "    <tr style=\"text-align: right;\">\n",
       "      <th></th>\n",
       "      <th>Site</th>\n",
       "      <th>CV</th>\n",
       "    </tr>\n",
       "  </thead>\n",
       "  <tbody>\n",
       "    <tr>\n",
       "      <th>3</th>\n",
       "      <td>AT-Mmg</td>\n",
       "      <td>0.065007</td>\n",
       "    </tr>\n",
       "    <tr>\n",
       "      <th>47</th>\n",
       "      <td>GHNA</td>\n",
       "      <td>0.066343</td>\n",
       "    </tr>\n",
       "    <tr>\n",
       "      <th>66</th>\n",
       "      <td>NED-ESSEN</td>\n",
       "      <td>0.103212</td>\n",
       "    </tr>\n",
       "    <tr>\n",
       "      <th>64</th>\n",
       "      <td>KEN-KAP</td>\n",
       "      <td>0.104686</td>\n",
       "    </tr>\n",
       "    <tr>\n",
       "      <th>49</th>\n",
       "      <td>INDONESIA</td>\n",
       "      <td>0.109921</td>\n",
       "    </tr>\n",
       "    <tr>\n",
       "      <th>...</th>\n",
       "      <td>...</td>\n",
       "      <td>...</td>\n",
       "    </tr>\n",
       "    <tr>\n",
       "      <th>48</th>\n",
       "      <td>IFAR</td>\n",
       "      <td>0.846683</td>\n",
       "    </tr>\n",
       "    <tr>\n",
       "      <th>21</th>\n",
       "      <td>DE-JUL1</td>\n",
       "      <td>0.927362</td>\n",
       "    </tr>\n",
       "    <tr>\n",
       "      <th>65</th>\n",
       "      <td>LOBE</td>\n",
       "      <td>1.080139</td>\n",
       "    </tr>\n",
       "    <tr>\n",
       "      <th>8</th>\n",
       "      <td>BE-WAL</td>\n",
       "      <td>1.086659</td>\n",
       "    </tr>\n",
       "    <tr>\n",
       "      <th>27</th>\n",
       "      <td>DE-SEL</td>\n",
       "      <td>1.111468</td>\n",
       "    </tr>\n",
       "  </tbody>\n",
       "</table>\n",
       "<p>101 rows × 2 columns</p>\n",
       "</div>"
      ],
      "text/plain": [
       "         Site        CV\n",
       "3      AT-Mmg  0.065007\n",
       "47       GHNA  0.066343\n",
       "66  NED-ESSEN  0.103212\n",
       "64    KEN-KAP  0.104686\n",
       "49  INDONESIA  0.109921\n",
       "..        ...       ...\n",
       "48       IFAR  0.846683\n",
       "21    DE-JUL1  0.927362\n",
       "65       LOBE  1.080139\n",
       "8      BE-WAL  1.086659\n",
       "27     DE-SEL  1.111468\n",
       "\n",
       "[101 rows x 2 columns]"
      ]
     },
     "execution_count": 78,
     "metadata": {},
     "output_type": "execute_result"
    }
   ],
   "source": [
    "df_900_CV = df_900[['Site','CV']].sort_values(by = 'CV', ascending=True)\n",
    "df_900_CV"
   ]
  },
  {
   "cell_type": "code",
   "execution_count": 79,
   "metadata": {},
   "outputs": [
    {
     "data": {
      "text/html": [
       "<div>\n",
       "<style scoped>\n",
       "    .dataframe tbody tr th:only-of-type {\n",
       "        vertical-align: middle;\n",
       "    }\n",
       "\n",
       "    .dataframe tbody tr th {\n",
       "        vertical-align: top;\n",
       "    }\n",
       "\n",
       "    .dataframe thead th {\n",
       "        text-align: right;\n",
       "    }\n",
       "</style>\n",
       "<table border=\"1\" class=\"dataframe\">\n",
       "  <thead>\n",
       "    <tr style=\"text-align: right;\">\n",
       "      <th></th>\n",
       "      <th>Site</th>\n",
       "      <th>Sill</th>\n",
       "    </tr>\n",
       "  </thead>\n",
       "  <tbody>\n",
       "    <tr>\n",
       "      <th>47</th>\n",
       "      <td>GHNA</td>\n",
       "      <td>0.150287</td>\n",
       "    </tr>\n",
       "    <tr>\n",
       "      <th>64</th>\n",
       "      <td>KEN-KAP</td>\n",
       "      <td>1.849329</td>\n",
       "    </tr>\n",
       "    <tr>\n",
       "      <th>16</th>\n",
       "      <td>Dahara (Senegal)</td>\n",
       "      <td>2.072566</td>\n",
       "    </tr>\n",
       "    <tr>\n",
       "      <th>3</th>\n",
       "      <td>AT-Mmg</td>\n",
       "      <td>5.146960</td>\n",
       "    </tr>\n",
       "    <tr>\n",
       "      <th>63</th>\n",
       "      <td>KEN-1</td>\n",
       "      <td>6.212538</td>\n",
       "    </tr>\n",
       "    <tr>\n",
       "      <th>...</th>\n",
       "      <td>...</td>\n",
       "      <td>...</td>\n",
       "    </tr>\n",
       "    <tr>\n",
       "      <th>89</th>\n",
       "      <td>UK-Amo</td>\n",
       "      <td>1185.883978</td>\n",
       "    </tr>\n",
       "    <tr>\n",
       "      <th>27</th>\n",
       "      <td>DE-SEL</td>\n",
       "      <td>1251.231069</td>\n",
       "    </tr>\n",
       "    <tr>\n",
       "      <th>21</th>\n",
       "      <td>DE-JUL1</td>\n",
       "      <td>1602.793618</td>\n",
       "    </tr>\n",
       "    <tr>\n",
       "      <th>74</th>\n",
       "      <td>S. KOREA-FOR 1</td>\n",
       "      <td>1872.685386</td>\n",
       "    </tr>\n",
       "    <tr>\n",
       "      <th>75</th>\n",
       "      <td>S. KOREA-FOR 2</td>\n",
       "      <td>2445.577708</td>\n",
       "    </tr>\n",
       "  </tbody>\n",
       "</table>\n",
       "<p>101 rows × 2 columns</p>\n",
       "</div>"
      ],
      "text/plain": [
       "                Site         Sill\n",
       "47              GHNA     0.150287\n",
       "64           KEN-KAP     1.849329\n",
       "16  Dahara (Senegal)     2.072566\n",
       "3             AT-Mmg     5.146960\n",
       "63             KEN-1     6.212538\n",
       "..               ...          ...\n",
       "89            UK-Amo  1185.883978\n",
       "27            DE-SEL  1251.231069\n",
       "21           DE-JUL1  1602.793618\n",
       "74    S. KOREA-FOR 1  1872.685386\n",
       "75    S. KOREA-FOR 2  2445.577708\n",
       "\n",
       "[101 rows x 2 columns]"
      ]
     },
     "execution_count": 79,
     "metadata": {},
     "output_type": "execute_result"
    }
   ],
   "source": [
    "df_900_Sill = df_900[['Site','Sill']].sort_values(by = 'Sill', ascending=True)\n",
    "df_900_Sill"
   ]
  },
  {
   "cell_type": "code",
   "execution_count": 80,
   "metadata": {},
   "outputs": [
    {
     "data": {
      "text/plain": [
       "<Axes: xlabel='Sill', ylabel='CV'>"
      ]
     },
     "execution_count": 80,
     "metadata": {},
     "output_type": "execute_result"
    },
    {
     "data": {
      "image/png": "[encoded data removed]",
      "text/plain": [
       "<Figure size 640x480 with 1 Axes>"
      ]
     },
     "metadata": {},
     "output_type": "display_data"
    }
   ],
   "source": [
    "sns.scatterplot(data=df_600, x=\"Sill\", y=\"CV\")"
   ]
  },
  {
   "cell_type": "code",
   "execution_count": 81,
   "metadata": {},
   "outputs": [
    {
     "data": {
      "text/plain": [
       "<Axes: xlabel='Sill', ylabel='CV'>"
      ]
     },
     "execution_count": 81,
     "metadata": {},
     "output_type": "execute_result"
    },
    {
     "data": {
      "image/png": "[encoded data removed]",
      "text/plain": [
       "<Figure size 640x480 with 1 Axes>"
      ]
     },
     "metadata": {},
     "output_type": "display_data"
    }
   ],
   "source": [
    "sns.scatterplot(data=df_900, x=\"Sill\", y=\"CV\")"
   ]
  },
  {
   "cell_type": "code",
   "execution_count": null,
   "metadata": {},
   "outputs": [],
   "source": []
  }
 ],
 "metadata": {
  "kernelspec": {
   "display_name": "DISC",
   "language": "python",
   "name": "python3"
  },
  "language_info": {
   "codemirror_mode": {
    "name": "ipython",
    "version": 3
   },
   "file_extension": ".py",
   "mimetype": "text/x-python",
   "name": "python",
   "nbconvert_exporter": "python",
   "pygments_lexer": "ipython3",
   "version": "3.12.4"
  }
 },
 "nbformat": 4,
 "nbformat_minor": 2
}
