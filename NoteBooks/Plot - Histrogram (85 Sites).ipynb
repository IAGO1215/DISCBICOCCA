{
 "cells": [
  {
   "cell_type": "code",
   "execution_count": 1,
   "metadata": {},
   "outputs": [],
   "source": [
    "import os\n",
    "import numpy as np\n",
    "import pandas as pd\n",
    "import matplotlib.pyplot as plt\n",
    "import seaborn as sns"
   ]
  },
  {
   "cell_type": "code",
   "execution_count": 2,
   "metadata": {},
   "outputs": [],
   "source": [
    "# \n",
    "cwd = \"..\\\\..\\\\\"\n",
    "cwd_Images_Raw = cwd + \"\\\\Sentinel-2 Images Raw\"\n",
    "cwd_Images_Processed = cwd + \"\\\\Sentinel-2 Images Processed\""
   ]
  },
  {
   "cell_type": "code",
   "execution_count": 5,
   "metadata": {},
   "outputs": [],
   "source": [
    "list_Site_Moved = ['ATLAS-Mohammed V','DE-Geb','FR-Bil','FR-FBn','FR-Pue','IS-YATIR','IT-BFt','IT-SR2','PORT-FOR','UK-Amo','US-Kon','US-SERC']"
   ]
  },
  {
   "cell_type": "markdown",
   "metadata": {},
   "source": [
    "# Only original + 600 moved"
   ]
  },
  {
   "cell_type": "code",
   "execution_count": 6,
   "metadata": {},
   "outputs": [
    {
     "data": {
      "text/html": [
       "<div>\n",
       "<style scoped>\n",
       "    .dataframe tbody tr th:only-of-type {\n",
       "        vertical-align: middle;\n",
       "    }\n",
       "\n",
       "    .dataframe tbody tr th {\n",
       "        vertical-align: top;\n",
       "    }\n",
       "\n",
       "    .dataframe thead th {\n",
       "        text-align: right;\n",
       "    }\n",
       "</style>\n",
       "<table border=\"1\" class=\"dataframe\">\n",
       "  <thead>\n",
       "    <tr style=\"text-align: right;\">\n",
       "      <th></th>\n",
       "      <th>Site</th>\n",
       "      <th>Distance</th>\n",
       "      <th>Mean</th>\n",
       "      <th>STD</th>\n",
       "      <th>CV</th>\n",
       "      <th>Range</th>\n",
       "      <th>Sill</th>\n",
       "      <th>Nugget</th>\n",
       "    </tr>\n",
       "  </thead>\n",
       "  <tbody>\n",
       "    <tr>\n",
       "      <th>0</th>\n",
       "      <td>ATGE</td>\n",
       "      <td>30</td>\n",
       "      <td>NaN</td>\n",
       "      <td>10.292980</td>\n",
       "      <td>0.256794</td>\n",
       "      <td>20.000000</td>\n",
       "      <td>71.762211</td>\n",
       "      <td>3.570080e+01</td>\n",
       "    </tr>\n",
       "    <tr>\n",
       "      <th>1</th>\n",
       "      <td>ATGE</td>\n",
       "      <td>100</td>\n",
       "      <td>NaN</td>\n",
       "      <td>15.866641</td>\n",
       "      <td>0.478179</td>\n",
       "      <td>70.000000</td>\n",
       "      <td>267.887789</td>\n",
       "      <td>5.104219e-14</td>\n",
       "    </tr>\n",
       "    <tr>\n",
       "      <th>2</th>\n",
       "      <td>ATGE</td>\n",
       "      <td>300</td>\n",
       "      <td>NaN</td>\n",
       "      <td>20.748732</td>\n",
       "      <td>0.428943</td>\n",
       "      <td>104.664412</td>\n",
       "      <td>449.836840</td>\n",
       "      <td>6.333086e+01</td>\n",
       "    </tr>\n",
       "    <tr>\n",
       "      <th>3</th>\n",
       "      <td>ATGE</td>\n",
       "      <td>600</td>\n",
       "      <td>NaN</td>\n",
       "      <td>21.184529</td>\n",
       "      <td>0.505233</td>\n",
       "      <td>227.522937</td>\n",
       "      <td>453.765630</td>\n",
       "      <td>9.937431e+01</td>\n",
       "    </tr>\n",
       "    <tr>\n",
       "      <th>4</th>\n",
       "      <td>ATGE</td>\n",
       "      <td>900</td>\n",
       "      <td>NaN</td>\n",
       "      <td>20.035755</td>\n",
       "      <td>0.502820</td>\n",
       "      <td>345.097181</td>\n",
       "      <td>438.814722</td>\n",
       "      <td>1.064037e+02</td>\n",
       "    </tr>\n",
       "  </tbody>\n",
       "</table>\n",
       "</div>"
      ],
      "text/plain": [
       "   Site  Distance  Mean        STD        CV       Range        Sill  \\\n",
       "0  ATGE        30   NaN  10.292980  0.256794   20.000000   71.762211   \n",
       "1  ATGE       100   NaN  15.866641  0.478179   70.000000  267.887789   \n",
       "2  ATGE       300   NaN  20.748732  0.428943  104.664412  449.836840   \n",
       "3  ATGE       600   NaN  21.184529  0.505233  227.522937  453.765630   \n",
       "4  ATGE       900   NaN  20.035755  0.502820  345.097181  438.814722   \n",
       "\n",
       "         Nugget  \n",
       "0  3.570080e+01  \n",
       "1  5.104219e-14  \n",
       "2  6.333086e+01  \n",
       "3  9.937431e+01  \n",
       "4  1.064037e+02  "
      ]
     },
     "execution_count": 6,
     "metadata": {},
     "output_type": "execute_result"
    }
   ],
   "source": [
    "df = pd.read_csv(cwd + \"\\\\Results\\\\Variogram.csv\")\n",
    "# Remove new\n",
    "df = df[~df['Site'].str.contains('New')]\n",
    "df.head()"
   ]
  },
  {
   "cell_type": "markdown",
   "metadata": {},
   "source": [
    "## 30m"
   ]
  },
  {
   "cell_type": "code",
   "execution_count": 7,
   "metadata": {},
   "outputs": [
    {
     "data": {
      "text/html": [
       "<div>\n",
       "<style scoped>\n",
       "    .dataframe tbody tr th:only-of-type {\n",
       "        vertical-align: middle;\n",
       "    }\n",
       "\n",
       "    .dataframe tbody tr th {\n",
       "        vertical-align: top;\n",
       "    }\n",
       "\n",
       "    .dataframe thead th {\n",
       "        text-align: right;\n",
       "    }\n",
       "</style>\n",
       "<table border=\"1\" class=\"dataframe\">\n",
       "  <thead>\n",
       "    <tr style=\"text-align: right;\">\n",
       "      <th></th>\n",
       "      <th>Distance</th>\n",
       "      <th>Mean</th>\n",
       "      <th>STD</th>\n",
       "      <th>CV</th>\n",
       "      <th>Range</th>\n",
       "      <th>Sill</th>\n",
       "      <th>Nugget</th>\n",
       "    </tr>\n",
       "  </thead>\n",
       "  <tbody>\n",
       "    <tr>\n",
       "      <th>count</th>\n",
       "      <td>85.0</td>\n",
       "      <td>0.0</td>\n",
       "      <td>85.000000</td>\n",
       "      <td>85.000000</td>\n",
       "      <td>8.500000e+01</td>\n",
       "      <td>85.000000</td>\n",
       "      <td>85.000000</td>\n",
       "    </tr>\n",
       "    <tr>\n",
       "      <th>mean</th>\n",
       "      <td>30.0</td>\n",
       "      <td>NaN</td>\n",
       "      <td>3.880964</td>\n",
       "      <td>0.105947</td>\n",
       "      <td>2.000000e+01</td>\n",
       "      <td>20.060703</td>\n",
       "      <td>9.979948</td>\n",
       "    </tr>\n",
       "    <tr>\n",
       "      <th>std</th>\n",
       "      <td>0.0</td>\n",
       "      <td>NaN</td>\n",
       "      <td>3.112866</td>\n",
       "      <td>0.079731</td>\n",
       "      <td>1.429519e-14</td>\n",
       "      <td>31.956470</td>\n",
       "      <td>15.897942</td>\n",
       "    </tr>\n",
       "    <tr>\n",
       "      <th>min</th>\n",
       "      <td>30.0</td>\n",
       "      <td>NaN</td>\n",
       "      <td>0.107388</td>\n",
       "      <td>0.008956</td>\n",
       "      <td>2.000000e+01</td>\n",
       "      <td>0.013728</td>\n",
       "      <td>0.006829</td>\n",
       "    </tr>\n",
       "    <tr>\n",
       "      <th>25%</th>\n",
       "      <td>30.0</td>\n",
       "      <td>NaN</td>\n",
       "      <td>1.918505</td>\n",
       "      <td>0.049801</td>\n",
       "      <td>2.000000e+01</td>\n",
       "      <td>2.606912</td>\n",
       "      <td>1.296906</td>\n",
       "    </tr>\n",
       "    <tr>\n",
       "      <th>50%</th>\n",
       "      <td>30.0</td>\n",
       "      <td>NaN</td>\n",
       "      <td>3.178522</td>\n",
       "      <td>0.081562</td>\n",
       "      <td>2.000000e+01</td>\n",
       "      <td>8.060843</td>\n",
       "      <td>4.010168</td>\n",
       "    </tr>\n",
       "    <tr>\n",
       "      <th>75%</th>\n",
       "      <td>30.0</td>\n",
       "      <td>NaN</td>\n",
       "      <td>4.678966</td>\n",
       "      <td>0.136981</td>\n",
       "      <td>2.000000e+01</td>\n",
       "      <td>17.149455</td>\n",
       "      <td>8.531638</td>\n",
       "    </tr>\n",
       "    <tr>\n",
       "      <th>max</th>\n",
       "      <td>30.0</td>\n",
       "      <td>NaN</td>\n",
       "      <td>13.180999</td>\n",
       "      <td>0.413030</td>\n",
       "      <td>2.000000e+01</td>\n",
       "      <td>136.224373</td>\n",
       "      <td>67.769914</td>\n",
       "    </tr>\n",
       "  </tbody>\n",
       "</table>\n",
       "</div>"
      ],
      "text/plain": [
       "       Distance  Mean        STD         CV         Range        Sill  \\\n",
       "count      85.0   0.0  85.000000  85.000000  8.500000e+01   85.000000   \n",
       "mean       30.0   NaN   3.880964   0.105947  2.000000e+01   20.060703   \n",
       "std         0.0   NaN   3.112866   0.079731  1.429519e-14   31.956470   \n",
       "min        30.0   NaN   0.107388   0.008956  2.000000e+01    0.013728   \n",
       "25%        30.0   NaN   1.918505   0.049801  2.000000e+01    2.606912   \n",
       "50%        30.0   NaN   3.178522   0.081562  2.000000e+01    8.060843   \n",
       "75%        30.0   NaN   4.678966   0.136981  2.000000e+01   17.149455   \n",
       "max        30.0   NaN  13.180999   0.413030  2.000000e+01  136.224373   \n",
       "\n",
       "          Nugget  \n",
       "count  85.000000  \n",
       "mean    9.979948  \n",
       "std    15.897942  \n",
       "min     0.006829  \n",
       "25%     1.296906  \n",
       "50%     4.010168  \n",
       "75%     8.531638  \n",
       "max    67.769914  "
      ]
     },
     "execution_count": 7,
     "metadata": {},
     "output_type": "execute_result"
    }
   ],
   "source": [
    "df_30 = df[df['Distance'] == 30].reset_index(drop = True)\n",
    "df_30.describe()"
   ]
  },
  {
   "cell_type": "code",
   "execution_count": 8,
   "metadata": {},
   "outputs": [
    {
     "data": {
      "text/plain": [
       "[0.0, 0.1, 0.2, 0.3, 0.4, 0.5]"
      ]
     },
     "execution_count": 8,
     "metadata": {},
     "output_type": "execute_result"
    }
   ],
   "source": [
    "x_ticks_array = [float(i)/10 for i in range(0,6)]\n",
    "x_ticks_array"
   ]
  },
  {
   "cell_type": "code",
   "execution_count": 10,
   "metadata": {},
   "outputs": [
    {
     "data": {
      "image/png": "[encoded data removed]",
      "text/plain": [
       "<Figure size 1000x500 with 1 Axes>"
      ]
     },
     "metadata": {},
     "output_type": "display_data"
    }
   ],
   "source": [
    "plt.figure(figsize=(10,5))\n",
    "plt.title(\"30m x 30m ROI Coefficient of Variation Histogram\")\n",
    "plt.xticks(x_ticks_array)\n",
    "data = df_30['CV']\n",
    "ax = sns.histplot(data, bins=x_ticks_array, kde = False)\n",
    "plt.xlabel('Coefficient of Variation')\n",
    "plt.ylabel('Frequency')\n",
    "plt.grid()\n",
    "plt.show()"
   ]
  },
  {
   "cell_type": "markdown",
   "metadata": {},
   "source": [
    "# 100m"
   ]
  },
  {
   "cell_type": "code",
   "execution_count": 11,
   "metadata": {},
   "outputs": [
    {
     "data": {
      "text/html": [
       "<div>\n",
       "<style scoped>\n",
       "    .dataframe tbody tr th:only-of-type {\n",
       "        vertical-align: middle;\n",
       "    }\n",
       "\n",
       "    .dataframe tbody tr th {\n",
       "        vertical-align: top;\n",
       "    }\n",
       "\n",
       "    .dataframe thead th {\n",
       "        text-align: right;\n",
       "    }\n",
       "</style>\n",
       "<table border=\"1\" class=\"dataframe\">\n",
       "  <thead>\n",
       "    <tr style=\"text-align: right;\">\n",
       "      <th></th>\n",
       "      <th>Distance</th>\n",
       "      <th>Mean</th>\n",
       "      <th>STD</th>\n",
       "      <th>CV</th>\n",
       "      <th>Range</th>\n",
       "      <th>Sill</th>\n",
       "      <th>Nugget</th>\n",
       "    </tr>\n",
       "  </thead>\n",
       "  <tbody>\n",
       "    <tr>\n",
       "      <th>count</th>\n",
       "      <td>85.0</td>\n",
       "      <td>0.0</td>\n",
       "      <td>85.000000</td>\n",
       "      <td>85.000000</td>\n",
       "      <td>85.000000</td>\n",
       "      <td>85.000000</td>\n",
       "      <td>8.500000e+01</td>\n",
       "    </tr>\n",
       "    <tr>\n",
       "      <th>mean</th>\n",
       "      <td>100.0</td>\n",
       "      <td>NaN</td>\n",
       "      <td>6.322170</td>\n",
       "      <td>0.171035</td>\n",
       "      <td>59.130650</td>\n",
       "      <td>65.480519</td>\n",
       "      <td>4.832391e-01</td>\n",
       "    </tr>\n",
       "    <tr>\n",
       "      <th>std</th>\n",
       "      <td>0.0</td>\n",
       "      <td>NaN</td>\n",
       "      <td>5.150706</td>\n",
       "      <td>0.186227</td>\n",
       "      <td>12.542426</td>\n",
       "      <td>115.226447</td>\n",
       "      <td>2.253974e+00</td>\n",
       "    </tr>\n",
       "    <tr>\n",
       "      <th>min</th>\n",
       "      <td>100.0</td>\n",
       "      <td>NaN</td>\n",
       "      <td>0.280386</td>\n",
       "      <td>0.019019</td>\n",
       "      <td>29.709151</td>\n",
       "      <td>0.083282</td>\n",
       "      <td>6.266085e-31</td>\n",
       "    </tr>\n",
       "    <tr>\n",
       "      <th>25%</th>\n",
       "      <td>100.0</td>\n",
       "      <td>NaN</td>\n",
       "      <td>3.147858</td>\n",
       "      <td>0.082698</td>\n",
       "      <td>47.872296</td>\n",
       "      <td>9.977988</td>\n",
       "      <td>4.074377e-18</td>\n",
       "    </tr>\n",
       "    <tr>\n",
       "      <th>50%</th>\n",
       "      <td>100.0</td>\n",
       "      <td>NaN</td>\n",
       "      <td>4.855884</td>\n",
       "      <td>0.121473</td>\n",
       "      <td>65.133134</td>\n",
       "      <td>22.491379</td>\n",
       "      <td>1.730826e-15</td>\n",
       "    </tr>\n",
       "    <tr>\n",
       "      <th>75%</th>\n",
       "      <td>100.0</td>\n",
       "      <td>NaN</td>\n",
       "      <td>7.730085</td>\n",
       "      <td>0.213861</td>\n",
       "      <td>70.000000</td>\n",
       "      <td>60.969437</td>\n",
       "      <td>2.616459e-12</td>\n",
       "    </tr>\n",
       "    <tr>\n",
       "      <th>max</th>\n",
       "      <td>100.0</td>\n",
       "      <td>NaN</td>\n",
       "      <td>29.828591</td>\n",
       "      <td>1.524242</td>\n",
       "      <td>70.000000</td>\n",
       "      <td>749.817855</td>\n",
       "      <td>1.820208e+01</td>\n",
       "    </tr>\n",
       "  </tbody>\n",
       "</table>\n",
       "</div>"
      ],
      "text/plain": [
       "       Distance  Mean        STD         CV      Range        Sill  \\\n",
       "count      85.0   0.0  85.000000  85.000000  85.000000   85.000000   \n",
       "mean      100.0   NaN   6.322170   0.171035  59.130650   65.480519   \n",
       "std         0.0   NaN   5.150706   0.186227  12.542426  115.226447   \n",
       "min       100.0   NaN   0.280386   0.019019  29.709151    0.083282   \n",
       "25%       100.0   NaN   3.147858   0.082698  47.872296    9.977988   \n",
       "50%       100.0   NaN   4.855884   0.121473  65.133134   22.491379   \n",
       "75%       100.0   NaN   7.730085   0.213861  70.000000   60.969437   \n",
       "max       100.0   NaN  29.828591   1.524242  70.000000  749.817855   \n",
       "\n",
       "             Nugget  \n",
       "count  8.500000e+01  \n",
       "mean   4.832391e-01  \n",
       "std    2.253974e+00  \n",
       "min    6.266085e-31  \n",
       "25%    4.074377e-18  \n",
       "50%    1.730826e-15  \n",
       "75%    2.616459e-12  \n",
       "max    1.820208e+01  "
      ]
     },
     "execution_count": 11,
     "metadata": {},
     "output_type": "execute_result"
    }
   ],
   "source": [
    "df_100 = df[df['Distance'] == 100].reset_index(drop = True)\n",
    "df_100.describe()"
   ]
  },
  {
   "cell_type": "code",
   "execution_count": 13,
   "metadata": {},
   "outputs": [
    {
     "data": {
      "image/png": "[encoded data removed]",
      "text/plain": [
       "<Figure size 1000x500 with 1 Axes>"
      ]
     },
     "metadata": {},
     "output_type": "display_data"
    }
   ],
   "source": [
    "x_ticks_array = [float(i)/10 for i in range(0,17)]\n",
    "plt.figure(figsize=(10,5))\n",
    "plt.title(\"100m x 100m ROI Coefficient of Variation Histogram\")\n",
    "plt.xticks(x_ticks_array)\n",
    "data = df_100['CV']\n",
    "ax = sns.histplot(data, bins=x_ticks_array, kde = False)\n",
    "plt.xlabel('Coefficient of Variation')\n",
    "plt.ylabel('Frequency')\n",
    "plt.grid()\n",
    "plt.show()"
   ]
  },
  {
   "cell_type": "code",
   "execution_count": 14,
   "metadata": {},
   "outputs": [],
   "source": [
    "x_ticks_array = [i for i in range(0,900,100)]"
   ]
  },
  {
   "cell_type": "code",
   "execution_count": 15,
   "metadata": {},
   "outputs": [
    {
     "data": {
      "image/png": "[encoded data removed]",
      "text/plain": [
       "<Figure size 1000x500 with 1 Axes>"
      ]
     },
     "metadata": {},
     "output_type": "display_data"
    }
   ],
   "source": [
    "plt.figure(figsize=(10,5))\n",
    "plt.title(\"100m x 100m ROI Sill Histogram\")\n",
    "plt.xticks(x_ticks_array)\n",
    "data = df_100['Sill']\n",
    "ax = sns.histplot(data, bins=x_ticks_array, kde = False)\n",
    "plt.xlabel('Sill')\n",
    "plt.ylabel('Frequency')\n",
    "plt.grid()\n",
    "plt.show()"
   ]
  },
  {
   "cell_type": "markdown",
   "metadata": {},
   "source": [
    "# 300m"
   ]
  },
  {
   "cell_type": "code",
   "execution_count": 16,
   "metadata": {},
   "outputs": [
    {
     "data": {
      "text/html": [
       "<div>\n",
       "<style scoped>\n",
       "    .dataframe tbody tr th:only-of-type {\n",
       "        vertical-align: middle;\n",
       "    }\n",
       "\n",
       "    .dataframe tbody tr th {\n",
       "        vertical-align: top;\n",
       "    }\n",
       "\n",
       "    .dataframe thead th {\n",
       "        text-align: right;\n",
       "    }\n",
       "</style>\n",
       "<table border=\"1\" class=\"dataframe\">\n",
       "  <thead>\n",
       "    <tr style=\"text-align: right;\">\n",
       "      <th></th>\n",
       "      <th>Distance</th>\n",
       "      <th>Mean</th>\n",
       "      <th>STD</th>\n",
       "      <th>CV</th>\n",
       "      <th>Range</th>\n",
       "      <th>Sill</th>\n",
       "      <th>Nugget</th>\n",
       "    </tr>\n",
       "  </thead>\n",
       "  <tbody>\n",
       "    <tr>\n",
       "      <th>count</th>\n",
       "      <td>85.0</td>\n",
       "      <td>0.0</td>\n",
       "      <td>85.000000</td>\n",
       "      <td>85.000000</td>\n",
       "      <td>85.000000</td>\n",
       "      <td>85.000000</td>\n",
       "      <td>8.500000e+01</td>\n",
       "    </tr>\n",
       "    <tr>\n",
       "      <th>mean</th>\n",
       "      <td>300.0</td>\n",
       "      <td>NaN</td>\n",
       "      <td>10.191403</td>\n",
       "      <td>0.269222</td>\n",
       "      <td>159.407483</td>\n",
       "      <td>185.962239</td>\n",
       "      <td>1.357200e+01</td>\n",
       "    </tr>\n",
       "    <tr>\n",
       "      <th>std</th>\n",
       "      <td>0.0</td>\n",
       "      <td>NaN</td>\n",
       "      <td>8.232434</td>\n",
       "      <td>0.242515</td>\n",
       "      <td>56.602923</td>\n",
       "      <td>336.600448</td>\n",
       "      <td>2.065281e+01</td>\n",
       "    </tr>\n",
       "    <tr>\n",
       "      <th>min</th>\n",
       "      <td>300.0</td>\n",
       "      <td>NaN</td>\n",
       "      <td>0.300380</td>\n",
       "      <td>0.045821</td>\n",
       "      <td>37.605226</td>\n",
       "      <td>0.090163</td>\n",
       "      <td>4.633943e-19</td>\n",
       "    </tr>\n",
       "    <tr>\n",
       "      <th>25%</th>\n",
       "      <td>300.0</td>\n",
       "      <td>NaN</td>\n",
       "      <td>4.710518</td>\n",
       "      <td>0.111478</td>\n",
       "      <td>116.219959</td>\n",
       "      <td>21.869732</td>\n",
       "      <td>1.496460e-12</td>\n",
       "    </tr>\n",
       "    <tr>\n",
       "      <th>50%</th>\n",
       "      <td>300.0</td>\n",
       "      <td>NaN</td>\n",
       "      <td>7.753429</td>\n",
       "      <td>0.203381</td>\n",
       "      <td>175.219841</td>\n",
       "      <td>61.591492</td>\n",
       "      <td>3.058690e+00</td>\n",
       "    </tr>\n",
       "    <tr>\n",
       "      <th>75%</th>\n",
       "      <td>300.0</td>\n",
       "      <td>NaN</td>\n",
       "      <td>12.006967</td>\n",
       "      <td>0.298422</td>\n",
       "      <td>210.000000</td>\n",
       "      <td>153.006886</td>\n",
       "      <td>2.009790e+01</td>\n",
       "    </tr>\n",
       "    <tr>\n",
       "      <th>max</th>\n",
       "      <td>300.0</td>\n",
       "      <td>NaN</td>\n",
       "      <td>40.138760</td>\n",
       "      <td>1.398979</td>\n",
       "      <td>210.000000</td>\n",
       "      <td>2016.824986</td>\n",
       "      <td>9.687454e+01</td>\n",
       "    </tr>\n",
       "  </tbody>\n",
       "</table>\n",
       "</div>"
      ],
      "text/plain": [
       "       Distance  Mean        STD         CV       Range         Sill  \\\n",
       "count      85.0   0.0  85.000000  85.000000   85.000000    85.000000   \n",
       "mean      300.0   NaN  10.191403   0.269222  159.407483   185.962239   \n",
       "std         0.0   NaN   8.232434   0.242515   56.602923   336.600448   \n",
       "min       300.0   NaN   0.300380   0.045821   37.605226     0.090163   \n",
       "25%       300.0   NaN   4.710518   0.111478  116.219959    21.869732   \n",
       "50%       300.0   NaN   7.753429   0.203381  175.219841    61.591492   \n",
       "75%       300.0   NaN  12.006967   0.298422  210.000000   153.006886   \n",
       "max       300.0   NaN  40.138760   1.398979  210.000000  2016.824986   \n",
       "\n",
       "             Nugget  \n",
       "count  8.500000e+01  \n",
       "mean   1.357200e+01  \n",
       "std    2.065281e+01  \n",
       "min    4.633943e-19  \n",
       "25%    1.496460e-12  \n",
       "50%    3.058690e+00  \n",
       "75%    2.009790e+01  \n",
       "max    9.687454e+01  "
      ]
     },
     "execution_count": 16,
     "metadata": {},
     "output_type": "execute_result"
    }
   ],
   "source": [
    "df_300 = df[df['Distance'] == 300].reset_index(drop = True)\n",
    "df_300.describe()"
   ]
  },
  {
   "cell_type": "code",
   "execution_count": 17,
   "metadata": {},
   "outputs": [
    {
     "data": {
      "text/plain": [
       "[0.0, 0.1, 0.2, 0.3, 0.4, 0.5, 0.6, 0.7, 0.8, 0.9, 1.0, 1.1, 1.2, 1.3, 1.4]"
      ]
     },
     "execution_count": 17,
     "metadata": {},
     "output_type": "execute_result"
    }
   ],
   "source": [
    "x_ticks_array = [float(i)/10 for i in range(0,15)]\n",
    "x_ticks_array"
   ]
  },
  {
   "cell_type": "code",
   "execution_count": 18,
   "metadata": {},
   "outputs": [
    {
     "data": {
      "image/png": "[encoded data removed]",
      "text/plain": [
       "<Figure size 1000x500 with 1 Axes>"
      ]
     },
     "metadata": {},
     "output_type": "display_data"
    }
   ],
   "source": [
    "plt.figure(figsize=(10,5))\n",
    "plt.title(\"300m x 300m ROI Coefficient of Variation Histogram\")\n",
    "plt.xticks(x_ticks_array)\n",
    "data = df_300['CV']\n",
    "ax = sns.histplot(data, bins=x_ticks_array, kde = False)\n",
    "plt.xlabel('Coefficient of Variation')\n",
    "plt.ylabel('Frequency')\n",
    "plt.grid()\n",
    "plt.show()"
   ]
  },
  {
   "cell_type": "code",
   "execution_count": 39,
   "metadata": {},
   "outputs": [],
   "source": [
    "x_ticks_array = [i for i in range(0,2200,100)]"
   ]
  },
  {
   "cell_type": "code",
   "execution_count": 40,
   "metadata": {},
   "outputs": [
    {
     "data": {
      "image/png": "[encoded data removed]",
      "text/plain": [
       "<Figure size 1000x500 with 1 Axes>"
      ]
     },
     "metadata": {},
     "output_type": "display_data"
    }
   ],
   "source": [
    "plt.figure(figsize=(10,5))\n",
    "plt.title(\"300m x 300m ROI Sill Histogram\")\n",
    "plt.xticks(x_ticks_array)\n",
    "data = df_300['Sill']\n",
    "ax = sns.histplot(data, bins=x_ticks_array, kde = False)\n",
    "plt.xticks(rotation = 45)\n",
    "plt.xlabel('Sill')\n",
    "plt.ylabel('Frequency')\n",
    "plt.grid()\n",
    "plt.show()"
   ]
  },
  {
   "cell_type": "markdown",
   "metadata": {},
   "source": [
    "# 600m"
   ]
  },
  {
   "cell_type": "code",
   "execution_count": 34,
   "metadata": {},
   "outputs": [
    {
     "data": {
      "text/html": [
       "<div>\n",
       "<style scoped>\n",
       "    .dataframe tbody tr th:only-of-type {\n",
       "        vertical-align: middle;\n",
       "    }\n",
       "\n",
       "    .dataframe tbody tr th {\n",
       "        vertical-align: top;\n",
       "    }\n",
       "\n",
       "    .dataframe thead th {\n",
       "        text-align: right;\n",
       "    }\n",
       "</style>\n",
       "<table border=\"1\" class=\"dataframe\">\n",
       "  <thead>\n",
       "    <tr style=\"text-align: right;\">\n",
       "      <th></th>\n",
       "      <th>Distance</th>\n",
       "      <th>Mean</th>\n",
       "      <th>STD</th>\n",
       "      <th>CV</th>\n",
       "      <th>Range</th>\n",
       "      <th>Sill</th>\n",
       "      <th>Nugget</th>\n",
       "    </tr>\n",
       "  </thead>\n",
       "  <tbody>\n",
       "    <tr>\n",
       "      <th>count</th>\n",
       "      <td>85.0</td>\n",
       "      <td>12.000000</td>\n",
       "      <td>85.000000</td>\n",
       "      <td>85.000000</td>\n",
       "      <td>85.000000</td>\n",
       "      <td>85.000000</td>\n",
       "      <td>8.500000e+01</td>\n",
       "    </tr>\n",
       "    <tr>\n",
       "      <th>mean</th>\n",
       "      <td>600.0</td>\n",
       "      <td>43.575963</td>\n",
       "      <td>12.448542</td>\n",
       "      <td>0.316111</td>\n",
       "      <td>247.957802</td>\n",
       "      <td>254.638353</td>\n",
       "      <td>2.520018e+01</td>\n",
       "    </tr>\n",
       "    <tr>\n",
       "      <th>std</th>\n",
       "      <td>0.0</td>\n",
       "      <td>17.640696</td>\n",
       "      <td>9.361750</td>\n",
       "      <td>0.270172</td>\n",
       "      <td>152.444047</td>\n",
       "      <td>402.511012</td>\n",
       "      <td>4.642247e+01</td>\n",
       "    </tr>\n",
       "    <tr>\n",
       "      <th>min</th>\n",
       "      <td>600.0</td>\n",
       "      <td>18.334621</td>\n",
       "      <td>0.339874</td>\n",
       "      <td>0.048321</td>\n",
       "      <td>20.000000</td>\n",
       "      <td>0.114099</td>\n",
       "      <td>3.043080e-18</td>\n",
       "    </tr>\n",
       "    <tr>\n",
       "      <th>25%</th>\n",
       "      <td>600.0</td>\n",
       "      <td>32.406830</td>\n",
       "      <td>6.132401</td>\n",
       "      <td>0.138381</td>\n",
       "      <td>118.606773</td>\n",
       "      <td>19.096997</td>\n",
       "      <td>9.193732e-01</td>\n",
       "    </tr>\n",
       "    <tr>\n",
       "      <th>50%</th>\n",
       "      <td>600.0</td>\n",
       "      <td>38.322919</td>\n",
       "      <td>8.952354</td>\n",
       "      <td>0.212261</td>\n",
       "      <td>247.790190</td>\n",
       "      <td>78.705165</td>\n",
       "      <td>9.274545e+00</td>\n",
       "    </tr>\n",
       "    <tr>\n",
       "      <th>75%</th>\n",
       "      <td>600.0</td>\n",
       "      <td>54.272325</td>\n",
       "      <td>15.342116</td>\n",
       "      <td>0.410536</td>\n",
       "      <td>420.000000</td>\n",
       "      <td>274.091808</td>\n",
       "      <td>2.595890e+01</td>\n",
       "    </tr>\n",
       "    <tr>\n",
       "      <th>max</th>\n",
       "      <td>600.0</td>\n",
       "      <td>83.869758</td>\n",
       "      <td>39.667584</td>\n",
       "      <td>1.278019</td>\n",
       "      <td>420.000000</td>\n",
       "      <td>1821.772776</td>\n",
       "      <td>2.982263e+02</td>\n",
       "    </tr>\n",
       "  </tbody>\n",
       "</table>\n",
       "</div>"
      ],
      "text/plain": [
       "       Distance       Mean        STD         CV       Range         Sill  \\\n",
       "count      85.0  12.000000  85.000000  85.000000   85.000000    85.000000   \n",
       "mean      600.0  43.575963  12.448542   0.316111  247.957802   254.638353   \n",
       "std         0.0  17.640696   9.361750   0.270172  152.444047   402.511012   \n",
       "min       600.0  18.334621   0.339874   0.048321   20.000000     0.114099   \n",
       "25%       600.0  32.406830   6.132401   0.138381  118.606773    19.096997   \n",
       "50%       600.0  38.322919   8.952354   0.212261  247.790190    78.705165   \n",
       "75%       600.0  54.272325  15.342116   0.410536  420.000000   274.091808   \n",
       "max       600.0  83.869758  39.667584   1.278019  420.000000  1821.772776   \n",
       "\n",
       "             Nugget  \n",
       "count  8.500000e+01  \n",
       "mean   2.520018e+01  \n",
       "std    4.642247e+01  \n",
       "min    3.043080e-18  \n",
       "25%    9.193732e-01  \n",
       "50%    9.274545e+00  \n",
       "75%    2.595890e+01  \n",
       "max    2.982263e+02  "
      ]
     },
     "execution_count": 34,
     "metadata": {},
     "output_type": "execute_result"
    }
   ],
   "source": [
    "df_600 = df[df['Distance'] == 600].reset_index(drop = True)\n",
    "df_600 = df_600[~df_600['Site'].isin(list_Site_Moved)]\n",
    "df_600.describe()"
   ]
  },
  {
   "cell_type": "code",
   "execution_count": 35,
   "metadata": {},
   "outputs": [
    {
     "data": {
      "text/plain": [
       "[0.0, 0.1, 0.2, 0.3, 0.4, 0.5, 0.6, 0.7, 0.8, 0.9, 1.0, 1.1, 1.2, 1.3]"
      ]
     },
     "execution_count": 35,
     "metadata": {},
     "output_type": "execute_result"
    }
   ],
   "source": [
    "x_ticks_array = [float(i)/10 for i in range(0,14)]\n",
    "x_ticks_array"
   ]
  },
  {
   "cell_type": "code",
   "execution_count": 36,
   "metadata": {},
   "outputs": [
    {
     "data": {
      "image/png": "[encoded data removed]",
      "text/plain": [
       "<Figure size 1000x500 with 1 Axes>"
      ]
     },
     "metadata": {},
     "output_type": "display_data"
    }
   ],
   "source": [
    "plt.figure(figsize=(10,5))\n",
    "plt.title(\"600m x 600m ROI Coefficient of Variation Histogram\")\n",
    "plt.xticks(x_ticks_array)\n",
    "data = df_600['CV']\n",
    "ax = sns.histplot(data, bins=x_ticks_array, kde = False)\n",
    "plt.xlabel('Coefficient of Variation')\n",
    "plt.ylabel('Frequency')\n",
    "plt.grid()\n",
    "plt.show()"
   ]
  },
  {
   "cell_type": "code",
   "execution_count": 37,
   "metadata": {},
   "outputs": [],
   "source": [
    "x_ticks_array = [i for i in range(0,2000,100)]"
   ]
  },
  {
   "cell_type": "code",
   "execution_count": 38,
   "metadata": {},
   "outputs": [
    {
     "data": {
      "image/png": "[encoded data removed]",
      "text/plain": [
       "<Figure size 1000x500 with 1 Axes>"
      ]
     },
     "metadata": {},
     "output_type": "display_data"
    }
   ],
   "source": [
    "plt.figure(figsize=(10,5))\n",
    "plt.title(\"600m x 600m ROI Sill Histogram\")\n",
    "plt.xticks(x_ticks_array)\n",
    "data = df_600['Sill']\n",
    "ax = sns.histplot(data, bins=x_ticks_array, kde = False)\n",
    "plt.xticks(rotation = 45)\n",
    "plt.xlabel('Sill')\n",
    "plt.ylabel('Frequency')\n",
    "plt.grid()\n",
    "plt.show()"
   ]
  },
  {
   "cell_type": "markdown",
   "metadata": {},
   "source": [
    "# 900m"
   ]
  },
  {
   "cell_type": "code",
   "execution_count": 21,
   "metadata": {},
   "outputs": [
    {
     "data": {
      "text/html": [
       "<div>\n",
       "<style scoped>\n",
       "    .dataframe tbody tr th:only-of-type {\n",
       "        vertical-align: middle;\n",
       "    }\n",
       "\n",
       "    .dataframe tbody tr th {\n",
       "        vertical-align: top;\n",
       "    }\n",
       "\n",
       "    .dataframe thead th {\n",
       "        text-align: right;\n",
       "    }\n",
       "</style>\n",
       "<table border=\"1\" class=\"dataframe\">\n",
       "  <thead>\n",
       "    <tr style=\"text-align: right;\">\n",
       "      <th></th>\n",
       "      <th>Distance</th>\n",
       "      <th>Mean</th>\n",
       "      <th>STD</th>\n",
       "      <th>CV</th>\n",
       "      <th>Range</th>\n",
       "      <th>Sill</th>\n",
       "      <th>Nugget</th>\n",
       "    </tr>\n",
       "  </thead>\n",
       "  <tbody>\n",
       "    <tr>\n",
       "      <th>count</th>\n",
       "      <td>85.0</td>\n",
       "      <td>0.0</td>\n",
       "      <td>85.000000</td>\n",
       "      <td>85.000000</td>\n",
       "      <td>85.000000</td>\n",
       "      <td>85.000000</td>\n",
       "      <td>8.500000e+01</td>\n",
       "    </tr>\n",
       "    <tr>\n",
       "      <th>mean</th>\n",
       "      <td>900.0</td>\n",
       "      <td>NaN</td>\n",
       "      <td>14.555332</td>\n",
       "      <td>0.353623</td>\n",
       "      <td>415.297833</td>\n",
       "      <td>338.494914</td>\n",
       "      <td>4.609187e+01</td>\n",
       "    </tr>\n",
       "    <tr>\n",
       "      <th>std</th>\n",
       "      <td>0.0</td>\n",
       "      <td>NaN</td>\n",
       "      <td>9.877625</td>\n",
       "      <td>0.240414</td>\n",
       "      <td>214.970450</td>\n",
       "      <td>461.956605</td>\n",
       "      <td>7.053461e+01</td>\n",
       "    </tr>\n",
       "    <tr>\n",
       "      <th>min</th>\n",
       "      <td>900.0</td>\n",
       "      <td>NaN</td>\n",
       "      <td>0.394323</td>\n",
       "      <td>0.065007</td>\n",
       "      <td>48.980640</td>\n",
       "      <td>0.150287</td>\n",
       "      <td>3.347994e-17</td>\n",
       "    </tr>\n",
       "    <tr>\n",
       "      <th>25%</th>\n",
       "      <td>900.0</td>\n",
       "      <td>NaN</td>\n",
       "      <td>7.979820</td>\n",
       "      <td>0.184484</td>\n",
       "      <td>199.457211</td>\n",
       "      <td>65.600602</td>\n",
       "      <td>2.889237e+00</td>\n",
       "    </tr>\n",
       "    <tr>\n",
       "      <th>50%</th>\n",
       "      <td>900.0</td>\n",
       "      <td>NaN</td>\n",
       "      <td>11.449349</td>\n",
       "      <td>0.265084</td>\n",
       "      <td>465.729242</td>\n",
       "      <td>136.418501</td>\n",
       "      <td>1.839323e+01</td>\n",
       "    </tr>\n",
       "    <tr>\n",
       "      <th>75%</th>\n",
       "      <td>900.0</td>\n",
       "      <td>NaN</td>\n",
       "      <td>19.686344</td>\n",
       "      <td>0.487913</td>\n",
       "      <td>630.000000</td>\n",
       "      <td>438.814722</td>\n",
       "      <td>6.056222e+01</td>\n",
       "    </tr>\n",
       "    <tr>\n",
       "      <th>max</th>\n",
       "      <td>900.0</td>\n",
       "      <td>NaN</td>\n",
       "      <td>46.309982</td>\n",
       "      <td>1.111468</td>\n",
       "      <td>630.000000</td>\n",
       "      <td>2445.577708</td>\n",
       "      <td>3.961858e+02</td>\n",
       "    </tr>\n",
       "  </tbody>\n",
       "</table>\n",
       "</div>"
      ],
      "text/plain": [
       "       Distance  Mean        STD         CV       Range         Sill  \\\n",
       "count      85.0   0.0  85.000000  85.000000   85.000000    85.000000   \n",
       "mean      900.0   NaN  14.555332   0.353623  415.297833   338.494914   \n",
       "std         0.0   NaN   9.877625   0.240414  214.970450   461.956605   \n",
       "min       900.0   NaN   0.394323   0.065007   48.980640     0.150287   \n",
       "25%       900.0   NaN   7.979820   0.184484  199.457211    65.600602   \n",
       "50%       900.0   NaN  11.449349   0.265084  465.729242   136.418501   \n",
       "75%       900.0   NaN  19.686344   0.487913  630.000000   438.814722   \n",
       "max       900.0   NaN  46.309982   1.111468  630.000000  2445.577708   \n",
       "\n",
       "             Nugget  \n",
       "count  8.500000e+01  \n",
       "mean   4.609187e+01  \n",
       "std    7.053461e+01  \n",
       "min    3.347994e-17  \n",
       "25%    2.889237e+00  \n",
       "50%    1.839323e+01  \n",
       "75%    6.056222e+01  \n",
       "max    3.961858e+02  "
      ]
     },
     "execution_count": 21,
     "metadata": {},
     "output_type": "execute_result"
    }
   ],
   "source": [
    "df_900 = df[df['Distance'] == 900].reset_index(drop = True)\n",
    "df_900.describe()"
   ]
  },
  {
   "cell_type": "code",
   "execution_count": 22,
   "metadata": {},
   "outputs": [
    {
     "data": {
      "text/plain": [
       "[0.0, 0.1, 0.2, 0.3, 0.4, 0.5, 0.6, 0.7, 0.8, 0.9, 1.0, 1.1, 1.2]"
      ]
     },
     "execution_count": 22,
     "metadata": {},
     "output_type": "execute_result"
    }
   ],
   "source": [
    "x_ticks_array = [float(i)/10 for i in range(0,13)]\n",
    "x_ticks_array"
   ]
  },
  {
   "cell_type": "code",
   "execution_count": 23,
   "metadata": {},
   "outputs": [
    {
     "data": {
      "image/png": "[encoded data removed]",
      "text/plain": [
       "<Figure size 1000x500 with 1 Axes>"
      ]
     },
     "metadata": {},
     "output_type": "display_data"
    }
   ],
   "source": [
    "plt.figure(figsize=(10,5))\n",
    "plt.title(\"900m x 900m ROI Coefficient of Variation Histogram\")\n",
    "plt.xticks(x_ticks_array)\n",
    "data = df_900['CV']\n",
    "ax = sns.histplot(data, bins=x_ticks_array, kde = False)\n",
    "plt.xlabel('Coefficient of Variation')\n",
    "plt.ylabel('Frequency')\n",
    "plt.grid()\n",
    "plt.show()"
   ]
  },
  {
   "cell_type": "code",
   "execution_count": 24,
   "metadata": {},
   "outputs": [],
   "source": [
    "x_ticks_array = [i for i in range(0,2600,100)]"
   ]
  },
  {
   "cell_type": "code",
   "execution_count": 25,
   "metadata": {},
   "outputs": [
    {
     "data": {
      "image/png": "[encoded data removed]",
      "text/plain": [
       "<Figure size 1000x500 with 1 Axes>"
      ]
     },
     "metadata": {},
     "output_type": "display_data"
    }
   ],
   "source": [
    "plt.figure(figsize=(10,5))\n",
    "plt.title(\"900m x 900m ROI Sill Histogram\")\n",
    "plt.xticks(x_ticks_array)\n",
    "data = df_900['Sill']\n",
    "ax = sns.histplot(data, bins=x_ticks_array, kde = False)\n",
    "plt.xticks(rotation = 45)\n",
    "plt.xlabel('Sill')\n",
    "plt.ylabel('Frequency')\n",
    "plt.grid()\n",
    "plt.show()"
   ]
  },
  {
   "cell_type": "markdown",
   "metadata": {},
   "source": [
    "# Export"
   ]
  },
  {
   "cell_type": "code",
   "execution_count": 24,
   "metadata": {},
   "outputs": [
    {
     "data": {
      "text/html": [
       "<div>\n",
       "<style scoped>\n",
       "    .dataframe tbody tr th:only-of-type {\n",
       "        vertical-align: middle;\n",
       "    }\n",
       "\n",
       "    .dataframe tbody tr th {\n",
       "        vertical-align: top;\n",
       "    }\n",
       "\n",
       "    .dataframe thead th {\n",
       "        text-align: right;\n",
       "    }\n",
       "</style>\n",
       "<table border=\"1\" class=\"dataframe\">\n",
       "  <thead>\n",
       "    <tr style=\"text-align: right;\">\n",
       "      <th></th>\n",
       "      <th>Site</th>\n",
       "      <th>CV</th>\n",
       "    </tr>\n",
       "  </thead>\n",
       "  <tbody>\n",
       "    <tr>\n",
       "      <th>95</th>\n",
       "      <td>US-LIN</td>\n",
       "      <td>0.048321</td>\n",
       "    </tr>\n",
       "    <tr>\n",
       "      <th>47</th>\n",
       "      <td>GHNA</td>\n",
       "      <td>0.057228</td>\n",
       "    </tr>\n",
       "    <tr>\n",
       "      <th>3</th>\n",
       "      <td>AT-Mmg</td>\n",
       "      <td>0.058228</td>\n",
       "    </tr>\n",
       "    <tr>\n",
       "      <th>98</th>\n",
       "      <td>US-SERC New</td>\n",
       "      <td>0.077073</td>\n",
       "    </tr>\n",
       "    <tr>\n",
       "      <th>97</th>\n",
       "      <td>US-SERC</td>\n",
       "      <td>0.094402</td>\n",
       "    </tr>\n",
       "    <tr>\n",
       "      <th>...</th>\n",
       "      <td>...</td>\n",
       "      <td>...</td>\n",
       "    </tr>\n",
       "    <tr>\n",
       "      <th>50</th>\n",
       "      <td>IN-JOD</td>\n",
       "      <td>0.812800</td>\n",
       "    </tr>\n",
       "    <tr>\n",
       "      <th>21</th>\n",
       "      <td>DE-JUL1</td>\n",
       "      <td>1.135569</td>\n",
       "    </tr>\n",
       "    <tr>\n",
       "      <th>65</th>\n",
       "      <td>LOBE</td>\n",
       "      <td>1.250840</td>\n",
       "    </tr>\n",
       "    <tr>\n",
       "      <th>8</th>\n",
       "      <td>BE-WAL</td>\n",
       "      <td>1.266192</td>\n",
       "    </tr>\n",
       "    <tr>\n",
       "      <th>27</th>\n",
       "      <td>DE-SEL</td>\n",
       "      <td>1.278019</td>\n",
       "    </tr>\n",
       "  </tbody>\n",
       "</table>\n",
       "<p>101 rows × 2 columns</p>\n",
       "</div>"
      ],
      "text/plain": [
       "           Site        CV\n",
       "95       US-LIN  0.048321\n",
       "47         GHNA  0.057228\n",
       "3        AT-Mmg  0.058228\n",
       "98  US-SERC New  0.077073\n",
       "97      US-SERC  0.094402\n",
       "..          ...       ...\n",
       "50       IN-JOD  0.812800\n",
       "21      DE-JUL1  1.135569\n",
       "65         LOBE  1.250840\n",
       "8        BE-WAL  1.266192\n",
       "27       DE-SEL  1.278019\n",
       "\n",
       "[101 rows x 2 columns]"
      ]
     },
     "execution_count": 24,
     "metadata": {},
     "output_type": "execute_result"
    }
   ],
   "source": [
    "df_600_CV = df_600[['Site','CV']].sort_values(by = 'CV', ascending=True)\n",
    "df_600_CV"
   ]
  },
  {
   "cell_type": "code",
   "execution_count": 25,
   "metadata": {},
   "outputs": [
    {
     "data": {
      "text/html": [
       "<div>\n",
       "<style scoped>\n",
       "    .dataframe tbody tr th:only-of-type {\n",
       "        vertical-align: middle;\n",
       "    }\n",
       "\n",
       "    .dataframe tbody tr th {\n",
       "        vertical-align: top;\n",
       "    }\n",
       "\n",
       "    .dataframe thead th {\n",
       "        text-align: right;\n",
       "    }\n",
       "</style>\n",
       "<table border=\"1\" class=\"dataframe\">\n",
       "  <thead>\n",
       "    <tr style=\"text-align: right;\">\n",
       "      <th></th>\n",
       "      <th>Site</th>\n",
       "      <th>Sill</th>\n",
       "    </tr>\n",
       "  </thead>\n",
       "  <tbody>\n",
       "    <tr>\n",
       "      <th>47</th>\n",
       "      <td>GHNA</td>\n",
       "      <td>0.114099</td>\n",
       "    </tr>\n",
       "    <tr>\n",
       "      <th>64</th>\n",
       "      <td>KEN-KAP</td>\n",
       "      <td>2.017366</td>\n",
       "    </tr>\n",
       "    <tr>\n",
       "      <th>16</th>\n",
       "      <td>Dahara (Senegal)</td>\n",
       "      <td>2.143269</td>\n",
       "    </tr>\n",
       "    <tr>\n",
       "      <th>3</th>\n",
       "      <td>AT-Mmg</td>\n",
       "      <td>3.904039</td>\n",
       "    </tr>\n",
       "    <tr>\n",
       "      <th>76</th>\n",
       "      <td>SE-Svb</td>\n",
       "      <td>6.435816</td>\n",
       "    </tr>\n",
       "    <tr>\n",
       "      <th>...</th>\n",
       "      <td>...</td>\n",
       "      <td>...</td>\n",
       "    </tr>\n",
       "    <tr>\n",
       "      <th>87</th>\n",
       "      <td>UK-1</td>\n",
       "      <td>1005.389047</td>\n",
       "    </tr>\n",
       "    <tr>\n",
       "      <th>27</th>\n",
       "      <td>DE-SEL</td>\n",
       "      <td>1518.350338</td>\n",
       "    </tr>\n",
       "    <tr>\n",
       "      <th>21</th>\n",
       "      <td>DE-JUL1</td>\n",
       "      <td>1641.114040</td>\n",
       "    </tr>\n",
       "    <tr>\n",
       "      <th>74</th>\n",
       "      <td>S. KOREA-FOR 1</td>\n",
       "      <td>1667.303061</td>\n",
       "    </tr>\n",
       "    <tr>\n",
       "      <th>75</th>\n",
       "      <td>S. KOREA-FOR 2</td>\n",
       "      <td>1821.772776</td>\n",
       "    </tr>\n",
       "  </tbody>\n",
       "</table>\n",
       "<p>101 rows × 2 columns</p>\n",
       "</div>"
      ],
      "text/plain": [
       "                Site         Sill\n",
       "47              GHNA     0.114099\n",
       "64           KEN-KAP     2.017366\n",
       "16  Dahara (Senegal)     2.143269\n",
       "3             AT-Mmg     3.904039\n",
       "76            SE-Svb     6.435816\n",
       "..               ...          ...\n",
       "87              UK-1  1005.389047\n",
       "27            DE-SEL  1518.350338\n",
       "21           DE-JUL1  1641.114040\n",
       "74    S. KOREA-FOR 1  1667.303061\n",
       "75    S. KOREA-FOR 2  1821.772776\n",
       "\n",
       "[101 rows x 2 columns]"
      ]
     },
     "execution_count": 25,
     "metadata": {},
     "output_type": "execute_result"
    }
   ],
   "source": [
    "df_600_Sill = df_600[['Site','Sill']].sort_values(by = 'Sill', ascending=True)\n",
    "df_600_Sill"
   ]
  },
  {
   "cell_type": "code",
   "execution_count": 26,
   "metadata": {},
   "outputs": [
    {
     "data": {
      "text/html": [
       "<div>\n",
       "<style scoped>\n",
       "    .dataframe tbody tr th:only-of-type {\n",
       "        vertical-align: middle;\n",
       "    }\n",
       "\n",
       "    .dataframe tbody tr th {\n",
       "        vertical-align: top;\n",
       "    }\n",
       "\n",
       "    .dataframe thead th {\n",
       "        text-align: right;\n",
       "    }\n",
       "</style>\n",
       "<table border=\"1\" class=\"dataframe\">\n",
       "  <thead>\n",
       "    <tr style=\"text-align: right;\">\n",
       "      <th></th>\n",
       "      <th>Site</th>\n",
       "      <th>CV</th>\n",
       "    </tr>\n",
       "  </thead>\n",
       "  <tbody>\n",
       "    <tr>\n",
       "      <th>3</th>\n",
       "      <td>AT-Mmg</td>\n",
       "      <td>0.065007</td>\n",
       "    </tr>\n",
       "    <tr>\n",
       "      <th>47</th>\n",
       "      <td>GHNA</td>\n",
       "      <td>0.066343</td>\n",
       "    </tr>\n",
       "    <tr>\n",
       "      <th>66</th>\n",
       "      <td>NED-ESSEN</td>\n",
       "      <td>0.103212</td>\n",
       "    </tr>\n",
       "    <tr>\n",
       "      <th>64</th>\n",
       "      <td>KEN-KAP</td>\n",
       "      <td>0.104686</td>\n",
       "    </tr>\n",
       "    <tr>\n",
       "      <th>49</th>\n",
       "      <td>INDONESIA</td>\n",
       "      <td>0.109921</td>\n",
       "    </tr>\n",
       "    <tr>\n",
       "      <th>...</th>\n",
       "      <td>...</td>\n",
       "      <td>...</td>\n",
       "    </tr>\n",
       "    <tr>\n",
       "      <th>48</th>\n",
       "      <td>IFAR</td>\n",
       "      <td>0.846683</td>\n",
       "    </tr>\n",
       "    <tr>\n",
       "      <th>21</th>\n",
       "      <td>DE-JUL1</td>\n",
       "      <td>0.927362</td>\n",
       "    </tr>\n",
       "    <tr>\n",
       "      <th>65</th>\n",
       "      <td>LOBE</td>\n",
       "      <td>1.080139</td>\n",
       "    </tr>\n",
       "    <tr>\n",
       "      <th>8</th>\n",
       "      <td>BE-WAL</td>\n",
       "      <td>1.086659</td>\n",
       "    </tr>\n",
       "    <tr>\n",
       "      <th>27</th>\n",
       "      <td>DE-SEL</td>\n",
       "      <td>1.111468</td>\n",
       "    </tr>\n",
       "  </tbody>\n",
       "</table>\n",
       "<p>101 rows × 2 columns</p>\n",
       "</div>"
      ],
      "text/plain": [
       "         Site        CV\n",
       "3      AT-Mmg  0.065007\n",
       "47       GHNA  0.066343\n",
       "66  NED-ESSEN  0.103212\n",
       "64    KEN-KAP  0.104686\n",
       "49  INDONESIA  0.109921\n",
       "..        ...       ...\n",
       "48       IFAR  0.846683\n",
       "21    DE-JUL1  0.927362\n",
       "65       LOBE  1.080139\n",
       "8      BE-WAL  1.086659\n",
       "27     DE-SEL  1.111468\n",
       "\n",
       "[101 rows x 2 columns]"
      ]
     },
     "execution_count": 26,
     "metadata": {},
     "output_type": "execute_result"
    }
   ],
   "source": [
    "df_900_CV = df_900[['Site','CV']].sort_values(by = 'CV', ascending=True)\n",
    "df_900_CV"
   ]
  },
  {
   "cell_type": "code",
   "execution_count": 27,
   "metadata": {},
   "outputs": [
    {
     "data": {
      "text/html": [
       "<div>\n",
       "<style scoped>\n",
       "    .dataframe tbody tr th:only-of-type {\n",
       "        vertical-align: middle;\n",
       "    }\n",
       "\n",
       "    .dataframe tbody tr th {\n",
       "        vertical-align: top;\n",
       "    }\n",
       "\n",
       "    .dataframe thead th {\n",
       "        text-align: right;\n",
       "    }\n",
       "</style>\n",
       "<table border=\"1\" class=\"dataframe\">\n",
       "  <thead>\n",
       "    <tr style=\"text-align: right;\">\n",
       "      <th></th>\n",
       "      <th>Site</th>\n",
       "      <th>Sill</th>\n",
       "    </tr>\n",
       "  </thead>\n",
       "  <tbody>\n",
       "    <tr>\n",
       "      <th>47</th>\n",
       "      <td>GHNA</td>\n",
       "      <td>0.150287</td>\n",
       "    </tr>\n",
       "    <tr>\n",
       "      <th>64</th>\n",
       "      <td>KEN-KAP</td>\n",
       "      <td>1.849329</td>\n",
       "    </tr>\n",
       "    <tr>\n",
       "      <th>16</th>\n",
       "      <td>Dahara (Senegal)</td>\n",
       "      <td>2.072566</td>\n",
       "    </tr>\n",
       "    <tr>\n",
       "      <th>3</th>\n",
       "      <td>AT-Mmg</td>\n",
       "      <td>5.146960</td>\n",
       "    </tr>\n",
       "    <tr>\n",
       "      <th>63</th>\n",
       "      <td>KEN-1</td>\n",
       "      <td>6.212538</td>\n",
       "    </tr>\n",
       "    <tr>\n",
       "      <th>...</th>\n",
       "      <td>...</td>\n",
       "      <td>...</td>\n",
       "    </tr>\n",
       "    <tr>\n",
       "      <th>89</th>\n",
       "      <td>UK-Amo</td>\n",
       "      <td>1185.883978</td>\n",
       "    </tr>\n",
       "    <tr>\n",
       "      <th>27</th>\n",
       "      <td>DE-SEL</td>\n",
       "      <td>1251.231069</td>\n",
       "    </tr>\n",
       "    <tr>\n",
       "      <th>21</th>\n",
       "      <td>DE-JUL1</td>\n",
       "      <td>1602.793618</td>\n",
       "    </tr>\n",
       "    <tr>\n",
       "      <th>74</th>\n",
       "      <td>S. KOREA-FOR 1</td>\n",
       "      <td>1872.685386</td>\n",
       "    </tr>\n",
       "    <tr>\n",
       "      <th>75</th>\n",
       "      <td>S. KOREA-FOR 2</td>\n",
       "      <td>2445.577708</td>\n",
       "    </tr>\n",
       "  </tbody>\n",
       "</table>\n",
       "<p>101 rows × 2 columns</p>\n",
       "</div>"
      ],
      "text/plain": [
       "                Site         Sill\n",
       "47              GHNA     0.150287\n",
       "64           KEN-KAP     1.849329\n",
       "16  Dahara (Senegal)     2.072566\n",
       "3             AT-Mmg     5.146960\n",
       "63             KEN-1     6.212538\n",
       "..               ...          ...\n",
       "89            UK-Amo  1185.883978\n",
       "27            DE-SEL  1251.231069\n",
       "21           DE-JUL1  1602.793618\n",
       "74    S. KOREA-FOR 1  1872.685386\n",
       "75    S. KOREA-FOR 2  2445.577708\n",
       "\n",
       "[101 rows x 2 columns]"
      ]
     },
     "execution_count": 27,
     "metadata": {},
     "output_type": "execute_result"
    }
   ],
   "source": [
    "df_900_Sill = df_900[['Site','Sill']].sort_values(by = 'Sill', ascending=True)\n",
    "df_900_Sill"
   ]
  },
  {
   "cell_type": "code",
   "execution_count": 28,
   "metadata": {},
   "outputs": [
    {
     "data": {
      "text/plain": [
       "<Axes: xlabel='Sill', ylabel='CV'>"
      ]
     },
     "execution_count": 28,
     "metadata": {},
     "output_type": "execute_result"
    },
    {
     "data": {
      "image/png": "[encoded data removed]",
      "text/plain": [
       "<Figure size 640x480 with 1 Axes>"
      ]
     },
     "metadata": {},
     "output_type": "display_data"
    }
   ],
   "source": [
    "sns.scatterplot(data=df_600, x=\"Sill\", y=\"CV\")"
   ]
  },
  {
   "cell_type": "code",
   "execution_count": 81,
   "metadata": {},
   "outputs": [
    {
     "data": {
      "text/plain": [
       "<Axes: xlabel='Sill', ylabel='CV'>"
      ]
     },
     "execution_count": 81,
     "metadata": {},
     "output_type": "execute_result"
    },
    {
     "data": {
      "image/png": "[encoded data removed]",
      "text/plain": [
       "<Figure size 640x480 with 1 Axes>"
      ]
     },
     "metadata": {},
     "output_type": "display_data"
    }
   ],
   "source": [
    "sns.scatterplot(data=df_900, x=\"Sill\", y=\"CV\")"
   ]
  },
  {
   "cell_type": "code",
   "execution_count": null,
   "metadata": {},
   "outputs": [],
   "source": []
  }
 ],
 "metadata": {
  "kernelspec": {
   "display_name": "DISC",
   "language": "python",
   "name": "python3"
  },
  "language_info": {
   "codemirror_mode": {
    "name": "ipython",
    "version": 3
   },
   "file_extension": ".py",
   "mimetype": "text/x-python",
   "name": "python",
   "nbconvert_exporter": "python",
   "pygments_lexer": "ipython3",
   "version": "3.12.4"
  }
 },
 "nbformat": 4,
 "nbformat_minor": 2
}
