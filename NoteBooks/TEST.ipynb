{
 "cells": [
  {
   "cell_type": "markdown",
   "metadata": {},
   "source": [
    "This notebook illustrates the workflow to calculate variogram of "
   ]
  },
  {
   "cell_type": "code",
   "execution_count": 68,
   "metadata": {},
   "outputs": [],
   "source": [
    "# Add python script files to the system env\n",
    "import sys  \n",
    "sys.path.insert(1, \"..\\\\My Functions\")\n",
    "# \n",
    "import numpy as np\n",
    "import pandas as pd\n",
    "import rasterio as rio\n",
    "from scipy.interpolate import interp1d\n",
    "import matplotlib.pyplot as plt\n",
    "# Import the custom python script files\n",
    "import my_Variogram\n",
    "import my_RomanMetrics\n",
    "import my_Variogram_Plot"
   ]
  },
  {
   "cell_type": "code",
   "execution_count": 69,
   "metadata": {},
   "outputs": [],
   "source": [
    "# \\\\DISC\n",
    "cwd = \"..\\\\..\\\\\"\n",
    "cwd_Images_Raw = cwd + \"\\\\Sentinel-2 Images Raw\"\n",
    "cwd_Images_Processed = cwd + \"\\\\Sentinel-2 Images Processed\""
   ]
  },
  {
   "cell_type": "code",
   "execution_count": 70,
   "metadata": {},
   "outputs": [],
   "source": [
    "cwd_Image_Folder = cwd + \"\\\\Sentinel-2 Images Processed\\\\US-LIN\""
   ]
  },
  {
   "cell_type": "code",
   "execution_count": 71,
   "metadata": {},
   "outputs": [],
   "source": [
    "# Set g\n",
    "g = 4.66"
   ]
  },
  {
   "cell_type": "code",
   "execution_count": 72,
   "metadata": {},
   "outputs": [],
   "source": [
    "# Set internal distance\n",
    "distances_Int = [30,30,100,300,300,300]\n",
    "# Set external distance\n",
    "distances_Ext = [100,300,300,600,900,1200]"
   ]
  },
  {
   "cell_type": "code",
   "execution_count": 73,
   "metadata": {},
   "outputs": [
    {
     "data": {
      "text/plain": [
       "[30, 100, 300, 600, 900, 1200]"
      ]
     },
     "execution_count": 73,
     "metadata": {},
     "output_type": "execute_result"
    }
   ],
   "source": [
    "# Get the unique distances so we can calculate the variogram first\n",
    "list_distances = list(set(distances_Int + distances_Ext))\n",
    "list_distances.sort()\n",
    "list_distances"
   ]
  },
  {
   "cell_type": "code",
   "execution_count": 74,
   "metadata": {},
   "outputs": [
    {
     "name": "stderr",
     "output_type": "stream",
     "text": [
      "c:\\ProgramData\\anaconda3\\envs\\DISC\\Lib\\site-packages\\skgstat\\Variogram.py:1715: OptimizeWarning: Covariance of the parameters could not be estimated\n",
      "  self.cof, self.cov = curve_fit(\n"
     ]
    },
    {
     "name": "stdout",
     "output_type": "stream",
     "text": [
      "Distance 30 has been calculated!\n",
      "Distance 100 has been calculated!\n",
      "Distance 300 has been calculated!\n",
      "Distance 600 has been calculated!\n",
      "Distance 900 has been calculated!\n",
      "Distance 1200 has been calculated!\n"
     ]
    }
   ],
   "source": [
    "list_std = []\n",
    "list_cv = []\n",
    "list_range = []\n",
    "list_nugget = []\n",
    "list_sill = []\n",
    "list_bins = []\n",
    "list_experimental_model = []\n",
    "list_fitted_model = []\n",
    "list_empiral_X = []\n",
    "list_empiral_Y = []\n",
    "for i in range(len(list_distances)):\n",
    "    img = rio.open(cwd_Image_Folder + \"\\\\NIRv \" + str(list_distances[i]) + \"m.tif\")\n",
    "    band = img.read(1).reshape(-1)\n",
    "    temp_std = my_Variogram.calc_STD(band)\n",
    "    temp_cv = my_Variogram.calc_CV(band)\n",
    "    coordinates = my_Variogram.get_Coordinates_from_Rio(img)\n",
    "    temp_range, temp_nugget, temp_sill, temp_bins, temp_experimental_model, temp_fitted_model, temp_empiral_X, temp_empiral_Y = my_Variogram.calc_Variogram_Parameters(band,coordinates,list_distances[i])\n",
    "    list_std.append(temp_std)\n",
    "    list_cv.append(temp_cv)\n",
    "    list_range.append(temp_range)\n",
    "    list_nugget.append(temp_nugget)\n",
    "    list_sill.append(temp_sill)\n",
    "    list_bins.append(temp_bins)\n",
    "    list_experimental_model.append(temp_experimental_model)\n",
    "    list_fitted_model.append(temp_fitted_model)\n",
    "    list_empiral_X.append(temp_empiral_X)\n",
    "    list_empiral_Y.append(temp_empiral_Y)\n",
    "    print(f\"Distance {list_distances[i]} has been calculated!\")"
   ]
  },
  {
   "cell_type": "code",
   "execution_count": 75,
   "metadata": {},
   "outputs": [
    {
     "data": {
      "text/html": [
       "<div>\n",
       "<style scoped>\n",
       "    .dataframe tbody tr th:only-of-type {\n",
       "        vertical-align: middle;\n",
       "    }\n",
       "\n",
       "    .dataframe tbody tr th {\n",
       "        vertical-align: top;\n",
       "    }\n",
       "\n",
       "    .dataframe thead th {\n",
       "        text-align: right;\n",
       "    }\n",
       "</style>\n",
       "<table border=\"1\" class=\"dataframe\">\n",
       "  <thead>\n",
       "    <tr style=\"text-align: right;\">\n",
       "      <th></th>\n",
       "      <th>Distance</th>\n",
       "      <th>STD</th>\n",
       "      <th>CV</th>\n",
       "      <th>Range</th>\n",
       "      <th>Sill</th>\n",
       "      <th>Nugget</th>\n",
       "    </tr>\n",
       "  </thead>\n",
       "  <tbody>\n",
       "    <tr>\n",
       "      <th>0</th>\n",
       "      <td>30</td>\n",
       "      <td>0.844591</td>\n",
       "      <td>0.008956</td>\n",
       "      <td>20.000000</td>\n",
       "      <td>0.626820</td>\n",
       "      <td>3.118349e-01</td>\n",
       "    </tr>\n",
       "    <tr>\n",
       "      <th>1</th>\n",
       "      <td>100</td>\n",
       "      <td>1.803579</td>\n",
       "      <td>0.019019</td>\n",
       "      <td>65.576055</td>\n",
       "      <td>3.883706</td>\n",
       "      <td>6.266085e-31</td>\n",
       "    </tr>\n",
       "    <tr>\n",
       "      <th>2</th>\n",
       "      <td>300</td>\n",
       "      <td>5.390128</td>\n",
       "      <td>0.057523</td>\n",
       "      <td>210.000000</td>\n",
       "      <td>31.142912</td>\n",
       "      <td>6.796741e+00</td>\n",
       "    </tr>\n",
       "    <tr>\n",
       "      <th>3</th>\n",
       "      <td>600</td>\n",
       "      <td>4.484857</td>\n",
       "      <td>0.048321</td>\n",
       "      <td>157.755668</td>\n",
       "      <td>21.122576</td>\n",
       "      <td>4.401695e+00</td>\n",
       "    </tr>\n",
       "    <tr>\n",
       "      <th>4</th>\n",
       "      <td>900</td>\n",
       "      <td>18.635796</td>\n",
       "      <td>0.211051</td>\n",
       "      <td>630.000000</td>\n",
       "      <td>347.913864</td>\n",
       "      <td>1.051105e+02</td>\n",
       "    </tr>\n",
       "    <tr>\n",
       "      <th>5</th>\n",
       "      <td>1200</td>\n",
       "      <td>31.965300</td>\n",
       "      <td>0.358960</td>\n",
       "      <td>836.615153</td>\n",
       "      <td>1041.065977</td>\n",
       "      <td>3.253057e+02</td>\n",
       "    </tr>\n",
       "  </tbody>\n",
       "</table>\n",
       "</div>"
      ],
      "text/plain": [
       "   Distance        STD        CV       Range         Sill        Nugget\n",
       "0        30   0.844591  0.008956   20.000000     0.626820  3.118349e-01\n",
       "1       100   1.803579  0.019019   65.576055     3.883706  6.266085e-31\n",
       "2       300   5.390128  0.057523  210.000000    31.142912  6.796741e+00\n",
       "3       600   4.484857  0.048321  157.755668    21.122576  4.401695e+00\n",
       "4       900  18.635796  0.211051  630.000000   347.913864  1.051105e+02\n",
       "5      1200  31.965300  0.358960  836.615153  1041.065977  3.253057e+02"
      ]
     },
     "execution_count": 75,
     "metadata": {},
     "output_type": "execute_result"
    }
   ],
   "source": [
    "# Make a dataframe to illustrate the numeric result of variograms\n",
    "df_Vario = pd.DataFrame({\n",
    "    \"Distance\": list_distances,\n",
    "    \"STD\": list_std,\n",
    "    \"CV\": list_cv,\n",
    "    \"Range\": list_range,\n",
    "    \"Sill\": list_sill,\n",
    "    \"Nugget\": list_nugget\n",
    "})\n",
    "df_Vario"
   ]
  },
  {
   "cell_type": "code",
   "execution_count": 76,
   "metadata": {},
   "outputs": [
    {
     "name": "stdout",
     "output_type": "stream",
     "text": [
      "Internal distance 30 and external distance 100 has been computed!\n",
      "Internal distance 30 and external distance 300 has been computed!\n",
      "Internal distance 100 and external distance 300 has been computed!\n",
      "Internal distance 300 and external distance 600 has been computed!\n",
      "Internal distance 300 and external distance 900 has been computed!\n",
      "Internal distance 300 and external distance 1200 has been computed!\n"
     ]
    }
   ],
   "source": [
    "list_Rcv = []\n",
    "list_RAW_Score = []\n",
    "list_Rse = []\n",
    "list_Rst = []\n",
    "list_Rsv = []\n",
    "list_ST_Score = []\n",
    "for i in range(len(list_distances)):\n",
    "    dist_Int = distances_Int[i]\n",
    "    dist_Ext = distances_Ext[i]\n",
    "    index_Int = list_distances.index(dist_Int)\n",
    "    index_Ext = list_distances.index(dist_Ext)\n",
    "    range_Int, nugget_Int, sill_Int, bins_Int, experimental_model_Int, fitted_model_Int = list_range[index_Int], list_nugget[index_Int], list_sill[index_Int], list_bins[index_Int], list_experimental_model[index_Int], list_fitted_model[index_Int]\n",
    "    range_Ext, nugget_Ext, sill_Ext, bins_Ext, experimental_model_Ext, fitted_model_Ext = list_range[index_Ext], list_nugget[index_Ext], list_sill[index_Ext], list_bins[index_Ext], list_experimental_model[index_Ext], list_fitted_model[index_Ext]\n",
    "    cv_Int = list_cv[index_Int]\n",
    "    cv_Ext = list_cv[index_Ext]\n",
    "    semivar_range_Exp_Int = my_Variogram.get_Semivar_Exp(dist_Int, bins_Int, experimental_model_Int)\n",
    "    semivar_range_Exp_Ext = my_Variogram.get_Semivar_Exp(dist_Ext, bins_Ext, experimental_model_Ext)\n",
    "    # Calculate Rcv\n",
    "    Rcv = my_RomanMetrics.calc_Rcv(cv_Ext, cv_Int)\n",
    "    # Calculate RAW Score\n",
    "    RAW_Score = my_RomanMetrics.calc_RAWScore(Rcv)\n",
    "    # Calculate Rse\n",
    "    Rse = my_RomanMetrics.calc_Rse(g, range_Ext, range_Int)\n",
    "    # Calculate Rst\n",
    "    Rst = my_RomanMetrics.calc_Rst(my_RomanMetrics.calc_ST(semivar_range_Exp_Ext, nugget_Ext), my_RomanMetrics.calc_ST(semivar_range_Exp_Int, nugget_Int))\n",
    "    # Calculate Rsv\n",
    "    Rsv = my_RomanMetrics.calc_Rsv(my_RomanMetrics.calc_SV(fitted_model_Ext, range_Ext, nugget_Ext, sill_Ext), my_RomanMetrics.calc_SV(fitted_model_Int, range_Int, nugget_Int, sill_Int))\n",
    "    # Calculate ST Score\n",
    "    ST_Score = my_RomanMetrics.calc_STScore(Rcv, Rse, Rst, Rsv)\n",
    "    list_Rcv.append(Rcv)\n",
    "    list_RAW_Score.append(RAW_Score)\n",
    "    list_Rse.append(Rse)\n",
    "    list_Rst.append(Rst)\n",
    "    list_Rsv.append(Rsv)\n",
    "    list_ST_Score.append(ST_Score)\n",
    "    print(f\"Internal distance {dist_Int} and external distance {dist_Ext} has been computed!\")\n"
   ]
  },
  {
   "cell_type": "code",
   "execution_count": 77,
   "metadata": {},
   "outputs": [
    {
     "data": {
      "text/html": [
       "<div>\n",
       "<style scoped>\n",
       "    .dataframe tbody tr th:only-of-type {\n",
       "        vertical-align: middle;\n",
       "    }\n",
       "\n",
       "    .dataframe tbody tr th {\n",
       "        vertical-align: top;\n",
       "    }\n",
       "\n",
       "    .dataframe thead th {\n",
       "        text-align: right;\n",
       "    }\n",
       "</style>\n",
       "<table border=\"1\" class=\"dataframe\">\n",
       "  <thead>\n",
       "    <tr style=\"text-align: right;\">\n",
       "      <th></th>\n",
       "      <th>Internal Distance</th>\n",
       "      <th>External Distance</th>\n",
       "      <th>Rcv</th>\n",
       "      <th>Rse</th>\n",
       "      <th>Rst</th>\n",
       "      <th>Rsv</th>\n",
       "      <th>RAW Score</th>\n",
       "      <th>ST Score</th>\n",
       "    </tr>\n",
       "  </thead>\n",
       "  <tbody>\n",
       "    <tr>\n",
       "      <th>0</th>\n",
       "      <td>30</td>\n",
       "      <td>100</td>\n",
       "      <td>1.123471</td>\n",
       "      <td>0.783804</td>\n",
       "      <td>0.990000</td>\n",
       "      <td>5.524818</td>\n",
       "      <td>0.445049</td>\n",
       "      <td>0.300309</td>\n",
       "    </tr>\n",
       "    <tr>\n",
       "      <th>1</th>\n",
       "      <td>30</td>\n",
       "      <td>300</td>\n",
       "      <td>5.422610</td>\n",
       "      <td>0.791319</td>\n",
       "      <td>0.583290</td>\n",
       "      <td>15.334800</td>\n",
       "      <td>0.092207</td>\n",
       "      <td>0.126504</td>\n",
       "    </tr>\n",
       "    <tr>\n",
       "      <th>2</th>\n",
       "      <td>100</td>\n",
       "      <td>300</td>\n",
       "      <td>2.024581</td>\n",
       "      <td>0.928257</td>\n",
       "      <td>-0.204377</td>\n",
       "      <td>1.503488</td>\n",
       "      <td>0.246965</td>\n",
       "      <td>0.460319</td>\n",
       "    </tr>\n",
       "    <tr>\n",
       "      <th>3</th>\n",
       "      <td>300</td>\n",
       "      <td>600</td>\n",
       "      <td>-0.159978</td>\n",
       "      <td>0.963728</td>\n",
       "      <td>0.004123</td>\n",
       "      <td>-0.239312</td>\n",
       "      <td>3.125431</td>\n",
       "      <td>0.910581</td>\n",
       "    </tr>\n",
       "    <tr>\n",
       "      <th>4</th>\n",
       "      <td>300</td>\n",
       "      <td>900</td>\n",
       "      <td>2.668961</td>\n",
       "      <td>0.976881</td>\n",
       "      <td>-0.088192</td>\n",
       "      <td>1.678137</td>\n",
       "      <td>0.187339</td>\n",
       "      <td>0.407280</td>\n",
       "    </tr>\n",
       "    <tr>\n",
       "      <th>5</th>\n",
       "      <td>300</td>\n",
       "      <td>1200</td>\n",
       "      <td>5.240244</td>\n",
       "      <td>0.977381</td>\n",
       "      <td>-0.106323</td>\n",
       "      <td>2.503679</td>\n",
       "      <td>0.095415</td>\n",
       "      <td>0.278231</td>\n",
       "    </tr>\n",
       "  </tbody>\n",
       "</table>\n",
       "</div>"
      ],
      "text/plain": [
       "   Internal Distance  External Distance       Rcv       Rse       Rst  \\\n",
       "0                 30                100  1.123471  0.783804  0.990000   \n",
       "1                 30                300  5.422610  0.791319  0.583290   \n",
       "2                100                300  2.024581  0.928257 -0.204377   \n",
       "3                300                600 -0.159978  0.963728  0.004123   \n",
       "4                300                900  2.668961  0.976881 -0.088192   \n",
       "5                300               1200  5.240244  0.977381 -0.106323   \n",
       "\n",
       "         Rsv  RAW Score  ST Score  \n",
       "0   5.524818   0.445049  0.300309  \n",
       "1  15.334800   0.092207  0.126504  \n",
       "2   1.503488   0.246965  0.460319  \n",
       "3  -0.239312   3.125431  0.910581  \n",
       "4   1.678137   0.187339  0.407280  \n",
       "5   2.503679   0.095415  0.278231  "
      ]
     },
     "execution_count": 77,
     "metadata": {},
     "output_type": "execute_result"
    }
   ],
   "source": [
    "# Make a dataframe to illustrate the numeric result of roman metrics\n",
    "df_Roman = pd.DataFrame({\n",
    "    \"Internal Distance\": distances_Int,\n",
    "    \"External Distance\": distances_Ext,\n",
    "    \"Rcv\": list_Rcv,\n",
    "    \"Rse\": list_Rse,\n",
    "    \"Rst\": list_Rst,\n",
    "    \"Rsv\": list_Rsv,\n",
    "    \"RAW Score\": list_RAW_Score,\n",
    "    \"ST Score\": list_ST_Score\n",
    "})\n",
    "df_Roman"
   ]
  },
  {
   "cell_type": "code",
   "execution_count": 78,
   "metadata": {},
   "outputs": [],
   "source": [
    "df_Vario.to_csv(cwd_Image_Folder + \"\\\\Vario.csv\", index = False)\n",
    "df_Roman.to_csv(cwd_Image_Folder + \"\\\\Roman.csv\", index = False)"
   ]
  },
  {
   "cell_type": "code",
   "execution_count": 81,
   "metadata": {},
   "outputs": [],
   "source": [
    "my_Variogram_Plot.plot_Variogram(list_distances, list_bins, list_fitted_model, list_range, list_sill, list_nugget, list_empiral_X,list_empiral_Y, site_Name_Graph = cwd_Image_Folder.split(\"\\\\\")[-1], path_SaveFig = cwd_Image_Folder + \"\\\\Variogram.png\", bool_SaveFig = True, bool_CloseFig = True)"
   ]
  },
  {
   "cell_type": "code",
   "execution_count": null,
   "metadata": {},
   "outputs": [],
   "source": []
  }
 ],
 "metadata": {
  "kernelspec": {
   "display_name": "DISC",
   "language": "python",
   "name": "python3"
  },
  "language_info": {
   "codemirror_mode": {
    "name": "ipython",
    "version": 3
   },
   "file_extension": ".py",
   "mimetype": "text/x-python",
   "name": "python",
   "nbconvert_exporter": "python",
   "pygments_lexer": "ipython3",
   "version": "3.12.4"
  }
 },
 "nbformat": 4,
 "nbformat_minor": 2
}
