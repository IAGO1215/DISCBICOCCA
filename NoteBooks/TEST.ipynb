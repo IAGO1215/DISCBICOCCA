{
 "cells": [
  {
   "cell_type": "markdown",
   "metadata": {},
   "source": [
    "This notebook illustrates the workflow to calculate variogram of "
   ]
  },
  {
   "cell_type": "code",
   "execution_count": 4,
   "metadata": {},
   "outputs": [],
   "source": [
    "# Add python script files to the system env\n",
    "import sys  \n",
    "sys.path.insert(1, \"..\\\\My Functions\")\n",
    "# \n",
    "import numpy as np\n",
    "import pandas as pd\n",
    "import rasterio as rio\n",
    "# Import the custom python script files\n",
    "import my_Variogram\n",
    "import my_RomanMetrics"
   ]
  },
  {
   "cell_type": "code",
   "execution_count": 5,
   "metadata": {},
   "outputs": [],
   "source": [
    "# \\\\DISC\n",
    "cwd = \"..\\\\..\\\\\"\n",
    "cwd_Images_Raw = cwd + \"\\\\Sentinel-2 Images Raw\"\n",
    "cwd_Images_Processed = cwd + \"\\\\Sentinel-2 Images Processed\""
   ]
  },
  {
   "cell_type": "code",
   "execution_count": 6,
   "metadata": {},
   "outputs": [],
   "source": [
    "site_Name = \"BASP\""
   ]
  },
  {
   "cell_type": "code",
   "execution_count": 7,
   "metadata": {},
   "outputs": [],
   "source": [
    "# Set g\n",
    "g = 4.66"
   ]
  },
  {
   "cell_type": "code",
   "execution_count": 8,
   "metadata": {},
   "outputs": [],
   "source": [
    "# Set internal distance\n",
    "distances_Int = [30,30,100,300,300]\n",
    "# Set external distance\n",
    "distances_Ext = [100,300,300,900,1200]"
   ]
  },
  {
   "cell_type": "code",
   "execution_count": 9,
   "metadata": {},
   "outputs": [
    {
     "data": {
      "text/plain": [
       "[30, 100, 300, 900, 1200]"
      ]
     },
     "execution_count": 9,
     "metadata": {},
     "output_type": "execute_result"
    }
   ],
   "source": [
    "# Get the unique distances so we can calculate the variogram first\n",
    "list_distances = list(set(distances_Int + distances_Ext))\n",
    "list_distances.sort()\n",
    "list_distances"
   ]
  },
  {
   "cell_type": "code",
   "execution_count": 10,
   "metadata": {},
   "outputs": [
    {
     "name": "stderr",
     "output_type": "stream",
     "text": [
      "c:\\ProgramData\\anaconda3\\envs\\DISC\\Lib\\site-packages\\skgstat\\Variogram.py:1715: OptimizeWarning: Covariance of the parameters could not be estimated\n",
      "  self.cof, self.cov = curve_fit(\n"
     ]
    },
    {
     "name": "stdout",
     "output_type": "stream",
     "text": [
      "Distance 30 has been calculated!\n",
      "Distance 100 has been calculated!\n",
      "Distance 300 has been calculated!\n",
      "Distance 900 has been calculated!\n",
      "Distance 1200 has been calculated!\n"
     ]
    }
   ],
   "source": [
    "list_std = []\n",
    "list_cv = []\n",
    "list_range = []\n",
    "list_nugget = []\n",
    "list_sill = []\n",
    "list_bins = []\n",
    "list_experimental_model = []\n",
    "list_fitted_model = []\n",
    "for i in range(len(list_distances)):\n",
    "    img = rio.open(cwd_Images_Processed + \"\\\\\" + site_Name + \"\\\\NIRv \" + str(list_distances[i]) + \"m.tif\")\n",
    "    band = img.read(1).reshape(-1)\n",
    "    temp_std = my_Variogram.calc_STD(band)\n",
    "    temp_cv = my_Variogram.calc_CV(band)\n",
    "    coordinates = my_Variogram.get_Coordinates_from_Rio(img)\n",
    "    temp_range, temp_nugget, temp_sill, temp_bins, temp_experimental_model, temp_fitted_model = my_Variogram.calc_Variogram_Parameters(band,coordinates,list_distances[i])\n",
    "    list_std.append(temp_std)\n",
    "    list_cv.append(temp_cv)\n",
    "    list_range.append(temp_range)\n",
    "    list_nugget.append(temp_nugget)\n",
    "    list_sill.append(temp_sill)\n",
    "    list_bins.append(temp_bins)\n",
    "    list_experimental_model.append(temp_experimental_model)\n",
    "    list_fitted_model.append(temp_fitted_model)\n",
    "    print(f\"Distance {list_distances[i]} has been calculated!\")"
   ]
  },
  {
   "cell_type": "code",
   "execution_count": 11,
   "metadata": {},
   "outputs": [
    {
     "data": {
      "text/html": [
       "<div>\n",
       "<style scoped>\n",
       "    .dataframe tbody tr th:only-of-type {\n",
       "        vertical-align: middle;\n",
       "    }\n",
       "\n",
       "    .dataframe tbody tr th {\n",
       "        vertical-align: top;\n",
       "    }\n",
       "\n",
       "    .dataframe thead th {\n",
       "        text-align: right;\n",
       "    }\n",
       "</style>\n",
       "<table border=\"1\" class=\"dataframe\">\n",
       "  <thead>\n",
       "    <tr style=\"text-align: right;\">\n",
       "      <th></th>\n",
       "      <th>Distance</th>\n",
       "      <th>STD</th>\n",
       "      <th>CV</th>\n",
       "      <th>Range</th>\n",
       "      <th>Sill</th>\n",
       "      <th>Nugget</th>\n",
       "    </tr>\n",
       "  </thead>\n",
       "  <tbody>\n",
       "    <tr>\n",
       "      <th>0</th>\n",
       "      <td>30</td>\n",
       "      <td>0.107388</td>\n",
       "      <td>0.011019</td>\n",
       "      <td>20.000000</td>\n",
       "      <td>0.013728</td>\n",
       "      <td>6.829347e-03</td>\n",
       "    </tr>\n",
       "    <tr>\n",
       "      <th>1</th>\n",
       "      <td>100</td>\n",
       "      <td>0.505830</td>\n",
       "      <td>0.050378</td>\n",
       "      <td>70.000000</td>\n",
       "      <td>0.280141</td>\n",
       "      <td>2.311226e-12</td>\n",
       "    </tr>\n",
       "    <tr>\n",
       "      <th>2</th>\n",
       "      <td>300</td>\n",
       "      <td>2.249598</td>\n",
       "      <td>0.208518</td>\n",
       "      <td>210.000000</td>\n",
       "      <td>5.202114</td>\n",
       "      <td>1.558166e-01</td>\n",
       "    </tr>\n",
       "    <tr>\n",
       "      <th>3</th>\n",
       "      <td>900</td>\n",
       "      <td>7.137173</td>\n",
       "      <td>0.550165</td>\n",
       "      <td>179.047736</td>\n",
       "      <td>47.130686</td>\n",
       "      <td>1.619532e+00</td>\n",
       "    </tr>\n",
       "    <tr>\n",
       "      <th>4</th>\n",
       "      <td>1200</td>\n",
       "      <td>9.229855</td>\n",
       "      <td>0.722840</td>\n",
       "      <td>840.000000</td>\n",
       "      <td>89.699852</td>\n",
       "      <td>4.732420e+01</td>\n",
       "    </tr>\n",
       "  </tbody>\n",
       "</table>\n",
       "</div>"
      ],
      "text/plain": [
       "   Distance       STD        CV       Range       Sill        Nugget\n",
       "0        30  0.107388  0.011019   20.000000   0.013728  6.829347e-03\n",
       "1       100  0.505830  0.050378   70.000000   0.280141  2.311226e-12\n",
       "2       300  2.249598  0.208518  210.000000   5.202114  1.558166e-01\n",
       "3       900  7.137173  0.550165  179.047736  47.130686  1.619532e+00\n",
       "4      1200  9.229855  0.722840  840.000000  89.699852  4.732420e+01"
      ]
     },
     "execution_count": 11,
     "metadata": {},
     "output_type": "execute_result"
    }
   ],
   "source": [
    "# Make a dataframe to illustrate the numeric result of variograms\n",
    "df_Vario = pd.DataFrame({\n",
    "    \"Distance\": list_distances,\n",
    "    \"STD\": list_std,\n",
    "    \"CV\": list_cv,\n",
    "    \"Range\": list_range,\n",
    "    \"Sill\": list_sill,\n",
    "    \"Nugget\": list_nugget\n",
    "})\n",
    "df_Vario"
   ]
  },
  {
   "cell_type": "code",
   "execution_count": 12,
   "metadata": {},
   "outputs": [
    {
     "name": "stdout",
     "output_type": "stream",
     "text": [
      "Internal distance 30 and external distance 100 has been computed!\n",
      "Internal distance 30 and external distance 300 has been computed!\n",
      "Internal distance 100 and external distance 300 has been computed!\n",
      "Internal distance 300 and external distance 900 has been computed!\n",
      "Internal distance 300 and external distance 1200 has been computed!\n"
     ]
    }
   ],
   "source": [
    "list_Rcv = []\n",
    "list_RAW_Score = []\n",
    "list_Rse = []\n",
    "list_Rst = []\n",
    "list_Rsv = []\n",
    "list_ST_Score = []\n",
    "for i in range(len(list_distances)):\n",
    "    dist_Int = distances_Int[i]\n",
    "    dist_Ext = distances_Ext[i]\n",
    "    index_Int = list_distances.index(dist_Int)\n",
    "    index_Ext = list_distances.index(dist_Ext)\n",
    "    range_Int, nugget_Int, sill_Int, bins_Int, experimental_model_Int, fitted_model_Int = list_range[index_Int], list_nugget[index_Int], list_sill[index_Int], list_bins[index_Int], list_experimental_model[index_Int], list_fitted_model[index_Int]\n",
    "    range_Ext, nugget_Ext, sill_Ext, bins_Ext, experimental_model_Ext, fitted_model_Ext = list_range[index_Ext], list_nugget[index_Ext], list_sill[index_Ext], list_bins[index_Ext], list_experimental_model[index_Ext], list_fitted_model[index_Ext]\n",
    "    cv_Int = list_cv[index_Int]\n",
    "    cv_Ext = list_cv[index_Ext]\n",
    "    semivar_range_Exp_Int = my_Variogram.get_Semivar_Exp(dist_Int, bins_Int, experimental_model_Int)\n",
    "    semivar_range_Exp_Ext = my_Variogram.get_Semivar_Exp(dist_Ext, bins_Ext, experimental_model_Ext)\n",
    "    # Calculate Rcv\n",
    "    Rcv = my_RomanMetrics.calc_Rcv(cv_Ext, cv_Int)\n",
    "    # Calculate RAW Score\n",
    "    RAW_Score = my_RomanMetrics.calc_RAWScore(Rcv)\n",
    "    # Calculate Rse\n",
    "    Rse = my_RomanMetrics.calc_Rse(g, range_Ext, range_Int)\n",
    "    # Calculate Rst\n",
    "    Rst = my_RomanMetrics.calc_Rst(my_RomanMetrics.calc_ST(semivar_range_Exp_Ext, nugget_Ext), my_RomanMetrics.calc_ST(semivar_range_Exp_Int, nugget_Int))\n",
    "    # Calculate Rsv\n",
    "    Rsv = my_RomanMetrics.calc_Rsv(my_RomanMetrics.calc_SV(fitted_model_Ext, range_Ext, nugget_Ext, sill_Ext), my_RomanMetrics.calc_SV(fitted_model_Int, range_Int, nugget_Int, sill_Int))\n",
    "    # Calculate ST Score\n",
    "    ST_Score = my_RomanMetrics.calc_STScore(Rcv, Rse, Rst, Rsv)\n",
    "    list_Rcv.append(Rcv)\n",
    "    list_RAW_Score.append(RAW_Score)\n",
    "    list_Rse.append(Rse)\n",
    "    list_Rst.append(Rst)\n",
    "    list_Rsv.append(Rsv)\n",
    "    list_ST_Score.append(ST_Score)\n",
    "    print(f\"Internal distance {dist_Int} and external distance {dist_Ext} has been computed!\")\n"
   ]
  },
  {
   "cell_type": "code",
   "execution_count": 13,
   "metadata": {},
   "outputs": [
    {
     "data": {
      "text/html": [
       "<div>\n",
       "<style scoped>\n",
       "    .dataframe tbody tr th:only-of-type {\n",
       "        vertical-align: middle;\n",
       "    }\n",
       "\n",
       "    .dataframe tbody tr th {\n",
       "        vertical-align: top;\n",
       "    }\n",
       "\n",
       "    .dataframe thead th {\n",
       "        text-align: right;\n",
       "    }\n",
       "</style>\n",
       "<table border=\"1\" class=\"dataframe\">\n",
       "  <thead>\n",
       "    <tr style=\"text-align: right;\">\n",
       "      <th></th>\n",
       "      <th>Internal Distance</th>\n",
       "      <th>External Distance</th>\n",
       "      <th>Rcv</th>\n",
       "      <th>Rse</th>\n",
       "      <th>Rst</th>\n",
       "      <th>Rsv</th>\n",
       "      <th>RAW Score</th>\n",
       "      <th>ST Score</th>\n",
       "    </tr>\n",
       "  </thead>\n",
       "  <tbody>\n",
       "    <tr>\n",
       "      <th>0</th>\n",
       "      <td>30</td>\n",
       "      <td>100</td>\n",
       "      <td>3.572139</td>\n",
       "      <td>0.784802</td>\n",
       "      <td>0.990028</td>\n",
       "      <td>5.965000</td>\n",
       "      <td>0.139972</td>\n",
       "      <td>0.232891</td>\n",
       "    </tr>\n",
       "    <tr>\n",
       "      <th>1</th>\n",
       "      <td>30</td>\n",
       "      <td>300</td>\n",
       "      <td>17.924253</td>\n",
       "      <td>0.791319</td>\n",
       "      <td>0.936148</td>\n",
       "      <td>19.269141</td>\n",
       "      <td>0.027895</td>\n",
       "      <td>0.074068</td>\n",
       "    </tr>\n",
       "    <tr>\n",
       "      <th>2</th>\n",
       "      <td>100</td>\n",
       "      <td>300</td>\n",
       "      <td>3.139037</td>\n",
       "      <td>0.932233</td>\n",
       "      <td>-0.027075</td>\n",
       "      <td>1.910142</td>\n",
       "      <td>0.159285</td>\n",
       "      <td>0.381051</td>\n",
       "    </tr>\n",
       "    <tr>\n",
       "      <th>3</th>\n",
       "      <td>300</td>\n",
       "      <td>900</td>\n",
       "      <td>1.638458</td>\n",
       "      <td>0.966376</td>\n",
       "      <td>-0.000529</td>\n",
       "      <td>-0.151268</td>\n",
       "      <td>0.305165</td>\n",
       "      <td>0.639743</td>\n",
       "    </tr>\n",
       "    <tr>\n",
       "      <th>4</th>\n",
       "      <td>300</td>\n",
       "      <td>1200</td>\n",
       "      <td>2.466563</td>\n",
       "      <td>0.977386</td>\n",
       "      <td>-0.450296</td>\n",
       "      <td>0.948012</td>\n",
       "      <td>0.202711</td>\n",
       "      <td>0.441369</td>\n",
       "    </tr>\n",
       "  </tbody>\n",
       "</table>\n",
       "</div>"
      ],
      "text/plain": [
       "   Internal Distance  External Distance        Rcv       Rse       Rst  \\\n",
       "0                 30                100   3.572139  0.784802  0.990028   \n",
       "1                 30                300  17.924253  0.791319  0.936148   \n",
       "2                100                300   3.139037  0.932233 -0.027075   \n",
       "3                300                900   1.638458  0.966376 -0.000529   \n",
       "4                300               1200   2.466563  0.977386 -0.450296   \n",
       "\n",
       "         Rsv  RAW Score  ST Score  \n",
       "0   5.965000   0.139972  0.232891  \n",
       "1  19.269141   0.027895  0.074068  \n",
       "2   1.910142   0.159285  0.381051  \n",
       "3  -0.151268   0.305165  0.639743  \n",
       "4   0.948012   0.202711  0.441369  "
      ]
     },
     "execution_count": 13,
     "metadata": {},
     "output_type": "execute_result"
    }
   ],
   "source": [
    "# Make a dataframe to illustrate the numeric result of roman metrics\n",
    "df_Roman = pd.DataFrame({\n",
    "    \"Internal Distance\": distances_Int,\n",
    "    \"External Distance\": distances_Ext,\n",
    "    \"Rcv\": list_Rcv,\n",
    "    \"Rse\": list_Rse,\n",
    "    \"Rst\": list_Rst,\n",
    "    \"Rsv\": list_Rsv,\n",
    "    \"RAW Score\": list_RAW_Score,\n",
    "    \"ST Score\": list_ST_Score\n",
    "})\n",
    "df_Roman"
   ]
  },
  {
   "cell_type": "code",
   "execution_count": null,
   "metadata": {},
   "outputs": [],
   "source": []
  }
 ],
 "metadata": {
  "kernelspec": {
   "display_name": "DISC",
   "language": "python",
   "name": "python3"
  },
  "language_info": {
   "codemirror_mode": {
    "name": "ipython",
    "version": 3
   },
   "file_extension": ".py",
   "mimetype": "text/x-python",
   "name": "python",
   "nbconvert_exporter": "python",
   "pygments_lexer": "ipython3",
   "version": "3.12.4"
  }
 },
 "nbformat": 4,
 "nbformat_minor": 2
}
