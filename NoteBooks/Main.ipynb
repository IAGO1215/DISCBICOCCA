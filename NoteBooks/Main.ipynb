{
 "cells": [
  {
   "cell_type": "code",
   "execution_count": 7,
   "metadata": {},
   "outputs": [],
   "source": [
    "# Add python script files to the system env\n",
    "import sys  \n",
    "sys.path.insert(1, \"..\\\\My Functions\")\n",
    "# \n",
    "import os\n",
    "import numpy as np\n",
    "import pandas as pd\n",
    "import rasterio as rio\n",
    "from scipy.interpolate import interp1d\n",
    "import matplotlib.pyplot as plt\n",
    "# Import the custom python script files\n",
    "import my_Variogram\n",
    "import my_RomanMetrics\n",
    "import my_Variogram_Plot"
   ]
  },
  {
   "cell_type": "code",
   "execution_count": 8,
   "metadata": {},
   "outputs": [],
   "source": [
    "# DISC\\\\Python\n",
    "cwd = \"..\\\\..\\\\\"\n",
    "cwd_Images_Raw = cwd + \"\\\\Sentinel-2 Images Raw\"\n",
    "cwd_Images_Processed = cwd + \"\\\\Sentinel-2 Images Processed\""
   ]
  },
  {
   "cell_type": "code",
   "execution_count": 9,
   "metadata": {},
   "outputs": [],
   "source": [
    "# Set g\n",
    "g = 4.66"
   ]
  },
  {
   "cell_type": "code",
   "execution_count": 10,
   "metadata": {},
   "outputs": [
    {
     "data": {
      "text/plain": [
       "Number                                                        51\n",
       "Site                                           Jolanda di Savoia\n",
       "Serial Number (FLOX)                                         NaN\n",
       "Country                                                      NaN\n",
       "Location                                                     NaN\n",
       "Latitude                                               44.874305\n",
       "Longitude                                              11.979201\n",
       "Priority                                                     NaN\n",
       "Plant functional type (PFT)                                  NaN\n",
       "Reference network                                            NaN\n",
       "Number of components                                         NaN\n",
       "Reduce ROI size (600 x 600 m)                                NaN\n",
       "Move ROI                                                     NaN\n",
       "Comments                                                     NaN\n",
       "PRISMA Availability (900m Buffer ROI Check)                  NaN\n",
       "PRISMA Earliest Date                                         NaN\n",
       "PRISMA Latest Date (Before 2024-06-26)                       NaN\n",
       "Tomi                                                         NaN\n",
       "S2 Cloud                                                     NaN\n",
       "Name: 50, dtype: object"
      ]
     },
     "execution_count": 10,
     "metadata": {},
     "output_type": "execute_result"
    }
   ],
   "source": [
    "# Find the coordinate based on the name of the site in our .csv file\n",
    "df_Site = pd.read_csv(cwd + \"//Site.csv\")\n",
    "df_Site.iloc[50,:]"
   ]
  },
  {
   "cell_type": "code",
   "execution_count": 11,
   "metadata": {},
   "outputs": [
    {
     "name": "stdout",
     "output_type": "stream",
     "text": [
      "Jolanda di Savoia starts!\n"
     ]
    },
    {
     "name": "stderr",
     "output_type": "stream",
     "text": [
      "c:\\ProgramData\\anaconda3\\envs\\DISC\\Lib\\site-packages\\skgstat\\Variogram.py:1715: OptimizeWarning: Covariance of the parameters could not be estimated\n",
      "  self.cof, self.cov = curve_fit(\n"
     ]
    },
    {
     "name": "stdout",
     "output_type": "stream",
     "text": [
      "Internal distance 30 and external distance 100 has been computed!\n",
      "Internal distance 30 and external distance 300 has been computed!\n",
      "Internal distance 100 and external distance 300 has been computed!\n",
      "Internal distance 300 and external distance 900 has been computed!\n",
      "Internal distance 300 and external distance 1200 has been computed!\n",
      "Jolanda di Savoia done!\n"
     ]
    }
   ],
   "source": [
    "for index in range(50,51):\n",
    "    temp_Site_Name = df_Site['Site'][index]\n",
    "    print(f\"{temp_Site_Name} starts!\")\n",
    "    list_std = []\n",
    "    list_cv = []\n",
    "    list_range = []\n",
    "    list_nugget = []\n",
    "    list_sill = []\n",
    "    list_bins = []\n",
    "    list_experimental_model = []\n",
    "    list_fitted_model = []\n",
    "    list_empiral_X = []\n",
    "    list_empiral_Y = []\n",
    "    if os.path.exists(cwd_Images_Processed + \"\\\\\" + temp_Site_Name + \"\\\\NIRv 600m.tif\"):\n",
    "        bool_600m = True\n",
    "    else:\n",
    "        bool_600m = False\n",
    "    if bool_600m:\n",
    "        # Set internal distance\n",
    "        distances_Int = [30,30,100,300,300,300]\n",
    "        # Set external distance\n",
    "        distances_Ext = [100,300,300,600,900,1200]\n",
    "    else:\n",
    "        # Set internal distance\n",
    "        distances_Int = [30,30,100,300,300]\n",
    "        # Set external distance\n",
    "        distances_Ext = [100,300,300,900,1200]\n",
    "    # Get the unique distances so we can calculate the variogram first\n",
    "    list_distances = list(set(distances_Int + distances_Ext))\n",
    "    list_distances.sort()\n",
    "    for i in range(len(list_distances)):\n",
    "        if list_distances[i] == 600:\n",
    "            if os.path.exists(cwd_Images_Processed + \"\\\\\" + temp_Site_Name + \"\\\\NIRv 600m Spostamento.tif\"):\n",
    "                print(f\"{temp_Site_Name} has reduced and moved ROI!\")\n",
    "                img = rio.open(cwd_Images_Processed + \"\\\\\" + temp_Site_Name + \"\\\\NIRv 600m Spostamento.tif\")\n",
    "            else:\n",
    "                print(f\"{temp_Site_Name} has reduced ROI!\")\n",
    "                img = rio.open(cwd_Images_Processed + \"\\\\\" + temp_Site_Name + \"\\\\NIRv 600m.tif\")\n",
    "        else:\n",
    "                img = rio.open(cwd_Images_Processed + \"\\\\\" + temp_Site_Name + \"\\\\NIRv \" + str(list_distances[i]) + \"m.tif\")  \n",
    "        band = img.read(1).reshape(-1)\n",
    "        temp_std = my_Variogram.calc_STD(band)\n",
    "        temp_cv = my_Variogram.calc_CV(band)\n",
    "        coordinates = my_Variogram.get_Coordinates_from_Rio(img)\n",
    "        temp_range, temp_nugget, temp_sill, temp_bins, temp_experimental_model, temp_fitted_model, temp_empiral_X, temp_empiral_Y = my_Variogram.calc_Variogram_Parameters(band,coordinates,list_distances[i])\n",
    "        list_std.append(temp_std)\n",
    "        list_cv.append(temp_cv)\n",
    "        list_range.append(temp_range)\n",
    "        list_nugget.append(temp_nugget)\n",
    "        list_sill.append(temp_sill)\n",
    "        list_bins.append(temp_bins)\n",
    "        list_experimental_model.append(temp_experimental_model)\n",
    "        list_fitted_model.append(temp_fitted_model)\n",
    "        list_empiral_X.append(temp_empiral_X)\n",
    "        list_empiral_Y.append(temp_empiral_Y)\n",
    "        # print(f\"Distance {list_distances[i]} has been calculated!\")\n",
    "\n",
    "    list_Rcv = []\n",
    "    list_RAW_Score = []\n",
    "    list_Rse = []\n",
    "    list_Rst = []\n",
    "    list_Rsv = []\n",
    "    list_ST_Score = []\n",
    "    for i in range(len(list_distances)):\n",
    "        dist_Int = distances_Int[i]\n",
    "        dist_Ext = distances_Ext[i]\n",
    "        index_Int = list_distances.index(dist_Int)\n",
    "        index_Ext = list_distances.index(dist_Ext)\n",
    "        range_Int, nugget_Int, sill_Int, bins_Int, experimental_model_Int, fitted_model_Int = list_range[index_Int], list_nugget[index_Int], list_sill[index_Int], list_bins[index_Int], list_experimental_model[index_Int], list_fitted_model[index_Int]\n",
    "        range_Ext, nugget_Ext, sill_Ext, bins_Ext, experimental_model_Ext, fitted_model_Ext = list_range[index_Ext], list_nugget[index_Ext], list_sill[index_Ext], list_bins[index_Ext], list_experimental_model[index_Ext], list_fitted_model[index_Ext]\n",
    "        cv_Int = list_cv[index_Int]\n",
    "        cv_Ext = list_cv[index_Ext]\n",
    "        semivar_range_Exp_Int = my_Variogram.get_Semivar_Exp(dist_Int, bins_Int, experimental_model_Int)\n",
    "        semivar_range_Exp_Ext = my_Variogram.get_Semivar_Exp(dist_Ext, bins_Ext, experimental_model_Ext)\n",
    "        # Calculate Rcv\n",
    "        Rcv = my_RomanMetrics.calc_Rcv(cv_Ext, cv_Int)\n",
    "        # Calculate RAW Score\n",
    "        RAW_Score = my_RomanMetrics.calc_RAWScore(Rcv)\n",
    "        # Calculate Rse\n",
    "        Rse = my_RomanMetrics.calc_Rse(g, range_Ext, range_Int)\n",
    "        # Calculate Rst\n",
    "        Rst = my_RomanMetrics.calc_Rst(my_RomanMetrics.calc_ST(semivar_range_Exp_Ext, nugget_Ext), my_RomanMetrics.calc_ST(semivar_range_Exp_Int, nugget_Int))\n",
    "        # Calculate Rsv\n",
    "        Rsv = my_RomanMetrics.calc_Rsv(my_RomanMetrics.calc_SV(fitted_model_Ext, range_Ext, nugget_Ext, sill_Ext), my_RomanMetrics.calc_SV(fitted_model_Int, range_Int, nugget_Int, sill_Int))\n",
    "        # Calculate ST Score\n",
    "        ST_Score = my_RomanMetrics.calc_STScore(Rcv, Rse, Rst, Rsv)\n",
    "        list_Rcv.append(Rcv)\n",
    "        list_RAW_Score.append(RAW_Score)\n",
    "        list_Rse.append(Rse)\n",
    "        list_Rst.append(Rst)\n",
    "        list_Rsv.append(Rsv)\n",
    "        list_ST_Score.append(ST_Score)\n",
    "        print(f\"Internal distance {dist_Int} and external distance {dist_Ext} has been computed!\")\n",
    "    # Make a dataframe to illustrate the numeric result of variograms\n",
    "    df_Vario = pd.DataFrame({\n",
    "        \"Distance\": list_distances,\n",
    "        \"STD\": list_std,\n",
    "        \"CV\": list_cv,\n",
    "        \"Range\": list_range,\n",
    "        \"Sill\": list_sill,\n",
    "        \"Nugget\": list_nugget\n",
    "    })\n",
    "    df_Vario\n",
    "    # Make a dataframe to illustrate the numeric result of roman metrics\n",
    "    df_Roman = pd.DataFrame({\n",
    "        \"Internal Distance\": distances_Int,\n",
    "        \"External Distance\": distances_Ext,\n",
    "        \"Rcv\": list_Rcv,\n",
    "        \"Rse\": list_Rse,\n",
    "        \"Rst\": list_Rst,\n",
    "        \"Rsv\": list_Rsv,\n",
    "        \"RAW Score\": list_RAW_Score,\n",
    "        \"ST Score\": list_ST_Score\n",
    "    })\n",
    "    df_Roman\n",
    "    df_Vario.to_csv(cwd_Images_Processed + \"\\\\\" + temp_Site_Name  + \"\\\\Vario.csv\", index = False)\n",
    "    df_Roman.to_csv(cwd_Images_Processed + \"\\\\\" + temp_Site_Name  + \"\\\\Roman.csv\", index = False)\n",
    "    my_Variogram_Plot.plot_Variogram(list_distances, list_bins, list_fitted_model, list_range, list_sill, list_nugget, list_empiral_X,list_empiral_Y, site_Name_Graph = temp_Site_Name, path_SaveFig = cwd_Images_Processed + \"\\\\\" + temp_Site_Name  + \"\\\\Variogram.png\", bool_SaveFig = True, bool_CloseFig = True)\n",
    "    print(f\"{temp_Site_Name} done!\")"
   ]
  }
 ],
 "metadata": {
  "kernelspec": {
   "display_name": "DISC",
   "language": "python",
   "name": "python3"
  },
  "language_info": {
   "codemirror_mode": {
    "name": "ipython",
    "version": 3
   },
   "file_extension": ".py",
   "mimetype": "text/x-python",
   "name": "python",
   "nbconvert_exporter": "python",
   "pygments_lexer": "ipython3",
   "version": "3.12.4"
  }
 },
 "nbformat": 4,
 "nbformat_minor": 2
}
