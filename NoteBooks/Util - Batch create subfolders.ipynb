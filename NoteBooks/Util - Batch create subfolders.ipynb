{
 "cells": [
  {
   "cell_type": "code",
   "execution_count": 1,
   "metadata": {},
   "outputs": [],
   "source": [
    "import os\n",
    "import pandas as pd"
   ]
  },
  {
   "cell_type": "code",
   "execution_count": 2,
   "metadata": {},
   "outputs": [],
   "source": [
    "cwd = \"c:\\\\Users\\\\m1865\\\\Desktop\\\\DISC\"\n",
    "cwd_Images_Raw = cwd + \"\\\\Sentinel-2 Images Raw\"\n",
    "cwd_Images_Processed = cwd + \"\\\\Sentinel-2 Images Processed\""
   ]
  },
  {
   "cell_type": "code",
   "execution_count": 4,
   "metadata": {},
   "outputs": [
    {
     "data": {
      "text/html": [
       "<div>\n",
       "<style scoped>\n",
       "    .dataframe tbody tr th:only-of-type {\n",
       "        vertical-align: middle;\n",
       "    }\n",
       "\n",
       "    .dataframe tbody tr th {\n",
       "        vertical-align: top;\n",
       "    }\n",
       "\n",
       "    .dataframe thead th {\n",
       "        text-align: right;\n",
       "    }\n",
       "</style>\n",
       "<table border=\"1\" class=\"dataframe\">\n",
       "  <thead>\n",
       "    <tr style=\"text-align: right;\">\n",
       "      <th></th>\n",
       "      <th>Number</th>\n",
       "      <th>Site</th>\n",
       "      <th>Latitude</th>\n",
       "      <th>Longitude</th>\n",
       "      <th>Reference network</th>\n",
       "    </tr>\n",
       "  </thead>\n",
       "  <tbody>\n",
       "    <tr>\n",
       "      <th>0</th>\n",
       "      <td>1</td>\n",
       "      <td>ATGE</td>\n",
       "      <td>52.466778</td>\n",
       "      <td>12.959778</td>\n",
       "      <td>HYPERNET</td>\n",
       "    </tr>\n",
       "    <tr>\n",
       "      <th>1</th>\n",
       "      <td>2</td>\n",
       "      <td>ATLAS-Mohammed V</td>\n",
       "      <td>33.406152</td>\n",
       "      <td>-5.103319</td>\n",
       "      <td>Other</td>\n",
       "    </tr>\n",
       "    <tr>\n",
       "      <th>2</th>\n",
       "      <td>3</td>\n",
       "      <td>ATLAS-Mohammed V New</td>\n",
       "      <td>33.404814</td>\n",
       "      <td>-5.101614</td>\n",
       "      <td>Other</td>\n",
       "    </tr>\n",
       "    <tr>\n",
       "      <th>3</th>\n",
       "      <td>4</td>\n",
       "      <td>AT-Mmg</td>\n",
       "      <td>47.316700</td>\n",
       "      <td>10.970300</td>\n",
       "      <td>FLOX</td>\n",
       "    </tr>\n",
       "    <tr>\n",
       "      <th>4</th>\n",
       "      <td>5</td>\n",
       "      <td>BASP</td>\n",
       "      <td>39.049139</td>\n",
       "      <td>-2.075917</td>\n",
       "      <td>HYPERNET</td>\n",
       "    </tr>\n",
       "  </tbody>\n",
       "</table>\n",
       "</div>"
      ],
      "text/plain": [
       "   Number                  Site   Latitude  Longitude Reference network\n",
       "0       1                  ATGE  52.466778  12.959778          HYPERNET\n",
       "1       2      ATLAS-Mohammed V  33.406152  -5.103319             Other\n",
       "2       3  ATLAS-Mohammed V New  33.404814  -5.101614             Other\n",
       "3       4                AT-Mmg  47.316700  10.970300              FLOX\n",
       "4       5                  BASP  39.049139  -2.075917          HYPERNET"
      ]
     },
     "execution_count": 4,
     "metadata": {},
     "output_type": "execute_result"
    }
   ],
   "source": [
    "df_Site = pd.read_excel(cwd + \"//Site - With Moved ROI (Coordinates Only).xlsx\")\n",
    "df_Site.head()"
   ]
  },
  {
   "cell_type": "code",
   "execution_count": 5,
   "metadata": {},
   "outputs": [],
   "source": [
    "for i in range(df_Site.shape[0]):\n",
    "    temp_SiteName = df_Site['Site'][i]\n",
    "    # Raw folder\n",
    "    if \"New\" not in temp_SiteName:\n",
    "        if not os.path.exists(cwd_Images_Raw + \"\\\\\" + temp_SiteName):\n",
    "            os.makedirs(cwd_Images_Raw + \"\\\\\" + temp_SiteName)\n",
    "            os.makedirs(cwd_Images_Raw + \"\\\\\" + temp_SiteName + \"\\\\L2A\")\n",
    "            os.makedirs(cwd_Images_Raw + \"\\\\\" + temp_SiteName + \"\\\\L1C\")\n",
    "    # Processed folder\n",
    "    if not os.path.exists(cwd_Images_Processed + \"\\\\\" + temp_SiteName): \n",
    "        os.makedirs(cwd_Images_Processed + \"\\\\\" + temp_SiteName)"
   ]
  },
  {
   "cell_type": "code",
   "execution_count": null,
   "metadata": {},
   "outputs": [],
   "source": []
  }
 ],
 "metadata": {
  "kernelspec": {
   "display_name": "DISC",
   "language": "python",
   "name": "python3"
  },
  "language_info": {
   "codemirror_mode": {
    "name": "ipython",
    "version": 3
   },
   "file_extension": ".py",
   "mimetype": "text/x-python",
   "name": "python",
   "nbconvert_exporter": "python",
   "pygments_lexer": "ipython3",
   "version": "3.12.4"
  }
 },
 "nbformat": 4,
 "nbformat_minor": 2
}
