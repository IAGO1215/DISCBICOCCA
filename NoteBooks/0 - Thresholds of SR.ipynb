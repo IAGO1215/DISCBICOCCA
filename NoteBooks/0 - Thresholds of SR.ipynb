{
 "cells": [
  {
   "cell_type": "code",
   "execution_count": 105,
   "metadata": {},
   "outputs": [],
   "source": [
    "import os\n",
    "import numpy as np\n",
    "import pandas as pd\n",
    "import matplotlib.pyplot as plt\n",
    "import seaborn as sns\n",
    "from skimage.filters import threshold_otsu\n",
    "from scipy.stats import zscore\n",
    "from sklearn.cluster import KMeans\n",
    "from sklearn.cluster import DBSCAN"
   ]
  },
  {
   "cell_type": "code",
   "execution_count": 106,
   "metadata": {},
   "outputs": [],
   "source": [
    "# Paths\n",
    "cwd = os.path.join(\"..\",\"..\")\n",
    "cwd_Images_Raw = os.path.join(cwd, \"Sentinel-2 Images Raw\")\n",
    "cwd_Images_Processed = os.path.join(cwd, \"Sentinel-2 Images Processed\")\n",
    "cwd_Images_Results = os.path.join(cwd, \"Results\")"
   ]
  },
  {
   "cell_type": "code",
   "execution_count": 107,
   "metadata": {},
   "outputs": [
    {
     "data": {
      "text/html": [
       "<div>\n",
       "<style scoped>\n",
       "    .dataframe tbody tr th:only-of-type {\n",
       "        vertical-align: middle;\n",
       "    }\n",
       "\n",
       "    .dataframe tbody tr th {\n",
       "        vertical-align: top;\n",
       "    }\n",
       "\n",
       "    .dataframe thead th {\n",
       "        text-align: right;\n",
       "    }\n",
       "</style>\n",
       "<table border=\"1\" class=\"dataframe\">\n",
       "  <thead>\n",
       "    <tr style=\"text-align: right;\">\n",
       "      <th></th>\n",
       "      <th>Site</th>\n",
       "      <th>Spatial Representativeness</th>\n",
       "      <th>RAW Score</th>\n",
       "      <th>ST Score</th>\n",
       "      <th>Roman Metrics</th>\n",
       "      <th>CV 900</th>\n",
       "    </tr>\n",
       "  </thead>\n",
       "  <tbody>\n",
       "    <tr>\n",
       "      <th>0</th>\n",
       "      <td>AT-Mmg</td>\n",
       "      <td>100-300</td>\n",
       "      <td>9.436081</td>\n",
       "      <td>0.676006</td>\n",
       "      <td>RAW</td>\n",
       "      <td>0.065007</td>\n",
       "    </tr>\n",
       "    <tr>\n",
       "      <th>1</th>\n",
       "      <td>AT-Mmg</td>\n",
       "      <td>100-600</td>\n",
       "      <td>27.656817</td>\n",
       "      <td>0.433034</td>\n",
       "      <td>RAW</td>\n",
       "      <td>0.065007</td>\n",
       "    </tr>\n",
       "    <tr>\n",
       "      <th>2</th>\n",
       "      <td>AT-Mmg</td>\n",
       "      <td>100-900</td>\n",
       "      <td>5.195374</td>\n",
       "      <td>0.259116</td>\n",
       "      <td>RAW</td>\n",
       "      <td>0.065007</td>\n",
       "    </tr>\n",
       "    <tr>\n",
       "      <th>3</th>\n",
       "      <td>AT-Mmg</td>\n",
       "      <td>300-600</td>\n",
       "      <td>13.563862</td>\n",
       "      <td>0.734345</td>\n",
       "      <td>RAW</td>\n",
       "      <td>0.065007</td>\n",
       "    </tr>\n",
       "    <tr>\n",
       "      <th>4</th>\n",
       "      <td>AT-Mmg</td>\n",
       "      <td>300-900</td>\n",
       "      <td>3.173046</td>\n",
       "      <td>0.466587</td>\n",
       "      <td>RAW</td>\n",
       "      <td>0.065007</td>\n",
       "    </tr>\n",
       "  </tbody>\n",
       "</table>\n",
       "</div>"
      ],
      "text/plain": [
       "     Site Spatial Representativeness  RAW Score  ST Score Roman Metrics  \\\n",
       "0  AT-Mmg                    100-300   9.436081  0.676006           RAW   \n",
       "1  AT-Mmg                    100-600  27.656817  0.433034           RAW   \n",
       "2  AT-Mmg                    100-900   5.195374  0.259116           RAW   \n",
       "3  AT-Mmg                    300-600  13.563862  0.734345           RAW   \n",
       "4  AT-Mmg                    300-900   3.173046  0.466587           RAW   \n",
       "\n",
       "     CV 900  \n",
       "0  0.065007  \n",
       "1  0.065007  \n",
       "2  0.065007  \n",
       "3  0.065007  \n",
       "4  0.065007  "
      ]
     },
     "execution_count": 107,
     "metadata": {},
     "output_type": "execute_result"
    }
   ],
   "source": [
    "# Read different sheets from the excel file\n",
    "df_HI = pd.read_excel(os.path.join(cwd_Images_Results,\"Final (101 Sites) HI, Roman, Info.xlsx\"), sheet_name=\"Homogeneity\", header = 1)\n",
    "df_Roman = pd.read_excel(os.path.join(cwd_Images_Results,\"Final (101 Sites) HI, Roman, Info.xlsx\"), sheet_name=\"Representativeness\")\n",
    "df = pd.merge(df_Roman,df_HI[['Site','CV 900']],on='Site')\n",
    "df = df[['Site','Spatial Representativeness','RAW Score','ST Score','Roman Metrics','CV 900']].sort_values(['Site','Spatial Representativeness']).reset_index(drop = True)\n",
    "df.head()"
   ]
  },
  {
   "cell_type": "code",
   "execution_count": 108,
   "metadata": {},
   "outputs": [],
   "source": [
    "list_ROI = ['100-300','100-600','100-900','300-600','300-900']\n",
    "list_score = ['RAW Score','ST Score']\n",
    "list_ROI_alt = []\n",
    "list_score_alt = []\n",
    "for ROI in list_ROI:\n",
    "    for score in list_score:\n",
    "        list_ROI_alt.append(ROI)\n",
    "        list_score_alt.append(score)"
   ]
  },
  {
   "cell_type": "code",
   "execution_count": 109,
   "metadata": {},
   "outputs": [
    {
     "data": {
      "text/plain": [
       "<Figure size 800x600 with 0 Axes>"
      ]
     },
     "metadata": {},
     "output_type": "display_data"
    },
    {
     "data": {
      "text/plain": [
       "<Figure size 800x600 with 0 Axes>"
      ]
     },
     "metadata": {},
     "output_type": "display_data"
    },
    {
     "data": {
      "text/plain": [
       "<Figure size 800x600 with 0 Axes>"
      ]
     },
     "metadata": {},
     "output_type": "display_data"
    },
    {
     "data": {
      "text/plain": [
       "<Figure size 800x600 with 0 Axes>"
      ]
     },
     "metadata": {},
     "output_type": "display_data"
    },
    {
     "data": {
      "text/plain": [
       "<Figure size 800x600 with 0 Axes>"
      ]
     },
     "metadata": {},
     "output_type": "display_data"
    },
    {
     "data": {
      "text/plain": [
       "<Figure size 800x600 with 0 Axes>"
      ]
     },
     "metadata": {},
     "output_type": "display_data"
    },
    {
     "data": {
      "text/plain": [
       "<Figure size 800x600 with 0 Axes>"
      ]
     },
     "metadata": {},
     "output_type": "display_data"
    },
    {
     "data": {
      "text/plain": [
       "<Figure size 800x600 with 0 Axes>"
      ]
     },
     "metadata": {},
     "output_type": "display_data"
    },
    {
     "data": {
      "text/plain": [
       "<Figure size 800x600 with 0 Axes>"
      ]
     },
     "metadata": {},
     "output_type": "display_data"
    },
    {
     "data": {
      "text/plain": [
       "<Figure size 800x600 with 0 Axes>"
      ]
     },
     "metadata": {},
     "output_type": "display_data"
    }
   ],
   "source": [
    "# Distribution plot\n",
    "for ROI in list_ROI:\n",
    "    for score in list_score:\n",
    "        # Read column\n",
    "        if score == 'RAW Score':\n",
    "            data = np.array(df[df['Spatial Representativeness'] == ROI][score])\n",
    "        if score == 'ST Score':\n",
    "            data = np.array(df[(df['Spatial Representativeness'] == ROI)&(df['Roman Metrics'] == 'RAW or ST')][score])\n",
    "        z_scores = zscore(data)\n",
    "\n",
    "        # Define a threshold for outliers (e.g., 3 standard deviations)\n",
    "        threshold = 2\n",
    "        # Filter the data by keeping only the values within the threshold\n",
    "        data = data[np.abs(z_scores) < threshold]\n",
    "\n",
    "        # Set the style for Seaborn\n",
    "        sns.set_theme(style=\"whitegrid\")\n",
    "\n",
    "        # Create a histogram with specific bin edges\n",
    "        bin_edges = np.linspace(0, round(np.max(data)), 11)  # Define bin edges (e.g., 10 bins)\n",
    "\n",
    "        # Plot histogram with custom bin edges\n",
    "        plt.figure(figsize=(8, 6))\n",
    "        sns.histplot(data, bins=bin_edges, kde=True, color='skyblue', edgecolor='black')\n",
    "\n",
    "        # Add grid\n",
    "        plt.grid(True, axis='x', linestyle='--', color='gray')\n",
    "\n",
    "        # Set x-ticks to correspond to bin edges\n",
    "        plt.xticks(bin_edges)\n",
    "\n",
    "        # Add labels and title\n",
    "        plt.title(f'Distribution of {ROI} | {score}', fontsize=16)\n",
    "        plt.xlabel('Value', fontsize=14)\n",
    "        plt.ylabel('Frequency', fontsize=14)\n",
    "\n",
    "        plt.savefig(os.path.join(cwd_Images_Results,\"Plots\",\"SR Distribution\",f\"{ROI} {score}.png\"))\n",
    "        plt.clf()"
   ]
  },
  {
   "cell_type": "code",
   "execution_count": 110,
   "metadata": {},
   "outputs": [],
   "source": [
    "# Median thresholds of RAW and ST\n",
    "list_median_threshold = []\n",
    "for ROI in list_ROI:\n",
    "    for score in list_score:\n",
    "        # Read column\n",
    "        if score == 'RAW Score':\n",
    "            data = np.array(df[df['Spatial Representativeness'] == ROI][score])\n",
    "        if score == 'ST Score':\n",
    "            data = np.array(df[(df['Spatial Representativeness'] == ROI)&(df['Roman Metrics'] == 'RAW or ST')][score])\n",
    "        median_threshold = np.median(data)\n",
    "        list_median_threshold.append(median_threshold)\n",
    "df_median_threshold = pd.DataFrame({\n",
    "    \"ROI\": list_ROI_alt,\n",
    "    \"Score\": list_score_alt,\n",
    "    \"Median Threshold\": list_median_threshold\n",
    "}).to_csv(os.path.join(cwd_Images_Results,\"SP - Median Thresholds.csv\"), index = False)"
   ]
  },
  {
   "cell_type": "code",
   "execution_count": 111,
   "metadata": {},
   "outputs": [],
   "source": [
    "# otsu of ST \n",
    "list_otsu_threshold = []\n",
    "for ROI in list_ROI:\n",
    "    for score in list_score:\n",
    "        # Read column\n",
    "        if score == 'RAW Score':\n",
    "            list_otsu_threshold.append(None)\n",
    "        else:\n",
    "            data = np.array(df[(df['Spatial Representativeness'] == ROI)&(df['Roman Metrics'] == 'RAW or ST')][score])\n",
    "            otsu_threshold = threshold_otsu(data)\n",
    "            list_otsu_threshold.append(otsu_threshold)\n",
    "df_otsu_threshold = pd.DataFrame({\n",
    "    \"ROI\": list_ROI_alt,\n",
    "    \"Score\": list_score_alt,\n",
    "    \"Otsu Threshold\": list_otsu_threshold\n",
    "}).to_csv(os.path.join(cwd_Images_Results,\"SP - Otsu Thresholds.csv\"), index = False)"
   ]
  },
  {
   "cell_type": "code",
   "execution_count": 112,
   "metadata": {},
   "outputs": [
    {
     "data": {
      "text/plain": [
       "<Figure size 640x480 with 0 Axes>"
      ]
     },
     "metadata": {},
     "output_type": "display_data"
    }
   ],
   "source": [
    "# DBSCAN of RAW and ST\n",
    "list_DBSCAN_threshold = []\n",
    "for ROI in list_ROI:\n",
    "    for score in list_score:\n",
    "        if score == 'RAW Score':\n",
    "            data = np.array(df[df['Spatial Representativeness'] == ROI][score])\n",
    "        if score == 'ST Score':\n",
    "            data = np.array(df[(df['Spatial Representativeness'] == ROI)&(df['Roman Metrics'] == 'RAW or ST')][score])\n",
    "            list_DBSCAN_threshold.append(None)\n",
    "        data = data.reshape(-1,1)\n",
    "\n",
    "        # Apply DBSCAN (you may need to adjust eps and min_samples)\n",
    "        dbscan = DBSCAN(eps=0.1, min_samples=5)  # You may need to adjust these values\n",
    "        labels = dbscan.fit_predict(data)\n",
    "\n",
    "        # Visualize the clusters\n",
    "        plt.scatter(range(len(data)), data, c=labels, cmap='viridis')\n",
    "        plt.xlabel('Index')\n",
    "        plt.ylabel('Value')\n",
    "        plt.title(f'DBSCAN of {ROI} | {score}')\n",
    "        plt.savefig(os.path.join(cwd_Images_Results,\"Plots\",\"SR DBSCAN\",f\"{ROI} {score}.png\"))\n",
    "        plt.clf()\n",
    "        \n",
    "        if score == 'RAW Score':\n",
    "            # Combine data and labels\n",
    "            df_temp = pd.DataFrame({'value': data.flatten(), 'cluster': labels})\n",
    "            cluster_max_values = (\n",
    "                df_temp[df_temp['cluster'] != -1]  # Exclude noise points\n",
    "                .groupby('cluster')['value']\n",
    "                .max()\n",
    "            )\n",
    "\n",
    "            # Get the minimum value of the maximum values\n",
    "            min_of_max = cluster_max_values.min()\n",
    "            list_DBSCAN_threshold.append(min_of_max)\n",
    "\n",
    "        # # Get the cluster labels\n",
    "        # labels = dbscan.labels_\n",
    "\n",
    "        # # Separate data points into clusters based on the labels\n",
    "        # unique_labels = set(labels)  # Get unique cluster labels, including noise (-1)\n",
    "\n",
    "        # clusters = {}\n",
    "        # for label in unique_labels:\n",
    "        #     # Extract data points that belong to the current label (cluster)\n",
    "        #     clusters[label] = data[labels == label]\n",
    "\n",
    "        # # Display data points in each cluster\n",
    "        # for label, cluster_data in clusters.items():\n",
    "        #     if label == -1:\n",
    "        #         print(f\"Outliers (Noise): {cluster_data.flatten()}\")\n",
    "        #     else:\n",
    "        #         print(f\"Cluster {label}: {cluster_data.flatten()}\")\n",
    "\n",
    "df_DBSCAN_threshold = pd.DataFrame({\n",
    "    \"ROI\": list_ROI_alt,\n",
    "    \"Score\": list_score_alt,\n",
    "    \"DBSCAN Threshold\": list_DBSCAN_threshold\n",
    "}).to_csv(os.path.join(cwd_Images_Results,\"SP - DBSCAN Thresholds.csv\"), index = False)"
   ]
  },
  {
   "cell_type": "code",
   "execution_count": 116,
   "metadata": {},
   "outputs": [
    {
     "data": {
      "text/html": [
       "<div>\n",
       "<style scoped>\n",
       "    .dataframe tbody tr th:only-of-type {\n",
       "        vertical-align: middle;\n",
       "    }\n",
       "\n",
       "    .dataframe tbody tr th {\n",
       "        vertical-align: top;\n",
       "    }\n",
       "\n",
       "    .dataframe thead th {\n",
       "        text-align: right;\n",
       "    }\n",
       "</style>\n",
       "<table border=\"1\" class=\"dataframe\">\n",
       "  <thead>\n",
       "    <tr style=\"text-align: right;\">\n",
       "      <th></th>\n",
       "      <th>ROI</th>\n",
       "      <th>Score</th>\n",
       "      <th>Median Threshold</th>\n",
       "      <th>Otsu Threshold</th>\n",
       "      <th>DBSCAN Threshold</th>\n",
       "    </tr>\n",
       "  </thead>\n",
       "  <tbody>\n",
       "    <tr>\n",
       "      <th>0</th>\n",
       "      <td>100-300</td>\n",
       "      <td>RAW Score</td>\n",
       "      <td>1.543226</td>\n",
       "      <td>NaN</td>\n",
       "      <td>0.837649</td>\n",
       "    </tr>\n",
       "    <tr>\n",
       "      <th>1</th>\n",
       "      <td>100-300</td>\n",
       "      <td>ST Score</td>\n",
       "      <td>0.667581</td>\n",
       "      <td>0.668609</td>\n",
       "      <td>NaN</td>\n",
       "    </tr>\n",
       "    <tr>\n",
       "      <th>2</th>\n",
       "      <td>100-600</td>\n",
       "      <td>RAW Score</td>\n",
       "      <td>0.825489</td>\n",
       "      <td>NaN</td>\n",
       "      <td>0.615398</td>\n",
       "    </tr>\n",
       "    <tr>\n",
       "      <th>3</th>\n",
       "      <td>100-600</td>\n",
       "      <td>ST Score</td>\n",
       "      <td>0.429721</td>\n",
       "      <td>0.533471</td>\n",
       "      <td>NaN</td>\n",
       "    </tr>\n",
       "    <tr>\n",
       "      <th>4</th>\n",
       "      <td>100-900</td>\n",
       "      <td>RAW Score</td>\n",
       "      <td>0.496673</td>\n",
       "      <td>NaN</td>\n",
       "      <td>1.153229</td>\n",
       "    </tr>\n",
       "    <tr>\n",
       "      <th>5</th>\n",
       "      <td>100-900</td>\n",
       "      <td>ST Score</td>\n",
       "      <td>0.350794</td>\n",
       "      <td>0.413828</td>\n",
       "      <td>NaN</td>\n",
       "    </tr>\n",
       "    <tr>\n",
       "      <th>6</th>\n",
       "      <td>300-600</td>\n",
       "      <td>RAW Score</td>\n",
       "      <td>3.050407</td>\n",
       "      <td>NaN</td>\n",
       "      <td>0.485376</td>\n",
       "    </tr>\n",
       "    <tr>\n",
       "      <th>7</th>\n",
       "      <td>300-600</td>\n",
       "      <td>ST Score</td>\n",
       "      <td>0.739677</td>\n",
       "      <td>0.682778</td>\n",
       "      <td>NaN</td>\n",
       "    </tr>\n",
       "    <tr>\n",
       "      <th>8</th>\n",
       "      <td>300-900</td>\n",
       "      <td>RAW Score</td>\n",
       "      <td>1.310907</td>\n",
       "      <td>NaN</td>\n",
       "      <td>1.257602</td>\n",
       "    </tr>\n",
       "    <tr>\n",
       "      <th>9</th>\n",
       "      <td>300-900</td>\n",
       "      <td>ST Score</td>\n",
       "      <td>0.592676</td>\n",
       "      <td>0.573610</td>\n",
       "      <td>NaN</td>\n",
       "    </tr>\n",
       "  </tbody>\n",
       "</table>\n",
       "</div>"
      ],
      "text/plain": [
       "       ROI      Score  Median Threshold  Otsu Threshold  DBSCAN Threshold\n",
       "0  100-300  RAW Score          1.543226             NaN          0.837649\n",
       "1  100-300   ST Score          0.667581        0.668609               NaN\n",
       "2  100-600  RAW Score          0.825489             NaN          0.615398\n",
       "3  100-600   ST Score          0.429721        0.533471               NaN\n",
       "4  100-900  RAW Score          0.496673             NaN          1.153229\n",
       "5  100-900   ST Score          0.350794        0.413828               NaN\n",
       "6  300-600  RAW Score          3.050407             NaN          0.485376\n",
       "7  300-600   ST Score          0.739677        0.682778               NaN\n",
       "8  300-900  RAW Score          1.310907             NaN          1.257602\n",
       "9  300-900   ST Score          0.592676        0.573610               NaN"
      ]
     },
     "execution_count": 116,
     "metadata": {},
     "output_type": "execute_result"
    }
   ],
   "source": [
    "df_threshold = pd.DataFrame({\n",
    "    \"ROI\": list_ROI_alt,\n",
    "    \"Score\": list_score_alt,\n",
    "    \"Median Threshold\": list_median_threshold,\n",
    "    \"Otsu Threshold\": list_otsu_threshold,\n",
    "    \"DBSCAN Threshold\": list_DBSCAN_threshold\n",
    "})\n",
    "df_threshold.to_csv(os.path.join(cwd_Images_Results,\"SP - AIO Thresholds.csv\"), index = False)\n",
    "df_threshold"
   ]
  }
 ],
 "metadata": {
  "kernelspec": {
   "display_name": "DISC",
   "language": "python",
   "name": "python3"
  },
  "language_info": {
   "codemirror_mode": {
    "name": "ipython",
    "version": 3
   },
   "file_extension": ".py",
   "mimetype": "text/x-python",
   "name": "python",
   "nbconvert_exporter": "python",
   "pygments_lexer": "ipython3",
   "version": "3.12.4"
  }
 },
 "nbformat": 4,
 "nbformat_minor": 2
}
