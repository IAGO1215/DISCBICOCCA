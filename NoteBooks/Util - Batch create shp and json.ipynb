{
 "cells": [
  {
   "cell_type": "code",
   "execution_count": 17,
   "metadata": {},
   "outputs": [],
   "source": [
    "import os\n",
    "from IPython.display import clear_output\n",
    "import numpy as np\n",
    "import shapely as shp\n",
    "import pandas as pd\n",
    "import geopandas as gpd\n",
    "import rasterio as rio"
   ]
  },
  {
   "cell_type": "code",
   "execution_count": 18,
   "metadata": {},
   "outputs": [],
   "source": [
    "# The sizes of the output shps\n",
    "shps = [30,100,300,600,900,1200,1800]\n",
    "# Create also .json files?\n",
    "bool_JSON = True"
   ]
  },
  {
   "cell_type": "code",
   "execution_count": 19,
   "metadata": {},
   "outputs": [],
   "source": [
    "cwd = \"c:\\\\Users\\\\m1865\\\\Desktop\\\\DISC\"\n",
    "cwd_Images_Raw = cwd + \"\\\\Sentinel-2 Images Raw\"\n",
    "cwd_Images_Processed = cwd + \"\\\\Sentinel-2 Images Processed\""
   ]
  },
  {
   "cell_type": "code",
   "execution_count": 20,
   "metadata": {},
   "outputs": [
    {
     "data": {
      "text/html": [
       "<div>\n",
       "<style scoped>\n",
       "    .dataframe tbody tr th:only-of-type {\n",
       "        vertical-align: middle;\n",
       "    }\n",
       "\n",
       "    .dataframe tbody tr th {\n",
       "        vertical-align: top;\n",
       "    }\n",
       "\n",
       "    .dataframe thead th {\n",
       "        text-align: right;\n",
       "    }\n",
       "</style>\n",
       "<table border=\"1\" class=\"dataframe\">\n",
       "  <thead>\n",
       "    <tr style=\"text-align: right;\">\n",
       "      <th></th>\n",
       "      <th>Number</th>\n",
       "      <th>Site</th>\n",
       "      <th>Latitude</th>\n",
       "      <th>Longitude</th>\n",
       "      <th>Reference network</th>\n",
       "    </tr>\n",
       "  </thead>\n",
       "  <tbody>\n",
       "    <tr>\n",
       "      <th>0</th>\n",
       "      <td>1</td>\n",
       "      <td>ATGE</td>\n",
       "      <td>52.466778</td>\n",
       "      <td>12.959778</td>\n",
       "      <td>HYPERNET</td>\n",
       "    </tr>\n",
       "    <tr>\n",
       "      <th>1</th>\n",
       "      <td>2</td>\n",
       "      <td>ATLAS-Mohammed V</td>\n",
       "      <td>33.406152</td>\n",
       "      <td>-5.103319</td>\n",
       "      <td>Other</td>\n",
       "    </tr>\n",
       "    <tr>\n",
       "      <th>2</th>\n",
       "      <td>3</td>\n",
       "      <td>AT-Mmg</td>\n",
       "      <td>47.316700</td>\n",
       "      <td>10.970300</td>\n",
       "      <td>FLOX</td>\n",
       "    </tr>\n",
       "    <tr>\n",
       "      <th>3</th>\n",
       "      <td>4</td>\n",
       "      <td>BASP</td>\n",
       "      <td>39.049139</td>\n",
       "      <td>-2.075917</td>\n",
       "      <td>HYPERNET</td>\n",
       "    </tr>\n",
       "    <tr>\n",
       "      <th>4</th>\n",
       "      <td>5</td>\n",
       "      <td>BE-Bra</td>\n",
       "      <td>51.307600</td>\n",
       "      <td>4.519900</td>\n",
       "      <td>FLOX-ICOS</td>\n",
       "    </tr>\n",
       "  </tbody>\n",
       "</table>\n",
       "</div>"
      ],
      "text/plain": [
       "   Number              Site   Latitude  Longitude Reference network\n",
       "0       1              ATGE  52.466778  12.959778          HYPERNET\n",
       "1       2  ATLAS-Mohammed V  33.406152  -5.103319             Other\n",
       "2       3            AT-Mmg  47.316700  10.970300              FLOX\n",
       "3       4              BASP  39.049139  -2.075917          HYPERNET\n",
       "4       5            BE-Bra  51.307600   4.519900         FLOX-ICOS"
      ]
     },
     "execution_count": 20,
     "metadata": {},
     "output_type": "execute_result"
    }
   ],
   "source": [
    "df_Site = pd.read_excel(cwd + \"//Site - With New (Coordinates Only).xlsx\")\n",
    "df_Site.head(5)"
   ]
  },
  {
   "cell_type": "markdown",
   "metadata": {},
   "source": [
    "### Batch create .shp files"
   ]
  },
  {
   "cell_type": "code",
   "execution_count": 21,
   "metadata": {},
   "outputs": [
    {
     "name": "stdout",
     "output_type": "stream",
     "text": [
      "The creation of all sites has finished successfully!\n"
     ]
    }
   ],
   "source": [
    "for i in range(df_Site.shape[0]):\n",
    "    # Read info\n",
    "    temp_SiteName = df_Site['Site'][i]\n",
    "    temp_Latitude = df_Site['Latitude'][i]\n",
    "    temp_Longitude = df_Site['Longitude'][i]\n",
    "    print(f\"{temp_SiteName} starts! \")\n",
    "    # Create gdf\n",
    "    df_4326 = pd.DataFrame({\n",
    "        \"Site\": [temp_SiteName],\n",
    "        \"Latitude\": [temp_Latitude],\n",
    "        \"Longitude\": [temp_Longitude]\n",
    "    })\n",
    "    gdf_4326 = gpd.GeoDataFrame(\n",
    "        df_4326,\n",
    "        geometry = gpd.points_from_xy(df_4326['Longitude'], df_4326['Latitude']),\n",
    "        crs = \"EPSG:4326\"\n",
    "    )\n",
    "    # Get L1C raster file\n",
    "    for path, subdirs, files in os.walk(cwd_Images_Raw + \"\\\\\" + temp_SiteName + \"\\\\L1C\"):\n",
    "        for name in files:\n",
    "            temp = os.path.join(path, name)\n",
    "            if \"IMG_DATA\" in temp and temp[-3:] == 'jp2' and \"B08\" in temp:\n",
    "                # print(temp)\n",
    "                path_L1C_B08_raw = temp\n",
    "    print(\"The path to B08 of L1C is \" + path_L1C_B08_raw)\n",
    "    # Get L2A raster file\n",
    "    for path, subdirs, files in os.walk(cwd_Images_Raw + \"\\\\\" + temp_SiteName + \"\\\\L2A\"):\n",
    "        for name in files:\n",
    "            temp = os.path.join(path, name)\n",
    "            if temp[-3:] == 'jp2'in temp and \"10m\" in temp and \"B04\" in temp :\n",
    "                path_L2A_B04_raw = temp\n",
    "    print(\"The path to B04 of L2A is \" + path_L2A_B04_raw)\n",
    "    # Read rasters\n",
    "    image_L1C_B08 = rio.open(path_L1C_B08_raw)\n",
    "    image_L2A_B04 = rio.open(path_L2A_B04_raw)\n",
    "    # Check crs\n",
    "    crs_L1C = image_L1C_B08.crs.data[\"init\"].split(\":\")[1]\n",
    "    crs_L2A = image_L2A_B04.crs.data[\"init\"].split(\":\")[1]\n",
    "    # In the case that L1C and L2A have different crs, give an error. But this shouldn't happen. \n",
    "    if crs_L2A != crs_L1C:\n",
    "        print(\"The EPSG of L1C is \" + crs_L1C)\n",
    "        print(\"The EPSG of L2A is \" + crs_L2A)\n",
    "        print(\"Please make sure the downloaded L2A and L1C images have the same crs. \")\n",
    "        raise SystemExit(\"Stop right there!\")\n",
    "    crs_Final = 'EPSG:' + crs_L1C\n",
    "    print(\"The final crs is \" + crs_Final)\n",
    "    # Converting Lon-Lat to target crs!\n",
    "    gdf_New = gdf_4326.copy()\n",
    "    gdf_New = gdf_New.to_crs(crs_Final)\n",
    "    # Assign the site to a pixel\n",
    "    site_x = gdf_New.geometry.x.values[0]\n",
    "    site_y = gdf_New.geometry.y.values[0]\n",
    "    site_row, site_col = image_L2A_B04.index(site_x, site_y)\n",
    "    site_pixel_x, site_pixel_y = image_L2A_B04.xy(site_row, site_col)\n",
    "    # Calculate the \"cardinal\" distance\n",
    "    for size in shps:\n",
    "        side_length_half = size / 2\n",
    "        if side_length_half % 2 == 0:\n",
    "            # If the half of the side length is even, we need to add another 5 meters to make sure the pixels on the borders will not be omitted when we clip the raster images. \n",
    "            length_Cardinal = side_length_half + 5\n",
    "        else:\n",
    "            length_Cardinal = side_length_half\n",
    "        site_x_left_New = site_pixel_x - length_Cardinal\n",
    "        site_x_right_New = site_pixel_x + length_Cardinal\n",
    "        site_y_top_New = site_pixel_y + length_Cardinal\n",
    "        site_y_bottom_New = site_pixel_y - length_Cardinal\n",
    "        # Create a bounding box\n",
    "        shp_New = shp.box(site_x_left_New, site_y_bottom_New, site_x_right_New, site_y_top_New)\n",
    "        # Create shapefile! \n",
    "        gdf_New = gpd.GeoDataFrame(\n",
    "            pd.DataFrame({\"0\": [\"0\"]}),\n",
    "            geometry=[shp_New],\n",
    "            crs = crs_Final\n",
    "        )\n",
    "        gdf_New.to_file(cwd_Images_Processed + \"\\\\\" + temp_SiteName + \"\\\\\" + str(size) + \"m.shp\")\n",
    "        if bool_JSON:\n",
    "            gdf_New.to_file(cwd_Images_Processed + \"\\\\\" + temp_SiteName + \"\\\\\" + str(size) + \"m.json\", driver = \"GeoJSON\")\n",
    "    print(f\"{temp_SiteName} finishes! \")\n",
    "    clear_output(wait=True)\n",
    "print(\"The creation of all sites has finished successfully!\")"
   ]
  },
  {
   "cell_type": "code",
   "execution_count": null,
   "metadata": {},
   "outputs": [],
   "source": []
  }
 ],
 "metadata": {
  "kernelspec": {
   "display_name": "DISC",
   "language": "python",
   "name": "python3"
  },
  "language_info": {
   "codemirror_mode": {
    "name": "ipython",
    "version": 3
   },
   "file_extension": ".py",
   "mimetype": "text/x-python",
   "name": "python",
   "nbconvert_exporter": "python",
   "pygments_lexer": "ipython3",
   "version": "3.12.4"
  }
 },
 "nbformat": 4,
 "nbformat_minor": 2
}
