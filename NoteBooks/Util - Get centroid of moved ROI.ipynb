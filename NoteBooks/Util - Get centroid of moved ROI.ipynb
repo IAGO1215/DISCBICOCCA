{
 "cells": [
  {
   "cell_type": "markdown",
   "metadata": {},
   "source": [
    "This notebook is only used to retrieve the centroids of manually moved ROI of sites (done in QGIS). "
   ]
  },
  {
   "cell_type": "code",
   "execution_count": 21,
   "metadata": {},
   "outputs": [],
   "source": [
    "import os\n",
    "import numpy as np\n",
    "import pandas as pd\n",
    "import geopandas as gpd"
   ]
  },
  {
   "cell_type": "code",
   "execution_count": 22,
   "metadata": {},
   "outputs": [],
   "source": [
    "cwd = \"c:\\\\Users\\\\m1865\\\\Desktop\\\\DISC\"\n",
    "cwd_Images_Raw = cwd + \"\\\\Sentinel-2 Images Raw\"\n",
    "cwd_Images_Processed = cwd + \"\\\\Sentinel-2 Images Processed\""
   ]
  },
  {
   "cell_type": "code",
   "execution_count": 23,
   "metadata": {},
   "outputs": [
    {
     "data": {
      "text/html": [
       "<div>\n",
       "<style scoped>\n",
       "    .dataframe tbody tr th:only-of-type {\n",
       "        vertical-align: middle;\n",
       "    }\n",
       "\n",
       "    .dataframe tbody tr th {\n",
       "        vertical-align: top;\n",
       "    }\n",
       "\n",
       "    .dataframe thead th {\n",
       "        text-align: right;\n",
       "    }\n",
       "</style>\n",
       "<table border=\"1\" class=\"dataframe\">\n",
       "  <thead>\n",
       "    <tr style=\"text-align: right;\">\n",
       "      <th></th>\n",
       "      <th>Number</th>\n",
       "      <th>Site</th>\n",
       "      <th>Latitude</th>\n",
       "      <th>Longitude</th>\n",
       "      <th>Reference network</th>\n",
       "    </tr>\n",
       "  </thead>\n",
       "  <tbody>\n",
       "    <tr>\n",
       "      <th>0</th>\n",
       "      <td>1</td>\n",
       "      <td>ATGE</td>\n",
       "      <td>52.466778</td>\n",
       "      <td>12.959778</td>\n",
       "      <td>HYPERNET</td>\n",
       "    </tr>\n",
       "    <tr>\n",
       "      <th>1</th>\n",
       "      <td>2</td>\n",
       "      <td>ATLAS-Mohammed V</td>\n",
       "      <td>33.406152</td>\n",
       "      <td>-5.103319</td>\n",
       "      <td>Other</td>\n",
       "    </tr>\n",
       "    <tr>\n",
       "      <th>2</th>\n",
       "      <td>3</td>\n",
       "      <td>AT-Mmg</td>\n",
       "      <td>47.316700</td>\n",
       "      <td>10.970300</td>\n",
       "      <td>FLOX</td>\n",
       "    </tr>\n",
       "    <tr>\n",
       "      <th>3</th>\n",
       "      <td>4</td>\n",
       "      <td>BASP</td>\n",
       "      <td>39.049139</td>\n",
       "      <td>-2.075917</td>\n",
       "      <td>HYPERNET</td>\n",
       "    </tr>\n",
       "    <tr>\n",
       "      <th>4</th>\n",
       "      <td>5</td>\n",
       "      <td>BE-Bra</td>\n",
       "      <td>51.307600</td>\n",
       "      <td>4.519900</td>\n",
       "      <td>FLOX-ICOS</td>\n",
       "    </tr>\n",
       "  </tbody>\n",
       "</table>\n",
       "</div>"
      ],
      "text/plain": [
       "   Number              Site   Latitude  Longitude Reference network\n",
       "0       1              ATGE  52.466778  12.959778          HYPERNET\n",
       "1       2  ATLAS-Mohammed V  33.406152  -5.103319             Other\n",
       "2       3            AT-Mmg  47.316700  10.970300              FLOX\n",
       "3       4              BASP  39.049139  -2.075917          HYPERNET\n",
       "4       5            BE-Bra  51.307600   4.519900         FLOX-ICOS"
      ]
     },
     "execution_count": 23,
     "metadata": {},
     "output_type": "execute_result"
    }
   ],
   "source": [
    "df_Site = pd.read_excel(cwd + \"//Site - No Moved ROI (Coordinates Only).xlsx\")\n",
    "df_Site.head(5)"
   ]
  },
  {
   "cell_type": "code",
   "execution_count": 24,
   "metadata": {},
   "outputs": [],
   "source": [
    "list_Centroids_Lat = []\n",
    "list_Centroids_Lon = []\n",
    "list_Sites = []\n",
    "for i in range(df_Site.shape[0]):\n",
    "    temp_SiteName = df_Site['Site'][i]\n",
    "    if os.path.exists(cwd_Images_Processed + \"\\\\\" + temp_SiteName + \"\\\\600m Spostamento.shp\"):\n",
    "        gdf = gpd.read_file(cwd_Images_Processed + \"\\\\\" + temp_SiteName + \"\\\\600m Spostamento.shp\")\n",
    "        point = gdf.centroid\n",
    "        point_4326 = point.to_crs(\"EPSG:4326\")\n",
    "        list_Sites.append(temp_SiteName + \" New\")\n",
    "        list_Centroids_Lat.append(point_4326.y.values[0])\n",
    "        list_Centroids_Lon.append(point_4326.x.values[0])"
   ]
  },
  {
   "cell_type": "code",
   "execution_count": 25,
   "metadata": {},
   "outputs": [
    {
     "data": {
      "text/html": [
       "<div>\n",
       "<style scoped>\n",
       "    .dataframe tbody tr th:only-of-type {\n",
       "        vertical-align: middle;\n",
       "    }\n",
       "\n",
       "    .dataframe tbody tr th {\n",
       "        vertical-align: top;\n",
       "    }\n",
       "\n",
       "    .dataframe thead th {\n",
       "        text-align: right;\n",
       "    }\n",
       "</style>\n",
       "<table border=\"1\" class=\"dataframe\">\n",
       "  <thead>\n",
       "    <tr style=\"text-align: right;\">\n",
       "      <th></th>\n",
       "      <th>Site</th>\n",
       "      <th>Latitude</th>\n",
       "      <th>Longitude</th>\n",
       "    </tr>\n",
       "  </thead>\n",
       "  <tbody>\n",
       "    <tr>\n",
       "      <th>0</th>\n",
       "      <td>ATLAS-Mohammed V New</td>\n",
       "      <td>33.404814</td>\n",
       "      <td>-5.101614</td>\n",
       "    </tr>\n",
       "    <tr>\n",
       "      <th>1</th>\n",
       "      <td>FR-Bil New</td>\n",
       "      <td>44.493678</td>\n",
       "      <td>-0.957970</td>\n",
       "    </tr>\n",
       "    <tr>\n",
       "      <th>2</th>\n",
       "      <td>FR-FBn New</td>\n",
       "      <td>43.240715</td>\n",
       "      <td>5.680398</td>\n",
       "    </tr>\n",
       "    <tr>\n",
       "      <th>3</th>\n",
       "      <td>FR-Pue New</td>\n",
       "      <td>43.742573</td>\n",
       "      <td>3.597429</td>\n",
       "    </tr>\n",
       "    <tr>\n",
       "      <th>4</th>\n",
       "      <td>IS-YATIR New</td>\n",
       "      <td>31.346557</td>\n",
       "      <td>35.049702</td>\n",
       "    </tr>\n",
       "    <tr>\n",
       "      <th>5</th>\n",
       "      <td>IT-BFt New</td>\n",
       "      <td>45.198694</td>\n",
       "      <td>10.739507</td>\n",
       "    </tr>\n",
       "    <tr>\n",
       "      <th>6</th>\n",
       "      <td>IT-SR2 New</td>\n",
       "      <td>43.730721</td>\n",
       "      <td>10.290911</td>\n",
       "    </tr>\n",
       "    <tr>\n",
       "      <th>7</th>\n",
       "      <td>UK-Amo New</td>\n",
       "      <td>55.794310</td>\n",
       "      <td>-3.247932</td>\n",
       "    </tr>\n",
       "    <tr>\n",
       "      <th>8</th>\n",
       "      <td>US-Kon New</td>\n",
       "      <td>39.099441</td>\n",
       "      <td>-96.564810</td>\n",
       "    </tr>\n",
       "    <tr>\n",
       "      <th>9</th>\n",
       "      <td>US-SERC New</td>\n",
       "      <td>38.891407</td>\n",
       "      <td>-76.561638</td>\n",
       "    </tr>\n",
       "  </tbody>\n",
       "</table>\n",
       "</div>"
      ],
      "text/plain": [
       "                   Site   Latitude  Longitude\n",
       "0  ATLAS-Mohammed V New  33.404814  -5.101614\n",
       "1            FR-Bil New  44.493678  -0.957970\n",
       "2            FR-FBn New  43.240715   5.680398\n",
       "3            FR-Pue New  43.742573   3.597429\n",
       "4          IS-YATIR New  31.346557  35.049702\n",
       "5            IT-BFt New  45.198694  10.739507\n",
       "6            IT-SR2 New  43.730721  10.290911\n",
       "7            UK-Amo New  55.794310  -3.247932\n",
       "8            US-Kon New  39.099441 -96.564810\n",
       "9           US-SERC New  38.891407 -76.561638"
      ]
     },
     "execution_count": 25,
     "metadata": {},
     "output_type": "execute_result"
    }
   ],
   "source": [
    "df_MovedROI = pd.DataFrame({\n",
    "    \"Site\": list_Sites,\n",
    "    \"Latitude\": list_Centroids_Lat,\n",
    "    \"Longitude\": list_Centroids_Lon\n",
    "})\n",
    "df_MovedROI"
   ]
  },
  {
   "cell_type": "code",
   "execution_count": 26,
   "metadata": {},
   "outputs": [],
   "source": [
    "df_MovedROI.to_csv(cwd + \"\\\\temp.csv\", index = False)"
   ]
  },
  {
   "cell_type": "code",
   "execution_count": null,
   "metadata": {},
   "outputs": [],
   "source": []
  }
 ],
 "metadata": {
  "kernelspec": {
   "display_name": "DISC",
   "language": "python",
   "name": "python3"
  },
  "language_info": {
   "codemirror_mode": {
    "name": "ipython",
    "version": 3
   },
   "file_extension": ".py",
   "mimetype": "text/x-python",
   "name": "python",
   "nbconvert_exporter": "python",
   "pygments_lexer": "ipython3",
   "version": "3.12.4"
  }
 },
 "nbformat": 4,
 "nbformat_minor": 2
}
