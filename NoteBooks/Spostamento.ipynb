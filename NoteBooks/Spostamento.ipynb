{
 "cells": [
  {
   "cell_type": "code",
   "execution_count": 1,
   "metadata": {},
   "outputs": [],
   "source": [
    "import os\n",
    "from bs4 import BeautifulSoup\n",
    "import math\n",
    "import numpy as np\n",
    "import shapely as shp\n",
    "import pandas as pd\n",
    "import geopandas as gpd\n",
    "import matplotlib.pyplot as plt\n",
    "import rasterio as rio\n",
    "import rasterio.mask"
   ]
  },
  {
   "cell_type": "code",
   "execution_count": 2,
   "metadata": {},
   "outputs": [],
   "source": [
    "cwd = \"c:\\\\Users\\\\m1865\\\\Desktop\\\\DISC\"\n",
    "cwd_Images_Raw = cwd + \"\\\\Sentinel-2 Images Raw\"\n",
    "cwd_Images_Processed = cwd + \"\\\\Sentinel-2 Images Processed\""
   ]
  },
  {
   "cell_type": "code",
   "execution_count": 3,
   "metadata": {},
   "outputs": [],
   "source": [
    "list_Sites = [\"DE-LEIPZIG\",\"FI Hyt FOREST\",\"DE-GEBESE\",\"FR-OHP\",\"PORT-FOR\",\"SW-PYN\"]"
   ]
  },
  {
   "cell_type": "code",
   "execution_count": 6,
   "metadata": {},
   "outputs": [],
   "source": [
    "gdf = gpd.read_file(cwd_Images_Processed + \"\\\\\" + list_Sites[-1] + \"\\\\600m Spostamento.shp\")"
   ]
  },
  {
   "cell_type": "code",
   "execution_count": 7,
   "metadata": {},
   "outputs": [
    {
     "data": {
      "text/plain": [
       "0    POINT (393385 5128425)\n",
       "dtype: geometry"
      ]
     },
     "execution_count": 7,
     "metadata": {},
     "output_type": "execute_result"
    }
   ],
   "source": [
    "gdf.centroid"
   ]
  },
  {
   "cell_type": "code",
   "execution_count": 10,
   "metadata": {},
   "outputs": [
    {
     "data": {
      "text/plain": [
       "[0    POINT (12.30571 51.36546)\n",
       " dtype: geometry,\n",
       " 0    POINT (11.08315 60.37163)\n",
       " dtype: geometry,\n",
       " 0    POINT (10.91248 51.09973)\n",
       " dtype: geometry,\n",
       " 0    POINT (5.71392 43.9369)\n",
       " dtype: geometry,\n",
       " 0    POINT (-8.81736 38.82051)\n",
       " dtype: geometry,\n",
       " 0    POINT (7.61559 46.30102)\n",
       " dtype: geometry]"
      ]
     },
     "execution_count": 10,
     "metadata": {},
     "output_type": "execute_result"
    }
   ],
   "source": [
    "list_Centroids = []\n",
    "for site in list_Sites:\n",
    "    gdf = gpd.read_file(cwd_Images_Processed + \"\\\\\" + site + \"\\\\600m Spostamento.shp\")\n",
    "    point = gdf.centroid\n",
    "    point_4326 = point.to_crs(\"EPSG:4326\")\n",
    "    point_4326.to_file(cwd_Images_Processed + \"\\\\\" + site + \"\\\\600m Spostamento Centroid.shp\")\n",
    "    list_Centroids.append(point_4326)\n",
    "list_Centroids"
   ]
  },
  {
   "cell_type": "code",
   "execution_count": null,
   "metadata": {},
   "outputs": [],
   "source": []
  }
 ],
 "metadata": {
  "kernelspec": {
   "display_name": "DISC",
   "language": "python",
   "name": "python3"
  },
  "language_info": {
   "codemirror_mode": {
    "name": "ipython",
    "version": 3
   },
   "file_extension": ".py",
   "mimetype": "text/x-python",
   "name": "python",
   "nbconvert_exporter": "python",
   "pygments_lexer": "ipython3",
   "version": "3.12.4"
  }
 },
 "nbformat": 4,
 "nbformat_minor": 2
}
