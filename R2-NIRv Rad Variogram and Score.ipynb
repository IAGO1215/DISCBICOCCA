{
 "cells": [
  {
   "cell_type": "code",
   "execution_count": 81,
   "metadata": {},
   "outputs": [],
   "source": [
    "import os\n",
    "import math\n",
    "import numpy as np\n",
    "import pandas as pd\n",
    "import matplotlib.pyplot as plt\n",
    "import rasterio as rio\n",
    "import skgstat as skg\n",
    "from scipy.interpolate import interp1d\n",
    "from scipy.integrate import quad"
   ]
  },
  {
   "cell_type": "code",
   "execution_count": 82,
   "metadata": {},
   "outputs": [],
   "source": [
    "cwd = \"c:\\\\Users\\\\m1865\\\\Desktop\\\\DISC\"\n",
    "cwd_Images_Raw = cwd + \"\\\\Sentinel-2 Images Raw\"\n",
    "cwd_Images_Processed = cwd + \"\\\\Sentinel-2 Images Processed\""
   ]
  },
  {
   "cell_type": "code",
   "execution_count": 83,
   "metadata": {},
   "outputs": [],
   "source": [
    "# Site Name\n",
    "site_Name = \"ATLAS-Mohammed V\""
   ]
  },
  {
   "cell_type": "code",
   "execution_count": 84,
   "metadata": {},
   "outputs": [],
   "source": [
    "# Constant! \n",
    "g = 4.66"
   ]
  },
  {
   "cell_type": "markdown",
   "metadata": {},
   "source": [
    "# 100m and 150m variogram, RAW Score and ST Score"
   ]
  },
  {
   "cell_type": "code",
   "execution_count": 85,
   "metadata": {},
   "outputs": [
    {
     "data": {
      "text/plain": [
       "(11, 11)"
      ]
     },
     "execution_count": 85,
     "metadata": {},
     "output_type": "execute_result"
    }
   ],
   "source": [
    "img_100 = rio.open(cwd_Images_Processed + \"\\\\\" + site_Name + \"\\\\NIRv 100m.tif\")\n",
    "band_100 = img_100.read(1)\n",
    "band_100.shape"
   ]
  },
  {
   "cell_type": "code",
   "execution_count": 86,
   "metadata": {},
   "outputs": [
    {
     "data": {
      "text/plain": [
       "(15, 15)"
      ]
     },
     "execution_count": 86,
     "metadata": {},
     "output_type": "execute_result"
    }
   ],
   "source": [
    "img_150 = rio.open(cwd_Images_Processed + \"\\\\\" + site_Name + \"\\\\NIRv 150m.tif\")\n",
    "band_150 = img_150.read(1)\n",
    "band_150.shape"
   ]
  },
  {
   "cell_type": "code",
   "execution_count": 87,
   "metadata": {},
   "outputs": [],
   "source": [
    "# reshape the band arrays into one-dimensional array\n",
    "band_100_reshape = band_100.reshape(-1)\n",
    "band_150_reshape = band_150.reshape(-1)"
   ]
  },
  {
   "cell_type": "code",
   "execution_count": 88,
   "metadata": {},
   "outputs": [
    {
     "data": {
      "text/plain": [
       "(121, 2)"
      ]
     },
     "execution_count": 88,
     "metadata": {},
     "output_type": "execute_result"
    }
   ],
   "source": [
    "# Get the coordinates n-dimensional array\n",
    "list_Coordinates_100 = []\n",
    "for x in range(img_100.shape[0]):\n",
    "    for y in range(img_100.shape[1]):\n",
    "        temp_x, temp_y = img_100.xy(x, y)\n",
    "        temp_list = [temp_x, temp_y]\n",
    "        list_Coordinates_100.append(temp_list)\n",
    "arr_Coordinates_100 = np.array(list_Coordinates_100)\n",
    "arr_Coordinates_100.shape"
   ]
  },
  {
   "cell_type": "code",
   "execution_count": 89,
   "metadata": {},
   "outputs": [
    {
     "data": {
      "text/plain": [
       "(225, 2)"
      ]
     },
     "execution_count": 89,
     "metadata": {},
     "output_type": "execute_result"
    }
   ],
   "source": [
    "# Get the coordinates n-dimensional array\n",
    "list_Coordinates_150 = []\n",
    "for x in range(img_150.shape[0]):\n",
    "    for y in range(img_150.shape[1]):\n",
    "        temp_x, temp_y = img_150.xy(x, y)\n",
    "        temp_list = [temp_x, temp_y]\n",
    "        list_Coordinates_150.append(temp_list)\n",
    "arr_Coordinates_150 = np.array(list_Coordinates_150)\n",
    "arr_Coordinates_150.shape"
   ]
  },
  {
   "cell_type": "code",
   "execution_count": 90,
   "metadata": {},
   "outputs": [
    {
     "data": {
      "text/plain": [
       "70.0"
      ]
     },
     "execution_count": 90,
     "metadata": {},
     "output_type": "execute_result"
    }
   ],
   "source": [
    "# Get the maximum lag\n",
    "diagonal_100 = 100 * (2 ** 0.5) / 2\n",
    "bin_100 = np.arange(10,diagonal_100,10)\n",
    "bin_100[-1]"
   ]
  },
  {
   "cell_type": "code",
   "execution_count": 91,
   "metadata": {},
   "outputs": [
    {
     "data": {
      "text/plain": [
       "100.0"
      ]
     },
     "execution_count": 91,
     "metadata": {},
     "output_type": "execute_result"
    }
   ],
   "source": [
    "# Get the maximum lag\n",
    "diagonal_150 = 150 * (2 ** 0.5) / 2\n",
    "bin_150 = np.arange(10,diagonal_150,10)\n",
    "bin_150[-1]"
   ]
  },
  {
   "cell_type": "markdown",
   "metadata": {},
   "source": [
    "## Variogram"
   ]
  },
  {
   "cell_type": "code",
   "execution_count": 92,
   "metadata": {},
   "outputs": [
    {
     "data": {
      "text/plain": [
       "{'model': 'spherical',\n",
       " 'estimator': 'matheron',\n",
       " 'dist_func': 'euclidean',\n",
       " 'normalized_effective_range': 4899.999999999999,\n",
       " 'normalized_sill': 469.05320513600867,\n",
       " 'normalized_nugget': 1.337260108581011e-13,\n",
       " 'effective_range': 69.99999999999999,\n",
       " 'sill': 21.40289332194311,\n",
       " 'nugget': 6.101916612924605e-15,\n",
       " 'params': {'estimator': 'matheron',\n",
       "  'model': 'spherical',\n",
       "  'dist_func': 'euclidean',\n",
       "  'bin_func': 'custom_bin_edges',\n",
       "  'normalize': False,\n",
       "  'fit_method': 'trf',\n",
       "  'fit_sigma': None,\n",
       "  'use_nugget': True,\n",
       "  'maxlag': 70.0,\n",
       "  'n_lags': 10,\n",
       "  'verbose': False},\n",
       " 'kwargs': {}}"
      ]
     },
     "execution_count": 92,
     "metadata": {},
     "output_type": "execute_result"
    }
   ],
   "source": [
    "V_100 = skg.Variogram(arr_Coordinates_100, band_100_reshape, use_nugget=True, bin_func=bin_100, maxlag = bin_100[-1])\n",
    "V_100.describe()"
   ]
  },
  {
   "cell_type": "code",
   "execution_count": 93,
   "metadata": {},
   "outputs": [
    {
     "data": {
      "text/plain": [
       "{'model': 'spherical',\n",
       " 'estimator': 'matheron',\n",
       " 'dist_func': 'euclidean',\n",
       " 'normalized_effective_range': 7413.463726419073,\n",
       " 'normalized_sill': 519.2691276351802,\n",
       " 'normalized_nugget': 4.282936711746578e-12,\n",
       " 'effective_range': 74.13463726419073,\n",
       " 'sill': 22.626452957649597,\n",
       " 'nugget': 1.866231995540629e-13,\n",
       " 'params': {'estimator': 'matheron',\n",
       "  'model': 'spherical',\n",
       "  'dist_func': 'euclidean',\n",
       "  'bin_func': 'custom_bin_edges',\n",
       "  'normalize': False,\n",
       "  'fit_method': 'trf',\n",
       "  'fit_sigma': None,\n",
       "  'use_nugget': True,\n",
       "  'maxlag': 100.0,\n",
       "  'n_lags': 10,\n",
       "  'verbose': False},\n",
       " 'kwargs': {}}"
      ]
     },
     "execution_count": 93,
     "metadata": {},
     "output_type": "execute_result"
    }
   ],
   "source": [
    "V_150 = skg.Variogram(arr_Coordinates_150, band_150_reshape, use_nugget=True, bin_func=bin_150, maxlag = bin_150[-1])\n",
    "V_150.describe()"
   ]
  },
  {
   "cell_type": "markdown",
   "metadata": {},
   "source": [
    "### Variogram Plot"
   ]
  },
  {
   "cell_type": "code",
   "execution_count": 94,
   "metadata": {},
   "outputs": [
    {
     "data": {
      "image/png": "[encoded data removed]",
      "text/plain": [
       "<Figure size 640x480 with 1 Axes>"
      ]
     },
     "metadata": {},
     "output_type": "display_data"
    }
   ],
   "source": [
    "# Get the theoretical functions\n",
    "def f_100(x):\n",
    "   return V_100.fitted_model(x)\n",
    "def f_150(x):\n",
    "   return V_150.fitted_model(x)\n",
    "# Create cubic interpolation model in order to make curved plot (otherwise it will be ugly af)\n",
    "cubic_model_100 = interp1d(np.concatenate((np.array([0]),bin_100)), f_100(np.concatenate((np.array([0]),bin_100)),), kind = \"cubic\")\n",
    "cubic_model_150 = interp1d(np.concatenate((np.array([0]),bin_150)), f_150(np.concatenate((np.array([0]),bin_150)),), kind = \"cubic\")\n",
    "x_100 = np.linspace(0,bin_100[-1])\n",
    "x_150 = np.linspace(0,bin_150[-1])\n",
    "# Plot! \n",
    "plt.plot(x_100, cubic_model_100(x_100),label = '100m Theoretical', color = 'Red')\n",
    "plt.plot(x_150, cubic_model_150(x_150), label = '150m Theoretical', color = 'Green')\n",
    "plt.scatter(V_100.get_empirical()[0],V_100.get_empirical()[1], color = 'Red', label = '100m Experimental', marker = '*')\n",
    "plt.scatter(V_150.get_empirical()[0],V_150.get_empirical()[1], color = 'Green', label = '150m Experimental', marker = 'D')\n",
    "# plt.xlim(0,1)\n",
    "# plt.ylim(0,0.15)\n",
    "plt.legend()\n",
    "plt.grid()"
   ]
  },
  {
   "cell_type": "markdown",
   "metadata": {},
   "source": [
    "### Variogram Parameters"
   ]
  },
  {
   "cell_type": "code",
   "execution_count": 95,
   "metadata": {},
   "outputs": [
    {
     "name": "stdout",
     "output_type": "stream",
     "text": [
      "100m Range: 69.99999999999999; Sill: 21.402893321943118; Nugget: 6.101916612924605e-15\n",
      "150m Range: 74.13463726419073; Sill: 22.626452957649786; Nugget: 1.866231995540629e-13\n"
     ]
    }
   ],
   "source": [
    "range_100 = V_100.parameters[0]\n",
    "sill_100 = V_100.parameters[1] + V_100.parameters[2]\n",
    "nugget_100 = V_100.parameters[2]\n",
    "range_150 = V_150.parameters[0]\n",
    "sill_150 = V_150.parameters[1] + V_150.parameters[2]\n",
    "nugget_150 = V_150.parameters[2]\n",
    "print(\"100m Range: \" + str(range_100) + \"; Sill: \" + str(sill_100) + \"; Nugget: \" + str(nugget_100))\n",
    "print(\"150m Range: \" + str(range_150) + \"; Sill: \" + str(sill_150) + \"; Nugget: \" + str(nugget_150))"
   ]
  },
  {
   "cell_type": "markdown",
   "metadata": {},
   "source": [
    "## Roman Metrics"
   ]
  },
  {
   "cell_type": "markdown",
   "metadata": {},
   "source": [
    "### Rcv (Coefficient of Variation)"
   ]
  },
  {
   "cell_type": "code",
   "execution_count": 96,
   "metadata": {},
   "outputs": [
    {
     "data": {
      "text/plain": [
       "0.08860069920145175"
      ]
     },
     "execution_count": 96,
     "metadata": {},
     "output_type": "execute_result"
    }
   ],
   "source": [
    "CV_100 = np.std(band_100) / np.mean(band_100)\n",
    "CV_150 = np.std(band_150) / np.mean(band_150)\n",
    "Rcv_100 = (CV_150 - CV_100) / CV_100\n",
    "Rcv_100"
   ]
  },
  {
   "cell_type": "markdown",
   "metadata": {},
   "source": [
    "### RAW Score"
   ]
  },
  {
   "cell_type": "code",
   "execution_count": 97,
   "metadata": {},
   "outputs": [
    {
     "data": {
      "text/plain": [
       "5.643296322788019"
      ]
     },
     "execution_count": 97,
     "metadata": {},
     "output_type": "execute_result"
    }
   ],
   "source": [
    "RAW_100 = (abs(2 * Rcv_100)) ** (-1)\n",
    "RAW_100"
   ]
  },
  {
   "cell_type": "markdown",
   "metadata": {},
   "source": [
    "### Rse (Scale Requirement)"
   ]
  },
  {
   "cell_type": "code",
   "execution_count": 98,
   "metadata": {},
   "outputs": [
    {
     "data": {
      "text/plain": [
       "0.9125079298626493"
      ]
     },
     "execution_count": 98,
     "metadata": {},
     "output_type": "execute_result"
    }
   ],
   "source": [
    "Rse_100 = math.exp(-((g / range_100) ** 2 + (g / range_150) ** 2) ** (1/2))\n",
    "Rse_100"
   ]
  },
  {
   "cell_type": "markdown",
   "metadata": {},
   "source": [
    "### Rst (Spatial Correlation)"
   ]
  },
  {
   "cell_type": "code",
   "execution_count": 99,
   "metadata": {},
   "outputs": [
    {
     "name": "stdout",
     "output_type": "stream",
     "text": [
      "The range 69.99999999999999 falls in 60.0 and 70.0, whose value is 21.614908454116616\n",
      "The range 74.13463726419073 falls in 70.0 and 80.0, whose value is 22.733122835962003\n"
     ]
    }
   ],
   "source": [
    "# Get the index of the range in the bin\n",
    "for i in range(len(V_100.bins)):\n",
    "    if range_100 >= V_100.bins[i] and range_100 <= V_100.bins[i+1]:\n",
    "        index_100 = i + 1\n",
    "estimator_Range_100 = V_100.experimental[index_100]\n",
    "print(f\"The range {(range_100)} falls in {V_100.bins[index_100 - 1]} and {V_100.bins[index_100]}, whose value is {estimator_Range_100}\")\n",
    "for i in range(len(V_150.bins)):\n",
    "    if range_150 >= V_150.bins[i] and range_150 <= V_150.bins[i+1]:\n",
    "        index_150 = i + 1\n",
    "estimator_Range_150 = V_150.experimental[index_150]\n",
    "print(f\"The range {(range_150)} falls in {V_150.bins[index_150 - 1]} and {V_150.bins[index_150]}, whose value is {estimator_Range_150}\")"
   ]
  },
  {
   "cell_type": "code",
   "execution_count": 100,
   "metadata": {},
   "outputs": [
    {
     "data": {
      "text/plain": [
       "-7.99360577730113e-15"
      ]
     },
     "execution_count": 100,
     "metadata": {},
     "output_type": "execute_result"
    }
   ],
   "source": [
    "ST_100 = (estimator_Range_100 - nugget_100) / estimator_Range_100\n",
    "ST_150 = (estimator_Range_150 - nugget_150) / estimator_Range_150\n",
    "Rst_100 = (ST_150 - ST_100) / ST_100\n",
    "Rst_100"
   ]
  },
  {
   "cell_type": "markdown",
   "metadata": {},
   "source": [
    "### Rsv Structural Variability"
   ]
  },
  {
   "cell_type": "code",
   "execution_count": 101,
   "metadata": {},
   "outputs": [],
   "source": [
    "from scipy.integrate import quad"
   ]
  },
  {
   "cell_type": "code",
   "execution_count": 102,
   "metadata": {},
   "outputs": [
    {
     "data": {
      "text/plain": [
       "0.05906624663128763"
      ]
     },
     "execution_count": 102,
     "metadata": {},
     "output_type": "execute_result"
    }
   ],
   "source": [
    "def f_100_SV(x):\n",
    "    return (V_100.fitted_model(x) - nugget_100) / sill_100\n",
    "def f_150_SV(x):\n",
    "    return (V_150.fitted_model(x) - nugget_150) / sill_150\n",
    "SV_100 = quad(f_100_SV, 0, range_100)[0]\n",
    "SV_150 = quad(f_150_SV, 0, range_150)[0]\n",
    "Rsv_100 = (SV_150 - SV_100) / SV_100\n",
    "Rsv_100"
   ]
  },
  {
   "cell_type": "markdown",
   "metadata": {},
   "source": [
    "### ST Score"
   ]
  },
  {
   "cell_type": "code",
   "execution_count": 103,
   "metadata": {},
   "outputs": [
    {
     "data": {
      "text/plain": [
       "1.0397926082216413"
      ]
     },
     "execution_count": 103,
     "metadata": {},
     "output_type": "execute_result"
    }
   ],
   "source": [
    "ST_Score_100 = (abs(Rcv_100) / 3 + abs(Rst_100) / 3 + abs(Rsv_100) / 3 +Rse_100) ** (-1)\n",
    "ST_Score_100"
   ]
  },
  {
   "cell_type": "markdown",
   "metadata": {},
   "source": [
    "# 300m and 450m variogram, RAW Score and ST Score"
   ]
  },
  {
   "cell_type": "code",
   "execution_count": 104,
   "metadata": {},
   "outputs": [
    {
     "data": {
      "text/plain": [
       "(31, 31)"
      ]
     },
     "execution_count": 104,
     "metadata": {},
     "output_type": "execute_result"
    }
   ],
   "source": [
    "img_300 = rio.open(cwd_Images_Processed + \"\\\\\" + site_Name + \"\\\\NIRv 300m.tif\")\n",
    "band_300 = img_300.read(1)\n",
    "band_300.shape"
   ]
  },
  {
   "cell_type": "code",
   "execution_count": 105,
   "metadata": {},
   "outputs": [
    {
     "data": {
      "text/plain": [
       "(45, 45)"
      ]
     },
     "execution_count": 105,
     "metadata": {},
     "output_type": "execute_result"
    }
   ],
   "source": [
    "img_450 = rio.open(cwd_Images_Processed + \"\\\\\" + site_Name + \"\\\\NIRv 450m.tif\")\n",
    "band_450 = img_450.read(1)\n",
    "band_450.shape"
   ]
  },
  {
   "cell_type": "code",
   "execution_count": 106,
   "metadata": {},
   "outputs": [],
   "source": [
    "# reshape the band arrays into one-dimensional array\n",
    "band_300_reshape = band_300.reshape(-1)\n",
    "band_450_reshape = band_450.reshape(-1)"
   ]
  },
  {
   "cell_type": "code",
   "execution_count": 107,
   "metadata": {},
   "outputs": [
    {
     "data": {
      "text/plain": [
       "(961, 2)"
      ]
     },
     "execution_count": 107,
     "metadata": {},
     "output_type": "execute_result"
    }
   ],
   "source": [
    "# Get the coordinates n-dimensional array\n",
    "list_Coordinates_300 = []\n",
    "for x in range(img_300.shape[0]):\n",
    "    for y in range(img_300.shape[1]):\n",
    "        temp_x, temp_y = img_300.xy(x, y)\n",
    "        temp_list = [temp_x, temp_y]\n",
    "        list_Coordinates_300.append(temp_list)\n",
    "arr_Coordinates_300 = np.array(list_Coordinates_300)\n",
    "arr_Coordinates_300.shape"
   ]
  },
  {
   "cell_type": "code",
   "execution_count": 108,
   "metadata": {},
   "outputs": [
    {
     "data": {
      "text/plain": [
       "(2025, 2)"
      ]
     },
     "execution_count": 108,
     "metadata": {},
     "output_type": "execute_result"
    }
   ],
   "source": [
    "# Get the coordinates n-dimensional array\n",
    "list_Coordinates_450 = []\n",
    "for x in range(img_450.shape[0]):\n",
    "    for y in range(img_450.shape[1]):\n",
    "        temp_x, temp_y = img_450.xy(x, y)\n",
    "        temp_list = [temp_x, temp_y]\n",
    "        list_Coordinates_450.append(temp_list)\n",
    "arr_Coordinates_450 = np.array(list_Coordinates_450)\n",
    "arr_Coordinates_450.shape"
   ]
  },
  {
   "cell_type": "code",
   "execution_count": 109,
   "metadata": {},
   "outputs": [
    {
     "data": {
      "text/plain": [
       "210.0"
      ]
     },
     "execution_count": 109,
     "metadata": {},
     "output_type": "execute_result"
    }
   ],
   "source": [
    "# Get the maximum lag\n",
    "diagonal_300 = 300 * (2 ** 0.5) / 2\n",
    "bin_300 = np.arange(10,diagonal_300,10)\n",
    "bin_300[-1]"
   ]
  },
  {
   "cell_type": "code",
   "execution_count": 110,
   "metadata": {},
   "outputs": [
    {
     "data": {
      "text/plain": [
       "310.0"
      ]
     },
     "execution_count": 110,
     "metadata": {},
     "output_type": "execute_result"
    }
   ],
   "source": [
    "# Get the maximum lag\n",
    "diagonal_450 = 450 * (2 ** 0.5) / 2\n",
    "bin_450 = np.arange(10,diagonal_450,10)\n",
    "bin_450[-1]"
   ]
  },
  {
   "cell_type": "markdown",
   "metadata": {},
   "source": [
    "## Variogram"
   ]
  },
  {
   "cell_type": "code",
   "execution_count": 111,
   "metadata": {},
   "outputs": [
    {
     "data": {
      "text/plain": [
       "{'model': 'spherical',\n",
       " 'estimator': 'matheron',\n",
       " 'dist_func': 'euclidean',\n",
       " 'normalized_effective_range': 35277.36277247382,\n",
       " 'normalized_sill': 8891.115418308511,\n",
       " 'normalized_nugget': 2523.314175985102,\n",
       " 'effective_range': 167.98744177368485,\n",
       " 'sill': 81.15225467898922,\n",
       " 'nugget': 23.031152449441915,\n",
       " 'params': {'estimator': 'matheron',\n",
       "  'model': 'spherical',\n",
       "  'dist_func': 'euclidean',\n",
       "  'bin_func': 'custom_bin_edges',\n",
       "  'normalize': False,\n",
       "  'fit_method': 'trf',\n",
       "  'fit_sigma': None,\n",
       "  'use_nugget': True,\n",
       "  'maxlag': 210.0,\n",
       "  'n_lags': 10,\n",
       "  'verbose': False},\n",
       " 'kwargs': {}}"
      ]
     },
     "execution_count": 111,
     "metadata": {},
     "output_type": "execute_result"
    }
   ],
   "source": [
    "V_300 = skg.Variogram(arr_Coordinates_300, band_300_reshape, use_nugget=True, bin_func=bin_300, maxlag = bin_300[-1])\n",
    "V_300.describe()"
   ]
  },
  {
   "cell_type": "code",
   "execution_count": 112,
   "metadata": {},
   "outputs": [
    {
     "data": {
      "text/plain": [
       "{'model': 'spherical',\n",
       " 'estimator': 'matheron',\n",
       " 'dist_func': 'euclidean',\n",
       " 'normalized_effective_range': 24628.87265698885,\n",
       " 'normalized_sill': 16294.043554007094,\n",
       " 'normalized_nugget': 5.331719107736611e-12,\n",
       " 'effective_range': 79.44797631286725,\n",
       " 'sill': 123.97826492935467,\n",
       " 'nugget': 4.056803223072962e-14,\n",
       " 'params': {'estimator': 'matheron',\n",
       "  'model': 'spherical',\n",
       "  'dist_func': 'euclidean',\n",
       "  'bin_func': 'custom_bin_edges',\n",
       "  'normalize': False,\n",
       "  'fit_method': 'trf',\n",
       "  'fit_sigma': None,\n",
       "  'use_nugget': True,\n",
       "  'maxlag': 310.0,\n",
       "  'n_lags': 10,\n",
       "  'verbose': False},\n",
       " 'kwargs': {}}"
      ]
     },
     "execution_count": 112,
     "metadata": {},
     "output_type": "execute_result"
    }
   ],
   "source": [
    "V_450 = skg.Variogram(arr_Coordinates_450, band_450_reshape, use_nugget=True, bin_func=bin_450, maxlag = bin_450[-1])\n",
    "V_450.describe()"
   ]
  },
  {
   "cell_type": "markdown",
   "metadata": {},
   "source": [
    "### Variogram Plot"
   ]
  },
  {
   "cell_type": "code",
   "execution_count": 113,
   "metadata": {},
   "outputs": [
    {
     "data": {
      "image/png": "[encoded data removed]",
      "text/plain": [
       "<Figure size 640x480 with 1 Axes>"
      ]
     },
     "metadata": {},
     "output_type": "display_data"
    }
   ],
   "source": [
    "# Get the theoretical functions\n",
    "def f_300(x):\n",
    "   return V_300.fitted_model(x)\n",
    "def f_450(x):\n",
    "   return V_450.fitted_model(x)\n",
    "# Create cubic interpolation model in order to make curved plot (otherwise it will be ugly af)\n",
    "cubic_model_300 = interp1d(np.concatenate((np.array([0]),bin_300)), f_300(np.concatenate((np.array([0]),bin_300)),), kind = \"cubic\")\n",
    "cubic_model_450 = interp1d(np.concatenate((np.array([0]),bin_450)), f_450(np.concatenate((np.array([0]),bin_450)),), kind = \"cubic\")\n",
    "x_300 = np.linspace(0,bin_300[-1])\n",
    "x_450 = np.linspace(0,bin_450[-1])\n",
    "# Plot! \n",
    "plt.plot(x_300, cubic_model_300(x_300),label = '300m Theoretical', color = 'Red')\n",
    "plt.plot(x_450, cubic_model_450(x_450), label = '450m Theoretical', color = 'Green')\n",
    "plt.scatter(V_300.get_empirical()[0],V_300.get_empirical()[1], color = 'Red', label = '300m Experimental', marker = '*')\n",
    "plt.scatter(V_450.get_empirical()[0],V_450.get_empirical()[1], color = 'Green', label = '450m Experimental', marker = 'D')\n",
    "plt.legend()\n",
    "plt.grid()"
   ]
  },
  {
   "cell_type": "markdown",
   "metadata": {},
   "source": [
    "### Variogram Parameters"
   ]
  },
  {
   "cell_type": "code",
   "execution_count": 114,
   "metadata": {},
   "outputs": [
    {
     "name": "stdout",
     "output_type": "stream",
     "text": [
      "300m Range: 167.98744177368485; Sill: 104.18340712843114; Nugget: 23.031152449441915\n",
      "450m Range: 79.44797631286725; Sill: 123.97826492935471; Nugget: 4.056803223072962e-14\n"
     ]
    }
   ],
   "source": [
    "range_300 = V_300.parameters[0]\n",
    "sill_300 = V_300.parameters[1] + V_300.parameters[2]\n",
    "nugget_300 = V_300.parameters[2]\n",
    "range_450 = V_450.parameters[0]\n",
    "sill_450 = V_450.parameters[1] + V_450.parameters[2]\n",
    "nugget_450 = V_450.parameters[2]\n",
    "print(\"300m Range: \" + str(range_300) + \"; Sill: \" + str(sill_300) + \"; Nugget: \" + str(nugget_300))\n",
    "print(\"450m Range: \" + str(range_450) + \"; Sill: \" + str(sill_450) + \"; Nugget: \" + str(nugget_450))"
   ]
  },
  {
   "cell_type": "markdown",
   "metadata": {},
   "source": [
    "## Roman Metrics"
   ]
  },
  {
   "cell_type": "markdown",
   "metadata": {},
   "source": [
    "### Rcv (Coefficient of Variation)"
   ]
  },
  {
   "cell_type": "code",
   "execution_count": 115,
   "metadata": {},
   "outputs": [
    {
     "data": {
      "text/plain": [
       "0.1417081979184895"
      ]
     },
     "execution_count": 115,
     "metadata": {},
     "output_type": "execute_result"
    }
   ],
   "source": [
    "CV_300 = np.std(band_300) / np.mean(band_300)\n",
    "CV_450 = np.std(band_450) / np.mean(band_450)\n",
    "Rcv_300 = (CV_450 - CV_300) / CV_300\n",
    "Rcv_300"
   ]
  },
  {
   "cell_type": "markdown",
   "metadata": {},
   "source": [
    "### RAW Score"
   ]
  },
  {
   "cell_type": "code",
   "execution_count": 116,
   "metadata": {},
   "outputs": [
    {
     "data": {
      "text/plain": [
       "3.528377379321413"
      ]
     },
     "execution_count": 116,
     "metadata": {},
     "output_type": "execute_result"
    }
   ],
   "source": [
    "RAW_300 = (abs(2 * Rcv_300)) ** (-1)\n",
    "RAW_300"
   ]
  },
  {
   "cell_type": "markdown",
   "metadata": {},
   "source": [
    "### Rse (Scale Requirement)"
   ]
  },
  {
   "cell_type": "code",
   "execution_count": 117,
   "metadata": {},
   "outputs": [
    {
     "data": {
      "text/plain": [
       "0.9371764478820159"
      ]
     },
     "execution_count": 117,
     "metadata": {},
     "output_type": "execute_result"
    }
   ],
   "source": [
    "Rse_300 = math.exp(-((g / range_300) ** 2 + (g / range_450) ** 2) ** (1/2))\n",
    "Rse_300"
   ]
  },
  {
   "cell_type": "markdown",
   "metadata": {},
   "source": [
    "### Rst (Spatial Correlation)"
   ]
  },
  {
   "cell_type": "code",
   "execution_count": 118,
   "metadata": {},
   "outputs": [
    {
     "name": "stdout",
     "output_type": "stream",
     "text": [
      "The range 167.98744177368485 falls in 160.0 and 170.0, whose value is 102.99354884108034\n",
      "The range 79.44797631286725 falls in 70.0 and 80.0, whose value is 129.73493081349608\n"
     ]
    }
   ],
   "source": [
    "# Get the index of the range in the bin\n",
    "for i in range(len(V_300.bins)):\n",
    "    if range_300 >= V_300.bins[i] and range_300 <= V_300.bins[i+1]:\n",
    "        index_300 = i + 1\n",
    "estimator_Range_300 = V_300.experimental[index_300]\n",
    "print(f\"The range {(range_300)} falls in {V_300.bins[index_300 - 1]} and {V_300.bins[index_300]}, whose value is {estimator_Range_300}\")\n",
    "for i in range(len(V_450.bins)):\n",
    "    if range_450 >= V_450.bins[i] and range_450 <= V_450.bins[i+1]:\n",
    "        index_450 = i + 1\n",
    "estimator_Range_450 = V_450.experimental[index_450]\n",
    "print(f\"The range {(range_450)} falls in {V_450.bins[index_450 - 1]} and {V_450.bins[index_450]}, whose value is {estimator_Range_450}\")"
   ]
  },
  {
   "cell_type": "code",
   "execution_count": 119,
   "metadata": {},
   "outputs": [
    {
     "data": {
      "text/plain": [
       "0.28802479026066596"
      ]
     },
     "execution_count": 119,
     "metadata": {},
     "output_type": "execute_result"
    }
   ],
   "source": [
    "ST_300 = (estimator_Range_300 - nugget_300) / estimator_Range_300\n",
    "ST_450 = (estimator_Range_450 - nugget_450) / estimator_Range_450\n",
    "Rst_300 = (ST_450 - ST_300) / ST_300\n",
    "Rst_300"
   ]
  },
  {
   "cell_type": "markdown",
   "metadata": {},
   "source": [
    "### Rsv Structural Variability"
   ]
  },
  {
   "cell_type": "code",
   "execution_count": 120,
   "metadata": {},
   "outputs": [
    {
     "data": {
      "text/plain": [
       "-0.39283883074266507"
      ]
     },
     "execution_count": 120,
     "metadata": {},
     "output_type": "execute_result"
    }
   ],
   "source": [
    "def f_300_SV(x):\n",
    "    return (V_300.fitted_model(x) - nugget_300) / sill_300\n",
    "def f_450_SV(x):\n",
    "    return (V_450.fitted_model(x) - nugget_450) / sill_450\n",
    "SV_300 = quad(f_300_SV, 0, range_300)[0]\n",
    "SV_450 = quad(f_450_SV, 0, range_450)[0]\n",
    "Rsv_300 = (SV_450 - SV_300) / SV_300\n",
    "Rsv_300"
   ]
  },
  {
   "cell_type": "markdown",
   "metadata": {},
   "source": [
    "### ST Score"
   ]
  },
  {
   "cell_type": "code",
   "execution_count": 121,
   "metadata": {},
   "outputs": [
    {
     "data": {
      "text/plain": [
       "0.8255136183056031"
      ]
     },
     "execution_count": 121,
     "metadata": {},
     "output_type": "execute_result"
    }
   ],
   "source": [
    "ST_Score_300 = (abs(Rcv_300) / 3 + abs(Rst_300) / 3 + abs(Rsv_300) / 3 +Rse_300) ** (-1)\n",
    "ST_Score_300"
   ]
  },
  {
   "cell_type": "markdown",
   "metadata": {},
   "source": [
    "# 900m and 1350m variogram, RAW Score and ST Score"
   ]
  },
  {
   "cell_type": "code",
   "execution_count": 122,
   "metadata": {},
   "outputs": [
    {
     "data": {
      "text/plain": [
       "(91, 91)"
      ]
     },
     "execution_count": 122,
     "metadata": {},
     "output_type": "execute_result"
    }
   ],
   "source": [
    "img_900 = rio.open(cwd_Images_Processed + \"\\\\\" + site_Name + \"\\\\NIRv 900m.tif\")\n",
    "band_900 = img_900.read(1)\n",
    "band_900.shape"
   ]
  },
  {
   "cell_type": "code",
   "execution_count": 123,
   "metadata": {},
   "outputs": [
    {
     "data": {
      "text/plain": [
       "(135, 135)"
      ]
     },
     "execution_count": 123,
     "metadata": {},
     "output_type": "execute_result"
    }
   ],
   "source": [
    "img_1350 = rio.open(cwd_Images_Processed + \"\\\\\" + site_Name + \"\\\\NIRv 1350m.tif\")\n",
    "band_1350 = img_1350.read(1)\n",
    "band_1350.shape"
   ]
  },
  {
   "cell_type": "code",
   "execution_count": 124,
   "metadata": {},
   "outputs": [],
   "source": [
    "# reshape the band arrays into one-dimensional array\n",
    "band_900_reshape = band_900.reshape(-1)\n",
    "band_1350_reshape = band_1350.reshape(-1)"
   ]
  },
  {
   "cell_type": "code",
   "execution_count": 125,
   "metadata": {},
   "outputs": [
    {
     "data": {
      "text/plain": [
       "(8281, 2)"
      ]
     },
     "execution_count": 125,
     "metadata": {},
     "output_type": "execute_result"
    }
   ],
   "source": [
    "# Get the coordinates n-dimensional array\n",
    "list_Coordinates_900 = []\n",
    "for x in range(img_900.shape[0]):\n",
    "    for y in range(img_900.shape[1]):\n",
    "        temp_x, temp_y = img_900.xy(x, y)\n",
    "        temp_list = [temp_x, temp_y]\n",
    "        list_Coordinates_900.append(temp_list)\n",
    "arr_Coordinates_900 = np.array(list_Coordinates_900)\n",
    "arr_Coordinates_900.shape"
   ]
  },
  {
   "cell_type": "code",
   "execution_count": 126,
   "metadata": {},
   "outputs": [
    {
     "data": {
      "text/plain": [
       "(18225, 2)"
      ]
     },
     "execution_count": 126,
     "metadata": {},
     "output_type": "execute_result"
    }
   ],
   "source": [
    "# Get the coordinates n-dimensional array\n",
    "list_Coordinates_1350 = []\n",
    "for x in range(img_1350.shape[0]):\n",
    "    for y in range(img_1350.shape[1]):\n",
    "        temp_x, temp_y = img_1350.xy(x, y)\n",
    "        temp_list = [temp_x, temp_y]\n",
    "        list_Coordinates_1350.append(temp_list)\n",
    "arr_Coordinates_1350 = np.array(list_Coordinates_1350)\n",
    "arr_Coordinates_1350.shape"
   ]
  },
  {
   "cell_type": "code",
   "execution_count": 127,
   "metadata": {},
   "outputs": [
    {
     "data": {
      "text/plain": [
       "630.0"
      ]
     },
     "execution_count": 127,
     "metadata": {},
     "output_type": "execute_result"
    }
   ],
   "source": [
    "# Get the maximum lag\n",
    "diagonal_900 = 900 * (2 ** 0.5) / 2\n",
    "bin_900 = np.arange(10,diagonal_900,10)\n",
    "bin_900[-1]"
   ]
  },
  {
   "cell_type": "code",
   "execution_count": 128,
   "metadata": {},
   "outputs": [
    {
     "data": {
      "text/plain": [
       "950.0"
      ]
     },
     "execution_count": 128,
     "metadata": {},
     "output_type": "execute_result"
    }
   ],
   "source": [
    "# Get the maximum lag\n",
    "diagonal_1350 = 1350 * (2 ** 0.5) / 2\n",
    "bin_1350 = np.arange(10,diagonal_1350,10)\n",
    "bin_1350[-1]"
   ]
  },
  {
   "cell_type": "markdown",
   "metadata": {},
   "source": [
    "## Variogram"
   ]
  },
  {
   "cell_type": "code",
   "execution_count": 129,
   "metadata": {},
   "outputs": [
    {
     "data": {
      "text/plain": [
       "{'model': 'spherical',\n",
       " 'estimator': 'matheron',\n",
       " 'dist_func': 'euclidean',\n",
       " 'normalized_effective_range': 98785.57558266725,\n",
       " 'normalized_sill': 28452.86294914158,\n",
       " 'normalized_nugget': 3277.3634243286774,\n",
       " 'effective_range': 156.80250092486867,\n",
       " 'sill': 153.21893456301007,\n",
       " 'nugget': 17.64863286162098,\n",
       " 'params': {'estimator': 'matheron',\n",
       "  'model': 'spherical',\n",
       "  'dist_func': 'euclidean',\n",
       "  'bin_func': 'custom_bin_edges',\n",
       "  'normalize': False,\n",
       "  'fit_method': 'trf',\n",
       "  'fit_sigma': None,\n",
       "  'use_nugget': True,\n",
       "  'maxlag': 630.0,\n",
       "  'n_lags': 10,\n",
       "  'verbose': False},\n",
       " 'kwargs': {}}"
      ]
     },
     "execution_count": 129,
     "metadata": {},
     "output_type": "execute_result"
    }
   ],
   "source": [
    "V_900 = skg.Variogram(arr_Coordinates_900, band_900_reshape, use_nugget=True, bin_func=bin_900, maxlag = bin_900[-1])\n",
    "V_900.describe()"
   ]
  },
  {
   "cell_type": "code",
   "execution_count": 130,
   "metadata": {},
   "outputs": [
    {
     "data": {
      "text/plain": [
       "{'model': 'spherical',\n",
       " 'estimator': 'matheron',\n",
       " 'dist_func': 'euclidean',\n",
       " 'normalized_effective_range': 224616.97546597212,\n",
       " 'normalized_sill': 35508.860295153165,\n",
       " 'normalized_nugget': 9429.206533221783,\n",
       " 'effective_range': 236.43892154312854,\n",
       " 'sill': 160.42838278898185,\n",
       " 'nugget': 42.60098303731118,\n",
       " 'params': {'estimator': 'matheron',\n",
       "  'model': 'spherical',\n",
       "  'dist_func': 'euclidean',\n",
       "  'bin_func': 'custom_bin_edges',\n",
       "  'normalize': False,\n",
       "  'fit_method': 'trf',\n",
       "  'fit_sigma': None,\n",
       "  'use_nugget': True,\n",
       "  'maxlag': 950.0,\n",
       "  'n_lags': 10,\n",
       "  'verbose': False},\n",
       " 'kwargs': {}}"
      ]
     },
     "execution_count": 130,
     "metadata": {},
     "output_type": "execute_result"
    }
   ],
   "source": [
    "V_1350 = skg.Variogram(arr_Coordinates_1350, band_1350_reshape, use_nugget=True, bin_func=bin_1350, maxlag = bin_1350[-1])\n",
    "V_1350.describe()"
   ]
  },
  {
   "cell_type": "markdown",
   "metadata": {},
   "source": [
    "### Variogram Plot"
   ]
  },
  {
   "cell_type": "code",
   "execution_count": 131,
   "metadata": {},
   "outputs": [
    {
     "data": {
      "image/png": "[encoded data removed]",
      "text/plain": [
       "<Figure size 640x480 with 1 Axes>"
      ]
     },
     "metadata": {},
     "output_type": "display_data"
    }
   ],
   "source": [
    "# Get the theoretical functions\n",
    "def f_900(x):\n",
    "   return V_900.fitted_model(x)\n",
    "def f_1350(x):\n",
    "   return V_1350.fitted_model(x)\n",
    "# Create cubic interpolation model in order to make curved plot (otherwise it will be ugly af)\n",
    "cubic_model_900 = interp1d(np.concatenate((np.array([0]),bin_900)), f_900(np.concatenate((np.array([0]),bin_900)),), kind = \"cubic\")\n",
    "cubic_model_1350 = interp1d(np.concatenate((np.array([0]),bin_1350)), f_1350(np.concatenate((np.array([0]),bin_1350)),), kind = \"cubic\")\n",
    "x_900 = np.linspace(0,bin_900[-1])\n",
    "x_1350 = np.linspace(0,bin_1350[-1])\n",
    "# Plot! \n",
    "plt.plot(x_900, cubic_model_900(x_900),label = '900m Theoretical', color = 'Red')\n",
    "plt.plot(x_1350, cubic_model_1350(x_1350), label = '1350m Theoretical', color = 'Green')\n",
    "plt.scatter(V_900.get_empirical()[0],V_900.get_empirical()[1], color = 'Red', label = '900m Experimental', marker = '*')\n",
    "plt.scatter(V_1350.get_empirical()[0],V_1350.get_empirical()[1], color = 'Green', label = '1350m Experimental', marker = 'D')\n",
    "plt.legend()\n",
    "plt.grid()"
   ]
  },
  {
   "cell_type": "markdown",
   "metadata": {},
   "source": [
    "### Variogram Parameters"
   ]
  },
  {
   "cell_type": "code",
   "execution_count": 132,
   "metadata": {},
   "outputs": [
    {
     "name": "stdout",
     "output_type": "stream",
     "text": [
      "900m Range: 156.80250092486867; Sill: 170.86756742463103; Nugget: 17.64863286162098\n",
      "1350m Range: 236.43892154312854; Sill: 203.02936582629303; Nugget: 42.60098303731118\n"
     ]
    }
   ],
   "source": [
    "range_900 = V_900.parameters[0]\n",
    "sill_900 = V_900.parameters[1] + V_900.parameters[2]\n",
    "nugget_900 = V_900.parameters[2]\n",
    "range_1350 = V_1350.parameters[0]\n",
    "sill_1350 = V_1350.parameters[1] + V_1350.parameters[2]\n",
    "nugget_1350 = V_1350.parameters[2]\n",
    "print(\"900m Range: \" + str(range_900) + \"; Sill: \" + str(sill_900) + \"; Nugget: \" + str(nugget_900))\n",
    "print(\"1350m Range: \" + str(range_1350) + \"; Sill: \" + str(sill_1350) + \"; Nugget: \" + str(nugget_1350))"
   ]
  },
  {
   "cell_type": "markdown",
   "metadata": {},
   "source": [
    "## Roman Metrics"
   ]
  },
  {
   "cell_type": "markdown",
   "metadata": {},
   "source": [
    "### Rcv (Coefficient of Variation)"
   ]
  },
  {
   "cell_type": "code",
   "execution_count": 133,
   "metadata": {},
   "outputs": [
    {
     "data": {
      "text/plain": [
       "0.14158655526855585"
      ]
     },
     "execution_count": 133,
     "metadata": {},
     "output_type": "execute_result"
    }
   ],
   "source": [
    "CV_900 = np.std(band_900) / np.mean(band_900)\n",
    "CV_1350 = np.std(band_1350) / np.mean(band_1350)\n",
    "Rcv_900 = (CV_1350 - CV_900) / CV_900\n",
    "Rcv_900"
   ]
  },
  {
   "cell_type": "markdown",
   "metadata": {},
   "source": [
    "### RAW Score"
   ]
  },
  {
   "cell_type": "code",
   "execution_count": 134,
   "metadata": {},
   "outputs": [
    {
     "data": {
      "text/plain": [
       "3.5314087488859345"
      ]
     },
     "execution_count": 134,
     "metadata": {},
     "output_type": "execute_result"
    }
   ],
   "source": [
    "RAW_900 = (abs(2 * Rcv_900)) ** (-1)\n",
    "RAW_900"
   ]
  },
  {
   "cell_type": "markdown",
   "metadata": {},
   "source": [
    "### Rse (Scale Requirement)"
   ]
  },
  {
   "cell_type": "code",
   "execution_count": 135,
   "metadata": {},
   "outputs": [
    {
     "data": {
      "text/plain": [
       "0.9649679598439156"
      ]
     },
     "execution_count": 135,
     "metadata": {},
     "output_type": "execute_result"
    }
   ],
   "source": [
    "Rse_900 = math.exp(-((g / range_900) ** 2 + (g / range_1350) ** 2) ** (1/2))\n",
    "Rse_900"
   ]
  },
  {
   "cell_type": "markdown",
   "metadata": {},
   "source": [
    "### Rst (Spatial Correlation)"
   ]
  },
  {
   "cell_type": "code",
   "execution_count": 136,
   "metadata": {},
   "outputs": [
    {
     "name": "stdout",
     "output_type": "stream",
     "text": [
      "The range 156.80250092486867 falls in 150.0 and 160.0, whose value is 157.84810644249538\n",
      "The range 236.43892154312854 falls in 230.0 and 240.0, whose value is 193.5915490553885\n"
     ]
    }
   ],
   "source": [
    "# Get the index of the range in the bin\n",
    "for i in range(len(V_900.bins)):\n",
    "    if range_900 >= V_900.bins[i] and range_900 <= V_900.bins[i+1]:\n",
    "        index_900 = i + 1\n",
    "estimator_Range_900 = V_900.experimental[index_900]\n",
    "print(f\"The range {(range_900)} falls in {V_900.bins[index_900 - 1]} and {V_900.bins[index_900]}, whose value is {estimator_Range_900}\")\n",
    "for i in range(len(V_1350.bins)):\n",
    "    if range_1350 >= V_1350.bins[i] and range_1350 <= V_1350.bins[i+1]:\n",
    "        index_1350 = i + 1\n",
    "estimator_Range_1350 = V_1350.experimental[index_1350]\n",
    "print(f\"The range {(range_1350)} falls in {V_1350.bins[index_1350 - 1]} and {V_1350.bins[index_1350]}, whose value is {estimator_Range_1350}\")"
   ]
  },
  {
   "cell_type": "code",
   "execution_count": 137,
   "metadata": {},
   "outputs": [
    {
     "data": {
      "text/plain": [
       "-0.1218748581942494"
      ]
     },
     "execution_count": 137,
     "metadata": {},
     "output_type": "execute_result"
    }
   ],
   "source": [
    "ST_900 = (estimator_Range_900 - nugget_900) / estimator_Range_900\n",
    "ST_1350 = (estimator_Range_1350 - nugget_1350) / estimator_Range_1350\n",
    "Rst_900 = (ST_1350 - ST_900) / ST_900\n",
    "Rst_900"
   ]
  },
  {
   "cell_type": "markdown",
   "metadata": {},
   "source": [
    "### Rsv Structural Variability"
   ]
  },
  {
   "cell_type": "code",
   "execution_count": 138,
   "metadata": {},
   "outputs": [
    {
     "data": {
      "text/plain": [
       "0.3287262979907404"
      ]
     },
     "execution_count": 138,
     "metadata": {},
     "output_type": "execute_result"
    }
   ],
   "source": [
    "def f_900_SV(x):\n",
    "    return (V_900.fitted_model(x) - nugget_900) / sill_900\n",
    "def f_1350_SV(x):\n",
    "    return (V_1350.fitted_model(x) - nugget_1350) / sill_1350\n",
    "SV_900 = quad(f_900_SV, 0, range_900)[0]\n",
    "SV_1350 = quad(f_1350_SV, 0, range_1350)[0]\n",
    "Rsv_900 = (SV_1350 - SV_900) / SV_900\n",
    "Rsv_900"
   ]
  },
  {
   "cell_type": "markdown",
   "metadata": {},
   "source": [
    "### ST Score"
   ]
  },
  {
   "cell_type": "code",
   "execution_count": 139,
   "metadata": {},
   "outputs": [
    {
     "data": {
      "text/plain": [
       "0.8603158023596212"
      ]
     },
     "execution_count": 139,
     "metadata": {},
     "output_type": "execute_result"
    }
   ],
   "source": [
    "ST_Score_900 = (abs(Rcv_900) / 3 + abs(Rst_900) / 3 + abs(Rsv_900) / 3 +Rse_900) ** (-1)\n",
    "ST_Score_900"
   ]
  },
  {
   "cell_type": "markdown",
   "metadata": {},
   "source": [
    "# 1200m and 1800m variogram, RAW Score and ST Score"
   ]
  },
  {
   "cell_type": "code",
   "execution_count": 140,
   "metadata": {},
   "outputs": [
    {
     "data": {
      "text/plain": [
       "(121, 121)"
      ]
     },
     "execution_count": 140,
     "metadata": {},
     "output_type": "execute_result"
    }
   ],
   "source": [
    "img_1200 = rio.open(cwd_Images_Processed + \"\\\\\" + site_Name + \"\\\\NIRv 1200m.tif\")\n",
    "band_1200 = img_1200.read(1)\n",
    "band_1200.shape"
   ]
  },
  {
   "cell_type": "code",
   "execution_count": 141,
   "metadata": {},
   "outputs": [
    {
     "data": {
      "text/plain": [
       "(90, 90)"
      ]
     },
     "execution_count": 141,
     "metadata": {},
     "output_type": "execute_result"
    }
   ],
   "source": [
    "img_1800 = rio.open(cwd_Images_Processed + \"\\\\\" + site_Name + \"\\\\NIRv 1800m RE.tif\")\n",
    "band_1800 = img_1800.read(1)\n",
    "band_1800.shape"
   ]
  },
  {
   "cell_type": "code",
   "execution_count": 142,
   "metadata": {},
   "outputs": [
    {
     "data": {
      "text/plain": [
       "array([35.56391763, 39.10331211, 33.62361956, ..., 48.48553799,\n",
       "       44.84797655, 35.76576421])"
      ]
     },
     "execution_count": 142,
     "metadata": {},
     "output_type": "execute_result"
    }
   ],
   "source": [
    "# reshape the band arrays into one-dimensional array\n",
    "band_1200_reshape = band_1200.reshape(-1)\n",
    "band_1800_reshape = band_1800.reshape(-1)\n",
    "band_1800_reshape"
   ]
  },
  {
   "cell_type": "code",
   "execution_count": 143,
   "metadata": {},
   "outputs": [
    {
     "data": {
      "text/plain": [
       "(14641, 2)"
      ]
     },
     "execution_count": 143,
     "metadata": {},
     "output_type": "execute_result"
    }
   ],
   "source": [
    "# Get the coordinates n-dimensional array\n",
    "list_Coordinates_1200 = []\n",
    "for x in range(img_1200.shape[0]):\n",
    "    for y in range(img_1200.shape[1]):\n",
    "        temp_x, temp_y = img_1200.xy(x, y)\n",
    "        temp_list = [temp_x, temp_y]\n",
    "        list_Coordinates_1200.append(temp_list)\n",
    "arr_Coordinates_1200 = np.array(list_Coordinates_1200)\n",
    "arr_Coordinates_1200.shape"
   ]
  },
  {
   "cell_type": "code",
   "execution_count": 144,
   "metadata": {},
   "outputs": [
    {
     "data": {
      "text/plain": [
       "(8100, 2)"
      ]
     },
     "execution_count": 144,
     "metadata": {},
     "output_type": "execute_result"
    }
   ],
   "source": [
    "# Get the coordinates n-dimensional array\n",
    "list_Coordinates_1800 = []\n",
    "for x in range(img_1800.shape[0]):\n",
    "    for y in range(img_1800.shape[1]):\n",
    "        temp_x, temp_y = img_1800.xy(x, y)\n",
    "        temp_list = [temp_x, temp_y]\n",
    "        list_Coordinates_1800.append(temp_list)\n",
    "arr_Coordinates_1800 = np.array(list_Coordinates_1800)\n",
    "arr_Coordinates_1800.shape"
   ]
  },
  {
   "cell_type": "code",
   "execution_count": 145,
   "metadata": {},
   "outputs": [
    {
     "data": {
      "text/plain": [
       "840.0"
      ]
     },
     "execution_count": 145,
     "metadata": {},
     "output_type": "execute_result"
    }
   ],
   "source": [
    "# Get the maximum lag\n",
    "diagonal_1200 = 1200 * (2 ** 0.5) / 2\n",
    "bin_1200 = np.arange(10,diagonal_1200,10)\n",
    "bin_1200[-1]"
   ]
  },
  {
   "cell_type": "code",
   "execution_count": 146,
   "metadata": {},
   "outputs": [
    {
     "data": {
      "text/plain": [
       "1270.0"
      ]
     },
     "execution_count": 146,
     "metadata": {},
     "output_type": "execute_result"
    }
   ],
   "source": [
    "# Get the maximum lag\n",
    "diagonal_1800 = 1800 * (2 ** 0.5) / 2\n",
    "bin_1800 = np.arange(10,diagonal_1800,10)\n",
    "bin_1800[-1]"
   ]
  },
  {
   "cell_type": "markdown",
   "metadata": {},
   "source": [
    "## Variogram"
   ]
  },
  {
   "cell_type": "code",
   "execution_count": 147,
   "metadata": {},
   "outputs": [
    {
     "data": {
      "text/plain": [
       "{'model': 'spherical',\n",
       " 'estimator': 'matheron',\n",
       " 'dist_func': 'euclidean',\n",
       " 'normalized_effective_range': 166526.28707132555,\n",
       " 'normalized_sill': 30081.352819006595,\n",
       " 'normalized_nugget': 6304.495868107872,\n",
       " 'effective_range': 198.24557984681613,\n",
       " 'sill': 153.05856747152959,\n",
       " 'nugget': 32.07824834237741,\n",
       " 'params': {'estimator': 'matheron',\n",
       "  'model': 'spherical',\n",
       "  'dist_func': 'euclidean',\n",
       "  'bin_func': 'custom_bin_edges',\n",
       "  'normalize': False,\n",
       "  'fit_method': 'trf',\n",
       "  'fit_sigma': None,\n",
       "  'use_nugget': True,\n",
       "  'maxlag': 840.0,\n",
       "  'n_lags': 10,\n",
       "  'verbose': False},\n",
       " 'kwargs': {}}"
      ]
     },
     "execution_count": 147,
     "metadata": {},
     "output_type": "execute_result"
    }
   ],
   "source": [
    "V_1200 = skg.Variogram(arr_Coordinates_1200, band_1200_reshape, use_nugget=True, bin_func=bin_1200, maxlag = bin_1200[-1])\n",
    "V_1200.describe()"
   ]
  },
  {
   "cell_type": "code",
   "execution_count": 148,
   "metadata": {},
   "outputs": [
    {
     "data": {
      "text/plain": [
       "{'model': 'spherical',\n",
       " 'estimator': 'matheron',\n",
       " 'dist_func': 'euclidean',\n",
       " 'normalized_effective_range': 480903.95788760885,\n",
       " 'normalized_sill': 42644.09515353907,\n",
       " 'normalized_nugget': 27555.21299065824,\n",
       " 'effective_range': 378.66453376977074,\n",
       " 'sill': 154.33912290355403,\n",
       " 'nugget': 99.7288695911247,\n",
       " 'params': {'estimator': 'matheron',\n",
       "  'model': 'spherical',\n",
       "  'dist_func': 'euclidean',\n",
       "  'bin_func': 'custom_bin_edges',\n",
       "  'normalize': False,\n",
       "  'fit_method': 'trf',\n",
       "  'fit_sigma': None,\n",
       "  'use_nugget': True,\n",
       "  'maxlag': 1270.0,\n",
       "  'n_lags': 10,\n",
       "  'verbose': False},\n",
       " 'kwargs': {}}"
      ]
     },
     "execution_count": 148,
     "metadata": {},
     "output_type": "execute_result"
    }
   ],
   "source": [
    "V_1800 = skg.Variogram(arr_Coordinates_1800, band_1800_reshape, use_nugget=True, bin_func=bin_1800, maxlag = bin_1800[-1])\n",
    "V_1800.describe()"
   ]
  },
  {
   "cell_type": "markdown",
   "metadata": {},
   "source": [
    "### Variogram Plot"
   ]
  },
  {
   "cell_type": "code",
   "execution_count": 149,
   "metadata": {},
   "outputs": [
    {
     "data": {
      "image/png": "[encoded data removed]",
      "text/plain": [
       "<Figure size 640x480 with 1 Axes>"
      ]
     },
     "metadata": {},
     "output_type": "display_data"
    }
   ],
   "source": [
    "# Get the theoretical functions\n",
    "def f_1200(x):\n",
    "   return V_1200.fitted_model(x)\n",
    "def f_1800(x):\n",
    "   return V_1800.fitted_model(x)\n",
    "# Create cubic interpolation model in order to make curved plot (otherwise it will be ugly af)\n",
    "cubic_model_1200 = interp1d(np.concatenate((np.array([0]),bin_1200)), f_1200(np.concatenate((np.array([0]),bin_1200)),), kind = \"cubic\")\n",
    "cubic_model_1800 = interp1d(np.concatenate((np.array([0]),bin_1800)), f_1800(np.concatenate((np.array([0]),bin_1800)),), kind = \"cubic\")\n",
    "x_1200 = np.linspace(0,bin_1200[-1])\n",
    "x_1800 = np.linspace(0,bin_1800[-1])\n",
    "# Plot! \n",
    "plt.plot(x_1200, cubic_model_1200(x_1200),label = '1200m Theoretical', color = 'Red')\n",
    "plt.plot(x_1800, cubic_model_1800(x_1800), label = '1800m Theoretical', color = 'Green')\n",
    "plt.scatter(V_1200.get_empirical()[0],V_1200.get_empirical()[1], color = 'Red', label = '1200m Experimental', marker = '*')\n",
    "plt.scatter(V_1800.get_empirical()[0],V_1800.get_empirical()[1], color = 'Green', label = '1800m Experimental', marker = 'D')\n",
    "plt.legend()\n",
    "plt.grid()"
   ]
  },
  {
   "cell_type": "markdown",
   "metadata": {},
   "source": [
    "### Variogram Parameters"
   ]
  },
  {
   "cell_type": "code",
   "execution_count": 150,
   "metadata": {},
   "outputs": [
    {
     "name": "stdout",
     "output_type": "stream",
     "text": [
      "1200m Range: 198.24557984681613; Sill: 185.136815813907; Nugget: 32.07824834237741\n",
      "1800m Range: 378.66453376977074; Sill: 254.06799249467872; Nugget: 99.7288695911247\n"
     ]
    }
   ],
   "source": [
    "range_1200 = V_1200.parameters[0]\n",
    "sill_1200 = V_1200.parameters[1] + V_1200.parameters[2]\n",
    "nugget_1200 = V_1200.parameters[2]\n",
    "range_1800 = V_1800.parameters[0]\n",
    "sill_1800 = V_1800.parameters[1] + V_1800.parameters[2]\n",
    "nugget_1800 = V_1800.parameters[2]\n",
    "print(\"1200m Range: \" + str(range_1200) + \"; Sill: \" + str(sill_1200) + \"; Nugget: \" + str(nugget_1200))\n",
    "print(\"1800m Range: \" + str(range_1800) + \"; Sill: \" + str(sill_1800) + \"; Nugget: \" + str(nugget_1800))"
   ]
  },
  {
   "cell_type": "markdown",
   "metadata": {},
   "source": [
    "## Roman Metrics"
   ]
  },
  {
   "cell_type": "markdown",
   "metadata": {},
   "source": [
    "### Rcv (Coefficient of Variation)"
   ]
  },
  {
   "cell_type": "code",
   "execution_count": 151,
   "metadata": {},
   "outputs": [
    {
     "data": {
      "text/plain": [
       "0.25555605757158906"
      ]
     },
     "execution_count": 151,
     "metadata": {},
     "output_type": "execute_result"
    }
   ],
   "source": [
    "CV_1200 = np.std(band_1200) / np.mean(band_1200)\n",
    "CV_1800 = np.std(band_1800) / np.mean(band_1800)\n",
    "Rcv_1200 = (CV_1800 - CV_1200) / CV_1200\n",
    "Rcv_1200"
   ]
  },
  {
   "cell_type": "markdown",
   "metadata": {},
   "source": [
    "### RAW Score"
   ]
  },
  {
   "cell_type": "code",
   "execution_count": 152,
   "metadata": {},
   "outputs": [
    {
     "data": {
      "text/plain": [
       "1.956517895726008"
      ]
     },
     "execution_count": 152,
     "metadata": {},
     "output_type": "execute_result"
    }
   ],
   "source": [
    "RAW_1200 = (abs(2 * Rcv_1200)) ** (-1)\n",
    "RAW_1200"
   ]
  },
  {
   "cell_type": "markdown",
   "metadata": {},
   "source": [
    "### Rse (Scale Requirement)"
   ]
  },
  {
   "cell_type": "code",
   "execution_count": 153,
   "metadata": {},
   "outputs": [
    {
     "data": {
      "text/plain": [
       "0.9738161101205275"
      ]
     },
     "execution_count": 153,
     "metadata": {},
     "output_type": "execute_result"
    }
   ],
   "source": [
    "Rse_1200 = math.exp(-((g / range_1200) ** 2 + (g / range_1800) ** 2) ** (1/2))\n",
    "Rse_1200"
   ]
  },
  {
   "cell_type": "markdown",
   "metadata": {},
   "source": [
    "### Rst (Spatial Correlation)"
   ]
  },
  {
   "cell_type": "code",
   "execution_count": 154,
   "metadata": {},
   "outputs": [
    {
     "name": "stdout",
     "output_type": "stream",
     "text": [
      "The range 198.24557984681613 falls in 190.0 and 200.0, whose value is 172.8973897839983\n",
      "The range 378.66453376977074 falls in 370.0 and 380.0, whose value is 241.0227517290299\n"
     ]
    }
   ],
   "source": [
    "# Get the index of the range in the bin\n",
    "for i in range(len(V_1200.bins)):\n",
    "    if range_1200 >= V_1200.bins[i] and range_1200 <= V_1200.bins[i+1]:\n",
    "        index_1200 = i + 1\n",
    "estimator_Range_1200 = V_1200.experimental[index_1200]\n",
    "print(f\"The range {(range_1200)} falls in {V_1200.bins[index_1200 - 1]} and {V_1200.bins[index_1200]}, whose value is {estimator_Range_1200}\")\n",
    "for i in range(len(V_1800.bins)):\n",
    "    if range_1800 >= V_1800.bins[i] and range_1800 <= V_1800.bins[i+1]:\n",
    "        index_1800 = i + 1\n",
    "estimator_Range_1800 = V_1800.experimental[index_1800]\n",
    "print(f\"The range {(range_1800)} falls in {V_1800.bins[index_1800 - 1]} and {V_1800.bins[index_1800]}, whose value is {estimator_Range_1800}\")"
   ]
  },
  {
   "cell_type": "code",
   "execution_count": 155,
   "metadata": {},
   "outputs": [
    {
     "data": {
      "text/plain": [
       "-0.28023278309021166"
      ]
     },
     "execution_count": 155,
     "metadata": {},
     "output_type": "execute_result"
    }
   ],
   "source": [
    "ST_1200 = (estimator_Range_1200 - nugget_1200) / estimator_Range_1200\n",
    "ST_1800 = (estimator_Range_1800 - nugget_1800) / estimator_Range_1800\n",
    "Rst_1200 = (ST_1800 - ST_1200) / ST_1200\n",
    "Rst_1200"
   ]
  },
  {
   "cell_type": "markdown",
   "metadata": {},
   "source": [
    "### Rsv Structural Variability"
   ]
  },
  {
   "cell_type": "code",
   "execution_count": 156,
   "metadata": {},
   "outputs": [
    {
     "data": {
      "text/plain": [
       "0.4034997351213353"
      ]
     },
     "execution_count": 156,
     "metadata": {},
     "output_type": "execute_result"
    }
   ],
   "source": [
    "def f_1200_SV(x):\n",
    "    return (V_1200.fitted_model(x) - nugget_1200) / sill_1200\n",
    "def f_1800_SV(x):\n",
    "    return (V_1800.fitted_model(x) - nugget_1800) / sill_1800\n",
    "SV_1200 = quad(f_1200_SV, 0, range_1200)[0]\n",
    "SV_1800 = quad(f_1800_SV, 0, range_1800)[0]\n",
    "Rsv_1200 = (SV_1800 - SV_1200) / SV_1200\n",
    "Rsv_1200"
   ]
  },
  {
   "cell_type": "markdown",
   "metadata": {},
   "source": [
    "### ST Score"
   ]
  },
  {
   "cell_type": "code",
   "execution_count": 157,
   "metadata": {},
   "outputs": [
    {
     "data": {
      "text/plain": [
       "0.7770537265114398"
      ]
     },
     "execution_count": 157,
     "metadata": {},
     "output_type": "execute_result"
    }
   ],
   "source": [
    "ST_Score_1200 = (abs(Rcv_1200) / 3 + abs(Rst_1200) / 3 + abs(Rsv_1200) / 3 +Rse_1200) ** (-1)\n",
    "ST_Score_1200"
   ]
  },
  {
   "cell_type": "markdown",
   "metadata": {},
   "source": [
    "# Final Results"
   ]
  },
  {
   "cell_type": "code",
   "execution_count": 158,
   "metadata": {},
   "outputs": [
    {
     "data": {
      "text/html": [
       "<div>\n",
       "<style scoped>\n",
       "    .dataframe tbody tr th:only-of-type {\n",
       "        vertical-align: middle;\n",
       "    }\n",
       "\n",
       "    .dataframe tbody tr th {\n",
       "        vertical-align: top;\n",
       "    }\n",
       "\n",
       "    .dataframe thead th {\n",
       "        text-align: right;\n",
       "    }\n",
       "</style>\n",
       "<table border=\"1\" class=\"dataframe\">\n",
       "  <thead>\n",
       "    <tr style=\"text-align: right;\">\n",
       "      <th></th>\n",
       "      <th>Site</th>\n",
       "      <th>Distance</th>\n",
       "      <th>Range</th>\n",
       "      <th>Sill</th>\n",
       "      <th>Nugget</th>\n",
       "      <th>Rcv</th>\n",
       "      <th>Rse</th>\n",
       "      <th>Rst</th>\n",
       "      <th>Rsv</th>\n",
       "      <th>RAW Score</th>\n",
       "      <th>ST Score</th>\n",
       "    </tr>\n",
       "  </thead>\n",
       "  <tbody>\n",
       "    <tr>\n",
       "      <th>0</th>\n",
       "      <td>Monte Bondone</td>\n",
       "      <td>100m</td>\n",
       "      <td>70.000000</td>\n",
       "      <td>21.402893</td>\n",
       "      <td>6.101917e-15</td>\n",
       "      <td>0.088601</td>\n",
       "      <td>0.912508</td>\n",
       "      <td>-7.993606e-15</td>\n",
       "      <td>0.059066</td>\n",
       "      <td>5.643296</td>\n",
       "      <td>1.039793</td>\n",
       "    </tr>\n",
       "    <tr>\n",
       "      <th>1</th>\n",
       "      <td>Monte Bondone</td>\n",
       "      <td>300m</td>\n",
       "      <td>167.987442</td>\n",
       "      <td>104.183407</td>\n",
       "      <td>2.303115e+01</td>\n",
       "      <td>0.141708</td>\n",
       "      <td>0.937176</td>\n",
       "      <td>2.880248e-01</td>\n",
       "      <td>-0.392839</td>\n",
       "      <td>3.528377</td>\n",
       "      <td>0.825514</td>\n",
       "    </tr>\n",
       "    <tr>\n",
       "      <th>2</th>\n",
       "      <td>Monte Bondone</td>\n",
       "      <td>900m</td>\n",
       "      <td>156.802501</td>\n",
       "      <td>170.867567</td>\n",
       "      <td>1.764863e+01</td>\n",
       "      <td>0.141587</td>\n",
       "      <td>0.964968</td>\n",
       "      <td>-1.218749e-01</td>\n",
       "      <td>0.328726</td>\n",
       "      <td>3.531409</td>\n",
       "      <td>0.860316</td>\n",
       "    </tr>\n",
       "    <tr>\n",
       "      <th>3</th>\n",
       "      <td>Monte Bondone</td>\n",
       "      <td>1200m</td>\n",
       "      <td>198.245580</td>\n",
       "      <td>185.136816</td>\n",
       "      <td>3.207825e+01</td>\n",
       "      <td>0.255556</td>\n",
       "      <td>0.973816</td>\n",
       "      <td>-2.802328e-01</td>\n",
       "      <td>0.403500</td>\n",
       "      <td>1.956518</td>\n",
       "      <td>0.777054</td>\n",
       "    </tr>\n",
       "  </tbody>\n",
       "</table>\n",
       "</div>"
      ],
      "text/plain": [
       "            Site Distance       Range        Sill        Nugget       Rcv  \\\n",
       "0  Monte Bondone     100m   70.000000   21.402893  6.101917e-15  0.088601   \n",
       "1  Monte Bondone     300m  167.987442  104.183407  2.303115e+01  0.141708   \n",
       "2  Monte Bondone     900m  156.802501  170.867567  1.764863e+01  0.141587   \n",
       "3  Monte Bondone    1200m  198.245580  185.136816  3.207825e+01  0.255556   \n",
       "\n",
       "        Rse           Rst       Rsv  RAW Score  ST Score  \n",
       "0  0.912508 -7.993606e-15  0.059066   5.643296  1.039793  \n",
       "1  0.937176  2.880248e-01 -0.392839   3.528377  0.825514  \n",
       "2  0.964968 -1.218749e-01  0.328726   3.531409  0.860316  \n",
       "3  0.973816 -2.802328e-01  0.403500   1.956518  0.777054  "
      ]
     },
     "execution_count": 158,
     "metadata": {},
     "output_type": "execute_result"
    }
   ],
   "source": [
    "df = pd.DataFrame({\n",
    "    \"Site\": site_Name,\n",
    "    \"Distance\": ['100m', '300m', '900m', '1200m'],\n",
    "    \"Range\": [range_100, range_300, range_900, range_1200],\n",
    "    \"Sill\": [sill_100, sill_300, sill_900, sill_1200],\n",
    "    \"Nugget\": [nugget_100, nugget_300, nugget_900, nugget_1200],\n",
    "    \"Rcv\": [Rcv_100, Rcv_300, Rcv_900, Rcv_1200],\n",
    "    \"Rse\": [Rse_100, Rse_300, Rse_900, Rse_1200],\n",
    "    \"Rst\": [Rst_100, Rst_300, Rst_900, Rst_1200],\n",
    "    \"Rsv\": [Rsv_100, Rsv_300, Rsv_900, Rsv_1200],\n",
    "    \"RAW Score\": [RAW_100, RAW_300, RAW_900, RAW_1200],\n",
    "    \"ST Score\": [ST_Score_100, ST_Score_300, ST_Score_900, ST_Score_1200]\n",
    "})\n",
    "df"
   ]
  },
  {
   "cell_type": "code",
   "execution_count": 159,
   "metadata": {},
   "outputs": [],
   "source": [
    "df.to_csv(cwd_Images_Processed + \"\\\\\" + site_Name + \"\\\\Result.csv\", index = False)"
   ]
  },
  {
   "cell_type": "code",
   "execution_count": 160,
   "metadata": {},
   "outputs": [
    {
     "data": {
      "image/png": "[encoded data removed]",
      "text/plain": [
       "<Figure size 2000x1000 with 1 Axes>"
      ]
     },
     "metadata": {},
     "output_type": "display_data"
    }
   ],
   "source": [
    "# Plot! \n",
    "plt.figure(figsize = (20,10))\n",
    "plt.plot(x_100, cubic_model_100(x_100), label = f'100m Theoretical; a = {range_100:.2F}; c = {sill_100:.2F}; c0 = {nugget_100:.2E}', color = 'Red', linestyle = '-')\n",
    "plt.plot(x_300, cubic_model_300(x_300), label = f'300m Theoretical; a = {range_300:.2F}; c = {sill_300:.2F}; c0 = {nugget_300:.2E}', color = 'Black', linestyle = '-')\n",
    "plt.plot(x_900, cubic_model_900(x_900), label = f'900m Theoretical; a = {range_900:.2F}; c = {sill_900:.2F}; c0 = {nugget_900:.2E}', color = 'Green', linestyle = '-')\n",
    "plt.plot(x_1200, cubic_model_1200(x_1200), label = f'1200m Theoretical; a = {range_1200:.2F}; c = {sill_1200:.2F}; c0 = {nugget_1200:.2E}', color = 'Blue', linestyle = '-')\n",
    "plt.scatter(V_100.get_empirical()[0],V_100.get_empirical()[1], color = 'Red', label = '100m Experimental', marker = 'o')\n",
    "plt.scatter(V_300.get_empirical()[0],V_300.get_empirical()[1], color = 'Black', label = '300m Experimental', marker = 'v')\n",
    "plt.scatter(V_900.get_empirical()[0],V_900.get_empirical()[1], color = 'Green', label = '900m Experimental', marker = 's')\n",
    "plt.scatter(V_1200.get_empirical()[0],V_1200.get_empirical()[1], color = 'Blue', label = '1200m Experimental', marker = '*')\n",
    "plt.title(\"Variogram of \" + site_Name)\n",
    "plt.xlabel(\"Distance or Lag\")\n",
    "plt.ylabel(\"Semivariance\")\n",
    "plt.legend()\n",
    "plt.grid()\n",
    "plt.savefig(cwd_Images_Processed + \"\\\\\" + site_Name + \"\\\\Result.png\")"
   ]
  },
  {
   "cell_type": "code",
   "execution_count": null,
   "metadata": {},
   "outputs": [],
   "source": []
  }
 ],
 "metadata": {
  "kernelspec": {
   "display_name": "DISC",
   "language": "python",
   "name": "python3"
  },
  "language_info": {
   "codemirror_mode": {
    "name": "ipython",
    "version": 3
   },
   "file_extension": ".py",
   "mimetype": "text/x-python",
   "name": "python",
   "nbconvert_exporter": "python",
   "pygments_lexer": "ipython3",
   "version": "3.12.3"
  }
 },
 "nbformat": 4,
 "nbformat_minor": 2
}
