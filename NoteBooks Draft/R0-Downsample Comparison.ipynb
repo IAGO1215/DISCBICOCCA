{
 "cells": [
  {
   "cell_type": "code",
   "execution_count": 15,
   "metadata": {},
   "outputs": [],
   "source": [
    "import os\n",
    "import numpy as np\n",
    "import pandas as pd\n",
    "import rasterio as rio\n",
    "from scipy import stats"
   ]
  },
  {
   "cell_type": "code",
   "execution_count": 2,
   "metadata": {},
   "outputs": [],
   "source": [
    "cwd = \"c:\\\\Users\\\\m1865\\\\Desktop\\\\DISC\"\n",
    "cwd_Images_Raw = cwd + \"\\\\Sentinel-2 Images Raw\"\n",
    "cwd_Images_Processed = cwd + \"\\\\Sentinel-2 Images Processed\""
   ]
  },
  {
   "cell_type": "code",
   "execution_count": 3,
   "metadata": {},
   "outputs": [],
   "source": [
    "# Site Name\n",
    "site_Name = \"San Rossore\""
   ]
  },
  {
   "cell_type": "code",
   "execution_count": 8,
   "metadata": {},
   "outputs": [],
   "source": [
    "band_Ori = rio.open(cwd_Images_Processed + \"//\" + site_Name + \"//NIRv 1800m.tif\").read(1)"
   ]
  },
  {
   "cell_type": "code",
   "execution_count": 9,
   "metadata": {},
   "outputs": [],
   "source": [
    "band_Down = rio.open(cwd_Images_Processed + \"//\" + site_Name + \"//NIRv 1800m RE.tif\").read(1)"
   ]
  },
  {
   "cell_type": "code",
   "execution_count": 14,
   "metadata": {},
   "outputs": [
    {
     "name": "stdout",
     "output_type": "stream",
     "text": [
      "The original image mean value: 40.6248; the downscaled image mean value: 40.5562\n",
      "The original image standard deviation: 10.5621; the downscaled image standard deviation: 10.5385\n",
      "The original image max value: 88.6700; the downscaled image max value: 88.6700\n",
      "The original image min value: -2.6121; the downscaled image min value: -2.3059\n",
      "The original image median value: 41.4087; the downscaled image median value: 41.3673\n"
     ]
    }
   ],
   "source": [
    "print(f'The original image mean value: {band_Ori.mean():.4f}; the downscaled image mean value: {band_Down.mean():.4f}')\n",
    "print(f'The original image standard deviation: {band_Ori.std():.4f}; the downscaled image standard deviation: {band_Down.std():.4f}')\n",
    "print(f'The original image max value: {band_Ori.max():.4f}; the downscaled image max value: {band_Down.max():.4f}')\n",
    "print(f'The original image min value: {band_Ori.min():.4f}; the downscaled image min value: {band_Down.min():.4f}')\n",
    "print(f'The original image median value: {np.median(band_Ori):.4f}; the downscaled image median value: {np.median(band_Down):.4f}')"
   ]
  },
  {
   "cell_type": "code",
   "execution_count": 30,
   "metadata": {},
   "outputs": [
    {
     "name": "stdout",
     "output_type": "stream",
     "text": [
      "The downscaled image is expected to have the same mean value as the original image, with a confidence level of 55.8271%\n"
     ]
    }
   ],
   "source": [
    "# T-Test one sample\n",
    "t_Test = stats.ttest_1samp(band_Down.reshape(-1), band_Ori.mean())\n",
    "if t_Test[1] > 0.05:\n",
    "    print(f'The downscaled image is expected to have the same mean value as the original image, with a confidence level of {t_Test[1]:.4%}')\n",
    "else:\n",
    "    print(\"The downscaled image is not expected to have the same mean value as the original image. \")"
   ]
  },
  {
   "cell_type": "code",
   "execution_count": 27,
   "metadata": {},
   "outputs": [
    {
     "data": {
      "text/plain": [
       "['1', '2', '1', '1', '12', '30', '33', 'Out', '25']"
      ]
     },
     "execution_count": 27,
     "metadata": {},
     "output_type": "execute_result"
    }
   ],
   "source": [
    "a = \"1-2-1-1-12-30-33-Out-25\"\n",
    "temp_List = a.split('-')\n",
    "temp_List"
   ]
  },
  {
   "cell_type": "code",
   "execution_count": 29,
   "metadata": {},
   "outputs": [
    {
     "name": "stdout",
     "output_type": "stream",
     "text": [
      "It's 44.32%\n"
     ]
    }
   ],
   "source": [
    "b = 0.4432\n",
    "print(f\"It's {b:.2%}\")"
   ]
  },
  {
   "cell_type": "code",
   "execution_count": null,
   "metadata": {},
   "outputs": [],
   "source": []
  }
 ],
 "metadata": {
  "kernelspec": {
   "display_name": "DISC",
   "language": "python",
   "name": "python3"
  },
  "language_info": {
   "codemirror_mode": {
    "name": "ipython",
    "version": 3
   },
   "file_extension": ".py",
   "mimetype": "text/x-python",
   "name": "python",
   "nbconvert_exporter": "python",
   "pygments_lexer": "ipython3",
   "version": "3.12.3"
  }
 },
 "nbformat": 4,
 "nbformat_minor": 2
}
