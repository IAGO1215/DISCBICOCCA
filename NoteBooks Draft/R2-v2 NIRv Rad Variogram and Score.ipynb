{
 "cells": [
  {
   "cell_type": "code",
   "execution_count": 1,
   "metadata": {},
   "outputs": [],
   "source": [
    "import os\n",
    "import math\n",
    "import numpy as np\n",
    "import pandas as pd\n",
    "import matplotlib.pyplot as plt\n",
    "import rasterio as rio\n",
    "import skgstat as skg\n",
    "from scipy.interpolate import interp1d\n",
    "from scipy.integrate import quad"
   ]
  },
  {
   "cell_type": "code",
   "execution_count": 2,
   "metadata": {},
   "outputs": [],
   "source": [
    "cwd = \"c:\\\\Users\\\\m1865\\\\Desktop\\\\DISC\"\n",
    "cwd_Images_Raw = cwd + \"\\\\Sentinel-2 Images Raw\"\n",
    "cwd_Images_Processed = cwd + \"\\\\Sentinel-2 Images Processed\""
   ]
  },
  {
   "cell_type": "code",
   "execution_count": 3,
   "metadata": {},
   "outputs": [],
   "source": [
    "# Site Name\n",
    "site_Name = \"UK-Amo\""
   ]
  },
  {
   "cell_type": "code",
   "execution_count": 4,
   "metadata": {},
   "outputs": [],
   "source": [
    "# Constant! \n",
    "g = 4.66"
   ]
  },
  {
   "cell_type": "markdown",
   "metadata": {},
   "source": [
    "# Read images in different sizes"
   ]
  },
  {
   "cell_type": "code",
   "execution_count": 5,
   "metadata": {},
   "outputs": [
    {
     "data": {
      "text/plain": [
       "(1, 1)"
      ]
     },
     "execution_count": 5,
     "metadata": {},
     "output_type": "execute_result"
    }
   ],
   "source": [
    "img_10 = rio.open(cwd_Images_Processed + \"\\\\\" + site_Name + \"\\\\NIRv 10m.tif\")\n",
    "band_10 = img_10.read(1)\n",
    "band_10.shape"
   ]
  },
  {
   "cell_type": "code",
   "execution_count": 6,
   "metadata": {},
   "outputs": [
    {
     "data": {
      "text/plain": [
       "(3, 3)"
      ]
     },
     "execution_count": 6,
     "metadata": {},
     "output_type": "execute_result"
    }
   ],
   "source": [
    "img_30 = rio.open(cwd_Images_Processed + \"\\\\\" + site_Name + \"\\\\NIRv 30m.tif\")\n",
    "band_30 = img_30.read(1)\n",
    "band_30.shape"
   ]
  },
  {
   "cell_type": "code",
   "execution_count": 7,
   "metadata": {},
   "outputs": [
    {
     "data": {
      "text/plain": [
       "(11, 11)"
      ]
     },
     "execution_count": 7,
     "metadata": {},
     "output_type": "execute_result"
    }
   ],
   "source": [
    "img_100 = rio.open(cwd_Images_Processed + \"\\\\\" + site_Name + \"\\\\NIRv 100m.tif\")\n",
    "band_100 = img_100.read(1)\n",
    "band_100.shape"
   ]
  },
  {
   "cell_type": "code",
   "execution_count": 8,
   "metadata": {},
   "outputs": [
    {
     "data": {
      "text/plain": [
       "(31, 31)"
      ]
     },
     "execution_count": 8,
     "metadata": {},
     "output_type": "execute_result"
    }
   ],
   "source": [
    "img_300 = rio.open(cwd_Images_Processed + \"\\\\\" + site_Name + \"\\\\NIRv 300m.tif\")\n",
    "band_300 = img_300.read(1)\n",
    "band_300.shape"
   ]
  },
  {
   "cell_type": "code",
   "execution_count": 9,
   "metadata": {},
   "outputs": [
    {
     "data": {
      "text/plain": [
       "(91, 91)"
      ]
     },
     "execution_count": 9,
     "metadata": {},
     "output_type": "execute_result"
    }
   ],
   "source": [
    "img_900 = rio.open(cwd_Images_Processed + \"\\\\\" + site_Name + \"\\\\NIRv 900m.tif\")\n",
    "band_900 = img_900.read(1)\n",
    "band_900.shape"
   ]
  },
  {
   "cell_type": "code",
   "execution_count": 10,
   "metadata": {},
   "outputs": [
    {
     "data": {
      "text/plain": [
       "(121, 121)"
      ]
     },
     "execution_count": 10,
     "metadata": {},
     "output_type": "execute_result"
    }
   ],
   "source": [
    "img_1200 = rio.open(cwd_Images_Processed + \"\\\\\" + site_Name + \"\\\\NIRv 1200m.tif\")\n",
    "band_1200 = img_1200.read(1)\n",
    "band_1200.shape"
   ]
  },
  {
   "cell_type": "code",
   "execution_count": 11,
   "metadata": {},
   "outputs": [],
   "source": [
    "# reshape the band arrays into one-dimensional array\n",
    "band_10_reshape = band_10.reshape(-1)\n",
    "band_30_reshape = band_30.reshape(-1)\n",
    "band_100_reshape = band_100.reshape(-1)\n",
    "band_300_reshape = band_300.reshape(-1)\n",
    "band_900_reshape = band_900.reshape(-1)\n",
    "band_1200_reshape = band_1200.reshape(-1)"
   ]
  },
  {
   "cell_type": "code",
   "execution_count": 12,
   "metadata": {},
   "outputs": [
    {
     "data": {
      "text/plain": [
       "(9, 2)"
      ]
     },
     "execution_count": 12,
     "metadata": {},
     "output_type": "execute_result"
    }
   ],
   "source": [
    "# Get the coordinates n-dimensional array\n",
    "list_Coordinates_30 = []\n",
    "for x in range(img_30.shape[0]):\n",
    "    for y in range(img_30.shape[1]):\n",
    "        temp_x, temp_y = img_30.xy(x, y)\n",
    "        temp_list = [temp_x, temp_y]\n",
    "        list_Coordinates_30.append(temp_list)\n",
    "arr_Coordinates_30 = np.array(list_Coordinates_30)\n",
    "arr_Coordinates_30.shape"
   ]
  },
  {
   "cell_type": "code",
   "execution_count": 13,
   "metadata": {},
   "outputs": [
    {
     "data": {
      "text/plain": [
       "(121, 2)"
      ]
     },
     "execution_count": 13,
     "metadata": {},
     "output_type": "execute_result"
    }
   ],
   "source": [
    "# Get the coordinates n-dimensional array\n",
    "list_Coordinates_100 = []\n",
    "for x in range(img_100.shape[0]):\n",
    "    for y in range(img_100.shape[1]):\n",
    "        temp_x, temp_y = img_100.xy(x, y)\n",
    "        temp_list = [temp_x, temp_y]\n",
    "        list_Coordinates_100.append(temp_list)\n",
    "arr_Coordinates_100 = np.array(list_Coordinates_100)\n",
    "arr_Coordinates_100.shape"
   ]
  },
  {
   "cell_type": "code",
   "execution_count": 14,
   "metadata": {},
   "outputs": [
    {
     "data": {
      "text/plain": [
       "(961, 2)"
      ]
     },
     "execution_count": 14,
     "metadata": {},
     "output_type": "execute_result"
    }
   ],
   "source": [
    "# Get the coordinates n-dimensional array\n",
    "list_Coordinates_300 = []\n",
    "for x in range(img_300.shape[0]):\n",
    "    for y in range(img_300.shape[1]):\n",
    "        temp_x, temp_y = img_300.xy(x, y)\n",
    "        temp_list = [temp_x, temp_y]\n",
    "        list_Coordinates_300.append(temp_list)\n",
    "arr_Coordinates_300 = np.array(list_Coordinates_300)\n",
    "arr_Coordinates_300.shape"
   ]
  },
  {
   "cell_type": "code",
   "execution_count": 15,
   "metadata": {},
   "outputs": [
    {
     "data": {
      "text/plain": [
       "(8281, 2)"
      ]
     },
     "execution_count": 15,
     "metadata": {},
     "output_type": "execute_result"
    }
   ],
   "source": [
    "# Get the coordinates n-dimensional array\n",
    "list_Coordinates_900 = []\n",
    "for x in range(img_900.shape[0]):\n",
    "    for y in range(img_900.shape[1]):\n",
    "        temp_x, temp_y = img_900.xy(x, y)\n",
    "        temp_list = [temp_x, temp_y]\n",
    "        list_Coordinates_900.append(temp_list)\n",
    "arr_Coordinates_900 = np.array(list_Coordinates_900)\n",
    "arr_Coordinates_900.shape"
   ]
  },
  {
   "cell_type": "code",
   "execution_count": 16,
   "metadata": {},
   "outputs": [
    {
     "data": {
      "text/plain": [
       "(14641, 2)"
      ]
     },
     "execution_count": 16,
     "metadata": {},
     "output_type": "execute_result"
    }
   ],
   "source": [
    "# Get the coordinates n-dimensional array\n",
    "list_Coordinates_1200 = []\n",
    "for x in range(img_1200.shape[0]):\n",
    "    for y in range(img_1200.shape[1]):\n",
    "        temp_x, temp_y = img_1200.xy(x, y)\n",
    "        temp_list = [temp_x, temp_y]\n",
    "        list_Coordinates_1200.append(temp_list)\n",
    "arr_Coordinates_1200 = np.array(list_Coordinates_1200)\n",
    "arr_Coordinates_1200.shape"
   ]
  },
  {
   "cell_type": "code",
   "execution_count": 17,
   "metadata": {},
   "outputs": [
    {
     "data": {
      "text/plain": [
       "20.0"
      ]
     },
     "execution_count": 17,
     "metadata": {},
     "output_type": "execute_result"
    }
   ],
   "source": [
    "# Get the maximum lag\n",
    "diagonal_30 = 30 * (2 ** 0.5) / 2\n",
    "bin_30 = np.arange(10,diagonal_30,10)\n",
    "bin_30[-1]"
   ]
  },
  {
   "cell_type": "code",
   "execution_count": 18,
   "metadata": {},
   "outputs": [
    {
     "data": {
      "text/plain": [
       "70.0"
      ]
     },
     "execution_count": 18,
     "metadata": {},
     "output_type": "execute_result"
    }
   ],
   "source": [
    "# Get the maximum lag\n",
    "diagonal_100 = 100 * (2 ** 0.5) / 2\n",
    "bin_100 = np.arange(10,diagonal_100,10)\n",
    "bin_100[-1]"
   ]
  },
  {
   "cell_type": "code",
   "execution_count": 19,
   "metadata": {},
   "outputs": [
    {
     "data": {
      "text/plain": [
       "210.0"
      ]
     },
     "execution_count": 19,
     "metadata": {},
     "output_type": "execute_result"
    }
   ],
   "source": [
    "# Get the maximum lag\n",
    "diagonal_300 = 300 * (2 ** 0.5) / 2\n",
    "bin_300 = np.arange(10,diagonal_300,10)\n",
    "bin_300[-1]"
   ]
  },
  {
   "cell_type": "code",
   "execution_count": 20,
   "metadata": {},
   "outputs": [
    {
     "data": {
      "text/plain": [
       "630.0"
      ]
     },
     "execution_count": 20,
     "metadata": {},
     "output_type": "execute_result"
    }
   ],
   "source": [
    "# Get the maximum lag\n",
    "diagonal_900 = 900 * (2 ** 0.5) / 2\n",
    "bin_900 = np.arange(10,diagonal_900,10)\n",
    "bin_900[-1]"
   ]
  },
  {
   "cell_type": "code",
   "execution_count": 21,
   "metadata": {},
   "outputs": [
    {
     "data": {
      "text/plain": [
       "840.0"
      ]
     },
     "execution_count": 21,
     "metadata": {},
     "output_type": "execute_result"
    }
   ],
   "source": [
    "# Get the maximum lag\n",
    "diagonal_1200 = 1200 * (2 ** 0.5) / 2\n",
    "bin_1200 = np.arange(10,diagonal_1200,10)\n",
    "bin_1200[-1]"
   ]
  },
  {
   "cell_type": "markdown",
   "metadata": {},
   "source": [
    "# Variogram"
   ]
  },
  {
   "cell_type": "markdown",
   "metadata": {},
   "source": [
    "## Variogram"
   ]
  },
  {
   "cell_type": "code",
   "execution_count": 59,
   "metadata": {},
   "outputs": [
    {
     "name": "stderr",
     "output_type": "stream",
     "text": [
      "c:\\ProgramData\\Anaconda3\\envs\\DISC\\Lib\\site-packages\\skgstat\\Variogram.py:1715: OptimizeWarning: Covariance of the parameters could not be estimated\n",
      "  self.cof, self.cov = curve_fit(\n"
     ]
    }
   ],
   "source": [
    "V_30 = skg.Variogram(arr_Coordinates_30, band_30_reshape, use_nugget=True, bin_func=bin_30, maxlag = bin_30[-1])\n",
    "V_100 = skg.Variogram(arr_Coordinates_100, band_100_reshape, use_nugget=True, bin_func=bin_100, maxlag = bin_100[-1])\n",
    "V_300 = skg.Variogram(arr_Coordinates_300, band_300_reshape, use_nugget=True, bin_func=bin_300, maxlag = bin_300[-1])\n",
    "V_900 = skg.Variogram(arr_Coordinates_900, band_900_reshape, use_nugget=True, bin_func=bin_900, maxlag = bin_900[-1])\n",
    "V_1200 = skg.Variogram(arr_Coordinates_1200, band_1200_reshape, use_nugget=True, bin_func=bin_1200, maxlag = bin_1200[-1])"
   ]
  },
  {
   "cell_type": "markdown",
   "metadata": {},
   "source": [
    "### Variogram Parameters"
   ]
  },
  {
   "cell_type": "code",
   "execution_count": 60,
   "metadata": {},
   "outputs": [
    {
     "name": "stdout",
     "output_type": "stream",
     "text": [
      "30m Range: 19.999999998; Sill: 22.270056661105077; Nugget: 2.1504344926670713\n",
      "100m Range: 45.819817259767596; Sill: 12.348971561166366; Nugget: 2.7633986391071014e-31\n",
      "300m Range: 209.99999999999997; Sill: 537.455216930264; Nugget: 20.09790059691626\n",
      "900m Range: 629.9999999999999; Sill: 1185.8839797893515; Nugget: 84.90598294406682\n",
      "1200m Range: 557.75687339235; Sill: 1266.5010780076022; Nugget: 5.556691390969052\n"
     ]
    }
   ],
   "source": [
    "range_30 = V_30.parameters[0]\n",
    "sill_30 = V_30.parameters[1] + V_300.parameters[2]\n",
    "nugget_30 = V_30.parameters[2]\n",
    "range_100 = V_100.parameters[0]\n",
    "sill_100 = V_100.parameters[1] + V_100.parameters[2]\n",
    "nugget_100 = V_100.parameters[2]\n",
    "range_300 = V_300.parameters[0]\n",
    "sill_300 = V_300.parameters[1] + V_300.parameters[2]\n",
    "nugget_300 = V_300.parameters[2]\n",
    "range_900 = V_900.parameters[0]\n",
    "sill_900 = V_900.parameters[1] + V_900.parameters[2]\n",
    "nugget_900 = V_900.parameters[2]\n",
    "range_1200 = V_1200.parameters[0]\n",
    "sill_1200 = V_1200.parameters[1] + V_1200.parameters[2]\n",
    "nugget_1200 = V_1200.parameters[2]\n",
    "print(\"30m Range: \" + str(range_30) + \"; Sill: \" + str(sill_30) + \"; Nugget: \" + str(nugget_30))\n",
    "print(\"100m Range: \" + str(range_100) + \"; Sill: \" + str(sill_100) + \"; Nugget: \" + str(nugget_100))\n",
    "print(\"300m Range: \" + str(range_300) + \"; Sill: \" + str(sill_300) + \"; Nugget: \" + str(nugget_300))\n",
    "print(\"900m Range: \" + str(range_900) + \"; Sill: \" + str(sill_900) + \"; Nugget: \" + str(nugget_900))\n",
    "print(\"1200m Range: \" + str(range_1200) + \"; Sill: \" + str(sill_1200) + \"; Nugget: \" + str(nugget_1200))"
   ]
  },
  {
   "cell_type": "markdown",
   "metadata": {},
   "source": [
    "## Roman Metrics"
   ]
  },
  {
   "cell_type": "markdown",
   "metadata": {},
   "source": [
    "### CV (Coefficient of Variation)"
   ]
  },
  {
   "cell_type": "code",
   "execution_count": 61,
   "metadata": {},
   "outputs": [],
   "source": [
    "CV_30 = np.std(band_30) / np.mean(band_30)\n",
    "CV_100 = np.std(band_100) / np.mean(band_100)\n",
    "CV_300 = np.std(band_300) / np.mean(band_300)\n",
    "CV_900 = np.std(band_900) / np.mean(band_900)\n",
    "CV_1200 = np.std(band_1200) / np.mean(band_1200)"
   ]
  },
  {
   "cell_type": "markdown",
   "metadata": {},
   "source": [
    "### Rcv (Relative Coefficient of Variation)"
   ]
  },
  {
   "cell_type": "code",
   "execution_count": 62,
   "metadata": {},
   "outputs": [],
   "source": [
    "Rcv_30_100 = (CV_100 - CV_30) / CV_30\n",
    "Rcv_30_300 = (CV_300 - CV_30) / CV_30\n",
    "Rcv_100_300 = (CV_300 - CV_100) / CV_100\n",
    "Rcv_300_900 = (CV_900 - CV_300) / CV_300\n",
    "Rcv_300_1200 = (CV_1200 - CV_300) / CV_300"
   ]
  },
  {
   "cell_type": "markdown",
   "metadata": {},
   "source": [
    "### RAW Score"
   ]
  },
  {
   "cell_type": "code",
   "execution_count": 63,
   "metadata": {},
   "outputs": [],
   "source": [
    "RAW_30_100 = (abs(2 * Rcv_30_100)) ** (-1)\n",
    "RAW_30_300 = (abs(2 * Rcv_30_300)) ** (-1)\n",
    "RAW_100_300 = (abs(2 * Rcv_100_300)) ** (-1)\n",
    "RAW_300_900 = (abs(2 * Rcv_300_900)) ** (-1)\n",
    "RAW_300_1200 = (abs(2 * Rcv_300_1200)) ** (-1)"
   ]
  },
  {
   "cell_type": "markdown",
   "metadata": {},
   "source": [
    "### Rse (Scale Requirement)"
   ]
  },
  {
   "cell_type": "code",
   "execution_count": 64,
   "metadata": {},
   "outputs": [],
   "source": [
    "Rse_30_100 = math.exp(-((g / range_30) ** 2 + (g / range_100) ** 2) ** (1/2))\n",
    "Rse_30_300 = math.exp(-((g / range_30) ** 2 + (g / range_300) ** 2) ** (1/2))\n",
    "Rse_100_300 = math.exp(-((g / range_100) ** 2 + (g / range_300) ** 2) ** (1/2))\n",
    "Rse_300_900 = math.exp(-((g / range_300) ** 2 + (g / range_900) ** 2) ** (1/2))\n",
    "Rse_300_1200 = math.exp(-((g / range_300) ** 2 + (g / range_1200) ** 2) ** (1/2))"
   ]
  },
  {
   "cell_type": "markdown",
   "metadata": {},
   "source": [
    "### Rst (Spatial Correlation)"
   ]
  },
  {
   "cell_type": "code",
   "execution_count": 65,
   "metadata": {},
   "outputs": [
    {
     "name": "stdout",
     "output_type": "stream",
     "text": [
      "The range 19.999999998 falls in 10.0 and 20.0, whose value is 4.322590555998873\n",
      "The range 45.819817259767596 falls in 40.0 and 50.0, whose value is 13.421850295997213\n",
      "The range 209.99999999999997 falls in 200.0 and 210.0, whose value is 607.7999918033754\n",
      "The range 629.9999999999999 falls in 620.0 and 630.0, whose value is 1252.3881715914326\n",
      "The range 557.75687339235 falls in 550.0 and 560.0, whose value is 1294.3284597140557\n"
     ]
    }
   ],
   "source": [
    "# Get the index of the range in the bin\n",
    "for i in range(len(V_30.bins)):\n",
    "    if range_30 >= V_30.bins[i] and range_30 <= V_30.bins[i+1]:\n",
    "        index_30 = i + 1\n",
    "estimator_Range_30 = V_30.experimental[index_30]\n",
    "print(f\"The range {(range_30)} falls in {V_30.bins[index_30 - 1]} and {V_30.bins[index_30]}, whose value is {estimator_Range_30}\")\n",
    "\n",
    "for i in range(len(V_100.bins)):\n",
    "    if range_100 >= V_100.bins[i] and range_100 <= V_100.bins[i+1]:\n",
    "        index_100 = i + 1\n",
    "estimator_Range_100 = V_100.experimental[index_100]\n",
    "print(f\"The range {(range_100)} falls in {V_100.bins[index_100 - 1]} and {V_100.bins[index_100]}, whose value is {estimator_Range_100}\")\n",
    "\n",
    "for i in range(len(V_300.bins)):\n",
    "    if range_300 >= V_300.bins[i] and range_300 <= V_300.bins[i+1]:\n",
    "        index_300 = i + 1\n",
    "estimator_Range_300 = V_300.experimental[index_300]\n",
    "print(f\"The range {(range_300)} falls in {V_300.bins[index_300 - 1]} and {V_300.bins[index_300]}, whose value is {estimator_Range_300}\")\n",
    "\n",
    "for i in range(len(V_900.bins)):\n",
    "    if range_900 >= V_900.bins[i] and range_900 <= V_900.bins[i+1]:\n",
    "        index_900 = i + 1\n",
    "estimator_Range_900 = V_900.experimental[index_900]\n",
    "print(f\"The range {(range_900)} falls in {V_900.bins[index_900 - 1]} and {V_900.bins[index_900]}, whose value is {estimator_Range_900}\")\n",
    "\n",
    "for i in range(len(V_1200.bins)):\n",
    "    if range_1200 >= V_1200.bins[i] and range_1200 <= V_1200.bins[i+1]:\n",
    "        index_1200 = i + 1\n",
    "estimator_Range_1200 = V_1200.experimental[index_1200]\n",
    "print(f\"The range {(range_1200)} falls in {V_1200.bins[index_1200 - 1]} and {V_1200.bins[index_1200]}, whose value is {estimator_Range_1200}\")"
   ]
  },
  {
   "cell_type": "code",
   "execution_count": 66,
   "metadata": {},
   "outputs": [],
   "source": [
    "ST_30 = (estimator_Range_30 - nugget_30) / estimator_Range_30\n",
    "ST_100 = (estimator_Range_100 - nugget_100) / estimator_Range_100\n",
    "ST_300 = (estimator_Range_300 - nugget_300) / estimator_Range_300\n",
    "ST_900 = (estimator_Range_900 - nugget_900) / estimator_Range_900\n",
    "ST_1200 = (estimator_Range_1200 - nugget_1200) / estimator_Range_1200\n",
    "Rst_30_100 = (ST_100 - ST_30) / ST_30\n",
    "Rst_30_300 = (ST_300 - ST_30) / ST_30\n",
    "Rst_100_300 = (ST_300 - ST_100) / ST_100\n",
    "Rst_300_900 = (ST_900 - ST_300) / ST_300\n",
    "Rst_300_1200 = (ST_1200 - ST_300) / ST_300"
   ]
  },
  {
   "cell_type": "markdown",
   "metadata": {},
   "source": [
    "### Rsv Structural Variability"
   ]
  },
  {
   "cell_type": "code",
   "execution_count": 67,
   "metadata": {},
   "outputs": [],
   "source": [
    "def f_30_SV(x):\n",
    "    return (V_30.fitted_model(x) - nugget_30) / sill_30\n",
    "def f_100_SV(x):\n",
    "    return (V_100.fitted_model(x) - nugget_100) / sill_100\n",
    "def f_300_SV(x):\n",
    "    return (V_300.fitted_model(x) - nugget_300) / sill_300\n",
    "def f_900_SV(x):\n",
    "    return (V_900.fitted_model(x) - nugget_900) / sill_900\n",
    "def f_1200_SV(x):\n",
    "    return (V_1200.fitted_model(x) - nugget_1200) / sill_1200\n",
    "SV_30 = quad(f_30_SV, 0, range_30)[0]\n",
    "SV_100 = quad(f_100_SV, 0, range_100)[0]\n",
    "SV_300 = quad(f_300_SV, 0, range_300)[0]\n",
    "SV_900 = quad(f_900_SV, 0, range_900)[0]\n",
    "SV_1200 = quad(f_1200_SV, 0, range_1200)[0]\n",
    "Rsv_30_100 = (SV_100 - SV_30) / SV_30\n",
    "Rsv_30_300 = (SV_300 - SV_30) / SV_30\n",
    "Rsv_100_300 = (SV_300 - SV_100) / SV_100\n",
    "Rsv_300_900 = (SV_900 - SV_300) / SV_300\n",
    "Rsv_300_1200 = (SV_1200 - SV_300) / SV_300"
   ]
  },
  {
   "cell_type": "markdown",
   "metadata": {},
   "source": [
    "### ST Score"
   ]
  },
  {
   "cell_type": "code",
   "execution_count": 68,
   "metadata": {},
   "outputs": [],
   "source": [
    "ST_Score_30_100 = (abs(Rcv_30_100) / 3 + abs(Rst_30_100) / 3 + abs(Rsv_30_100) / 3 +Rse_30_100) ** (-1)\n",
    "ST_Score_30_300 = (abs(Rcv_30_300) / 3 + abs(Rst_30_300) / 3 + abs(Rsv_30_300) / 3 +Rse_30_300) ** (-1)\n",
    "ST_Score_100_300 = (abs(Rcv_100_300) / 3 + abs(Rst_100_300) / 3 + abs(Rsv_100_300) / 3 +Rse_100_300) ** (-1)\n",
    "ST_Score_300_900 = (abs(Rcv_300_900) / 3 + abs(Rst_300_900) / 3 + abs(Rsv_300_900) / 3 +Rse_300_900) ** (-1)\n",
    "ST_Score_300_1200 = (abs(Rcv_300_1200) / 3 + abs(Rst_300_1200) / 3 + abs(Rsv_300_1200) / 3 +Rse_300_1200) ** (-1)"
   ]
  },
  {
   "cell_type": "markdown",
   "metadata": {},
   "source": [
    "# Final Results"
   ]
  },
  {
   "cell_type": "code",
   "execution_count": 69,
   "metadata": {},
   "outputs": [
    {
     "data": {
      "text/html": [
       "<div>\n",
       "<style scoped>\n",
       "    .dataframe tbody tr th:only-of-type {\n",
       "        vertical-align: middle;\n",
       "    }\n",
       "\n",
       "    .dataframe tbody tr th {\n",
       "        vertical-align: top;\n",
       "    }\n",
       "\n",
       "    .dataframe thead th {\n",
       "        text-align: right;\n",
       "    }\n",
       "</style>\n",
       "<table border=\"1\" class=\"dataframe\">\n",
       "  <thead>\n",
       "    <tr style=\"text-align: right;\">\n",
       "      <th></th>\n",
       "      <th>Site</th>\n",
       "      <th>Distance</th>\n",
       "      <th>Range</th>\n",
       "      <th>Sill</th>\n",
       "      <th>Nugget</th>\n",
       "      <th>CV</th>\n",
       "    </tr>\n",
       "  </thead>\n",
       "  <tbody>\n",
       "    <tr>\n",
       "      <th>0</th>\n",
       "      <td>UK-Amo</td>\n",
       "      <td>30m</td>\n",
       "      <td>20.000000</td>\n",
       "      <td>22.270057</td>\n",
       "      <td>2.150434e+00</td>\n",
       "      <td>0.043983</td>\n",
       "    </tr>\n",
       "    <tr>\n",
       "      <th>1</th>\n",
       "      <td>UK-Amo</td>\n",
       "      <td>100m</td>\n",
       "      <td>45.819817</td>\n",
       "      <td>12.348972</td>\n",
       "      <td>2.763399e-31</td>\n",
       "      <td>0.064372</td>\n",
       "    </tr>\n",
       "    <tr>\n",
       "      <th>2</th>\n",
       "      <td>UK-Amo</td>\n",
       "      <td>300m</td>\n",
       "      <td>210.000000</td>\n",
       "      <td>537.455217</td>\n",
       "      <td>2.009790e+01</td>\n",
       "      <td>0.382944</td>\n",
       "    </tr>\n",
       "    <tr>\n",
       "      <th>3</th>\n",
       "      <td>UK-Amo</td>\n",
       "      <td>900m</td>\n",
       "      <td>630.000000</td>\n",
       "      <td>1185.883980</td>\n",
       "      <td>8.490598e+01</td>\n",
       "      <td>0.454213</td>\n",
       "    </tr>\n",
       "    <tr>\n",
       "      <th>4</th>\n",
       "      <td>UK-Amo</td>\n",
       "      <td>1200m</td>\n",
       "      <td>557.756873</td>\n",
       "      <td>1266.501078</td>\n",
       "      <td>5.556691e+00</td>\n",
       "      <td>0.487963</td>\n",
       "    </tr>\n",
       "  </tbody>\n",
       "</table>\n",
       "</div>"
      ],
      "text/plain": [
       "     Site Distance       Range         Sill        Nugget        CV\n",
       "0  UK-Amo      30m   20.000000    22.270057  2.150434e+00  0.043983\n",
       "1  UK-Amo     100m   45.819817    12.348972  2.763399e-31  0.064372\n",
       "2  UK-Amo     300m  210.000000   537.455217  2.009790e+01  0.382944\n",
       "3  UK-Amo     900m  630.000000  1185.883980  8.490598e+01  0.454213\n",
       "4  UK-Amo    1200m  557.756873  1266.501078  5.556691e+00  0.487963"
      ]
     },
     "execution_count": 69,
     "metadata": {},
     "output_type": "execute_result"
    }
   ],
   "source": [
    "df_Variogram = pd.DataFrame({\n",
    "    \"Site\": site_Name,\n",
    "    \"Distance\": ['30m', '100m', '300m', '900m', '1200m'],\n",
    "    \"Range\": [range_30, range_100, range_300, range_900, range_1200],\n",
    "    \"Sill\": [sill_30, sill_100, sill_300, sill_900, sill_1200],\n",
    "    \"Nugget\": [nugget_30, nugget_100, nugget_300, nugget_900, nugget_1200],    \n",
    "    \"CV\": [CV_30, CV_100, CV_300, CV_900, CV_1200]\n",
    "})\n",
    "df_Variogram"
   ]
  },
  {
   "cell_type": "code",
   "execution_count": 70,
   "metadata": {},
   "outputs": [
    {
     "data": {
      "text/html": [
       "<div>\n",
       "<style scoped>\n",
       "    .dataframe tbody tr th:only-of-type {\n",
       "        vertical-align: middle;\n",
       "    }\n",
       "\n",
       "    .dataframe tbody tr th {\n",
       "        vertical-align: top;\n",
       "    }\n",
       "\n",
       "    .dataframe thead th {\n",
       "        text-align: right;\n",
       "    }\n",
       "</style>\n",
       "<table border=\"1\" class=\"dataframe\">\n",
       "  <thead>\n",
       "    <tr style=\"text-align: right;\">\n",
       "      <th></th>\n",
       "      <th>Site</th>\n",
       "      <th>Internal Distance</th>\n",
       "      <th>External Distance</th>\n",
       "      <th>Rcv</th>\n",
       "      <th>Rse</th>\n",
       "      <th>Rst</th>\n",
       "      <th>Rsv</th>\n",
       "      <th>RAW Score</th>\n",
       "      <th>ST Score</th>\n",
       "    </tr>\n",
       "  </thead>\n",
       "  <tbody>\n",
       "    <tr>\n",
       "      <th>0</th>\n",
       "      <td>UK-Amo</td>\n",
       "      <td>30m</td>\n",
       "      <td>100m</td>\n",
       "      <td>0.463575</td>\n",
       "      <td>0.775514</td>\n",
       "      <td>0.990000</td>\n",
       "      <td>3.517310</td>\n",
       "      <td>1.078575</td>\n",
       "      <td>0.411104</td>\n",
       "    </tr>\n",
       "    <tr>\n",
       "      <th>1</th>\n",
       "      <td>UK-Amo</td>\n",
       "      <td>30m</td>\n",
       "      <td>300m</td>\n",
       "      <td>7.706643</td>\n",
       "      <td>0.791319</td>\n",
       "      <td>0.924197</td>\n",
       "      <td>18.929396</td>\n",
       "      <td>0.064879</td>\n",
       "      <td>0.100220</td>\n",
       "    </tr>\n",
       "    <tr>\n",
       "      <th>2</th>\n",
       "      <td>UK-Amo</td>\n",
       "      <td>100m</td>\n",
       "      <td>300m</td>\n",
       "      <td>4.948888</td>\n",
       "      <td>0.901139</td>\n",
       "      <td>-0.033067</td>\n",
       "      <td>3.411784</td>\n",
       "      <td>0.101033</td>\n",
       "      <td>0.270340</td>\n",
       "    </tr>\n",
       "    <tr>\n",
       "      <th>3</th>\n",
       "      <td>UK-Amo</td>\n",
       "      <td>300m</td>\n",
       "      <td>900m</td>\n",
       "      <td>0.186106</td>\n",
       "      <td>0.976881</td>\n",
       "      <td>-0.035916</td>\n",
       "      <td>1.893406</td>\n",
       "      <td>2.686635</td>\n",
       "      <td>0.594522</td>\n",
       "    </tr>\n",
       "    <tr>\n",
       "      <th>4</th>\n",
       "      <td>UK-Amo</td>\n",
       "      <td>300m</td>\n",
       "      <td>1200m</td>\n",
       "      <td>0.274239</td>\n",
       "      <td>0.976568</td>\n",
       "      <td>0.029758</td>\n",
       "      <td>1.747057</td>\n",
       "      <td>1.823230</td>\n",
       "      <td>0.602318</td>\n",
       "    </tr>\n",
       "  </tbody>\n",
       "</table>\n",
       "</div>"
      ],
      "text/plain": [
       "     Site Internal Distance External Distance       Rcv       Rse       Rst  \\\n",
       "0  UK-Amo               30m              100m  0.463575  0.775514  0.990000   \n",
       "1  UK-Amo               30m              300m  7.706643  0.791319  0.924197   \n",
       "2  UK-Amo              100m              300m  4.948888  0.901139 -0.033067   \n",
       "3  UK-Amo              300m              900m  0.186106  0.976881 -0.035916   \n",
       "4  UK-Amo              300m             1200m  0.274239  0.976568  0.029758   \n",
       "\n",
       "         Rsv  RAW Score  ST Score  \n",
       "0   3.517310   1.078575  0.411104  \n",
       "1  18.929396   0.064879  0.100220  \n",
       "2   3.411784   0.101033  0.270340  \n",
       "3   1.893406   2.686635  0.594522  \n",
       "4   1.747057   1.823230  0.602318  "
      ]
     },
     "execution_count": 70,
     "metadata": {},
     "output_type": "execute_result"
    }
   ],
   "source": [
    "df_Roman = pd.DataFrame({\n",
    "    \"Site\": site_Name,\n",
    "    \"Internal Distance\": ['30m', '30m', '100m', '300m', '300m'],\n",
    "    \"External Distance\": ['100m', '300m', '300m', '900m', '1200m'],\n",
    "    \"Rcv\": [Rcv_30_100, Rcv_30_300, Rcv_100_300, Rcv_300_900, Rcv_300_1200],\n",
    "    \"Rse\": [Rse_30_100, Rse_30_300, Rse_100_300, Rse_300_900, Rse_300_1200],\n",
    "    \"Rst\": [Rst_30_100, Rst_30_300, Rst_100_300, Rst_300_900, Rst_300_1200],\n",
    "    \"Rsv\": [Rsv_30_100, Rsv_30_300, Rsv_100_300, Rsv_300_900, Rsv_300_1200],\n",
    "    \"RAW Score\": [RAW_30_100, RAW_30_300, RAW_100_300, RAW_300_900, RAW_300_1200],\n",
    "    \"ST Score\": [ST_Score_30_100, ST_Score_30_300, ST_Score_100_300, ST_Score_300_900, ST_Score_300_1200]\n",
    "})\n",
    "df_Roman"
   ]
  },
  {
   "cell_type": "code",
   "execution_count": 71,
   "metadata": {},
   "outputs": [],
   "source": [
    "df_Roman.to_csv(cwd_Images_Processed + \"\\\\\" + site_Name + \"\\\\Result_New_Roman.csv\", index = False)\n",
    "df_Variogram.to_csv(cwd_Images_Processed + \"\\\\\" + site_Name + \"\\\\Result_New_Variogram.csv\", index = False)"
   ]
  },
  {
   "cell_type": "markdown",
   "metadata": {},
   "source": [
    "### Variogram Plot AIO!"
   ]
  },
  {
   "cell_type": "code",
   "execution_count": 72,
   "metadata": {},
   "outputs": [],
   "source": [
    "# Get the theoretical functions\n",
    "# def f_30(x):\n",
    "#    return V_30.fitted_model(x)\n",
    "def f_100(x):\n",
    "   return V_100.fitted_model(x)\n",
    "def f_300(x):\n",
    "   return V_300.fitted_model(x)\n",
    "def f_900(x):\n",
    "   return V_900.fitted_model(x)\n",
    "def f_1200(x):\n",
    "   return V_1200.fitted_model(x)\n",
    "# Create cubic interpolation model in order to make curved plot (otherwise it will be ugly af)\n",
    "# cubic_model_30 = interp1d(np.concatenate((np.array([0]),bin_30)), f_30(np.concatenate((np.array([0]),bin_30)),), kind = \"cubic\")\n",
    "cubic_model_100 = interp1d(np.concatenate((np.array([0]),bin_100)), f_100(np.concatenate((np.array([0]),bin_100)),), kind = \"cubic\")\n",
    "cubic_model_300 = interp1d(np.concatenate((np.array([0]),bin_300)), f_300(np.concatenate((np.array([0]),bin_300)),), kind = \"cubic\")\n",
    "cubic_model_900 = interp1d(np.concatenate((np.array([0]),bin_900)), f_900(np.concatenate((np.array([0]),bin_900)),), kind = \"cubic\")\n",
    "cubic_model_1200 = interp1d(np.concatenate((np.array([0]),bin_1200)), f_1200(np.concatenate((np.array([0]),bin_1200)),), kind = \"cubic\")\n",
    "x_30 = np.linspace(0,bin_30[-1])\n",
    "x_100 = np.linspace(0,bin_100[-1])\n",
    "x_300 = np.linspace(0,bin_300[-1])\n",
    "x_900 = np.linspace(0,bin_900[-1])\n",
    "x_1200 = np.linspace(0,bin_1200[-1])"
   ]
  },
  {
   "cell_type": "code",
   "execution_count": 73,
   "metadata": {},
   "outputs": [
    {
     "data": {
      "image/png": "[encoded data removed]",
      "text/plain": [
       "<Figure size 2000x1000 with 1 Axes>"
      ]
     },
     "metadata": {},
     "output_type": "display_data"
    }
   ],
   "source": [
    "# Plot! \n",
    "plt.figure(figsize = (20,10))\n",
    "plt.plot(x_30, V_30.fitted_model(x_30), label = f'30m Theoretical; a = {range_30:.2F}; c = {sill_30:.2F}; c0 = {nugget_30:.2E}', color = 'Grey', linestyle = '-')\n",
    "plt.plot(x_100, cubic_model_100(x_100), label = f'100m Theoretical; a = {range_100:.2F}; c = {sill_100:.2F}; c0 = {nugget_100:.2E}', color = 'Red', linestyle = '-')\n",
    "plt.plot(x_300, cubic_model_300(x_300), label = f'300m Theoretical; a = {range_300:.2F}; c = {sill_300:.2F}; c0 = {nugget_300:.2E}', color = 'Black', linestyle = '-')\n",
    "plt.plot(x_900, cubic_model_900(x_900), label = f'900m Theoretical; a = {range_900:.2F}; c = {sill_900:.2F}; c0 = {nugget_900:.2E}', color = 'Green', linestyle = '-')\n",
    "plt.plot(x_1200, cubic_model_1200(x_1200), label = f'1200m Theoretical; a = {range_1200:.2F}; c = {sill_1200:.2F}; c0 = {nugget_1200:.2E}', color = 'Blue', linestyle = '-')\n",
    "plt.scatter(V_30.get_empirical()[0],V_30.get_empirical()[1], color = 'Grey', label = '30m Experimental', marker = '2')\n",
    "plt.scatter(V_100.get_empirical()[0],V_100.get_empirical()[1], color = 'Red', label = '100m Experimental', marker = 'o')\n",
    "plt.scatter(V_300.get_empirical()[0],V_300.get_empirical()[1], color = 'Black', label = '300m Experimental', marker = 'v')\n",
    "plt.scatter(V_900.get_empirical()[0],V_900.get_empirical()[1], color = 'Green', label = '900m Experimental', marker = 's')\n",
    "plt.scatter(V_1200.get_empirical()[0],V_1200.get_empirical()[1], color = 'Blue', label = '1200m Experimental', marker = '*')\n",
    "plt.title(\"Variogram of \" + site_Name)\n",
    "plt.xlabel(\"Distance or Lag\")\n",
    "plt.ylabel(\"Semivariance\")\n",
    "plt.legend()\n",
    "plt.grid()\n",
    "plt.savefig(cwd_Images_Processed + \"\\\\\" + site_Name + \"\\\\Result.png\")"
   ]
  },
  {
   "cell_type": "code",
   "execution_count": 74,
   "metadata": {},
   "outputs": [
    {
     "data": {
      "text/plain": [
       "(array([10., 20.]), array([       nan, 4.32259056]))"
      ]
     },
     "execution_count": 74,
     "metadata": {},
     "output_type": "execute_result"
    }
   ],
   "source": [
    "V_30.get_empirical()"
   ]
  },
  {
   "cell_type": "code",
   "execution_count": null,
   "metadata": {},
   "outputs": [],
   "source": []
  }
 ],
 "metadata": {
  "kernelspec": {
   "display_name": "DISC",
   "language": "python",
   "name": "python3"
  },
  "language_info": {
   "codemirror_mode": {
    "name": "ipython",
    "version": 3
   },
   "file_extension": ".py",
   "mimetype": "text/x-python",
   "name": "python",
   "nbconvert_exporter": "python",
   "pygments_lexer": "ipython3",
   "version": "3.12.3"
  }
 },
 "nbformat": 4,
 "nbformat_minor": 2
}
