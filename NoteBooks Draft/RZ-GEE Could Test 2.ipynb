{
 "cells": [
  {
   "cell_type": "code",
   "execution_count": 1,
   "metadata": {},
   "outputs": [],
   "source": [
    "import os\n",
    "import ee\n",
    "from matplotlib import pyplot as plt\n",
    "import numpy as np\n",
    "import pandas as pd\n",
    "import geopandas as gpd\n",
    "from scipy import stats"
   ]
  },
  {
   "cell_type": "code",
   "execution_count": 2,
   "metadata": {},
   "outputs": [],
   "source": [
    "cwd = \"c:\\\\Users\\\\m1865\\\\Desktop\\\\DISC\"\n",
    "cwd_Images_Raw = cwd + \"\\\\Sentinel-2 Images Raw\"\n",
    "cwd_Images_Processed = cwd + \"\\\\Sentinel-2 Images Processed\""
   ]
  },
  {
   "cell_type": "code",
   "execution_count": 3,
   "metadata": {},
   "outputs": [],
   "source": [
    "# Create a project called \"ee-sentinel-2temporal-nir\"\n",
    "# Google Account is jiawei.gao.polimi@gmail.com\n",
    "ee.Authenticate(force = False)\n",
    "ee.Initialize(project='ee-sentinel-2temporal-nir')"
   ]
  },
  {
   "cell_type": "code",
   "execution_count": 4,
   "metadata": {},
   "outputs": [],
   "source": [
    "date_Start = \"2023-01-01\"\n",
    "date_End = \"2023-12-31\""
   ]
  },
  {
   "cell_type": "code",
   "execution_count": 5,
   "metadata": {},
   "outputs": [],
   "source": [
    "def mask_s2_clouds(image):\n",
    "  \"\"\"Masks clouds in a Sentinel-2 image using the QA band.\n",
    "\n",
    "  Args:\n",
    "      image (ee.Image): A Sentinel-2 image.\n",
    "\n",
    "  Returns:\n",
    "      ee.Image: A cloud-masked Sentinel-2 image.\n",
    "  \"\"\"\n",
    "  qa = image.select('QA60')\n",
    "\n",
    "  # Bits 10 and 11 are clouds and cirrus, respectively.\n",
    "  cloud_bit_mask = 1 << 10\n",
    "  cirrus_bit_mask = 1 << 11\n",
    "\n",
    "  # Both flags should be set to zero, indicating clear conditions.\n",
    "  mask = (\n",
    "      qa.bitwiseAnd(cloud_bit_mask)\n",
    "      .eq(0)\n",
    "      .And(qa.bitwiseAnd(cirrus_bit_mask).eq(0))\n",
    "  )\n",
    "\n",
    "  return image.updateMask(mask)"
   ]
  },
  {
   "cell_type": "code",
   "execution_count": 6,
   "metadata": {},
   "outputs": [],
   "source": [
    "dataset = (\n",
    "    ee.ImageCollection('COPERNICUS/S2_SR_HARMONIZED')\n",
    "    .filterDate(date_Start, date_End)\n",
    "    # Pre-filter to get less cloudy granules.\n",
    "    .filter(ee.Filter.lt('CLOUDY_PIXEL_PERCENTAGE', 10))\n",
    "    .map(mask_s2_clouds)\n",
    ")"
   ]
  },
  {
   "cell_type": "code",
   "execution_count": 7,
   "metadata": {},
   "outputs": [],
   "source": [
    "def ee_array_to_df(arr, list_of_bands):\n",
    "    \"\"\"Transforms client-side ee.Image.getRegion array to pandas.DataFrame.\"\"\"\n",
    "    df = pd.DataFrame(arr)\n",
    "\n",
    "    # Rearrange the header.\n",
    "    headers = df.iloc[0]\n",
    "    df = pd.DataFrame(df.values[1:], columns=headers)\n",
    "\n",
    "    # Remove rows without data inside.\n",
    "    df = df[['longitude', 'latitude', 'time', *list_of_bands]].dropna()\n",
    "\n",
    "    # Convert the data to numeric values.\n",
    "    for band in list_of_bands:\n",
    "        df[band] = pd.to_numeric(df[band], errors='coerce')\n",
    "\n",
    "    # Convert the time field into a datetime.\n",
    "    df['datetime'] = pd.to_datetime(df['time'], unit='ms').dt.date\n",
    "\n",
    "    # Keep the columns of interest.\n",
    "    df = df[['datetime',  *list_of_bands]]\n",
    "\n",
    "    return df"
   ]
  },
  {
   "cell_type": "code",
   "execution_count": 9,
   "metadata": {},
   "outputs": [],
   "source": [
    "df = pd.read_csv(cwd + \"\\\\Site.csv\")\n",
    "for i in range(df.shape[0]):\n",
    "    name_Site = df.loc[i,'Site']\n",
    "    gdf = gpd.read_file(cwd_Images_Processed + \"\\\\\" + name_Site + \"\\\\30m.shp\")\n",
    "    gdf = gdf.to_crs(\"EPSG:4326\")\n",
    "    bounds = gdf.bounds.values.reshape(-1)\n",
    "    roi = ee.Geometry.Rectangle([bounds[0],bounds[1],bounds[2],bounds[3]])\n",
    "    a = dataset.getRegion(roi,10).getInfo()\n",
    "    s2_RoI_B8 = ee_array_to_df(a,[\"B4\",'B8'])\n",
    "    s2_RoI_B8['NDVI'] = (s2_RoI_B8['B8'] - s2_RoI_B8['B4']) / (s2_RoI_B8['B8'] + s2_RoI_B8['B4'])\n",
    "    s2_RoI_B8.sort_values('datetime')\n",
    "    m = s2_RoI_B8[np.abs(stats.zscore(s2_RoI_B8['NDVI'])) < 1.25]\n",
    "    m = m[np.abs(stats.zscore(m['B8'])) < 1.25]\n",
    "    df_Merge_Mean = m.groupby(\"datetime\").mean().reset_index(drop = False)  \n",
    "    plt.figure(figsize = (20,10))\n",
    "    plt.title(f\"{name_Site} (30m Average) Near Infrared Values of Sentinel-2 Images in 2023\")\n",
    "    plt.plot(df_Merge_Mean['datetime'], df_Merge_Mean['B8'], label = \"NIR\")\n",
    "    plt.ylim(0,10000)\n",
    "    plt.legend()\n",
    "    plt.grid()\n",
    "    plt.savefig(cwd_Images_Processed + \"\\\\\" + name_Site + \"\\\\TimeSeries - NIR.png\")\n",
    "    plt.close()\n",
    "    plt.figure(figsize = (20,10))\n",
    "    plt.title(f\"{name_Site} (30m Average) NDVI of Sentinel-2 Images in 2023\")\n",
    "    plt.plot(df_Merge_Mean['datetime'], df_Merge_Mean['NDVI'], label = \"NDVI\")\n",
    "    plt.ylim(0,1)\n",
    "    plt.legend()\n",
    "    plt.grid()\n",
    "    plt.savefig(cwd_Images_Processed + \"\\\\\" + name_Site + \"\\\\TimeSeries - NDVI.png\")\n",
    "    plt.close()"
   ]
  },
  {
   "cell_type": "code",
   "execution_count": null,
   "metadata": {},
   "outputs": [],
   "source": []
  }
 ],
 "metadata": {
  "kernelspec": {
   "display_name": "DISC",
   "language": "python",
   "name": "python3"
  },
  "language_info": {
   "codemirror_mode": {
    "name": "ipython",
    "version": 3
   },
   "file_extension": ".py",
   "mimetype": "text/x-python",
   "name": "python",
   "nbconvert_exporter": "python",
   "pygments_lexer": "ipython3",
   "version": "3.12.3"
  }
 },
 "nbformat": 4,
 "nbformat_minor": 2
}
