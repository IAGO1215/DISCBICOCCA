{
 "cells": [
  {
   "cell_type": "code",
   "execution_count": 1,
   "metadata": {},
   "outputs": [],
   "source": [
    "import os\n",
    "import ee\n",
    "from matplotlib import pyplot as plt\n",
    "import numpy as np\n",
    "import pandas as pd\n",
    "import geopandas as gpd\n",
    "import math"
   ]
  },
  {
   "cell_type": "code",
   "execution_count": 2,
   "metadata": {},
   "outputs": [],
   "source": [
    "# Create a project called \"ee-sentinel-2temporal-nir\"\n",
    "# Google Account is jiawei.gao.polimi@gmail.com\n",
    "ee.Authenticate(force = False)\n",
    "ee.Initialize(project='ee-sentinel-2temporal-nir')"
   ]
  },
  {
   "cell_type": "code",
   "execution_count": 3,
   "metadata": {},
   "outputs": [],
   "source": [
    "cwd = \"c:\\\\Users\\\\m1865\\\\Desktop\\\\DISC\"\n",
    "cwd_Images_Raw = cwd + \"\\\\Sentinel-2 Images Raw\"\n",
    "cwd_Images_Processed = cwd + \"\\\\Sentinel-2 Images Processed\""
   ]
  },
  {
   "cell_type": "code",
   "execution_count": 4,
   "metadata": {},
   "outputs": [],
   "source": [
    "date_Start = \"2023-01-01\"\n",
    "date_End = \"2023-12-31\"\n",
    "name_Site = \"IT-SR2\"\n",
    "roi_Distance = 100"
   ]
  },
  {
   "cell_type": "code",
   "execution_count": 5,
   "metadata": {},
   "outputs": [],
   "source": [
    "# Read shapefile of ROI\n",
    "gdf_ROI = gpd.read_file(cwd_Images_Processed + \"\\\\\" + name_Site + \"\\\\\" + str(roi_Distance) + \"m.shp\")\n",
    "# Get its crs\n",
    "EPSG_ROI = gdf_ROI.crs"
   ]
  },
  {
   "cell_type": "code",
   "execution_count": 6,
   "metadata": {},
   "outputs": [],
   "source": [
    "# Create a GEE ROI in EPSG:4326\n",
    "gdf_ROI_4326 = gdf_ROI.to_crs(\"EPSG:4326\")\n",
    "bounds = gdf_ROI_4326.bounds.values.reshape(-1)\n",
    "roi = ee.Geometry.Rectangle([bounds[0],bounds[1],bounds[2],bounds[3]])"
   ]
  },
  {
   "cell_type": "code",
   "execution_count": 7,
   "metadata": {},
   "outputs": [
    {
     "data": {
      "text/html": [
       "<div>\n",
       "<style scoped>\n",
       "    .dataframe tbody tr th:only-of-type {\n",
       "        vertical-align: middle;\n",
       "    }\n",
       "\n",
       "    .dataframe tbody tr th {\n",
       "        vertical-align: top;\n",
       "    }\n",
       "\n",
       "    .dataframe thead th {\n",
       "        text-align: right;\n",
       "    }\n",
       "</style>\n",
       "<table border=\"1\" class=\"dataframe\">\n",
       "  <thead>\n",
       "    <tr style=\"text-align: right;\">\n",
       "      <th></th>\n",
       "      <th>x</th>\n",
       "      <th>y</th>\n",
       "      <th>geometry</th>\n",
       "    </tr>\n",
       "  </thead>\n",
       "  <tbody>\n",
       "    <tr>\n",
       "      <th>0</th>\n",
       "      <td>603915.0</td>\n",
       "      <td>4842865.0</td>\n",
       "      <td>POINT (603915 4842865)</td>\n",
       "    </tr>\n",
       "    <tr>\n",
       "      <th>1</th>\n",
       "      <td>603925.0</td>\n",
       "      <td>4842865.0</td>\n",
       "      <td>POINT (603925 4842865)</td>\n",
       "    </tr>\n",
       "    <tr>\n",
       "      <th>2</th>\n",
       "      <td>603935.0</td>\n",
       "      <td>4842865.0</td>\n",
       "      <td>POINT (603935 4842865)</td>\n",
       "    </tr>\n",
       "    <tr>\n",
       "      <th>3</th>\n",
       "      <td>603945.0</td>\n",
       "      <td>4842865.0</td>\n",
       "      <td>POINT (603945 4842865)</td>\n",
       "    </tr>\n",
       "    <tr>\n",
       "      <th>4</th>\n",
       "      <td>603955.0</td>\n",
       "      <td>4842865.0</td>\n",
       "      <td>POINT (603955 4842865)</td>\n",
       "    </tr>\n",
       "    <tr>\n",
       "      <th>...</th>\n",
       "      <td>...</td>\n",
       "      <td>...</td>\n",
       "      <td>...</td>\n",
       "    </tr>\n",
       "    <tr>\n",
       "      <th>116</th>\n",
       "      <td>603975.0</td>\n",
       "      <td>4842965.0</td>\n",
       "      <td>POINT (603975 4842965)</td>\n",
       "    </tr>\n",
       "    <tr>\n",
       "      <th>117</th>\n",
       "      <td>603985.0</td>\n",
       "      <td>4842965.0</td>\n",
       "      <td>POINT (603985 4842965)</td>\n",
       "    </tr>\n",
       "    <tr>\n",
       "      <th>118</th>\n",
       "      <td>603995.0</td>\n",
       "      <td>4842965.0</td>\n",
       "      <td>POINT (603995 4842965)</td>\n",
       "    </tr>\n",
       "    <tr>\n",
       "      <th>119</th>\n",
       "      <td>604005.0</td>\n",
       "      <td>4842965.0</td>\n",
       "      <td>POINT (604005 4842965)</td>\n",
       "    </tr>\n",
       "    <tr>\n",
       "      <th>120</th>\n",
       "      <td>604015.0</td>\n",
       "      <td>4842965.0</td>\n",
       "      <td>POINT (604015 4842965)</td>\n",
       "    </tr>\n",
       "  </tbody>\n",
       "</table>\n",
       "<p>121 rows × 3 columns</p>\n",
       "</div>"
      ],
      "text/plain": [
       "            x          y                geometry\n",
       "0    603915.0  4842865.0  POINT (603915 4842865)\n",
       "1    603925.0  4842865.0  POINT (603925 4842865)\n",
       "2    603935.0  4842865.0  POINT (603935 4842865)\n",
       "3    603945.0  4842865.0  POINT (603945 4842865)\n",
       "4    603955.0  4842865.0  POINT (603955 4842865)\n",
       "..        ...        ...                     ...\n",
       "116  603975.0  4842965.0  POINT (603975 4842965)\n",
       "117  603985.0  4842965.0  POINT (603985 4842965)\n",
       "118  603995.0  4842965.0  POINT (603995 4842965)\n",
       "119  604005.0  4842965.0  POINT (604005 4842965)\n",
       "120  604015.0  4842965.0  POINT (604015 4842965)\n",
       "\n",
       "[121 rows x 3 columns]"
      ]
     },
     "execution_count": 7,
     "metadata": {},
     "output_type": "execute_result"
    }
   ],
   "source": [
    "# Get the centroid of ROI\n",
    "centroid = gdf_ROI.centroid\n",
    "centroid_x = centroid.get_coordinates().iloc[0,0]\n",
    "centroid_y = centroid.get_coordinates().iloc[0,1]\n",
    "# Now we get all coordinates of pixels in our ROI\n",
    "# Get all the coordinates of pixel inside ROI\n",
    "arr_x = np.arange(centroid_x - roi_Distance / 2, centroid_x + roi_Distance / 2 + 10, 10)\n",
    "arr_y = np.arange(centroid_y - roi_Distance / 2, centroid_y + roi_Distance / 2 + 10, 10)\n",
    "arr_xy = np.empty(shape = (len(arr_x)*len(arr_y),2), dtype = int)\n",
    "z = 0\n",
    "for j in range(len(arr_y)):\n",
    "    for i in range(len(arr_x)):\n",
    "        arr_xy[z,0] = arr_x[i]\n",
    "        arr_xy[z,1] = arr_y[j]\n",
    "        z = z + 1\n",
    "# Create a new geodataframe\n",
    "df_Points = pd.DataFrame({\n",
    "    'x': arr_xy[:,0],\n",
    "    'y': arr_xy[:,1]\n",
    "})\n",
    "gdf_Points = gpd.GeoDataFrame(df_Points, geometry = gpd.points_from_xy(df_Points['x'], df_Points['y'], crs=EPSG_ROI))\n",
    "gdf_Points['x'] = gdf_Points.geometry.x\n",
    "gdf_Points['y'] = gdf_Points.geometry.y\n",
    "gdf_Points"
   ]
  },
  {
   "cell_type": "markdown",
   "metadata": {},
   "source": [
    "# Read Sentinel-2 L1C Image Collection"
   ]
  },
  {
   "cell_type": "code",
   "execution_count": 10,
   "metadata": {},
   "outputs": [
    {
     "data": {
      "text/plain": [
       "'There are 161 L1C images available!'"
      ]
     },
     "execution_count": 10,
     "metadata": {},
     "output_type": "execute_result"
    }
   ],
   "source": [
    "dataset_L1C = (\n",
    "    ee.ImageCollection('COPERNICUS/S2_HARMONIZED')\n",
    "    .filterBounds(roi)\n",
    "    .filterDate(date_Start,date_End)\n",
    "    # Pre-filter to get less cloudy granules.\n",
    "    .filter(ee.Filter.lt('CLOUDY_PIXEL_PERCENTAGE', 50))\n",
    "    .sort(\"system:time_start\")\n",
    ")\n",
    "imageList_L1C = dataset_L1C.toList(dataset_L1C.size())\n",
    "\"There are \" + str(dataset_L1C.size().getInfo()) + \" L1C images available!\""
   ]
  },
  {
   "cell_type": "code",
   "execution_count": 23,
   "metadata": {},
   "outputs": [],
   "source": [
    "idList_L1C = []\n",
    "for i in range(dataset_L1C.size().getInfo()):\n",
    "    temp_ID = dataset_L1C.getInfo()['features'][i]['id']\n",
    "    temp_ID = temp_ID.split('/')[-1]\n",
    "    idList_L1C.append(temp_ID)"
   ]
  },
  {
   "cell_type": "code",
   "execution_count": 24,
   "metadata": {},
   "outputs": [
    {
     "data": {
      "text/plain": [
       "'There are 158 L2A images available!'"
      ]
     },
     "execution_count": 24,
     "metadata": {},
     "output_type": "execute_result"
    }
   ],
   "source": [
    "dataset_L2A = (\n",
    "    ee.ImageCollection('COPERNICUS/S2_SR_HARMONIZED')\n",
    "    .filterBounds(roi)\n",
    "    .filterDate(date_Start,date_End)\n",
    "    # Pre-filter to get less cloudy granules.\n",
    "    .filter(ee.Filter.lt('CLOUDY_PIXEL_PERCENTAGE', 50))\n",
    "    .sort(\"system:time_start\")\n",
    ")\n",
    "imageList_L2A = dataset_L2A.toList(dataset_L2A.size())\n",
    "dataset_L2A.size().getInfo()\n",
    "\"There are \" + str(dataset_L2A.size().getInfo()) + \" L2A images available!\""
   ]
  },
  {
   "cell_type": "code",
   "execution_count": 25,
   "metadata": {},
   "outputs": [],
   "source": [
    "idList_L2A = []\n",
    "for i in range(dataset_L2A.size().getInfo()):\n",
    "    temp_ID = dataset_L2A.getInfo()['features'][i]['id']\n",
    "    temp_ID = temp_ID.split('/')[-1]\n",
    "    idList_L2A.append(temp_ID)"
   ]
  },
  {
   "cell_type": "code",
   "execution_count": 41,
   "metadata": {},
   "outputs": [
    {
     "data": {
      "text/plain": [
       "['20230809T101609_20230809T102204_T32TNP',\n",
       " '20230811T101031_20230811T101028_T32TPP',\n",
       " '20230811T101031_20230811T101028_T32TNP',\n",
       " '20230928T101719_20230928T102123_T32TPP',\n",
       " '20231003T101841_20231003T102549_T32TPP']"
      ]
     },
     "execution_count": 41,
     "metadata": {},
     "output_type": "execute_result"
    }
   ],
   "source": [
    "# Filter out the images that don't appear in both ImageCollections\n",
    "idList_L1C_Redun = []\n",
    "imageList_L1C_NoRedun = ee.List([])\n",
    "for i in range(len(idList_L1C)):\n",
    "    if idList_L1C[i] not in idList_L2A:\n",
    "        idList_L1C_Redun.append(idList_L1C[i])\n",
    "    else:\n",
    "        temp_Image = ee.Image(imageList_L1C.get(i))\n",
    "        imageList_L1C_NoRedun = imageList_L1C_NoRedun.add(temp_Image.getInfo())\n",
    "redunList_L2A = []\n",
    "imageList_L2A_NoRedun = ee.List([])\n",
    "for i in range(len(idList_L2A)):\n",
    "    if idList_L2A[i] not in idList_L1C:\n",
    "        redunList_L2A.append(idList_L2A[i])\n",
    "    else:\n",
    "        temp_Image = ee.Image(imageList_L2A.get(i))\n",
    "        imageList_L2A_NoRedun = imageList_L2A_NoRedun.add(temp_Image.getInfo())\n",
    "redunList_L2A"
   ]
  },
  {
   "cell_type": "code",
   "execution_count": 44,
   "metadata": {},
   "outputs": [
    {
     "data": {
      "text/plain": [
       "153"
      ]
     },
     "execution_count": 44,
     "metadata": {},
     "output_type": "execute_result"
    }
   ],
   "source": [
    "imageList_L1C_NoRedun.size().getInfo()"
   ]
  },
  {
   "cell_type": "code",
   "execution_count": 45,
   "metadata": {},
   "outputs": [
    {
     "data": {
      "text/plain": [
       "153"
      ]
     },
     "execution_count": 45,
     "metadata": {},
     "output_type": "execute_result"
    }
   ],
   "source": [
    "imageList_L2A_NoRedun.size().getInfo()"
   ]
  },
  {
   "cell_type": "code",
   "execution_count": null,
   "metadata": {},
   "outputs": [],
   "source": [
    "image_2 = ee.Image(imageList_L1C.get(0))\n",
    "image_2.getInfo()['id']"
   ]
  }
 ],
 "metadata": {
  "kernelspec": {
   "display_name": "DISC",
   "language": "python",
   "name": "python3"
  },
  "language_info": {
   "codemirror_mode": {
    "name": "ipython",
    "version": 3
   },
   "file_extension": ".py",
   "mimetype": "text/x-python",
   "name": "python",
   "nbconvert_exporter": "python",
   "pygments_lexer": "ipython3",
   "version": "3.12.4"
  }
 },
 "nbformat": 4,
 "nbformat_minor": 2
}
