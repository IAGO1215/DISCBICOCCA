{
 "cells": [
  {
   "cell_type": "code",
   "execution_count": 1,
   "metadata": {},
   "outputs": [],
   "source": [
    "import os\n",
    "import pandas as pd"
   ]
  },
  {
   "cell_type": "code",
   "execution_count": 2,
   "metadata": {},
   "outputs": [],
   "source": [
    "cwd = \"c:\\\\Users\\\\m1865\\\\Desktop\\\\DISC\"\n",
    "cwd_Images_Raw = cwd + \"\\\\Sentinel-2 Images Raw\"\n",
    "cwd_Images_Processed = cwd + \"\\\\Sentinel-2 Images Processed\""
   ]
  },
  {
   "cell_type": "code",
   "execution_count": 3,
   "metadata": {},
   "outputs": [],
   "source": [
    "df_Site = pd.read_csv(cwd + \"//Site.csv\")"
   ]
  },
  {
   "cell_type": "code",
   "execution_count": 4,
   "metadata": {},
   "outputs": [],
   "source": [
    "for i in range(df_Site.shape[0]):\n",
    "    if not os.path.exists(cwd_Images_Raw + \"\\\\\" + df_Site.loc[i,\"Site\"]):\n",
    "        os.makedirs(cwd_Images_Raw + \"\\\\\" + df_Site.loc[i,\"Site\"])\n",
    "        os.makedirs(cwd_Images_Raw + \"\\\\\" + df_Site.loc[i,\"Site\"] + \"\\\\L2A\")\n",
    "        os.makedirs(cwd_Images_Raw + \"\\\\\" + df_Site.loc[i,\"Site\"] + \"\\\\L1C\")\n",
    "    if not os.path.exists(cwd_Images_Processed + \"\\\\\" + df_Site.loc[i,\"Site\"]): \n",
    "        os.makedirs(cwd_Images_Processed + \"\\\\\" + df_Site.loc[i,\"Site\"])"
   ]
  }
 ],
 "metadata": {
  "kernelspec": {
   "display_name": "DISC",
   "language": "python",
   "name": "python3"
  },
  "language_info": {
   "codemirror_mode": {
    "name": "ipython",
    "version": 3
   },
   "file_extension": ".py",
   "mimetype": "text/x-python",
   "name": "python",
   "nbconvert_exporter": "python",
   "pygments_lexer": "ipython3",
   "version": "3.12.4"
  }
 },
 "nbformat": 4,
 "nbformat_minor": 2
}
