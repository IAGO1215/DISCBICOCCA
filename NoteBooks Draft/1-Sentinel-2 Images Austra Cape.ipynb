{
 "cells": [
  {
   "cell_type": "markdown",
   "metadata": {},
   "source": [
    "This notebook shows the process to extract the ROI (1.35km x 1.35km squared image centered on the site) from Sentinel-2 raw images. Meanwhile the calculation of NIRV reflectance is calculated and therefore the output image will only contain the values of NIRV reflactance. "
   ]
  },
  {
   "cell_type": "code",
   "execution_count": 2,
   "metadata": {},
   "outputs": [],
   "source": [
    "import os\n",
    "# import math\n",
    "import numpy as np\n",
    "import shapely as shp\n",
    "import pandas as pd\n",
    "import geopandas as gpd\n",
    "import matplotlib.pyplot as plt\n",
    "import rasterio as rio\n",
    "import rasterio.mask"
   ]
  },
  {
   "cell_type": "code",
   "execution_count": 3,
   "metadata": {},
   "outputs": [],
   "source": [
    "cwd = \"c:\\\\Users\\\\m1865\\\\Desktop\\\\DISC\"\n",
    "cwd_Images_Raw = cwd + \"\\\\Sentinel-2 Images Raw (Replication)\"\n",
    "cwd_Images_Processed = cwd + \"\\\\Sentinel-2 Images Processed (Replication)\""
   ]
  },
  {
   "cell_type": "markdown",
   "metadata": {},
   "source": [
    "### 1. Read all the Sentinel-2 raw images"
   ]
  },
  {
   "cell_type": "code",
   "execution_count": 4,
   "metadata": {},
   "outputs": [],
   "source": [
    "# Get the names of the folders in the raw image directory\n",
    "list_Raw_Name = ['Australia - Cape']"
   ]
  },
  {
   "cell_type": "code",
   "execution_count": 5,
   "metadata": {},
   "outputs": [
    {
     "data": {
      "text/plain": [
       "['c:\\\\Users\\\\m1865\\\\Desktop\\\\DISC\\\\Sentinel-2 Images Raw (Replication)\\\\Australia - Cape\\\\L2A\\\\S2A_MSIL2A_20161009T003952_N0500_R059_T55LCC_20230922T143431.SAFE\\\\GRANULE\\\\L2A_T55LCC_A006777_20161009T003951\\\\IMG_DATA\\\\R10m\\\\T55LCC_20161009T003952_B02_10m.jp2',\n",
       " 'c:\\\\Users\\\\m1865\\\\Desktop\\\\DISC\\\\Sentinel-2 Images Raw (Replication)\\\\Australia - Cape\\\\L2A\\\\S2A_MSIL2A_20161009T003952_N0500_R059_T55LCC_20230922T143431.SAFE\\\\GRANULE\\\\L2A_T55LCC_A006777_20161009T003951\\\\IMG_DATA\\\\R10m\\\\T55LCC_20161009T003952_B03_10m.jp2',\n",
       " 'c:\\\\Users\\\\m1865\\\\Desktop\\\\DISC\\\\Sentinel-2 Images Raw (Replication)\\\\Australia - Cape\\\\L2A\\\\S2A_MSIL2A_20161009T003952_N0500_R059_T55LCC_20230922T143431.SAFE\\\\GRANULE\\\\L2A_T55LCC_A006777_20161009T003951\\\\IMG_DATA\\\\R10m\\\\T55LCC_20161009T003952_B04_10m.jp2',\n",
       " 'c:\\\\Users\\\\m1865\\\\Desktop\\\\DISC\\\\Sentinel-2 Images Raw (Replication)\\\\Australia - Cape\\\\L2A\\\\S2A_MSIL2A_20161009T003952_N0500_R059_T55LCC_20230922T143431.SAFE\\\\GRANULE\\\\L2A_T55LCC_A006777_20161009T003951\\\\IMG_DATA\\\\R10m\\\\T55LCC_20161009T003952_B08_10m.jp2']"
      ]
     },
     "execution_count": 5,
     "metadata": {},
     "output_type": "execute_result"
    }
   ],
   "source": [
    "# Get paths to all the 10m-resolution .jp2 files\n",
    "list_Raw_10m = []\n",
    "for raw_Name in list_Raw_Name:\n",
    "    # Create a temporary list to store the paths to all the 10m-resolution .jp2\n",
    "    temp_List = []\n",
    "    # Find all the files under the directory and filter out those irrelevant\n",
    "    for path, subdirs, files in os.walk(cwd_Images_Raw + \"\\\\\" + raw_Name + \"\\\\L2A\"):\n",
    "        for name in files:\n",
    "            temp = os.path.join(path, name)\n",
    "            if temp[-3:] == 'jp2' and \"B0\" in temp and \"10m\" in temp:\n",
    "                # print(temp)\n",
    "                temp_List.append(temp)\n",
    "    list_Raw_10m.append(temp_List)\n",
    "del raw_Name, temp_List\n",
    "list_Raw_10m[0]"
   ]
  },
  {
   "cell_type": "code",
   "execution_count": 6,
   "metadata": {},
   "outputs": [
    {
     "data": {
      "text/plain": [
       "<open DatasetReader name='c:/Users/m1865/Desktop/DISC/Sentinel-2 Images Raw (Replication)/Australia - Cape/L2A/S2A_MSIL2A_20161009T003952_N0500_R059_T55LCC_20230922T143431.SAFE/GRANULE/L2A_T55LCC_A006777_20161009T003951/IMG_DATA/R10m/T55LCC_20161009T003952_B04_10m.jp2' mode='r'>"
      ]
     },
     "execution_count": 6,
     "metadata": {},
     "output_type": "execute_result"
    }
   ],
   "source": [
    "# Read them via rasterio package\n",
    "list_Image_10m = []\n",
    "for item in list_Raw_10m[0]:\n",
    "    temp = rio.open(item)\n",
    "    list_Image_10m.append(temp)\n",
    "list_Image_10m[2]"
   ]
  },
  {
   "cell_type": "code",
   "execution_count": 7,
   "metadata": {},
   "outputs": [
    {
     "data": {
      "text/plain": [
       "array([[2710, 2712, 2766, ..., 1737, 1588, 1636],\n",
       "       [2818, 2890, 2852, ..., 1672, 1542, 1604],\n",
       "       [2934, 2982, 2846, ..., 1620, 1558, 1588],\n",
       "       ...,\n",
       "       [1794, 1720, 1620, ...,    0,    0,    0],\n",
       "       [1718, 1652, 1670, ...,    0,    0,    0],\n",
       "       [1766, 1697, 1773, ...,    0,    0,    0]], dtype=uint16)"
      ]
     },
     "execution_count": 7,
     "metadata": {},
     "output_type": "execute_result"
    }
   ],
   "source": [
    "# Get the 2d array by reading the band\n",
    "list_Band_10m = []\n",
    "for item in list_Image_10m:\n",
    "    temp = item.read(1)\n",
    "    list_Band_10m.append(temp)\n",
    "list_Band_10m[2]"
   ]
  },
  {
   "cell_type": "markdown",
   "metadata": {},
   "source": [
    "### 2. Read sites information"
   ]
  },
  {
   "cell_type": "code",
   "execution_count": 8,
   "metadata": {},
   "outputs": [
    {
     "data": {
      "text/html": [
       "<div>\n",
       "<style scoped>\n",
       "    .dataframe tbody tr th:only-of-type {\n",
       "        vertical-align: middle;\n",
       "    }\n",
       "\n",
       "    .dataframe tbody tr th {\n",
       "        vertical-align: top;\n",
       "    }\n",
       "\n",
       "    .dataframe thead th {\n",
       "        text-align: right;\n",
       "    }\n",
       "</style>\n",
       "<table border=\"1\" class=\"dataframe\">\n",
       "  <thead>\n",
       "    <tr style=\"text-align: right;\">\n",
       "      <th></th>\n",
       "      <th>Site</th>\n",
       "      <th>Latitude</th>\n",
       "      <th>Longitude</th>\n",
       "    </tr>\n",
       "  </thead>\n",
       "  <tbody>\n",
       "    <tr>\n",
       "      <th>0</th>\n",
       "      <td>Cape</td>\n",
       "      <td>-16.11</td>\n",
       "      <td>145.45</td>\n",
       "    </tr>\n",
       "  </tbody>\n",
       "</table>\n",
       "</div>"
      ],
      "text/plain": [
       "   Site  Latitude  Longitude\n",
       "0  Cape    -16.11     145.45"
      ]
     },
     "execution_count": 8,
     "metadata": {},
     "output_type": "execute_result"
    }
   ],
   "source": [
    "df_Sites = pd.DataFrame({\n",
    "    \"Site\": ['Cape'],\n",
    "    \"Latitude\": [-16.11],\n",
    "    \"Longitude\": [145.45]\n",
    "})\n",
    "df_Sites"
   ]
  },
  {
   "cell_type": "markdown",
   "metadata": {},
   "source": [
    "### 3. Create a shapefile of the site Havard"
   ]
  },
  {
   "cell_type": "code",
   "execution_count": 9,
   "metadata": {},
   "outputs": [
    {
     "data": {
      "text/html": [
       "<div>\n",
       "<style scoped>\n",
       "    .dataframe tbody tr th:only-of-type {\n",
       "        vertical-align: middle;\n",
       "    }\n",
       "\n",
       "    .dataframe tbody tr th {\n",
       "        vertical-align: top;\n",
       "    }\n",
       "\n",
       "    .dataframe thead th {\n",
       "        text-align: right;\n",
       "    }\n",
       "</style>\n",
       "<table border=\"1\" class=\"dataframe\">\n",
       "  <thead>\n",
       "    <tr style=\"text-align: right;\">\n",
       "      <th></th>\n",
       "      <th>Site</th>\n",
       "      <th>Latitude</th>\n",
       "      <th>Longitude</th>\n",
       "      <th>geometry</th>\n",
       "    </tr>\n",
       "  </thead>\n",
       "  <tbody>\n",
       "    <tr>\n",
       "      <th>0</th>\n",
       "      <td>Cape</td>\n",
       "      <td>-16.11</td>\n",
       "      <td>145.45</td>\n",
       "      <td>POINT (145.45000 -16.11000)</td>\n",
       "    </tr>\n",
       "  </tbody>\n",
       "</table>\n",
       "</div>"
      ],
      "text/plain": [
       "   Site  Latitude  Longitude                     geometry\n",
       "0  Cape    -16.11     145.45  POINT (145.45000 -16.11000)"
      ]
     },
     "execution_count": 9,
     "metadata": {},
     "output_type": "execute_result"
    }
   ],
   "source": [
    "# Create a point shapefile based on the site, using Lon-Lat\n",
    "gdf_4326 = gpd.GeoDataFrame(\n",
    "    df_Sites,\n",
    "    geometry = gpd.points_from_xy(df_Sites['Longitude'], df_Sites['Latitude']),\n",
    "    crs = \"EPSG:4326\"\n",
    ")\n",
    "gdf_4326"
   ]
  },
  {
   "cell_type": "code",
   "execution_count": 10,
   "metadata": {},
   "outputs": [
    {
     "data": {
      "text/plain": [
       "CRS.from_epsg(32755)"
      ]
     },
     "execution_count": 10,
     "metadata": {},
     "output_type": "execute_result"
    }
   ],
   "source": [
    "# Check the crs of Sentinel-2 images\n",
    "list_Image_10m[2].crs"
   ]
  },
  {
   "cell_type": "code",
   "execution_count": 11,
   "metadata": {},
   "outputs": [],
   "source": [
    "# In case the convertion of CRS of a raster by using rasterio\n",
    "# from rasterio.crs import CRS\n",
    "# raster_new = raster.rio.reproject(CRS.from_string('EPSG:4326'))"
   ]
  },
  {
   "cell_type": "code",
   "execution_count": 12,
   "metadata": {},
   "outputs": [
    {
     "data": {
      "text/html": [
       "<div>\n",
       "<style scoped>\n",
       "    .dataframe tbody tr th:only-of-type {\n",
       "        vertical-align: middle;\n",
       "    }\n",
       "\n",
       "    .dataframe tbody tr th {\n",
       "        vertical-align: top;\n",
       "    }\n",
       "\n",
       "    .dataframe thead th {\n",
       "        text-align: right;\n",
       "    }\n",
       "</style>\n",
       "<table border=\"1\" class=\"dataframe\">\n",
       "  <thead>\n",
       "    <tr style=\"text-align: right;\">\n",
       "      <th></th>\n",
       "      <th>Site</th>\n",
       "      <th>Latitude</th>\n",
       "      <th>Longitude</th>\n",
       "      <th>geometry</th>\n",
       "    </tr>\n",
       "  </thead>\n",
       "  <tbody>\n",
       "    <tr>\n",
       "      <th>0</th>\n",
       "      <td>Cape</td>\n",
       "      <td>-16.11</td>\n",
       "      <td>145.45</td>\n",
       "      <td>POINT (334236.876 8218274.705)</td>\n",
       "    </tr>\n",
       "  </tbody>\n",
       "</table>\n",
       "</div>"
      ],
      "text/plain": [
       "   Site  Latitude  Longitude                        geometry\n",
       "0  Cape    -16.11     145.45  POINT (334236.876 8218274.705)"
      ]
     },
     "execution_count": 12,
     "metadata": {},
     "output_type": "execute_result"
    }
   ],
   "source": [
    "# Converting Lon-Lat to UTM coordinates!\n",
    "# Attention that the CRS in USA for meter unit is 32618!!! Not 32632!!! \n",
    "gdf_32755 = gdf_4326.copy()\n",
    "gdf_32755 = gdf_32755.to_crs('EPSG:32755')\n",
    "gdf_32755"
   ]
  },
  {
   "cell_type": "code",
   "execution_count": 13,
   "metadata": {},
   "outputs": [],
   "source": [
    "# gdf_4326.to_file(cwd_Images_Processed + \"\\\\Havard\\\\shp_Havard_4326.shp\")\n",
    "# gdf_4326.to_file(cwd_Images_Processed + \"\\\\Havard\\\\shp_Havard_4326.json\", driver = \"GeoJSON\")\n",
    "# gdf_32618.to_file(cwd_Images_Processed + \"\\\\Havard\\\\shp_Havard_32618.shp\")\n",
    "# gdf_32618.to_file(cwd_Images_Processed + \"\\\\Havard\\\\shp_Havard_32618.json\", driver = \"GeoJSON\")"
   ]
  },
  {
   "cell_type": "markdown",
   "metadata": {},
   "source": [
    "### 4. Assign the site to a pixel, and then create a 1000m2, 1.5km2 and 10000m2 square geodataframe"
   ]
  },
  {
   "cell_type": "code",
   "execution_count": 14,
   "metadata": {},
   "outputs": [
    {
     "data": {
      "text/plain": [
       "BoundingBox(left=300000.0, bottom=8190220.0, right=409800.0, top=8300020.0)"
      ]
     },
     "execution_count": 14,
     "metadata": {},
     "output_type": "execute_result"
    }
   ],
   "source": [
    "# Check the bounds of Sentinel-2 images first\n",
    "list_Image_10m[2].bounds"
   ]
  },
  {
   "cell_type": "code",
   "execution_count": 15,
   "metadata": {},
   "outputs": [
    {
     "name": "stdout",
     "output_type": "stream",
     "text": [
      "Site X, Y: 334236.87638385384,8218274.705050469\n"
     ]
    }
   ],
   "source": [
    "# First we retrieve the x, y coordinate of our site\n",
    "site_x = gdf_32755.geometry.x.values[0]\n",
    "site_y = gdf_32755.geometry.y.values[0]\n",
    "print(\"Site X, Y: \" + str(site_x) + \",\" + str(site_y))"
   ]
  },
  {
   "cell_type": "code",
   "execution_count": 16,
   "metadata": {},
   "outputs": [
    {
     "name": "stdout",
     "output_type": "stream",
     "text": [
      "Site falls on the pixel: 8174, 3423\n"
     ]
    }
   ],
   "source": [
    "# Then we get the row, col of our site in the raster, so that we know the pixel the site belongs to\n",
    "site_row, site_col = list_Image_10m[2].index(site_x, site_y)\n",
    "print(\"Site falls on the pixel: \" + str(site_row) + \", \" + str(site_col))"
   ]
  },
  {
   "cell_type": "code",
   "execution_count": 17,
   "metadata": {},
   "outputs": [
    {
     "name": "stdout",
     "output_type": "stream",
     "text": [
      "The spatial coordinates of the (center) pixel which the site falls on is: 334235.0, 8218275.0\n"
     ]
    }
   ],
   "source": [
    "# Now we get the spatial coordinates of that pixel (coordinates of its center)\n",
    "site_pixel_x, site_pixel_y = list_Image_10m[2].xy(site_row, site_col)\n",
    "print(\"The spatial coordinates of the (center) pixel which the site falls on is: \" + str(site_pixel_x) + \", \" + str(site_pixel_y))"
   ]
  },
  {
   "cell_type": "code",
   "execution_count": 31,
   "metadata": {},
   "outputs": [],
   "source": [
    "# Get the coordinates of the four corners\n",
    "# 500m\n",
    "site_x_left_500m = site_pixel_x - 255\n",
    "site_x_right_500m = site_pixel_x + 255\n",
    "site_y_top_500m = site_pixel_y + 255\n",
    "site_y_bottom_500m = site_pixel_y - 255\n",
    "# 1000m\n",
    "site_x_left_1000m = site_pixel_x - 505\n",
    "site_x_right_1000m = site_pixel_x + 505\n",
    "site_y_top_1000m = site_pixel_y + 505\n",
    "site_y_bottom_1000m = site_pixel_y - 505\n",
    "# 6000m\n",
    "site_x_left_6000m = site_pixel_x - 3005\n",
    "site_x_right_6000m = site_pixel_x + 3005\n",
    "site_y_top_6000m = site_pixel_y + 3005\n",
    "site_y_bottom_6000m = site_pixel_y - 3005\n",
    "# 10000m\n",
    "site_x_left_10000m = site_pixel_x - 5005\n",
    "site_x_right_10000m = site_pixel_x + 5005\n",
    "site_y_top_10000m = site_pixel_y + 5005\n",
    "site_y_bottom_10000m = site_pixel_y - 5005"
   ]
  },
  {
   "cell_type": "code",
   "execution_count": 32,
   "metadata": {},
   "outputs": [
    {
     "data": {
      "text/plain": [
       "260100.0"
      ]
     },
     "execution_count": 32,
     "metadata": {},
     "output_type": "execute_result"
    }
   ],
   "source": [
    "# Now we need to form a 1-km square shapefile, which will be the internal area of which we will evaluate the spatial representativeness. \n",
    "shp_500m = shp.box(site_x_left_500m, site_y_bottom_500m, site_x_right_500m, site_y_top_500m)\n",
    "gdf_500m = gpd.GeoDataFrame(\n",
    "    [1],\n",
    "    geometry=[shp_500m],\n",
    "    crs = \"EPSG:32755\"\n",
    ")\n",
    "shp_500m.area"
   ]
  },
  {
   "cell_type": "code",
   "execution_count": 33,
   "metadata": {},
   "outputs": [
    {
     "data": {
      "text/plain": [
       "0    1020100.0\n",
       "dtype: float64"
      ]
     },
     "execution_count": 33,
     "metadata": {},
     "output_type": "execute_result"
    }
   ],
   "source": [
    "# Now we need to form a 1-km square shapefile, which will be the internal area of which we will evaluate the spatial representativeness. \n",
    "shp_1000m = shp.box(site_x_left_1000m, site_y_bottom_1000m, site_x_right_1000m, site_y_top_1000m)\n",
    "gdf_1000m = gpd.GeoDataFrame(\n",
    "    [1],\n",
    "    geometry=[shp_1000m],\n",
    "    crs = \"EPSG:32755\"\n",
    ")\n",
    "gdf_1000m.area"
   ]
  },
  {
   "cell_type": "code",
   "execution_count": 34,
   "metadata": {},
   "outputs": [],
   "source": [
    "shp_6000m = shp.box(site_x_left_6000m, site_y_bottom_6000m, site_x_right_6000m, site_y_top_6000m)\n",
    "gdf_6000m = gpd.GeoDataFrame(\n",
    "    [1],\n",
    "    geometry=[shp_6000m],\n",
    "    crs = \"EPSG:32755\"\n",
    ")\n",
    "shp_10000m = shp.box(site_x_left_10000m, site_y_bottom_10000m, site_x_right_10000m, site_y_top_10000m)\n",
    "gdf_10000m = gpd.GeoDataFrame(\n",
    "    [1],\n",
    "    geometry=[shp_10000m],\n",
    "    crs = \"EPSG:32755\"\n",
    ")"
   ]
  },
  {
   "cell_type": "code",
   "execution_count": 35,
   "metadata": {},
   "outputs": [
    {
     "data": {
      "text/plain": [
       "Text(0.5, 1.0, '1000m Square (Internal Area)')"
      ]
     },
     "execution_count": 35,
     "metadata": {},
     "output_type": "execute_result"
    },
    {
     "data": {
      "image/png": "[encoded data removed]",
      "text/plain": [
       "<Figure size 1000x1000 with 1 Axes>"
      ]
     },
     "metadata": {},
     "output_type": "display_data"
    }
   ],
   "source": [
    "# Plot to check!\n",
    "fig, ax = plt.subplots(figsize = (10,10))\n",
    "gdf_1000m.plot(ax = ax)\n",
    "gdf_32755.plot(ax = ax, color = 'red', markersize = 5)\n",
    "ax.set_xticks(np.arange(site_x_left_1000m, site_x_right_1000m + 10, 10))\n",
    "ax.set_yticks(np.arange(site_y_bottom_1000m, site_y_top_1000m + 10, 10))\n",
    "ax.set_xticklabels([tick if tick == site_x_left_1000m or tick == site_x_right_1000m else None for tick in ax.get_xticks()])\n",
    "ax.set_yticklabels([tick if tick == site_y_bottom_1000m or tick == site_y_top_1000m else None for tick in ax.get_yticks()])\n",
    "ax.grid()\n",
    "ax.set_title(\"1000m Square (Internal Area)\")"
   ]
  },
  {
   "cell_type": "markdown",
   "metadata": {},
   "source": [
    "### 5. Calculate surface albedo! \n",
    "0.726b3 – 0.322b3^2 – 0.015b8 + 0.581b8^2"
   ]
  },
  {
   "cell_type": "code",
   "execution_count": 36,
   "metadata": {},
   "outputs": [
    {
     "data": {
      "text/plain": [
       "array([[0.32116239, 0.32814467, 0.32473455, ..., 0.12599204, 0.12199721,\n",
       "        0.12834762],\n",
       "       [0.33794863, 0.3382678 , 0.32441097, ..., 0.1181191 , 0.11533785,\n",
       "        0.12897293],\n",
       "       [0.35023973, 0.34022488, 0.32857514, ..., 0.1226081 , 0.1180026 ,\n",
       "        0.12476519],\n",
       "       ...,\n",
       "       [0.1743786 , 0.16194022, 0.15353991, ..., 0.        , 0.        ,\n",
       "        0.        ],\n",
       "       [0.16899046, 0.16784846, 0.16065049, ..., 0.        , 0.        ,\n",
       "        0.        ],\n",
       "       [0.16093662, 0.16400248, 0.16473519, ..., 0.        , 0.        ,\n",
       "        0.        ]])"
      ]
     },
     "execution_count": 36,
     "metadata": {},
     "output_type": "execute_result"
    }
   ],
   "source": [
    "Albedo = 0.726 * (list_Band_10m[1].astype(float) / 10000) - 0.322 * ((list_Band_10m[1].astype(float) / 10000) ** 2) - 0.015 * (list_Band_10m[3].astype(float) / 10000) + 0.581 * ((list_Band_10m[3].astype(float) / 10000) ** 2)\n",
    "Albedo"
   ]
  },
  {
   "cell_type": "code",
   "execution_count": 37,
   "metadata": {},
   "outputs": [],
   "source": [
    "src = list_Image_10m[0]\n",
    "out_meta = src.meta\n",
    "out_meta.update({\n",
    "    \"driver\": \"GTiff\",\n",
    "    \"dtype\": 'float64'\n",
    "})\n",
    "with rio.open(cwd_Images_Processed + \"\\\\Australia\\\\Albedo Cape.tif\", 'w', **out_meta) as dest:\n",
    "    dest.write(Albedo, 1)"
   ]
  },
  {
   "cell_type": "markdown",
   "metadata": {},
   "source": [
    "### 6. Clip to the extent of 1000m, 6000m and 10000m"
   ]
  },
  {
   "cell_type": "code",
   "execution_count": 38,
   "metadata": {},
   "outputs": [
    {
     "ename": "CPLE_AppDefinedError",
     "evalue": "Deleting c:/Users/m1865/Desktop/DISC/Sentinel-2 Images Processed (Replication)/Australia/Albedo Cape 1000m.tif failed: Permission denied",
     "output_type": "error",
     "traceback": [
      "\u001b[1;31m---------------------------------------------------------------------------\u001b[0m",
      "\u001b[1;31mCPLE_AppDefinedError\u001b[0m                      Traceback (most recent call last)",
      "Cell \u001b[1;32mIn[38], line 9\u001b[0m\n\u001b[0;32m      3\u001b[0m out_meta \u001b[38;5;241m=\u001b[39m src\u001b[38;5;241m.\u001b[39mmeta\n\u001b[0;32m      4\u001b[0m out_meta\u001b[38;5;241m.\u001b[39mupdate({\u001b[38;5;124m\"\u001b[39m\u001b[38;5;124mdriver\u001b[39m\u001b[38;5;124m\"\u001b[39m: \u001b[38;5;124m\"\u001b[39m\u001b[38;5;124mGTiff\u001b[39m\u001b[38;5;124m\"\u001b[39m,\n\u001b[0;32m      5\u001b[0m                  \u001b[38;5;124m\"\u001b[39m\u001b[38;5;124mheight\u001b[39m\u001b[38;5;124m\"\u001b[39m: out_image\u001b[38;5;241m.\u001b[39mshape[\u001b[38;5;241m1\u001b[39m],\n\u001b[0;32m      6\u001b[0m                  \u001b[38;5;124m\"\u001b[39m\u001b[38;5;124mwidth\u001b[39m\u001b[38;5;124m\"\u001b[39m: out_image\u001b[38;5;241m.\u001b[39mshape[\u001b[38;5;241m2\u001b[39m],\n\u001b[0;32m      7\u001b[0m                  \u001b[38;5;124m\"\u001b[39m\u001b[38;5;124mtransform\u001b[39m\u001b[38;5;124m\"\u001b[39m: out_transform})\n\u001b[1;32m----> 9\u001b[0m \u001b[38;5;28;01mwith\u001b[39;00m \u001b[43mrio\u001b[49m\u001b[38;5;241;43m.\u001b[39;49m\u001b[43mopen\u001b[49m\u001b[43m(\u001b[49m\u001b[43mcwd_Images_Processed\u001b[49m\u001b[43m \u001b[49m\u001b[38;5;241;43m+\u001b[39;49m\u001b[43m \u001b[49m\u001b[38;5;124;43m\"\u001b[39;49m\u001b[38;5;130;43;01m\\\\\u001b[39;49;00m\u001b[38;5;124;43mAustralia\u001b[39;49m\u001b[38;5;130;43;01m\\\\\u001b[39;49;00m\u001b[38;5;124;43mAlbedo Cape 1000m.tif\u001b[39;49m\u001b[38;5;124;43m\"\u001b[39;49m\u001b[43m,\u001b[49m\u001b[43m \u001b[49m\u001b[38;5;124;43m\"\u001b[39;49m\u001b[38;5;124;43mw\u001b[39;49m\u001b[38;5;124;43m\"\u001b[39;49m\u001b[43m,\u001b[49m\u001b[43m \u001b[49m\u001b[38;5;241;43m*\u001b[39;49m\u001b[38;5;241;43m*\u001b[39;49m\u001b[43mout_meta\u001b[49m\u001b[43m)\u001b[49m \u001b[38;5;28;01mas\u001b[39;00m dest:\n\u001b[0;32m     10\u001b[0m     dest\u001b[38;5;241m.\u001b[39mwrite(out_image)\n",
      "File \u001b[1;32mc:\\ProgramData\\Anaconda3\\envs\\DISC\\Lib\\site-packages\\rasterio\\env.py:451\u001b[0m, in \u001b[0;36mensure_env_with_credentials.<locals>.wrapper\u001b[1;34m(*args, **kwds)\u001b[0m\n\u001b[0;32m    448\u001b[0m     session \u001b[38;5;241m=\u001b[39m DummySession()\n\u001b[0;32m    450\u001b[0m \u001b[38;5;28;01mwith\u001b[39;00m env_ctor(session\u001b[38;5;241m=\u001b[39msession):\n\u001b[1;32m--> 451\u001b[0m     \u001b[38;5;28;01mreturn\u001b[39;00m \u001b[43mf\u001b[49m\u001b[43m(\u001b[49m\u001b[38;5;241;43m*\u001b[39;49m\u001b[43margs\u001b[49m\u001b[43m,\u001b[49m\u001b[43m \u001b[49m\u001b[38;5;241;43m*\u001b[39;49m\u001b[38;5;241;43m*\u001b[39;49m\u001b[43mkwds\u001b[49m\u001b[43m)\u001b[49m\n",
      "File \u001b[1;32mc:\\ProgramData\\Anaconda3\\envs\\DISC\\Lib\\site-packages\\rasterio\\__init__.py:327\u001b[0m, in \u001b[0;36mopen\u001b[1;34m(fp, mode, driver, width, height, count, crs, transform, dtype, nodata, sharing, **kwargs)\u001b[0m\n\u001b[0;32m    325\u001b[0m writer \u001b[38;5;241m=\u001b[39m get_writer_for_driver(driver)\n\u001b[0;32m    326\u001b[0m \u001b[38;5;28;01mif\u001b[39;00m writer \u001b[38;5;129;01mis\u001b[39;00m \u001b[38;5;129;01mnot\u001b[39;00m \u001b[38;5;28;01mNone\u001b[39;00m:\n\u001b[1;32m--> 327\u001b[0m     dataset \u001b[38;5;241m=\u001b[39m \u001b[43mwriter\u001b[49m\u001b[43m(\u001b[49m\n\u001b[0;32m    328\u001b[0m \u001b[43m        \u001b[49m\u001b[43mpath\u001b[49m\u001b[43m,\u001b[49m\n\u001b[0;32m    329\u001b[0m \u001b[43m        \u001b[49m\u001b[43mmode\u001b[49m\u001b[43m,\u001b[49m\n\u001b[0;32m    330\u001b[0m \u001b[43m        \u001b[49m\u001b[43mdriver\u001b[49m\u001b[38;5;241;43m=\u001b[39;49m\u001b[43mdriver\u001b[49m\u001b[43m,\u001b[49m\n\u001b[0;32m    331\u001b[0m \u001b[43m        \u001b[49m\u001b[43mwidth\u001b[49m\u001b[38;5;241;43m=\u001b[39;49m\u001b[43mwidth\u001b[49m\u001b[43m,\u001b[49m\n\u001b[0;32m    332\u001b[0m \u001b[43m        \u001b[49m\u001b[43mheight\u001b[49m\u001b[38;5;241;43m=\u001b[39;49m\u001b[43mheight\u001b[49m\u001b[43m,\u001b[49m\n\u001b[0;32m    333\u001b[0m \u001b[43m        \u001b[49m\u001b[43mcount\u001b[49m\u001b[38;5;241;43m=\u001b[39;49m\u001b[43mcount\u001b[49m\u001b[43m,\u001b[49m\n\u001b[0;32m    334\u001b[0m \u001b[43m        \u001b[49m\u001b[43mcrs\u001b[49m\u001b[38;5;241;43m=\u001b[39;49m\u001b[43mcrs\u001b[49m\u001b[43m,\u001b[49m\n\u001b[0;32m    335\u001b[0m \u001b[43m        \u001b[49m\u001b[43mtransform\u001b[49m\u001b[38;5;241;43m=\u001b[39;49m\u001b[43mtransform\u001b[49m\u001b[43m,\u001b[49m\n\u001b[0;32m    336\u001b[0m \u001b[43m        \u001b[49m\u001b[43mdtype\u001b[49m\u001b[38;5;241;43m=\u001b[39;49m\u001b[43mdtype\u001b[49m\u001b[43m,\u001b[49m\n\u001b[0;32m    337\u001b[0m \u001b[43m        \u001b[49m\u001b[43mnodata\u001b[49m\u001b[38;5;241;43m=\u001b[39;49m\u001b[43mnodata\u001b[49m\u001b[43m,\u001b[49m\n\u001b[0;32m    338\u001b[0m \u001b[43m        \u001b[49m\u001b[43msharing\u001b[49m\u001b[38;5;241;43m=\u001b[39;49m\u001b[43msharing\u001b[49m\u001b[43m,\u001b[49m\n\u001b[0;32m    339\u001b[0m \u001b[43m        \u001b[49m\u001b[38;5;241;43m*\u001b[39;49m\u001b[38;5;241;43m*\u001b[39;49m\u001b[43mkwargs\u001b[49m\n\u001b[0;32m    340\u001b[0m \u001b[43m    \u001b[49m\u001b[43m)\u001b[49m\n\u001b[0;32m    341\u001b[0m \u001b[38;5;28;01melse\u001b[39;00m:\n\u001b[0;32m    342\u001b[0m     \u001b[38;5;28;01mraise\u001b[39;00m DriverCapabilityError(\n\u001b[0;32m    343\u001b[0m         \u001b[38;5;124m\"\u001b[39m\u001b[38;5;124mWriter does not exist for driver: \u001b[39m\u001b[38;5;132;01m%s\u001b[39;00m\u001b[38;5;124m\"\u001b[39m \u001b[38;5;241m%\u001b[39m \u001b[38;5;28mstr\u001b[39m(driver)\n\u001b[0;32m    344\u001b[0m     )\n",
      "File \u001b[1;32mrasterio\\\\_io.pyx:1466\u001b[0m, in \u001b[0;36mrasterio._io.DatasetWriterBase.__init__\u001b[1;34m()\u001b[0m\n",
      "File \u001b[1;32mrasterio\\\\_io.pyx:332\u001b[0m, in \u001b[0;36mrasterio._io._delete_dataset_if_exists\u001b[1;34m()\u001b[0m\n",
      "File \u001b[1;32mrasterio\\\\_err.pyx:195\u001b[0m, in \u001b[0;36mrasterio._err.exc_wrap_int\u001b[1;34m()\u001b[0m\n",
      "\u001b[1;31mCPLE_AppDefinedError\u001b[0m: Deleting c:/Users/m1865/Desktop/DISC/Sentinel-2 Images Processed (Replication)/Australia/Albedo Cape 1000m.tif failed: Permission denied"
     ]
    }
   ],
   "source": [
    "src = rio.open(cwd_Images_Processed + \"\\\\Australia\\\\Albedo Cape.tif\")\n",
    "out_image, out_transform = rio.mask.mask(src, gdf_1000m.geometry, crop=True)\n",
    "out_meta = src.meta\n",
    "out_meta.update({\"driver\": \"GTiff\",\n",
    "                 \"height\": out_image.shape[1],\n",
    "                 \"width\": out_image.shape[2],\n",
    "                 \"transform\": out_transform})\n",
    "\n",
    "with rio.open(cwd_Images_Processed + \"\\\\Australia\\\\Albedo Cape 1000m.tif\", \"w\", **out_meta) as dest:\n",
    "    dest.write(out_image)"
   ]
  },
  {
   "cell_type": "code",
   "execution_count": 39,
   "metadata": {},
   "outputs": [],
   "source": [
    "src = rio.open(cwd_Images_Processed + \"\\\\Australia\\\\Albedo Cape.tif\")\n",
    "out_image, out_transform = rio.mask.mask(src, gdf_6000m.geometry, crop=True)\n",
    "out_meta = src.meta\n",
    "out_meta.update({\"driver\": \"GTiff\",\n",
    "                 \"height\": out_image.shape[1],\n",
    "                 \"width\": out_image.shape[2],\n",
    "                 \"transform\": out_transform})\n",
    "\n",
    "with rio.open(cwd_Images_Processed + \"\\\\Australia\\\\Albedo Cape 6000m.tif\", \"w\", **out_meta) as dest:\n",
    "    dest.write(out_image)"
   ]
  },
  {
   "cell_type": "code",
   "execution_count": null,
   "metadata": {},
   "outputs": [],
   "source": [
    "src = rio.open(cwd_Images_Processed + \"\\\\Australia\\\\Albedo Cape.tif\")\n",
    "out_image, out_transform = rio.mask.mask(src, gdf_10000m.geometry, crop=True)\n",
    "out_meta = src.meta\n",
    "out_meta.update({\"driver\": \"GTiff\",\n",
    "                 \"height\": out_image.shape[1],\n",
    "                 \"width\": out_image.shape[2],\n",
    "                 \"transform\": out_transform})\n",
    "\n",
    "with rio.open(cwd_Images_Processed + \"\\\\Australia\\\\Albedo Cape 10000m.tif\", \"w\", **out_meta) as dest:\n",
    "    dest.write(out_image)"
   ]
  },
  {
   "cell_type": "markdown",
   "metadata": {},
   "source": [
    "### RESAMPLE?"
   ]
  },
  {
   "cell_type": "code",
   "execution_count": 40,
   "metadata": {},
   "outputs": [],
   "source": [
    "from rasterio.enums import Resampling\n",
    "\n",
    "# Resample 10000m (10m pixel -> 20m pixel)\n",
    "\n",
    "upscale_factor = 0.2\n",
    "\n",
    "with rasterio.open(cwd_Images_Processed + \"\\\\Australia\\\\Albedo Cape 6000m.tif\") as dataset:\n",
    "\n",
    "    # resample data to target shape\n",
    "    data = dataset.read(\n",
    "        out_shape=(\n",
    "            dataset.count,\n",
    "            int(dataset.height * upscale_factor),\n",
    "            int(dataset.width * upscale_factor)\n",
    "        ),\n",
    "        resampling=Resampling.average\n",
    "    )\n",
    "\n",
    "    # scale image transform\n",
    "    transform = dataset.transform * dataset.transform.scale(\n",
    "        (dataset.width / data.shape[-1]),\n",
    "        (dataset.height / data.shape[-2])\n",
    "    )\n",
    "\n",
    "    out_meta = dataset.meta\n",
    "    out_meta.update({\n",
    "        \"height\": data.shape[-2],\n",
    "        \"width\": data.shape[-1],\n",
    "        \"transform\": transform\n",
    "        })\n",
    "\n",
    "    with rio.open(cwd_Images_Processed + \"\\\\Australia\\\\Albedo Cape 6000m RE.tif\", \"w\", **out_meta) as dest:\n",
    "        dest.write(out_image)"
   ]
  },
  {
   "cell_type": "code",
   "execution_count": null,
   "metadata": {},
   "outputs": [],
   "source": [
    "from rasterio.enums import Resampling\n",
    "\n",
    "# Resample 10000m (10m pixel -> 20m pixel)\n",
    "\n",
    "upscale_factor = 0.1\n",
    "\n",
    "with rasterio.open(cwd_Images_Processed + \"\\\\Australia\\\\Albedo Cape 10000m.tif\") as dataset:\n",
    "\n",
    "    # resample data to target shape\n",
    "    data = dataset.read(\n",
    "        out_shape=(\n",
    "            dataset.count,\n",
    "            int(dataset.height * upscale_factor),\n",
    "            int(dataset.width * upscale_factor)\n",
    "        ),\n",
    "        resampling=Resampling.average\n",
    "    )\n",
    "\n",
    "    # scale image transform\n",
    "    transform = dataset.transform * dataset.transform.scale(\n",
    "        (dataset.width / data.shape[-1]),\n",
    "        (dataset.height / data.shape[-2])\n",
    "    )\n",
    "\n",
    "    out_meta = dataset.meta\n",
    "    out_meta.update({\n",
    "        \"height\": data.shape[-2],\n",
    "        \"width\": data.shape[-1],\n",
    "        \"transform\": transform\n",
    "        })\n",
    "\n",
    "    with rio.open(cwd_Images_Processed + \"\\\\Australia\\\\Albedo Cape 10000m RE.tif\", \"w\", **out_meta) as dest:\n",
    "        dest.write(out_image)"
   ]
  }
 ],
 "metadata": {
  "kernelspec": {
   "display_name": "DISC",
   "language": "python",
   "name": "python3"
  },
  "language_info": {
   "codemirror_mode": {
    "name": "ipython",
    "version": 3
   },
   "file_extension": ".py",
   "mimetype": "text/x-python",
   "name": "python",
   "nbconvert_exporter": "python",
   "pygments_lexer": "ipython3",
   "version": "3.12.3"
  }
 },
 "nbformat": 4,
 "nbformat_minor": 2
}
