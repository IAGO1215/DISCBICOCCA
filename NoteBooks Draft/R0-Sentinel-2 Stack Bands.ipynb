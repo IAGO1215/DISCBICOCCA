{
 "cells": [
  {
   "cell_type": "code",
   "execution_count": 1,
   "metadata": {},
   "outputs": [],
   "source": [
    "import os\n",
    "from bs4 import BeautifulSoup\n",
    "import math\n",
    "import numpy as np\n",
    "import shapely as shp\n",
    "import pandas as pd\n",
    "import geopandas as gpd\n",
    "import matplotlib.pyplot as plt\n",
    "import rasterio as rio\n",
    "import rasterio.mask"
   ]
  },
  {
   "cell_type": "code",
   "execution_count": 2,
   "metadata": {},
   "outputs": [],
   "source": [
    "cwd = \"c:\\\\Users\\\\m1865\\\\Desktop\\\\DISC\"\n",
    "cwd_Images_Raw = cwd + \"\\\\Sentinel-2 Images Raw\"\n",
    "cwd_Images_Processed = cwd + \"\\\\Sentinel-2 Images Processed\""
   ]
  },
  {
   "cell_type": "code",
   "execution_count": 3,
   "metadata": {},
   "outputs": [],
   "source": [
    "# Site Name\n",
    "df = pd.read_csv(cwd + \"//site.csv\")"
   ]
  },
  {
   "cell_type": "code",
   "execution_count": 4,
   "metadata": {},
   "outputs": [],
   "source": [
    "for i in range(df.shape[0]):\n",
    "    site_Name = df.loc[i,\"Site\"]\n",
    "    for path, subdirs, files in os.walk(cwd_Images_Raw + \"\\\\\" + site_Name + \"\\\\L2A\"):\n",
    "        for name in files:\n",
    "            temp = os.path.join(path, name)\n",
    "            if temp[-3:] == 'jp2'in temp and \"10m\" in temp and \"B03\" in temp :\n",
    "                path_L2A_B03_raw = temp\n",
    "            if temp[-3:] == 'jp2'in temp and \"10m\" in temp and \"B04\" in temp :\n",
    "                path_L2A_B04_raw = temp\n",
    "            if temp[-3:] == 'jp2'in temp and \"10m\" in temp and \"B08\" in temp :\n",
    "                path_L2A_B08_raw = temp\n",
    "    list_path= [path_L2A_B03_raw, path_L2A_B04_raw, path_L2A_B08_raw]\n",
    "    # Read Image\n",
    "    list_Image = []\n",
    "    for path in list_path:\n",
    "        temp = rio.open(path).read(1)\n",
    "        list_Image.append(temp)\n",
    "    # Read metadata of first file\n",
    "    with rio.open(path_L2A_B03_raw) as src0:\n",
    "        meta = src0.meta\n",
    "\n",
    "    # Update meta to reflect the number of layers\n",
    "    meta.update({\"driver\": \"GTiff\",\n",
    "                \"count\": len(list_path)})\n",
    "\n",
    "    # Read each layer and write it to stack\n",
    "    with rasterio.open(cwd_Images_Processed + \"\\\\\" + site_Name + '\\\\False RGB Stacked.tif', 'w', **meta) as dst:\n",
    "        for band_nr, src in enumerate(list_Image, start=1):\n",
    "            dst.write(src, band_nr)\n",
    "        dst.descriptions = tuple([\"B03\",\"B04\",\"B08\"])"
   ]
  },
  {
   "cell_type": "code",
   "execution_count": 4,
   "metadata": {},
   "outputs": [],
   "source": [
    "for path, subdirs, files in os.walk(cwd + \"\\\\Sentinel-2 Images RAW Duplicate\\\\USA-LIN 2\"):\n",
    "    for name in files:\n",
    "        temp = os.path.join(path, name)\n",
    "        if temp[-3:] == 'jp2'in temp and \"10m\" in temp and \"B03\" in temp :\n",
    "            path_L2A_B03_raw = temp\n",
    "        if temp[-3:] == 'jp2'in temp and \"10m\" in temp and \"B04\" in temp :\n",
    "            path_L2A_B04_raw = temp\n",
    "        if temp[-3:] == 'jp2'in temp and \"10m\" in temp and \"B08\" in temp :\n",
    "            path_L2A_B08_raw = temp\n",
    "list_path= [path_L2A_B03_raw, path_L2A_B04_raw, path_L2A_B08_raw]\n",
    "# Read Image\n",
    "list_Image = []\n",
    "for path in list_path:\n",
    "    temp = rio.open(path).read(1)\n",
    "    list_Image.append(temp)\n",
    "# Read metadata of first file\n",
    "with rio.open(path_L2A_B03_raw) as src0:\n",
    "    meta = src0.meta\n",
    "\n",
    "# Update meta to reflect the number of layers\n",
    "meta.update({\"driver\": \"GTiff\",\n",
    "            \"count\": len(list_path)})\n",
    "\n",
    "# Read each layer and write it to stack\n",
    "with rasterio.open(cwd + \"\\\\Sentinel-2 Images RAW Duplicate\\\\USA-LIN 2\\\\False RGB Stacked.tif\", 'w', **meta) as dst:\n",
    "    for band_nr, src in enumerate(list_Image, start=1):\n",
    "        dst.write(src, band_nr)\n",
    "    dst.descriptions = tuple([\"B03\",\"B04\",\"B08\"])"
   ]
  },
  {
   "cell_type": "code",
   "execution_count": null,
   "metadata": {},
   "outputs": [],
   "source": []
  }
 ],
 "metadata": {
  "kernelspec": {
   "display_name": "DISC",
   "language": "python",
   "name": "python3"
  },
  "language_info": {
   "codemirror_mode": {
    "name": "ipython",
    "version": 3
   },
   "file_extension": ".py",
   "mimetype": "text/x-python",
   "name": "python",
   "nbconvert_exporter": "python",
   "pygments_lexer": "ipython3",
   "version": "3.12.4"
  }
 },
 "nbformat": 4,
 "nbformat_minor": 2
}
