{
 "cells": [
  {
   "cell_type": "code",
   "execution_count": 5,
   "metadata": {},
   "outputs": [],
   "source": [
    "import os\n",
    "import pandas as pd"
   ]
  },
  {
   "cell_type": "code",
   "execution_count": 6,
   "metadata": {},
   "outputs": [],
   "source": [
    "cwd = \"c:\\\\Users\\\\m1865\\\\Desktop\\\\DISC\"\n",
    "cwd_Images_Raw = cwd + \"\\\\Sentinel-2 Images Raw\"\n",
    "cwd_Images_Processed = cwd + \"\\\\Sentinel-2 Images Processed\""
   ]
  },
  {
   "cell_type": "code",
   "execution_count": 7,
   "metadata": {},
   "outputs": [],
   "source": [
    "df_Site = pd.read_csv(cwd + \"//Site.csv\")"
   ]
  },
  {
   "cell_type": "code",
   "execution_count": 9,
   "metadata": {},
   "outputs": [],
   "source": [
    "for i in range(df_Site.shape[0]):\n",
    "    if not os.path.exists(cwd_Images_Raw + \"\\\\\" + df_Site.loc[i,\"Site\"]):\n",
    "        os.makedirs(cwd_Images_Raw + \"\\\\\" + df_Site.loc[i,\"Site\"])\n",
    "        os.makedirs(cwd_Images_Raw + \"\\\\\" + df_Site.loc[i,\"Site\"] + \"\\\\L2A\")\n",
    "        os.makedirs(cwd_Images_Raw + \"\\\\\" + df_Site.loc[i,\"Site\"] + \"\\\\L1C\")\n",
    "    if not os.path.exists(cwd_Images_Processed + \"\\\\\" + df_Site.loc[i,\"Site\"]): \n",
    "        os.makedirs(cwd_Images_Processed + \"\\\\\" + df_Site.loc[i,\"Site\"])"
   ]
  },
  {
   "cell_type": "code",
   "execution_count": null,
   "metadata": {},
   "outputs": [
    {
     "data": {
      "text/plain": [
       "(31, 31)"
      ]
     },
     "metadata": {},
     "output_type": "display_data"
    }
   ],
   "source": [
    "img_1200 = rio.open(cwd_Images_Processed + \"\\\\\" + site_Name + \"\\\\NIRv 1200m.tif\")\n",
    "band_1200 = img_1200.read(1)\n",
    "band_1200.shape"
   ]
  },
  {
   "cell_type": "code",
   "execution_count": null,
   "metadata": {},
   "outputs": [
    {
     "data": {
      "text/plain": [
       "(45, 45)"
      ]
     },
     "metadata": {},
     "output_type": "display_data"
    }
   ],
   "source": [
    "img_1800 = rio.open(cwd_Images_Processed + \"\\\\\" + site_Name + \"\\\\NIRv 1800m.tif\")\n",
    "band_1800 = img_1800.read(1)\n",
    "band_1800.shape"
   ]
  },
  {
   "cell_type": "code",
   "execution_count": null,
   "metadata": {},
   "outputs": [],
   "source": [
    "# reshape the band arrays into one-dimensional array\n",
    "band_1200_reshape = band_1200.reshape(-1)\n",
    "band_1800_reshape = band_1800.reshape(-1)"
   ]
  },
  {
   "cell_type": "code",
   "execution_count": null,
   "metadata": {},
   "outputs": [
    {
     "data": {
      "text/plain": [
       "(961, 2)"
      ]
     },
     "metadata": {},
     "output_type": "display_data"
    }
   ],
   "source": [
    "# Get the coordinates n-dimensional array\n",
    "list_Coordinates_1200 = []\n",
    "for x in range(img_1200.shape[0]):\n",
    "    for y in range(img_1200.shape[1]):\n",
    "        temp_x, temp_y = img_1200.xy(x, y)\n",
    "        temp_list = [temp_x, temp_y]\n",
    "        list_Coordinates_1200.append(temp_list)\n",
    "arr_Coordinates_1200 = np.array(list_Coordinates_1200)\n",
    "arr_Coordinates_1200.shape"
   ]
  },
  {
   "cell_type": "code",
   "execution_count": null,
   "metadata": {},
   "outputs": [
    {
     "data": {
      "text/plain": [
       "(2025, 2)"
      ]
     },
     "metadata": {},
     "output_type": "display_data"
    }
   ],
   "source": [
    "# Get the coordinates n-dimensional array\n",
    "list_Coordinates_1800 = []\n",
    "for x in range(img_1800.shape[0]):\n",
    "    for y in range(img_1800.shape[1]):\n",
    "        temp_x, temp_y = img_1800.xy(x, y)\n",
    "        temp_list = [temp_x, temp_y]\n",
    "        list_Coordinates_1800.append(temp_list)\n",
    "arr_Coordinates_1800 = np.array(list_Coordinates_1800)\n",
    "arr_Coordinates_1800.shape"
   ]
  },
  {
   "cell_type": "code",
   "execution_count": null,
   "metadata": {},
   "outputs": [
    {
     "data": {
      "text/plain": [
       "210.0"
      ]
     },
     "metadata": {},
     "output_type": "display_data"
    }
   ],
   "source": [
    "# Get the maximum lag\n",
    "diagonal_1200 = 1200 * (2 ** 0.5) / 2\n",
    "bin_1200 = np.arange(10,diagonal_1200,10)\n",
    "bin_1200[-1]"
   ]
  },
  {
   "cell_type": "code",
   "execution_count": null,
   "metadata": {},
   "outputs": [
    {
     "data": {
      "text/plain": [
       "310.0"
      ]
     },
     "metadata": {},
     "output_type": "display_data"
    }
   ],
   "source": [
    "# Get the maximum lag\n",
    "diagonal_1800 = 1800 * (2 ** 0.5) / 2\n",
    "bin_1800 = np.arange(10,diagonal_1800,10)\n",
    "bin_1800[-1]"
   ]
  },
  {
   "cell_type": "markdown",
   "metadata": {},
   "source": [
    "## Variogram"
   ]
  },
  {
   "cell_type": "code",
   "execution_count": null,
   "metadata": {},
   "outputs": [
    {
     "data": {
      "text/plain": [
       "{'model': 'spherical',\n",
       " 'estimator': 'matheron',\n",
       " 'dist_func': 'euclidean',\n",
       " 'normalized_effective_range': 10445.327541215082,\n",
       " 'normalized_sill': 1191.1945437201907,\n",
       " 'normalized_nugget': 1.4226858522342035e-11,\n",
       " 'effective_range': 49.73965495816705,\n",
       " 'sill': 33.39265787044128,\n",
       " 'nugget': 3.988203452679121e-13,\n",
       " 'params': {'estimator': 'matheron',\n",
       "  'model': 'spherical',\n",
       "  'dist_func': 'euclidean',\n",
       "  'bin_func': 'custom_bin_edges',\n",
       "  'normalize': False,\n",
       "  'fit_method': 'trf',\n",
       "  'fit_sigma': None,\n",
       "  'use_nugget': True,\n",
       "  'maxlag': 210.0,\n",
       "  'n_lags': 10,\n",
       "  'verbose': False},\n",
       " 'kwargs': {}}"
      ]
     },
     "metadata": {},
     "output_type": "display_data"
    }
   ],
   "source": [
    "V_1200 = skg.Variogram(arr_Coordinates_1200, band_1200_reshape, use_nugget=True, bin_func=bin_1200, maxlag = bin_1200[-1])\n",
    "V_1200.describe()"
   ]
  },
  {
   "cell_type": "code",
   "execution_count": null,
   "metadata": {},
   "outputs": [
    {
     "data": {
      "text/plain": [
       "{'model': 'spherical',\n",
       " 'estimator': 'matheron',\n",
       " 'dist_func': 'euclidean',\n",
       " 'normalized_effective_range': 96099.99999999999,\n",
       " 'normalized_sill': 10654.0735001927,\n",
       " 'normalized_nugget': 5526.4980960215735,\n",
       " 'effective_range': 309.99999999999994,\n",
       " 'sill': 81.12903108122197,\n",
       " 'nugget': 42.08338114002487,\n",
       " 'params': {'estimator': 'matheron',\n",
       "  'model': 'spherical',\n",
       "  'dist_func': 'euclidean',\n",
       "  'bin_func': 'custom_bin_edges',\n",
       "  'normalize': False,\n",
       "  'fit_method': 'trf',\n",
       "  'fit_sigma': None,\n",
       "  'use_nugget': True,\n",
       "  'maxlag': 310.0,\n",
       "  'n_lags': 10,\n",
       "  'verbose': False},\n",
       " 'kwargs': {}}"
      ]
     },
     "metadata": {},
     "output_type": "display_data"
    }
   ],
   "source": [
    "V_1800 = skg.Variogram(arr_Coordinates_1800, band_1800_reshape, use_nugget=True, bin_func=bin_1800, maxlag = bin_1800[-1])\n",
    "V_1800.describe()"
   ]
  },
  {
   "cell_type": "markdown",
   "metadata": {},
   "source": [
    "### Variogram Plot"
   ]
  },
  {
   "cell_type": "code",
   "execution_count": null,
   "metadata": {},
   "outputs": [
    {
     "data": {
      "image/png": "[encoded data removed]",
      "text/plain": [
       "<Figure size 640x480 with 1 Axes>"
      ]
     },
     "metadata": {},
     "output_type": "display_data"
    }
   ],
   "source": [
    "# Get the theoretical functions\n",
    "def f_1200(x):\n",
    "   return V_1200.fitted_model(x)\n",
    "def f_1800(x):\n",
    "   return V_1800.fitted_model(x)\n",
    "# Create cubic interpolation model in order to make curved plot (otherwise it will be ugly af)\n",
    "cubic_model_1200 = interp1d(np.concatenate((np.array([0]),bin_1200)), f_1200(np.concatenate((np.array([0]),bin_1200)),), kind = \"cubic\")\n",
    "cubic_model_1800 = interp1d(np.concatenate((np.array([0]),bin_1800)), f_1800(np.concatenate((np.array([0]),bin_1800)),), kind = \"cubic\")\n",
    "x_1200 = np.linspace(0,bin_1200[-1])\n",
    "x_1800 = np.linspace(0,bin_1800[-1])\n",
    "# Plot! \n",
    "plt.plot(x_1200, cubic_model_1200(x_1200),label = '1200m Theoretical', color = 'Red')\n",
    "plt.plot(x_1800, cubic_model_1800(x_1800), label = '1800m Theoretical', color = 'Green')\n",
    "plt.scatter(V_1200.get_empirical()[0],V_1200.get_empirical()[1], color = 'Red', label = '1200m Experimental', marker = '*')\n",
    "plt.scatter(V_1800.get_empirical()[0],V_1800.get_empirical()[1], color = 'Green', label = '1800m Experimental', marker = 'D')\n",
    "plt.legend()\n",
    "plt.grid()"
   ]
  },
  {
   "cell_type": "markdown",
   "metadata": {},
   "source": [
    "### Variogram Parameters"
   ]
  },
  {
   "cell_type": "code",
   "execution_count": null,
   "metadata": {},
   "outputs": [
    {
     "name": "stdout",
     "output_type": "stream",
     "text": [
      "300m Range: 49.73965495816705; Sill: 33.39265787044168; Nugget: 3.988203452679121e-13\n",
      "450m Range: 309.99999999999994; Sill: 123.21241222124684; Nugget: 42.08338114002487\n"
     ]
    }
   ],
   "source": [
    "range_1200 = V_1200.parameters[0]\n",
    "sill_1200 = V_1200.parameters[1] + V_1200.parameters[2]\n",
    "nugget_1200 = V_1200.parameters[2]\n",
    "range_1800 = V_1800.parameters[0]\n",
    "sill_1800 = V_1800.parameters[1] + V_1800.parameters[2]\n",
    "nugget_1800 = V_1800.parameters[2]\n",
    "print(\"1200m Range: \" + str(range_1200) + \"; Sill: \" + str(sill_1200) + \"; Nugget: \" + str(nugget_1200))\n",
    "print(\"1800m Range: \" + str(range_1800) + \"; Sill: \" + str(sill_1800) + \"; Nugget: \" + str(nugget_1800))"
   ]
  },
  {
   "cell_type": "markdown",
   "metadata": {},
   "source": [
    "## Roman Metrics"
   ]
  },
  {
   "cell_type": "markdown",
   "metadata": {},
   "source": [
    "### Rcv (Coefficient of Variation)"
   ]
  },
  {
   "cell_type": "code",
   "execution_count": null,
   "metadata": {},
   "outputs": [
    {
     "data": {
      "text/plain": [
       "1.126701378500121"
      ]
     },
     "metadata": {},
     "output_type": "display_data"
    }
   ],
   "source": [
    "CV_1200 = np.std(band_1200) / np.mean(band_1200)\n",
    "CV_1800 = np.std(band_1800) / np.mean(band_1800)\n",
    "Rcv_1200 = (CV_1800 - CV_1200) / CV_1200\n",
    "Rcv_1200"
   ]
  },
  {
   "cell_type": "markdown",
   "metadata": {},
   "source": [
    "### RAW Score"
   ]
  },
  {
   "cell_type": "code",
   "execution_count": null,
   "metadata": {},
   "outputs": [
    {
     "data": {
      "text/plain": [
       "0.4437733098947711"
      ]
     },
     "metadata": {},
     "output_type": "display_data"
    }
   ],
   "source": [
    "RAW_1200 = (abs(2 * Rcv_1200)) ** (-1)\n",
    "RAW_1200"
   ]
  },
  {
   "cell_type": "markdown",
   "metadata": {},
   "source": [
    "### Rse (Scale Requirement)"
   ]
  },
  {
   "cell_type": "code",
   "execution_count": null,
   "metadata": {},
   "outputs": [
    {
     "data": {
      "text/plain": [
       "0.9094764938565276"
      ]
     },
     "metadata": {},
     "output_type": "display_data"
    }
   ],
   "source": [
    "Rse_1200 = math.exp(-((g / range_1200) ** 2 + (g / range_1800) ** 2) ** (1/2))\n",
    "Rse_1200"
   ]
  },
  {
   "cell_type": "markdown",
   "metadata": {},
   "source": [
    "### Rst (Spatial Correlation)"
   ]
  },
  {
   "cell_type": "code",
   "execution_count": null,
   "metadata": {},
   "outputs": [
    {
     "name": "stdout",
     "output_type": "stream",
     "text": [
      "The range 49.73965495816705 falls in 40.0 and 50.0, whose value is 33.13799407122397\n",
      "The range 309.99999999999994 falls in 300.0 and 310.0, whose value is 131.32257785164995\n"
     ]
    }
   ],
   "source": [
    "# Get the index of the range in the bin\n",
    "for i in range(len(V_1200.bins)):\n",
    "    if range_1200 >= V_1200.bins[i] and range_1200 <= V_1200.bins[i+1]:\n",
    "        index_1200 = i + 1\n",
    "estimator_Range_1200 = V_1200.experimental[index_1200]\n",
    "print(f\"The range {(range_1200)} falls in {V_1200.bins[index_1200 - 1]} and {V_1200.bins[index_1200]}, whose value is {estimator_Range_1200}\")\n",
    "for i in range(len(V_1800.bins)):\n",
    "    if range_1800 >= V_1800.bins[i] and range_1800 <= V_1800.bins[i+1]:\n",
    "        index_1800 = i + 1\n",
    "estimator_Range_1800 = V_1800.experimental[index_1800]\n",
    "print(f\"The range {(range_1800)} falls in {V_1800.bins[index_1800 - 1]} and {V_1800.bins[index_1800]}, whose value is {estimator_Range_1800}\")"
   ]
  },
  {
   "cell_type": "code",
   "execution_count": null,
   "metadata": {},
   "outputs": [
    {
     "data": {
      "text/plain": [
       "-0.32045807985557345"
      ]
     },
     "metadata": {},
     "output_type": "display_data"
    }
   ],
   "source": [
    "ST_1200 = (estimator_Range_1200 - nugget_1200) / estimator_Range_1200\n",
    "ST_1800 = (estimator_Range_1800 - nugget_1800) / estimator_Range_1800\n",
    "Rst_1200 = (ST_1800 - ST_1200) / ST_1200\n",
    "Rst_1200"
   ]
  },
  {
   "cell_type": "markdown",
   "metadata": {},
   "source": [
    "### Rsv Structural Variability"
   ]
  },
  {
   "cell_type": "code",
   "execution_count": null,
   "metadata": {},
   "outputs": [
    {
     "data": {
      "text/plain": [
       "3.103748666987712"
      ]
     },
     "metadata": {},
     "output_type": "display_data"
    }
   ],
   "source": [
    "def f_1200_SV(x):\n",
    "    return (V_1200.fitted_model(x) - nugget_1200) / sill_1200\n",
    "def f_1800_SV(x):\n",
    "    return (V_1800.fitted_model(x) - nugget_1800) / sill_1800\n",
    "SV_1200 = quad(f_1200_SV, 0, range_1200)[0]\n",
    "SV_1800 = quad(f_1800_SV, 0, range_1800)[0]\n",
    "Rsv_1200 = (SV_1800 - SV_1200) / SV_1200\n",
    "Rsv_1200"
   ]
  },
  {
   "cell_type": "markdown",
   "metadata": {},
   "source": [
    "### ST Score"
   ]
  },
  {
   "cell_type": "code",
   "execution_count": null,
   "metadata": {},
   "outputs": [
    {
     "data": {
      "text/plain": [
       "0.41212541058007546"
      ]
     },
     "metadata": {},
     "output_type": "display_data"
    }
   ],
   "source": [
    "ST_Score_1200 = (abs(Rcv_1200) / 3 + abs(Rst_1200) / 3 + abs(Rsv_1200) / 3 +Rse_1200) ** (-1)\n",
    "ST_Score_1200"
   ]
  }
 ],
 "metadata": {
  "kernelspec": {
   "display_name": "DISC",
   "language": "python",
   "name": "python3"
  },
  "language_info": {
   "codemirror_mode": {
    "name": "ipython",
    "version": 3
   },
   "file_extension": ".py",
   "mimetype": "text/x-python",
   "name": "python",
   "nbconvert_exporter": "python",
   "pygments_lexer": "ipython3",
   "version": "3.12.3"
  }
 },
 "nbformat": 4,
 "nbformat_minor": 2
}
