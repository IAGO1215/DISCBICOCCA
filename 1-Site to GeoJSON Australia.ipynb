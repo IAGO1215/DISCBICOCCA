{
 "cells": [
  {
   "cell_type": "markdown",
   "metadata": {},
   "source": [
    "A notebook describes how to create a point shapefile or GeoJSON file based on known coordinate(s)"
   ]
  },
  {
   "cell_type": "code",
   "execution_count": 2,
   "metadata": {},
   "outputs": [],
   "source": [
    "import os\n",
    "import pandas as pd\n",
    "import geopandas as gpd"
   ]
  },
  {
   "cell_type": "code",
   "execution_count": 3,
   "metadata": {},
   "outputs": [],
   "source": [
    "cwd = \"c:\\\\Users\\\\m1865\\\\Desktop\\\\DISC\"\n",
    "cwd_Images_Raw = cwd + \"\\\\Sentinel-2 Images Raw\"\n",
    "cwd_Images_Processed = cwd + \"\\\\Sentinel-2 Images Processed\""
   ]
  },
  {
   "cell_type": "code",
   "execution_count": 4,
   "metadata": {},
   "outputs": [
    {
     "data": {
      "text/html": [
       "<div>\n",
       "<style scoped>\n",
       "    .dataframe tbody tr th:only-of-type {\n",
       "        vertical-align: middle;\n",
       "    }\n",
       "\n",
       "    .dataframe tbody tr th {\n",
       "        vertical-align: top;\n",
       "    }\n",
       "\n",
       "    .dataframe thead th {\n",
       "        text-align: right;\n",
       "    }\n",
       "</style>\n",
       "<table border=\"1\" class=\"dataframe\">\n",
       "  <thead>\n",
       "    <tr style=\"text-align: right;\">\n",
       "      <th></th>\n",
       "      <th>Site</th>\n",
       "      <th>Date</th>\n",
       "      <th>geometry</th>\n",
       "    </tr>\n",
       "  </thead>\n",
       "  <tbody>\n",
       "    <tr>\n",
       "      <th>0</th>\n",
       "      <td>Litchfield</td>\n",
       "      <td>2017-04-08</td>\n",
       "      <td>POINT (130.80000 -13.18000)</td>\n",
       "    </tr>\n",
       "  </tbody>\n",
       "</table>\n",
       "</div>"
      ],
      "text/plain": [
       "         Site        Date                     geometry\n",
       "0  Litchfield  2017-04-08  POINT (130.80000 -13.18000)"
      ]
     },
     "execution_count": 4,
     "metadata": {},
     "output_type": "execute_result"
    }
   ],
   "source": [
    "# Create a point shapefile based on the site, using Lon-Lat\n",
    "gdf_4326_Litch = gpd.GeoDataFrame(\n",
    "    pd.DataFrame({\n",
    "        \"Site\": [\"Litchfield\"],\n",
    "        \"Date\": ['2017-04-08']\n",
    "    }),\n",
    "    geometry = gpd.points_from_xy([130.8], [-13.18]),\n",
    "    crs = \"EPSG:4326\"\n",
    ")\n",
    "gdf_4326_Litch"
   ]
  },
  {
   "cell_type": "code",
   "execution_count": 5,
   "metadata": {},
   "outputs": [
    {
     "data": {
      "text/html": [
       "<div>\n",
       "<style scoped>\n",
       "    .dataframe tbody tr th:only-of-type {\n",
       "        vertical-align: middle;\n",
       "    }\n",
       "\n",
       "    .dataframe tbody tr th {\n",
       "        vertical-align: top;\n",
       "    }\n",
       "\n",
       "    .dataframe thead th {\n",
       "        text-align: right;\n",
       "    }\n",
       "</style>\n",
       "<table border=\"1\" class=\"dataframe\">\n",
       "  <thead>\n",
       "    <tr style=\"text-align: right;\">\n",
       "      <th></th>\n",
       "      <th>Site</th>\n",
       "      <th>Date</th>\n",
       "      <th>geometry</th>\n",
       "    </tr>\n",
       "  </thead>\n",
       "  <tbody>\n",
       "    <tr>\n",
       "      <th>0</th>\n",
       "      <td>Cape Tribulation</td>\n",
       "      <td>2015-11-14</td>\n",
       "      <td>POINT (145.45000 -16.11000)</td>\n",
       "    </tr>\n",
       "  </tbody>\n",
       "</table>\n",
       "</div>"
      ],
      "text/plain": [
       "               Site        Date                     geometry\n",
       "0  Cape Tribulation  2015-11-14  POINT (145.45000 -16.11000)"
      ]
     },
     "execution_count": 5,
     "metadata": {},
     "output_type": "execute_result"
    }
   ],
   "source": [
    "# Create a point shapefile based on the site, using Lon-Lat\n",
    "gdf_4326_Cape = gpd.GeoDataFrame(\n",
    "    pd.DataFrame({\n",
    "        \"Site\": [\"Cape Tribulation\"],\n",
    "        \"Date\": ['2015-11-14']\n",
    "    }),\n",
    "    geometry = gpd.points_from_xy([145.45], [-16.11]),\n",
    "    crs = \"EPSG:4326\"\n",
    ")\n",
    "gdf_4326_Cape"
   ]
  },
  {
   "cell_type": "code",
   "execution_count": 6,
   "metadata": {},
   "outputs": [
    {
     "data": {
      "text/html": [
       "<div>\n",
       "<style scoped>\n",
       "    .dataframe tbody tr th:only-of-type {\n",
       "        vertical-align: middle;\n",
       "    }\n",
       "\n",
       "    .dataframe tbody tr th {\n",
       "        vertical-align: top;\n",
       "    }\n",
       "\n",
       "    .dataframe thead th {\n",
       "        text-align: right;\n",
       "    }\n",
       "</style>\n",
       "<table border=\"1\" class=\"dataframe\">\n",
       "  <thead>\n",
       "    <tr style=\"text-align: right;\">\n",
       "      <th></th>\n",
       "      <th>Site</th>\n",
       "      <th>Date</th>\n",
       "      <th>geometry</th>\n",
       "    </tr>\n",
       "  </thead>\n",
       "  <tbody>\n",
       "    <tr>\n",
       "      <th>0</th>\n",
       "      <td>Cumberland Plain</td>\n",
       "      <td>2018-10-16</td>\n",
       "      <td>POINT (150.72000 -33.62000)</td>\n",
       "    </tr>\n",
       "  </tbody>\n",
       "</table>\n",
       "</div>"
      ],
      "text/plain": [
       "               Site        Date                     geometry\n",
       "0  Cumberland Plain  2018-10-16  POINT (150.72000 -33.62000)"
      ]
     },
     "execution_count": 6,
     "metadata": {},
     "output_type": "execute_result"
    }
   ],
   "source": [
    "# Create a point shapefile based on the site, using Lon-Lat\n",
    "gdf_4326_Cumber = gpd.GeoDataFrame(\n",
    "    pd.DataFrame({\n",
    "        \"Site\": [\"Cumberland Plain\"],\n",
    "        \"Date\": ['2018-10-16']\n",
    "    }),\n",
    "    geometry = gpd.points_from_xy([150.72], [-33.62]),\n",
    "    crs = \"EPSG:4326\"\n",
    ")\n",
    "gdf_4326_Cumber"
   ]
  },
  {
   "cell_type": "code",
   "execution_count": 7,
   "metadata": {},
   "outputs": [
    {
     "data": {
      "text/html": [
       "<div>\n",
       "<style scoped>\n",
       "    .dataframe tbody tr th:only-of-type {\n",
       "        vertical-align: middle;\n",
       "    }\n",
       "\n",
       "    .dataframe tbody tr th {\n",
       "        vertical-align: top;\n",
       "    }\n",
       "\n",
       "    .dataframe thead th {\n",
       "        text-align: right;\n",
       "    }\n",
       "</style>\n",
       "<table border=\"1\" class=\"dataframe\">\n",
       "  <thead>\n",
       "    <tr style=\"text-align: right;\">\n",
       "      <th></th>\n",
       "      <th>Site</th>\n",
       "      <th>Date</th>\n",
       "      <th>geometry</th>\n",
       "    </tr>\n",
       "  </thead>\n",
       "  <tbody>\n",
       "    <tr>\n",
       "      <th>0</th>\n",
       "      <td>Litchfield</td>\n",
       "      <td>2017-04-08</td>\n",
       "      <td>POINT (8036340.488 -17328665.398)</td>\n",
       "    </tr>\n",
       "  </tbody>\n",
       "</table>\n",
       "</div>"
      ],
      "text/plain": [
       "         Site        Date                           geometry\n",
       "0  Litchfield  2017-04-08  POINT (8036340.488 -17328665.398)"
      ]
     },
     "execution_count": 7,
     "metadata": {},
     "output_type": "execute_result"
    }
   ],
   "source": [
    "gdf_32632_Litch = gdf_4326_Litch.to_crs(\"EPSG: 32632\")\n",
    "gdf_32632_Litch"
   ]
  },
  {
   "cell_type": "code",
   "execution_count": 8,
   "metadata": {},
   "outputs": [],
   "source": [
    "gdf_32632_Litch_Buffer = gdf_32632_Litch.copy()\n",
    "gdf_32632_Litch_Buffer = gdf_32632_Litch_Buffer.buffer(10000, cap_style = 3)\n",
    "gdf_32632_Litch_Buffer.to_file(cwd_Images_Processed + \"\\\\Australia\\\\Litch_32632_buffer.json\", driver = \"GeoJSON\")"
   ]
  },
  {
   "cell_type": "code",
   "execution_count": 9,
   "metadata": {},
   "outputs": [],
   "source": [
    "gdf_4326_Litch_Buffer = gdf_32632_Litch_Buffer.to_crs(\"EPSG: 4326\")\n",
    "gdf_4326_Litch_Buffer.to_file(cwd_Images_Processed + \"\\\\Australia\\\\Litch_4326_buffer.json\", driver = \"GeoJSON\")"
   ]
  },
  {
   "cell_type": "code",
   "execution_count": 6,
   "metadata": {},
   "outputs": [],
   "source": [
    "gdf_32632_Cape = gdf_4326_Cape.to_crs(\"EPSG: 32632\")\n",
    "gdf_32632_Cape_Buffer = gdf_32632_Cape.copy()\n",
    "gdf_32632_Cape_Buffer = gdf_32632_Cape_Buffer.buffer(10000, cap_style = 3)\n",
    "gdf_32632_Cape_Buffer.to_file(cwd_Images_Processed + \"\\\\Australia\\\\Cape_32632_buffer.json\", driver = \"GeoJSON\")\n",
    "gdf_4326_Cape_Buffer = gdf_32632_Cape_Buffer.to_crs(\"EPSG: 4326\")\n",
    "gdf_4326_Cape_Buffer.to_file(cwd_Images_Processed + \"\\\\Australia\\\\Cape_4326_buffer.json\", driver = \"GeoJSON\")"
   ]
  },
  {
   "cell_type": "code",
   "execution_count": 10,
   "metadata": {},
   "outputs": [],
   "source": [
    "gdf_32632_Cumber = gdf_4326_Cumber.to_crs(\"EPSG: 32632\")\n",
    "gdf_32632_Cumber_Buffer = gdf_32632_Cumber.copy()\n",
    "gdf_32632_Cumber_Buffer = gdf_32632_Cumber_Buffer.buffer(10000, cap_style = 3)\n",
    "gdf_32632_Cumber_Buffer.to_file(cwd_Images_Processed + \"\\\\Australia\\\\Cumber_32632_buffer.json\", driver = \"GeoJSON\")\n",
    "gdf_4326_Cumber_Buffer = gdf_32632_Cumber_Buffer.to_crs(\"EPSG: 4326\")\n",
    "gdf_4326_Cumber_Buffer.to_file(cwd_Images_Processed + \"\\\\Australia\\\\Cumber_4326_buffer.json\", driver = \"GeoJSON\")"
   ]
  },
  {
   "cell_type": "code",
   "execution_count": null,
   "metadata": {},
   "outputs": [],
   "source": []
  }
 ],
 "metadata": {
  "kernelspec": {
   "display_name": "DISC",
   "language": "python",
   "name": "python3"
  },
  "language_info": {
   "codemirror_mode": {
    "name": "ipython",
    "version": 3
   },
   "file_extension": ".py",
   "mimetype": "text/x-python",
   "name": "python",
   "nbconvert_exporter": "python",
   "pygments_lexer": "ipython3",
   "version": "3.12.3"
  }
 },
 "nbformat": 4,
 "nbformat_minor": 2
}
